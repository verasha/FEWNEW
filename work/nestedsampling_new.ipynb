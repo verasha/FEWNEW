{
 "cells": [
  {
   "cell_type": "code",
   "execution_count": 1,
   "id": "3096ab1f",
   "metadata": {},
   "outputs": [
    {
     "name": "stdout",
     "output_type": "stream",
     "text": [
      "Starting imports...\n",
      "Importing few...\n",
      "Importing GWfuncs...\n",
      "Importing cupy...\n",
      "Configuring few...\n",
      "Importing dynesty...\n"
     ]
    }
   ],
   "source": [
    "print(\"Starting imports...\")\n",
    "import numpy as np\n",
    "import matplotlib.pyplot as plt\n",
    "from numba import cuda, float64, complex128\n",
    "from numba.cuda import jit as cuda_jit\n",
    "import math\n",
    "\n",
    "print(\"Importing few...\")\n",
    "import few\n",
    "\n",
    "from few.trajectory.inspiral import EMRIInspiral\n",
    "from few.trajectory.ode import KerrEccEqFlux\n",
    "from few.amplitude.ampinterp2d import AmpInterpKerrEccEq\n",
    "from few.summation.interpolatedmodesum import InterpolatedModeSum \n",
    "\n",
    "\n",
    "from few.utils.ylm import GetYlms\n",
    "\n",
    "from few import get_file_manager\n",
    "\n",
    "from few.waveform import FastKerrEccentricEquatorialFlux\n",
    "\n",
    "from few.utils.geodesic import get_fundamental_frequencies\n",
    "\n",
    "from few.utils.constants import YRSID_SI\n",
    "\n",
    "import os\n",
    "import sys\n",
    "\n",
    "# Change to the desired directory\n",
    "os.chdir('/nfs/home/svu/e1498138/localgit/FEWNEW/work/')\n",
    "\n",
    "# Add it to Python path\n",
    "sys.path.insert(0, '/nfs/home/svu/e1498138/localgit/FEWNEW/work/')\n",
    "\n",
    "print(\"Importing GWfuncs...\")\n",
    "import GWfuncs\n",
    "# import gc\n",
    "# import pickle\n",
    "print(\"Importing cupy...\")\n",
    "import cupy as cp\n",
    "\n",
    "print(\"Configuring few...\")\n",
    "# tune few configuration\n",
    "cfg_set = few.get_config_setter(reset=True)\n",
    "cfg_set.set_log_level(\"info\")\n",
    "\n",
    "print(\"Importing dynesty...\")\n",
    "import dynesty"
   ]
  },
  {
   "cell_type": "code",
   "execution_count": 2,
   "id": "10d23b5c",
   "metadata": {},
   "outputs": [
    {
     "name": "stdout",
     "output_type": "stream",
     "text": [
      " - Backend 'cpu': available\n",
      " - Backend 'cuda11x': unavailable\n",
      " - Backend 'cuda12x': available\n",
      " - Backend 'cuda': available\n",
      " - Backend 'gpu': available\n"
     ]
    }
   ],
   "source": [
    "for backend in [\"cpu\", \"cuda11x\", \"cuda12x\", \"cuda\", \"gpu\"]: \n",
    "    print(f\" - Backend '{backend}': {\"available\" if few.has_backend(backend) else \"unavailable\"}\")  "
   ]
  },
  {
   "cell_type": "code",
   "execution_count": 3,
   "id": "31a34ab9",
   "metadata": {},
   "outputs": [],
   "source": [
    "# GPU configuration and missing variables\n",
    "use_gpu = True\n",
    "dt = 10     # Time step\n",
    "T = 1.0     # Total time\n",
    "\n",
    "# Check GPU availability\n",
    "if not cuda.is_available():\n",
    "    print(\"Warning: CUDA not available, falling back to CPU\")\n",
    "    use_gpu = False"
   ]
  },
  {
   "cell_type": "code",
   "execution_count": 4,
   "id": "50104187",
   "metadata": {},
   "outputs": [
    {
     "name": "stdout",
     "output_type": "stream",
     "text": [
      "Setting up waveform generator...\n",
      "Creating FastKerrEccentricEquatorialFlux...\n"
     ]
    }
   ],
   "source": [
    "print(\"Setting up waveform generator...\")\n",
    "# keyword arguments for inspiral generator \n",
    "inspiral_kwargs={\n",
    "        \"func\": 'KerrEccEqFlux',\n",
    "        \"DENSE_STEPPING\": 0, #change to 1/True for uniform sampling\n",
    "        \"include_minus_m\": False, \n",
    "        \"use_gpu\" : use_gpu,\n",
    "        \"force_backend\": \"cuda12x\"  # Force GPU\n",
    "}\n",
    "\n",
    "# keyword arguments for inspiral generator \n",
    "amplitude_kwargs = {\n",
    "    \"force_backend\": \"cuda12x\" # Force GPU\n",
    "    # \"use_gpu\" : use_gpu\n",
    "}\n",
    "\n",
    "# keyword arguments for Ylm generator (GetYlms)\n",
    "Ylm_kwargs = {\n",
    "    \"force_backend\": \"cuda12x\",  # Force GPU\n",
    "    # \"assume_positive_m\": True  # if we assume positive m, it will generate negative m for all m>0\n",
    "}\n",
    "\n",
    "# keyword arguments for summation generator (InterpolatedModeSum)\n",
    "sum_kwargs = {\n",
    "    \"force_backend\": \"cuda12x\",  # Force GPU\n",
    "    \"pad_output\": True,\n",
    "    # \"use_gpu\" : use_gpu\n",
    "}\n",
    "\n",
    "print(\"Creating FastKerrEccentricEquatorialFlux...\")\n",
    "# Kerr eccentric flux\n",
    "waveform_gen = FastKerrEccentricEquatorialFlux(\n",
    "    inspiral_kwargs=inspiral_kwargs,\n",
    "    amplitude_kwargs=amplitude_kwargs,\n",
    "    Ylm_kwargs=Ylm_kwargs,\n",
    "    sum_kwargs=sum_kwargs,\n",
    "    use_gpu=use_gpu,\n",
    ")"
   ]
  },
  {
   "cell_type": "code",
   "execution_count": 5,
   "id": "4d097e89",
   "metadata": {},
   "outputs": [],
   "source": [
    "# print(\"Initializing trajectory and amplitude generators...\")\n",
    "# # Initialize trajectory and amplitude generators\n",
    "# traj = EMRIInspiral(func=KerrEccEqFlux, force_backend=\"cuda12x\", use_gpu=use_gpu)\n",
    "# amp = AmpInterpKerrEccEq(force_backend=\"cuda12x\")\n",
    "# interpolate_mode_sum = InterpolatedModeSum(force_backend=\"cuda12x\", pad_output= True)\n",
    "# ylm_gen = GetYlms(include_minus_m=False, force_backend=\"cuda12x\")\n"
   ]
  },
  {
   "cell_type": "code",
   "execution_count": 6,
   "id": "37eccc65",
   "metadata": {},
   "outputs": [
    {
     "name": "stdout",
     "output_type": "stream",
     "text": [
      "Initializing GravWaveAnalysis class\n"
     ]
    }
   ],
   "source": [
    "print(\"Initializing GravWaveAnalysis class\")\n",
    "gwf = GWfuncs.GravWaveAnalysis(T, dt)"
   ]
  },
  {
   "cell_type": "code",
   "execution_count": 7,
   "id": "acbf1180",
   "metadata": {},
   "outputs": [],
   "source": [
    "#Generating data (true)\n",
    "\n",
    "m1_o = 1e6\n",
    "m2_o = 1e1\n",
    "a_o = 0.3\n",
    "p0_o = 12\n",
    "e0_o = 0.1\n",
    "xI_o = 1.0\n",
    "theta_o = np.pi/3  # polar viewing angle\n",
    "phi_o = np.pi/4  # azimuthal viewing angle\n",
    "dist = 1 # Gpc\n",
    "\n",
    "params_star = (m1_o, m2_o, a_o, p0_o, e0_o, xI_o, theta_o, phi_o, dist)\n",
    "loglike_obj = GWfuncs.LogLike(params_star, waveform_gen, gwf)\n",
    "#TODO: fix the arguments logic in GWfuncs"
   ]
  },
  {
   "cell_type": "code",
   "execution_count": 8,
   "id": "be38900d",
   "metadata": {},
   "outputs": [
    {
     "data": {
      "text/plain": [
       "array([ 6.65436270e-23+7.45156464e-23j,  7.57824631e-23+6.69291801e-23j,\n",
       "        8.35889827e-23+5.86994339e-23j, ...,\n",
       "       -4.16048237e-23+8.81427320e-23j, -2.71171756e-23+9.05747103e-23j,\n",
       "       -1.28885656e-23+9.13684625e-23j], shape=(3155815,))"
      ]
     },
     "execution_count": 8,
     "metadata": {},
     "output_type": "execute_result"
    }
   ],
   "source": [
    "loglike_obj.signal"
   ]
  },
  {
   "cell_type": "code",
   "execution_count": 9,
   "id": "4fc7c94f",
   "metadata": {},
   "outputs": [
    {
     "data": {
      "text/plain": [
       "array([ 6.65436270e-23+7.45156464e-23j,  7.57824631e-23+6.69291801e-23j,\n",
       "        8.35889827e-23+5.86994339e-23j, ...,\n",
       "       -4.16048237e-23+8.81427320e-23j, -2.71171756e-23+9.05747103e-23j,\n",
       "       -1.28885656e-23+9.13684625e-23j], shape=(3155815,))"
      ]
     },
     "execution_count": 9,
     "metadata": {},
     "output_type": "execute_result"
    }
   ],
   "source": [
    "loglike_obj_alt = GWfuncs.LogLike(params_star, waveform_gen, T=T, dt=dt)\n",
    "loglike_obj_alt.signal"
   ]
  },
  {
   "cell_type": "code",
   "execution_count": 10,
   "id": "60dadd9f",
   "metadata": {},
   "outputs": [],
   "source": [
    "# Generate sample template\n",
    "m1_t = 1e5\n",
    "m2_t = 1e1\n",
    "a_t = 0.4\n",
    "p0_t = 10\n",
    "e0_t = 0.2\n",
    "xI_t = 1.0\n",
    "theta_t = np.pi/3  # polar viewing angle\n",
    "phi_t = np.pi/4  # azimuthal viewing angle\n",
    "dist_t = 1 # Gpc\n",
    "params_template = (m1_t, m2_t, a_t, p0_t, e0_t, xI_t, theta_t, phi_t, dist_t)\n",
    "loglike_temp = loglike_obj(params_template)"
   ]
  },
  {
   "cell_type": "code",
   "execution_count": 11,
   "id": "98381527",
   "metadata": {},
   "outputs": [
    {
     "data": {
      "text/plain": [
       "1.8793050836641157e-30"
      ]
     },
     "execution_count": 11,
     "metadata": {},
     "output_type": "execute_result"
    }
   ],
   "source": [
    "loglike_temp"
   ]
  },
  {
   "cell_type": "code",
   "execution_count": 12,
   "id": "3b859b0b",
   "metadata": {},
   "outputs": [],
   "source": [
    "\n",
    "# Parameter space search example\n",
    "def parameter_space_search_example(n_samples=10):\n",
    "    \"\"\"Example parameter space search\"\"\"\n",
    "    print(f\"Running parameter space search with {n_samples} samples...\")\n",
    "    \n",
    "    # Parameter ranges (adjust as needed)\n",
    "    m1_range = (9.99e5, 1.001e6)\n",
    "    m2_range = (9.99, 10.001)  \n",
    "    a_range = (0.2997, 0.3003)\n",
    "    p0_range = (11.988, 12.012)\n",
    "    e0_range = (9.99e-2, 0.1001)\n",
    "    xI0_range = (1.0, 1.0) # keeping it equatorial for now\n",
    "    theta_range = (np.pi / 3 * (0.999), np.pi / 3 * (1.001))\n",
    "    phi_range = (np.pi / 4 * (0.999), np.pi / 4 * (1.001))\n",
    "    dist_range = (0.999, 1.001)  \n",
    "    \n",
    "    # Generate random parameter samples\n",
    "    np.random.seed(7)  # For reproducibility\n",
    "    \n",
    "    for i in range(n_samples):\n",
    "        # Sample masses log-uniformly, others  uniformly\n",
    "        m1 = 10**(np.random.uniform(np.log10(m1_range[0]), np.log10(m1_range[1])))\n",
    "        m2 = 10**(np.random.uniform(np.log10(m2_range[0]), np.log10(m2_range[1])))\n",
    "        params = [\n",
    "            m1,\n",
    "            m2, \n",
    "            np.random.uniform(*a_range),\n",
    "            np.random.uniform(*p0_range),\n",
    "            np.random.uniform(*e0_range),\n",
    "            np.random.uniform(*xI0_range),\n",
    "            np.random.uniform(*theta_range),\n",
    "            np.random.uniform(*phi_range),\n",
    "            np.random.uniform(*dist_range)\n",
    "        ]\n",
    "        \n",
    "        try:\n",
    "            # Evaluate likelihood\n",
    "            f_stat = loglike_obj(params)\n",
    "            print(f\"Sample {i+1}/{n_samples}: f_stat = {f_stat}\")\n",
    "                \n",
    "        except Exception as e:\n",
    "            print(f\"Error in evaluation {i+1}: {e}\")\n",
    "            continue\n",
    "    \n",
    "    print(\"Parameter space search completed!\")"
   ]
  },
  {
   "cell_type": "code",
   "execution_count": 13,
   "id": "158e092e",
   "metadata": {},
   "outputs": [
    {
     "name": "stdout",
     "output_type": "stream",
     "text": [
      "All initialization complete! Starting parameter_space_search_example...\n",
      "Running parameter space search with 100 samples...\n",
      "Sample 1/100: f_stat = -6.1735183341265504e-27\n",
      "Sample 2/100: f_stat = -0.002361997755041137\n",
      "Sample 3/100: f_stat = 1.0373242334730765e-28\n",
      "Sample 4/100: f_stat = -1.9421081154465682e-14\n",
      "Sample 5/100: f_stat = 2.4311588394976803e-29\n",
      "Sample 6/100: f_stat = -inf\n",
      "Sample 7/100: f_stat = 1.3340025908656556e-27\n",
      "Sample 8/100: f_stat = 8.903509115387706e-14\n",
      "Sample 9/100: f_stat = -0.00020442943380584496\n",
      "Sample 10/100: f_stat = 2.1167256216706214e-14\n",
      "Sample 11/100: f_stat = -0.00017659843070256485\n",
      "Sample 12/100: f_stat = 1.1080942149801563e-28\n",
      "Sample 13/100: f_stat = -1.659383226324194e-27\n",
      "Sample 14/100: f_stat = -6.888987896261919e-42\n",
      "Sample 15/100: f_stat = -0.0011763335010707438\n",
      "Sample 16/100: f_stat = -1.696213413340572e-05\n",
      "Sample 17/100: f_stat = 0.0036948839551851796\n",
      "Sample 18/100: f_stat = 8.044696641649256e-28\n",
      "Sample 19/100: f_stat = 0.0004506364017871352\n",
      "Sample 20/100: f_stat = 2.8203005803151e-14\n",
      "Sample 21/100: f_stat = -1.3391637890709809e-42\n",
      "Sample 22/100: f_stat = -1.0031220303230354e-13\n",
      "Sample 23/100: f_stat = -0.0006739241428809663\n",
      "Sample 24/100: f_stat = 2.178397341031433e-28\n",
      "Sample 25/100: f_stat = 1.41591473621484e-13\n",
      "Sample 26/100: f_stat = 5.582769335495067e-28\n",
      "Sample 27/100: f_stat = 3.213862246330568e-14\n",
      "Sample 28/100: f_stat = -1.7834371702603057e-13\n",
      "Sample 29/100: f_stat = 0.00010949293384876892\n",
      "Sample 30/100: f_stat = 1.8660283327840056e-152\n",
      "Sample 31/100: f_stat = -4.559797245589353e-05\n",
      "Sample 32/100: f_stat = 3.501257408427317e-28\n",
      "Sample 33/100: f_stat = -2.1262835752132715e-14\n",
      "Sample 34/100: f_stat = -0.00019855051318156124\n",
      "Sample 35/100: f_stat = 0.0018168016762071934\n",
      "Sample 36/100: f_stat = 0.0003923391567717601\n",
      "Sample 37/100: f_stat = 1.3555474062054964e-28\n",
      "Sample 38/100: f_stat = -5.732702318304075e-274\n",
      "Sample 39/100: f_stat = 8.597811617995177e-15\n",
      "Sample 40/100: f_stat = 5.104789898225277e-28\n",
      "Sample 41/100: f_stat = 6.358139372684575e-152\n",
      "Sample 42/100: f_stat = 0.0002839350858994679\n",
      "Sample 43/100: f_stat = -2.8327068767916033e-15\n",
      "Sample 44/100: f_stat = -1.0153210374485589e-27\n",
      "Sample 45/100: f_stat = 4.609692551593814e-50\n",
      "Sample 46/100: f_stat = -1.5638882511065522e-05\n",
      "Sample 47/100: f_stat = -1.7340266460963982e-50\n",
      "Sample 48/100: f_stat = -7.872301456492189e-28\n",
      "Sample 49/100: f_stat = 7.27288016646026e-13\n",
      "Sample 50/100: f_stat = 4.018154590666468e-14\n",
      "Sample 51/100: f_stat = 6.313801858880375e-05\n",
      "Sample 52/100: f_stat = 1.8456539682814554e-43\n",
      "Sample 53/100: f_stat = 1.1585889358723198e-28\n",
      "Sample 54/100: f_stat = 1.0644580702105378e-14\n",
      "Sample 55/100: f_stat = -8.772423237757225e-11\n",
      "Sample 56/100: f_stat = 1.552194061348154e-05\n",
      "Sample 57/100: f_stat = -1.4569466977561357e-05\n",
      "Sample 58/100: f_stat = -7.942233988621576e-06\n",
      "Sample 59/100: f_stat = -0.0009769234551223588\n",
      "Sample 60/100: f_stat = -0.0005940003672114464\n",
      "Sample 61/100: f_stat = -9.575769492952004e-40\n",
      "Sample 62/100: f_stat = -8.798598400030506e-15\n",
      "Sample 63/100: f_stat = 1.6379782575298136e-282\n",
      "Sample 64/100: f_stat = -1.247380848829849e-14\n",
      "Sample 65/100: f_stat = 1.668085345328654e-167\n",
      "Sample 66/100: f_stat = -8.797310190561754e-43\n",
      "Sample 67/100: f_stat = -0.00021413671982908262\n",
      "Sample 68/100: f_stat = -0.00042512120305785274\n",
      "Sample 69/100: f_stat = 5.8948419763796415e-28\n",
      "Sample 70/100: f_stat = 9.907320075289829e-05\n",
      "Sample 71/100: f_stat = -8.666721953374483e-27\n",
      "Sample 72/100: f_stat = 8.757262649967585e-05\n",
      "Sample 73/100: f_stat = 4.405873402784597e-15\n",
      "Sample 74/100: f_stat = -3.045504481244612e-14\n",
      "Sample 75/100: f_stat = 1.2577023863056465e-14\n",
      "Sample 76/100: f_stat = 2.5960504170442076e-15\n",
      "Sample 77/100: f_stat = -0.0016428437030175577\n",
      "Sample 78/100: f_stat = -1.090931571254111e-28\n",
      "Sample 79/100: f_stat = -6.826233482515959e-13\n",
      "Sample 80/100: f_stat = -0.0009068410348078045\n",
      "Sample 81/100: f_stat = -7.990722470260106e-05\n",
      "Sample 82/100: f_stat = 0.0002452294702436599\n",
      "Sample 83/100: f_stat = 2.738345455353604e-05\n",
      "Sample 84/100: f_stat = -2.298774313555813e-28\n",
      "Sample 85/100: f_stat = 4.47195893654002e-16\n",
      "Sample 86/100: f_stat = 5.161903816276336e-28\n",
      "Sample 87/100: f_stat = 2.4537158123486077e-29\n",
      "Sample 88/100: f_stat = 3.744402094860817e-05\n",
      "Sample 89/100: f_stat = 7.387971139616351e-30\n",
      "Sample 90/100: f_stat = 2.2563363824051235e-42\n",
      "Sample 91/100: f_stat = -1.0745698513122334e-28\n",
      "Sample 92/100: f_stat = 1.9446938036553993e-42\n",
      "Sample 93/100: f_stat = -0.0004139397944043693\n",
      "Sample 94/100: f_stat = -2.259681825833633e-05\n",
      "Sample 95/100: f_stat = -8.491522537413954e-05\n",
      "Sample 96/100: f_stat = 5.273038429052266e-05\n",
      "Sample 97/100: f_stat = 5.773648355081435e-13\n",
      "Sample 98/100: f_stat = 1.6452084974100105e-14\n",
      "Sample 99/100: f_stat = 0.0004252689844788111\n",
      "Sample 100/100: f_stat = -0.0002706660485796409\n",
      "Parameter space search completed!\n"
     ]
    }
   ],
   "source": [
    "print(\"All initialization complete! Starting parameter_space_search_example...\")\n",
    "parameter_space_search_example(n_samples=100)"
   ]
  },
  {
   "cell_type": "code",
   "execution_count": 14,
   "id": "2c0191e3",
   "metadata": {},
   "outputs": [],
   "source": [
    "## PRIOR: masses log-uniform\n",
    "def prior_transform(utheta):\n",
    "      um1, um2, ua, up0, ue0, uxI0, utheta_angle, uphi, udist = utheta\n",
    "\n",
    "      # Parameter limits\n",
    "      m1lim = [9.99e5, 1.001e6]\n",
    "      m2lim = [9.99, 10.01]\n",
    "      alim = [0.2997, 0.3003]\n",
    "      p0lim = [11.988, 12.012]\n",
    "      e0lim = [9.99e-2, 0.1001]\n",
    "      xI0lim = [1.0, 1.0]\n",
    "      thetalim = [np.pi / 3 * (0.999), np.pi / 3 * (1.001)]\n",
    "      philim = [np.pi / 4 * (0.999), np.pi / 4 * (1.001)]\n",
    "      distlim = [0.999, 1.001]  # Distance in Gpc\n",
    "\n",
    "      # Log-uniform for masses\n",
    "      m1 = 10**(np.log10(m1lim[0]) + um1 * (np.log10(m1lim[1]) - np.log10(m1lim[0])))\n",
    "      m2 = 10**(np.log10(m2lim[0]) + um2 * (np.log10(m2lim[1]) - np.log10(m2lim[0])))\n",
    "\n",
    "      # Uniform for other parameters\n",
    "      a = (alim[1] - alim[0]) * ua + alim[0]\n",
    "      p0 = (p0lim[1] - p0lim[0]) * up0 + p0lim[0]\n",
    "      e0 = (e0lim[1] - e0lim[0]) * ue0 + e0lim[0]\n",
    "      xI0 = 1.0  # Fixed value\n",
    "      theta = (thetalim[1] - thetalim[0]) * utheta_angle + thetalim[0]\n",
    "      phi = (philim[1] - philim[0]) * uphi + philim[0]\n",
    "      dist = (distlim[1] - distlim[0]) * udist + distlim[0]\n",
    "\n",
    "      return m1, m2, a, p0, e0, xI0, theta, phi, dist"
   ]
  },
  {
   "cell_type": "code",
   "execution_count": 15,
   "id": "27cbbfac",
   "metadata": {},
   "outputs": [
    {
     "name": "stderr",
     "output_type": "stream",
     "text": [
      "64it [01:16,  1.20s/it, bound: 0 | nc: 1 | ncall: 569 | eff(%): 11.248 | loglstar:   -inf < -0.000 <    inf | logz: -2.372 +/-    nan | dlogz:  2.408 >  0.509]\n",
      "\n",
      "KeyboardInterrupt\n",
      "\n"
     ]
    }
   ],
   "source": [
    "rstate = np.random.default_rng(7)\n",
    "with dynesty.pool.Pool(16, loglike_obj, prior_transform) as pool:\n",
    "    dsampler = dynesty.NestedSampler(\n",
    "        loglike_obj,  \n",
    "        prior_transform,\n",
    "        ndim=9,\n",
    "        bound='multi',\n",
    "        sample='rwalk',\n",
    "        rstate=rstate\n",
    "    )\n",
    "    dsampler.run_nested(checkpoint_file='dynestystatic.save')"
   ]
  },
  {
   "cell_type": "code",
   "execution_count": null,
   "id": "4b7c8bd3",
   "metadata": {},
   "outputs": [],
   "source": []
  }
 ],
 "metadata": {
  "kernelspec": {
   "display_name": "Python (fewnew)",
   "language": "python",
   "name": "fewnew"
  },
  "language_info": {
   "codemirror_mode": {
    "name": "ipython",
    "version": 3
   },
   "file_extension": ".py",
   "mimetype": "text/x-python",
   "name": "python",
   "nbconvert_exporter": "python",
   "pygments_lexer": "ipython3",
   "version": "3.12.9"
  }
 },
 "nbformat": 4,
 "nbformat_minor": 5
}
