{
 "cells": [
  {
   "cell_type": "code",
   "execution_count": 1,
   "id": "d6494817",
   "metadata": {},
   "outputs": [
    {
     "name": "stdout",
     "output_type": "stream",
     "text": [
      "Starting imports...\n",
      "Importing few...\n",
      "Importing GWfuncs...\n",
      "Importing cupy...\n",
      "Configuring few...\n"
     ]
    },
    {
     "data": {
      "text/plain": [
       "<few.utils.globals.ConfigurationSetter at 0x1554cdbcee40>"
      ]
     },
     "execution_count": 1,
     "metadata": {},
     "output_type": "execute_result"
    }
   ],
   "source": [
    "print(\"Starting imports...\")\n",
    "import numpy as np\n",
    "import matplotlib.pyplot as plt\n",
    "from numba import cuda, float64, complex128\n",
    "from numba.cuda import jit as cuda_jit\n",
    "import math\n",
    "\n",
    "print(\"Importing few...\")\n",
    "import few\n",
    "\n",
    "from few.trajectory.inspiral import EMRIInspiral\n",
    "from few.trajectory.ode import KerrEccEqFlux\n",
    "from few.amplitude.ampinterp2d import AmpInterpKerrEccEq\n",
    "from few.summation.interpolatedmodesum import InterpolatedModeSum \n",
    "\n",
    "\n",
    "from few.utils.ylm import GetYlms\n",
    "\n",
    "from few import get_file_manager\n",
    "\n",
    "from few.waveform import FastKerrEccentricEquatorialFlux\n",
    "\n",
    "from few.utils.geodesic import get_fundamental_frequencies\n",
    "\n",
    "import os\n",
    "import sys\n",
    "\n",
    "# Change to the desired directory\n",
    "os.chdir('/nfs/home/svu/e1498138/localgit/FEWNEW/work/')\n",
    "\n",
    "# Add it to Python path\n",
    "sys.path.insert(0, '/nfs/home/svu/e1498138/localgit/FEWNEW/work/')\n",
    "\n",
    "print(\"Importing GWfuncs...\")\n",
    "import GWfuncs\n",
    "# import gc\n",
    "# import pickle\n",
    "print(\"Importing cupy...\")\n",
    "import cupy as cp\n",
    "\n",
    "print(\"Configuring few...\")\n",
    "# tune few configuration\n",
    "cfg_set = few.get_config_setter(reset=True)\n",
    "cfg_set.set_log_level(\"info\")\n",
    "\n",
    "# print(\"Importing dynesty...\")\n",
    "# import dynesty"
   ]
  },
  {
   "cell_type": "code",
   "execution_count": 2,
   "id": "d3f4df15",
   "metadata": {},
   "outputs": [],
   "source": [
    "from lisatools.sensitivity import *\n"
   ]
  },
  {
   "cell_type": "code",
   "execution_count": 3,
   "id": "2c6be85b",
   "metadata": {},
   "outputs": [
    {
     "name": "stdout",
     "output_type": "stream",
     "text": [
      " - Backend 'cpu': available\n",
      " - Backend 'cuda11x': unavailable\n",
      " - Backend 'cuda12x': available\n",
      " - Backend 'cuda': available\n",
      " - Backend 'gpu': available\n"
     ]
    }
   ],
   "source": [
    "for backend in [\"cpu\", \"cuda11x\", \"cuda12x\", \"cuda\", \"gpu\"]: \n",
    "    print(f\" - Backend '{backend}': {\"available\" if few.has_backend(backend) else \"unavailable\"}\")  "
   ]
  },
  {
   "cell_type": "code",
   "execution_count": 4,
   "id": "aaf4cbda",
   "metadata": {},
   "outputs": [],
   "source": [
    "from few.utils.constants import YRSID_SI, Gpc, MRSUN_SI\n"
   ]
  },
  {
   "cell_type": "code",
   "execution_count": 37,
   "id": "964e5936",
   "metadata": {},
   "outputs": [],
   "source": [
    "N_traj = 1e4 # change amount of points here \n",
    "T = 1 #yr\n",
    "delta_T = T*YRSID_SI/N_traj "
   ]
  },
  {
   "cell_type": "code",
   "execution_count": 38,
   "id": "d3558ca9",
   "metadata": {},
   "outputs": [],
   "source": [
    "# Parameters\n",
    "m1 = 1e6 #M\n",
    "m2 = 1e1 #mu\n",
    "a = 0.5\n",
    "p0 = 9.5\n",
    "e0 = 0.2\n",
    "theta = np.pi / 3.0 \n",
    "phi = np.pi / 4.0  \n",
    "dt = 10.0\n",
    "xI0 = 1.0 \n",
    "dist= 1\n",
    "#in the paper xI0 = 0.866, but that would be non-equatorial case\n",
    "\n",
    "use_gpu = True \n",
    "traj = EMRIInspiral(func=KerrEccEqFlux, npoints=N_traj) #theres npoints flag here\n",
    "amp = AmpInterpKerrEccEq(force_backend=\"cuda12x\") # default lmax=10, nmax=55\n",
    "interpolate_mode_sum = InterpolatedModeSum(force_backend=\"cuda12x\")\n",
    "ylm_gen = GetYlms(include_minus_m=False, force_backend=\"cuda12x\")\n",
    "gwf = GWfuncs.GravWaveAnalysis(T=T, dt=dt)"
   ]
  },
  {
   "cell_type": "code",
   "execution_count": 39,
   "id": "1e42f1cd",
   "metadata": {},
   "outputs": [],
   "source": [
    "factor = gwf.dist_factor(dist, m2)"
   ]
  },
  {
   "cell_type": "code",
   "execution_count": 40,
   "id": "6f21984f",
   "metadata": {},
   "outputs": [],
   "source": [
    "indices = [1165, 1166, 7159, 1164, 7160]"
   ]
  },
  {
   "cell_type": "code",
   "execution_count": 41,
   "id": "47b722f7",
   "metadata": {},
   "outputs": [],
   "source": [
    "# Get mode labels\n",
    "mode_labels = [f\"({l},{m},{n})\" for l,m,n in zip(amp.l_arr, amp.m_arr, amp.n_arr)]"
   ]
  },
  {
   "cell_type": "code",
   "execution_count": 42,
   "id": "d1a92d4b",
   "metadata": {},
   "outputs": [],
   "source": [
    "(t, p, e, x, Phi_phi, Phi_theta, Phi_r) = traj(m1, m2, a, p0, e0, xI0, T=T, dt=delta_T, upsample=True) \n",
    "teuk_modes = amp(a, p, e, x)\n"
   ]
  },
  {
   "cell_type": "code",
   "execution_count": 43,
   "id": "086fbd9c",
   "metadata": {},
   "outputs": [],
   "source": [
    "t_gpu = cp.asarray(t)\n",
    "ylms = ylm_gen(amp.unique_l, amp.unique_m, theta, phi).copy()[amp.inverse_lm]"
   ]
  },
  {
   "cell_type": "code",
   "execution_count": 44,
   "id": "a6e5fd2c",
   "metadata": {},
   "outputs": [
    {
     "name": "stdout",
     "output_type": "stream",
     "text": [
      "['(2,2,0)', '(2,2,1)', '(2,-2,0)', '(2,2,-1)', '(2,-2,1)']\n"
     ]
    }
   ],
   "source": [
    "mode_labels_per_mode = [mode_labels[idx] for idx in indices]\n",
    "print(mode_labels_per_mode)"
   ]
  },
  {
   "cell_type": "code",
   "execution_count": 45,
   "id": "1d4e64a7",
   "metadata": {},
   "outputs": [
    {
     "name": "stdout",
     "output_type": "stream",
     "text": [
      "Setting up waveform generator...\n",
      "Creating FastKerrEccentricEquatorialFlux...\n"
     ]
    }
   ],
   "source": [
    "use_gpu = True\n",
    "force_backend = \"cuda12x\"  \n",
    "print(\"Setting up waveform generator...\")\n",
    "# keyword arguments for inspiral generator \n",
    "inspiral_kwargs={\n",
    "        \"func\": 'KerrEccEqFlux',\n",
    "        \"DENSE_STEPPING\": 0, #change to 1/True for uniform sampling\n",
    "        \"include_minus_m\": False, \n",
    "        \"use_gpu\" : use_gpu,\n",
    "        \"force_backend\":force_backend\n",
    "}\n",
    "\n",
    "# keyword arguments for inspiral generator \n",
    "amplitude_kwargs = {\n",
    "    \"force_backend\": force_backend,\n",
    "    # \"use_gpu\" : use_gpu\n",
    "}\n",
    "\n",
    "# keyword arguments for Ylm generator (GetYlms)\n",
    "Ylm_kwargs = {\n",
    "    \"force_backend\": force_backend,\n",
    "    # \"assume_positive_m\": True  # if we assume positive m, it will generate negative m for all m>0\n",
    "}\n",
    "\n",
    "# keyword arguments for summation generator (InterpolatedModeSum)\n",
    "sum_kwargs = {\n",
    "    \"force_backend\":force_backend,\n",
    "    \"pad_output\": True,\n",
    "    \"separate_modes\": True\n",
    "    # \"use_gpu\" : use_gpu\n",
    "}\n",
    "\n",
    "print(\"Creating FastKerrEccentricEquatorialFlux...\")\n",
    "# Kerr eccentric flux\n",
    "waveform_gen = FastKerrEccentricEquatorialFlux(\n",
    "    inspiral_kwargs=inspiral_kwargs,\n",
    "    amplitude_kwargs=amplitude_kwargs,\n",
    "    Ylm_kwargs=Ylm_kwargs,\n",
    "    sum_kwargs=sum_kwargs,\n",
    "    use_gpu=use_gpu,\n",
    ")"
   ]
  },
  {
   "cell_type": "code",
   "execution_count": 46,
   "id": "78e9edf6",
   "metadata": {},
   "outputs": [],
   "source": [
    "pos_mode =  [(2,2,0)]\n",
    "neg_mode =  [(2,-2,0)]"
   ]
  },
  {
   "cell_type": "code",
   "execution_count": 47,
   "id": "428a226c",
   "metadata": {},
   "outputs": [],
   "source": [
    "h_pos = waveform_gen(\n",
    "    m1, \n",
    "    m2,\n",
    "    a, \n",
    "    p0, \n",
    "    e0, \n",
    "    xI0, \n",
    "    theta, \n",
    "    phi, \n",
    "    dist=dist, \n",
    "    dt=dt, \n",
    "    T=1, \n",
    "    mode_selection=pos_mode,\n",
    "    include_minus_mkn=False,\n",
    ")\n"
   ]
  },
  {
   "cell_type": "code",
   "execution_count": 48,
   "id": "20fc1c04",
   "metadata": {},
   "outputs": [
    {
     "data": {
      "text/plain": [
       "array([[2.10318780e-23+7.62786108e-23j],\n",
       "       [3.07539570e-23+7.29037799e-23j],\n",
       "       [3.99557977e-23+6.82956943e-23j],\n",
       "       ...,\n",
       "       [4.47886261e-23-8.50784594e-23j],\n",
       "       [3.04281609e-23-9.12057770e-23j],\n",
       "       [1.52653241e-23-9.49280679e-23j]])"
      ]
     },
     "execution_count": 48,
     "metadata": {},
     "output_type": "execute_result"
    }
   ],
   "source": [
    "h_pos"
   ]
  },
  {
   "cell_type": "code",
   "execution_count": 49,
   "id": "d8bb7336",
   "metadata": {},
   "outputs": [],
   "source": [
    "h_neg = waveform_gen(\n",
    "    m1, \n",
    "    m2,\n",
    "    a, \n",
    "    p0, \n",
    "    e0, \n",
    "    xI0, \n",
    "    theta, \n",
    "    phi, \n",
    "    dist=dist, \n",
    "    dt=dt, \n",
    "    T=1, \n",
    "    mode_selection=neg_mode,\n",
    "    include_minus_mkn=False,\n",
    ")\n"
   ]
  },
  {
   "cell_type": "code",
   "execution_count": 50,
   "id": "8f06e2a9",
   "metadata": {},
   "outputs": [
    {
     "name": "stderr",
     "output_type": "stream",
     "text": [
      "/scratch/e1498138/anaconda3/lib/python3.12/site-packages/IPython/core/pylabtools.py:170: UserWarning: Creating legend with loc=\"best\" can be slow with large amounts of data.\n",
      "  fig.canvas.print_figure(bytes_io, **kw)\n"
     ]
    },
    {
     "data": {
      "image/png": "[encoded data removed]",
      "text/plain": [
       "<Figure size 640x480 with 1 Axes>"
      ]
     },
     "metadata": {},
     "output_type": "display_data"
    }
   ],
   "source": [
    "# plt.plot(waveform_per_mode[0].get().real, label=mode_labels_per_mode[0])\n",
    "# plt.plot(waveform_per_mode[0].get().imag, label=mode_labels_per_mode[0])\n",
    "plt.plot(h_pos.get().real, label=\"h_pos real\")\n",
    "plt.plot(h_pos.get().imag, label=\"h_pos imag\")\n",
    "plt.plot(h_neg.get().real, label=\"h_neg real\")\n",
    "plt.plot(h_neg.get().imag, label=\"h_neg imag\")\n",
    "plt.legend()\n",
    "plt.xlim(0,1e2)\n",
    "plt.show()"
   ]
  },
  {
   "cell_type": "code",
   "execution_count": 51,
   "id": "a1e1d6dd",
   "metadata": {},
   "outputs": [
    {
     "data": {
      "text/plain": [
       "((3155815, 1), (3155815, 1))"
      ]
     },
     "execution_count": 51,
     "metadata": {},
     "output_type": "execute_result"
    }
   ],
   "source": [
    "h_pos.shape, h_neg.shape"
   ]
  },
  {
   "cell_type": "code",
   "execution_count": 52,
   "id": "a2a20969",
   "metadata": {},
   "outputs": [
    {
     "data": {
      "text/plain": [
       "((2, 1577908), (2, 1577908))"
      ]
     },
     "execution_count": 52,
     "metadata": {},
     "output_type": "execute_result"
    }
   ],
   "source": [
    "h_pos_f = gwf.freq_wave(h_pos[:,0])\n",
    "h_neg_f = gwf.freq_wave(h_neg[:,0])\n",
    "h_pos_f.shape, h_neg_f.shape"
   ]
  },
  {
   "cell_type": "code",
   "execution_count": 53,
   "id": "84094749",
   "metadata": {},
   "outputs": [
    {
     "data": {
      "text/plain": [
       "array(-1.10222856e-05)"
      ]
     },
     "execution_count": 53,
     "metadata": {},
     "output_type": "execute_result"
    }
   ],
   "source": [
    "gwf.overlap(h_pos_f, h_neg_f) "
   ]
  },
  {
   "cell_type": "code",
   "execution_count": 54,
   "id": "93324daa",
   "metadata": {},
   "outputs": [],
   "source": [
    "def calc_inner(idx_i, idx_j, teuk_modes, amp, freqs, phases, delta_T, factor):\n",
    "    # Obtain the lmn-s\n",
    "    l_i = amp.l_arr[idx_i]\n",
    "    m_i = amp.m_arr[idx_i]\n",
    "    n_i = amp.n_arr[idx_i]\n",
    "\n",
    "    l_j = amp.l_arr[idx_j]\n",
    "    m_j = amp.m_arr[idx_j]\n",
    "    n_j = amp.n_arr[idx_j]\n",
    "\n",
    "    # Get Teukolsky modes\n",
    "    # Check if negative m \n",
    "    if m_i >= 0:\n",
    "        A_i = teuk_modes[:, idx_i]\n",
    "\n",
    "    elif m_i < 0:\n",
    "        pos_m_mask_i = (amp.l_arr == l_i) & (amp.m_arr == -m_i) & (amp.n_arr == -n_i)\n",
    "        pos_m_idx_i = np.where(pos_m_mask_i)[0]\n",
    "        A_i_pos = teuk_modes[:, pos_m_idx_i]\n",
    "        A_i = (-1)**l_i * np.conj(A_i_pos)\n",
    "\n",
    "    if m_j >= 0:\n",
    "        A_j = teuk_modes[:, idx_j]\n",
    "        \n",
    "    elif m_j < 0:\n",
    "        pos_m_mask_j = (amp.l_arr == l_j) & (amp.m_arr == -m_j) & (amp.n_arr == -n_j)\n",
    "        pos_m_idx_j = np.where(pos_m_mask_j)[0]\n",
    "        A_j_pos = teuk_modes[:, pos_m_idx_j]\n",
    "        A_j = (-1)**l_j * np.conj(A_j_pos)\n",
    "\n",
    "    # Get sensitivity for each mode \n",
    "    Sn_i = get_sensitivity(freqs[idx_i], sens_fn=LISASens, return_type=\"PSD\")\n",
    "    Sn_j = get_sensitivity(freqs[idx_j], sens_fn=LISASens, return_type=\"PSD\")\n",
    "\n",
    "    # Get noise-weighted amplitudes\n",
    "    bar_A_i = A_i.get() / np.sqrt(Sn_i)\n",
    "    bar_A_j = A_j.get() / np.sqrt(Sn_j)\n",
    "\n",
    "    # Get phase mask\n",
    "    phase_mask = np.abs(phases[idx_i] - phases[idx_j]) < 1.0 \n",
    "\n",
    "    # Calculate product\n",
    "    prod = np.conj(bar_A_i[phase_mask]) * bar_A_j[phase_mask]\n",
    "\n",
    "    # Calculate full inner product\n",
    "    innerprod = np.sum(np.real(prod)) * delta_T * 1/(factor**2)\n",
    "\n",
    "    return innerprod"
   ]
  },
  {
   "cell_type": "code",
   "execution_count": 55,
   "id": "8ad6b342",
   "metadata": {},
   "outputs": [],
   "source": [
    "OmegaPhi, OmegaTheta, OmegaR = get_fundamental_frequencies(a, p, e, x) #could use GPU here but im running to mismatch probs\n",
    "#actually whats the benefit of running cpu -> convert gpu vs running all in gpu in the first place?"
   ]
  },
  {
   "cell_type": "code",
   "execution_count": 56,
   "id": "52dd07ae",
   "metadata": {},
   "outputs": [],
   "source": [
    "l_cpu = amp.l_arr.get()\n",
    "m_cpu = amp.m_arr.get()\n",
    "n_cpu = amp.n_arr.get()"
   ]
  },
  {
   "cell_type": "code",
   "execution_count": 57,
   "id": "2abc0098",
   "metadata": {},
   "outputs": [],
   "source": [
    "gw_frequencies_per_mode = []\n",
    "\n",
    "for idx in range(len(mode_labels)):\n",
    "    # TODO: do convert this so everything is in either CPU/GPU?\n",
    "    # l = amp.l_arr[idx]\n",
    "    # m = amp.m_arr[idx] \n",
    "    # n = amp.n_arr[idx]\n",
    "    \n",
    "    l = l_cpu[idx]\n",
    "    m = m_cpu[idx] \n",
    "    n = n_cpu[idx]\n",
    "    \n",
    "    # Calculate GW frequencies\n",
    "    # k = 0 for equatorial case\n",
    "    f_gw = m * OmegaPhi + n * OmegaR\n",
    "    \n",
    "    gw_frequencies_per_mode.append(f_gw)"
   ]
  },
  {
   "cell_type": "code",
   "execution_count": 58,
   "id": "594d4b9c",
   "metadata": {},
   "outputs": [],
   "source": [
    "gw_phase_per_mode = []\n",
    "for idx in range(len(mode_labels)):\n",
    "    # l = amp.l_arr[idx]\n",
    "    # m = amp.m_arr[idx] \n",
    "    # n = amp.n_arr[idx]\n",
    "\n",
    "    l = l_cpu[idx]\n",
    "    m = m_cpu[idx] \n",
    "    n = n_cpu[idx]\n",
    "    \n",
    "    # Calculate GW phases per mode\n",
    "    phi_mode = m * Phi_phi + n * Phi_r\n",
    "    \n",
    "    gw_phase_per_mode.append(phi_mode)"
   ]
  },
  {
   "cell_type": "code",
   "execution_count": 59,
   "id": "b6967ff4",
   "metadata": {},
   "outputs": [
    {
     "data": {
      "text/plain": [
       "array(643.25010388)"
      ]
     },
     "execution_count": 59,
     "metadata": {},
     "output_type": "execute_result"
    }
   ],
   "source": [
    "# (2,2,0) & (2,-2,0)\n",
    "cross_inner = calc_inner(1165,7159, teuk_modes, amp, gw_frequencies_per_mode, gw_phase_per_mode, delta_T, factor)\n",
    "cross_inner"
   ]
  },
  {
   "cell_type": "code",
   "execution_count": 60,
   "id": "dfec1a32",
   "metadata": {},
   "outputs": [
    {
     "data": {
      "text/plain": [
       "array(28.6212423)"
      ]
     },
     "execution_count": 60,
     "metadata": {},
     "output_type": "execute_result"
    }
   ],
   "source": [
    "SNR_pos = np.sqrt(calc_inner(1165,1165, teuk_modes, amp, gw_frequencies_per_mode, gw_phase_per_mode, delta_T, factor))\n",
    "SNR_pos"
   ]
  },
  {
   "cell_type": "code",
   "execution_count": 61,
   "id": "bb0debc6",
   "metadata": {},
   "outputs": [
    {
     "data": {
      "text/plain": [
       "array(2880.30621122)"
      ]
     },
     "execution_count": 61,
     "metadata": {},
     "output_type": "execute_result"
    }
   ],
   "source": [
    "SNR_neg = np.sqrt(calc_inner(7159,7159, teuk_modes, amp, gw_frequencies_per_mode, gw_phase_per_mode, delta_T, factor))\n",
    "SNR_neg"
   ]
  },
  {
   "cell_type": "code",
   "execution_count": 62,
   "id": "96502ff3",
   "metadata": {},
   "outputs": [
    {
     "data": {
      "text/plain": [
       "array(0.00780284)"
      ]
     },
     "execution_count": 62,
     "metadata": {},
     "output_type": "execute_result"
    }
   ],
   "source": [
    "cross_inner/(SNR_pos * SNR_neg)"
   ]
  },
  {
   "cell_type": "code",
   "execution_count": 69,
   "id": "982f3ac3",
   "metadata": {},
   "outputs": [
    {
     "data": {
      "text/plain": [
       "(10000, 6993)"
      ]
     },
     "execution_count": 69,
     "metadata": {},
     "output_type": "execute_result"
    }
   ],
   "source": [
    "teuk_modes.shape"
   ]
  },
  {
   "cell_type": "code",
   "execution_count": 76,
   "id": "1beb32be",
   "metadata": {},
   "outputs": [
    {
     "name": "stdout",
     "output_type": "stream",
     "text": [
      "Processing mode (2,2,0): (l=2, m=2, n=0)\n",
      "Processing mode (2,2,1): (l=2, m=2, n=1)\n",
      "Processing mode (2,-2,0): (l=2, m=-2, n=0)\n",
      "Negative m for mode (2,-2,0), using positive m counterpart.\n",
      "Using positive m index: (2,2,0) for mode (2,-2,0)\n",
      "Processing mode (2,2,-1): (l=2, m=2, n=-1)\n",
      "Processing mode (2,-2,1): (l=2, m=-2, n=1)\n",
      "Negative m for mode (2,-2,1), using positive m counterpart.\n",
      "Using positive m index: (2,2,-1) for mode (2,-2,1)\n"
     ]
    }
   ],
   "source": [
    "waveform_per_mode = []\n",
    "for idx in indices:\n",
    "    l = amp.l_arr[idx]\n",
    "    m = amp.m_arr[idx]\n",
    "    n = amp.n_arr[idx]\n",
    "    print(f\"Processing mode {mode_labels[idx]}: (l={l}, m={m}, n={n})\")\n",
    "\n",
    "    if m >= 0:\n",
    "        teuk_modes_single = teuk_modes[:, [idx]]\n",
    "        ylms_single = ylms[[idx]]\n",
    "        m_arr = amp.m_arr[[idx]]\n",
    "        n_arr = amp.n_arr[[idx]]\n",
    "    else:\n",
    "        print(f\"Negative m for mode {mode_labels[idx]}, using positive m counterpart.\")\n",
    "        pos_m_mask = (amp.l_arr == l) \\\n",
    "                    & (amp.m_arr == -m) \\\n",
    "                    & (amp.n_arr == -n)\n",
    "        pos_m_idx = int(gwf.xp.where(pos_m_mask)[0][0])\n",
    "        print(f\"Using positive m index: {mode_labels[pos_m_idx]} for mode {mode_labels[idx]}\")\n",
    "        teuk_modes_single = (-1)**l * gwf.xp.conj(teuk_modes[:, [pos_m_idx]])\n",
    "        ylms_single = ylms[[idx]]\n",
    "        m_arr = gwf.xp.abs(amp.m_arr[[idx]]) \n",
    "        n_arr = gwf.xp.abs(amp.n_arr[[idx]])\n",
    "\n",
    "    waveform = interpolate_mode_sum(\n",
    "        t_gpu, teuk_modes_single, ylms_single,\n",
    "        traj.integrator_spline_t, traj.integrator_spline_phase_coeff[:, [0, 2]],\n",
    "        amp.l_arr[[idx]], m_arr, n_arr, \n",
    "        dt=dt, T=T\n",
    "    )\n",
    "    waveform_per_mode.append(waveform / factor)\n"
   ]
  },
  {
   "cell_type": "code",
   "execution_count": 79,
   "id": "248a0f22",
   "metadata": {},
   "outputs": [
    {
     "data": {
      "text/plain": [
       "1"
      ]
     },
     "execution_count": 79,
     "metadata": {},
     "output_type": "execute_result"
    }
   ],
   "source": [
    "T"
   ]
  },
  {
   "cell_type": "code",
   "execution_count": 77,
   "id": "93763c11",
   "metadata": {},
   "outputs": [
    {
     "data": {
      "image/png": "[encoded data removed]",
      "text/plain": [
       "<Figure size 640x480 with 1 Axes>"
      ]
     },
     "metadata": {},
     "output_type": "display_data"
    }
   ],
   "source": [
    "plt.plot(waveform_per_mode[0].get().real, label=mode_labels_per_mode[0])\n",
    "plt.plot(waveform_per_mode[0].get().imag, label=mode_labels_per_mode[0])\n",
    "plt.plot(waveform_per_mode[2].get().real, label=mode_labels_per_mode[2])\n",
    "plt.plot(waveform_per_mode[2].get().imag, label=mode_labels_per_mode[2])\n",
    "plt.legend()\n",
    "plt.xlim(0,1e4)\n",
    "plt.show()"
   ]
  },
  {
   "cell_type": "code",
   "execution_count": 75,
   "id": "affe9102",
   "metadata": {},
   "outputs": [
    {
     "data": {
      "text/plain": [
       "array(1164)"
      ]
     },
     "execution_count": 75,
     "metadata": {},
     "output_type": "execute_result"
    }
   ],
   "source": [
    "pos_m_idx"
   ]
  },
  {
   "cell_type": "code",
   "execution_count": null,
   "id": "d4221ec5",
   "metadata": {},
   "outputs": [],
   "source": []
  }
 ],
 "metadata": {
  "kernelspec": {
   "display_name": "FEW Separate Modes (CUDA 12.x)",
   "language": "python",
   "name": "fewsm"
  },
  "language_info": {
   "codemirror_mode": {
    "name": "ipython",
    "version": 3
   },
   "file_extension": ".py",
   "mimetype": "text/x-python",
   "name": "python",
   "nbconvert_exporter": "python",
   "pygments_lexer": "ipython3",
   "version": "3.12.11"
  }
 },
 "nbformat": 4,
 "nbformat_minor": 5
}
