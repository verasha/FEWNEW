{
 "cells": [
  {
   "cell_type": "code",
   "execution_count": 1,
   "id": "a76be3b9",
   "metadata": {},
   "outputs": [
    {
     "name": "stdout",
     "output_type": "stream",
     "text": [
      "Starting imports...\n",
      "Importing few...\n",
      "Importing GWfuncs...\n",
      "Importing cupy...\n",
      "Configuring few...\n"
     ]
    },
    {
     "data": {
      "text/plain": [
       "<few.utils.globals.ConfigurationSetter at 0x1554cd80bf80>"
      ]
     },
     "execution_count": 1,
     "metadata": {},
     "output_type": "execute_result"
    }
   ],
   "source": [
    "print(\"Starting imports...\")\n",
    "import numpy as np\n",
    "import matplotlib.pyplot as plt\n",
    "from numba import cuda, float64, complex128\n",
    "from numba.cuda import jit as cuda_jit\n",
    "import math\n",
    "\n",
    "print(\"Importing few...\")\n",
    "import few\n",
    "\n",
    "from few.trajectory.inspiral import EMRIInspiral\n",
    "from few.trajectory.ode import KerrEccEqFlux\n",
    "from few.amplitude.ampinterp2d import AmpInterpKerrEccEq\n",
    "from few.summation.interpolatedmodesum import InterpolatedModeSum \n",
    "\n",
    "\n",
    "from few.utils.ylm import GetYlms\n",
    "\n",
    "from few import get_file_manager\n",
    "\n",
    "from few.waveform import FastKerrEccentricEquatorialFlux\n",
    "\n",
    "from few.utils.geodesic import get_fundamental_frequencies\n",
    "\n",
    "from few.utils.constants import YRSID_SI\n",
    "\n",
    "import os\n",
    "import sys\n",
    "\n",
    "# Change to the desired directory\n",
    "os.chdir('/nfs/home/svu/e1498138/localgit/FEWNEW/work/')\n",
    "\n",
    "# Add it to Python path\n",
    "sys.path.insert(0, '/nfs/home/svu/e1498138/localgit/FEWNEW/work/')\n",
    "\n",
    "print(\"Importing GWfuncs...\")\n",
    "import GWfuncs\n",
    "# import gc\n",
    "# import pickle\n",
    "print(\"Importing cupy...\")\n",
    "import cupy as cp\n",
    "\n",
    "print(\"Configuring few...\")\n",
    "# tune few configuration\n",
    "cfg_set = few.get_config_setter(reset=True)\n",
    "cfg_set.set_log_level(\"info\")"
   ]
  },
  {
   "cell_type": "code",
   "execution_count": 2,
   "id": "d8cce6bc",
   "metadata": {},
   "outputs": [
    {
     "name": "stdout",
     "output_type": "stream",
     "text": [
      " - Backend 'cpu': available\n",
      " - Backend 'cuda11x': unavailable\n",
      " - Backend 'cuda12x': available\n",
      " - Backend 'cuda': available\n",
      " - Backend 'gpu': available\n"
     ]
    }
   ],
   "source": [
    "for backend in [\"cpu\", \"cuda11x\", \"cuda12x\", \"cuda\", \"gpu\"]: \n",
    "    print(f\" - Backend '{backend}': {\"available\" if few.has_backend(backend) else \"unavailable\"}\")  "
   ]
  },
  {
   "cell_type": "code",
   "execution_count": 3,
   "id": "f39a8518",
   "metadata": {},
   "outputs": [],
   "source": [
    "# Initialize parameters and backend\n",
    "N_traj = 500\n",
    "use_gpu = True \n",
    "T = 1 # year\n",
    "T_sec = T * YRSID_SI\n",
    "dt = 10\n",
    "delta_T = T_sec / N_traj # define coarser sampling time step"
   ]
  },
  {
   "cell_type": "code",
   "execution_count": 30,
   "id": "29c60660",
   "metadata": {},
   "outputs": [
    {
     "data": {
      "text/plain": [
       "(63116.29952709119, 1)"
      ]
     },
     "execution_count": 30,
     "metadata": {},
     "output_type": "execute_result"
    }
   ],
   "source": [
    "delta_T, T"
   ]
  },
  {
   "cell_type": "code",
   "execution_count": 4,
   "id": "5f7a58c7",
   "metadata": {},
   "outputs": [],
   "source": [
    "# Waveform generation attributes\n",
    "# NOTE: honestly the only diff is in the EMRIInspiral class, which has a different npoints flag\n",
    "# otherwise only need to initialize waveform_gen with FastKerrEccentricEquatorialFlux\n",
    "# TODO: ? \n",
    "traj = EMRIInspiral(func=KerrEccEqFlux, force_backend=\"cuda12x\", use_gpu=use_gpu, npoints = N_traj) #theres npoints flag here\n",
    "amp = AmpInterpKerrEccEq(force_backend=\"cuda12x\") # default lmax=10, nmax=55\n",
    "interpolate_mode_sum = InterpolatedModeSum(force_backend=\"cuda12x\")\n",
    "ylm_gen = GetYlms(include_minus_m=False, force_backend=\"cuda12x\")"
   ]
  },
  {
   "cell_type": "code",
   "execution_count": 5,
   "id": "e370c191",
   "metadata": {},
   "outputs": [],
   "source": [
    "#Generating data (true)\n",
    "\n",
    "m1_o = 1e6\n",
    "m2_o = 1e1\n",
    "a_o = 0.5\n",
    "p0_o = 9.5\n",
    "e0_o = 0.2\n",
    "xI_o = 1.0\n",
    "theta_o = np.pi/3  # polar viewing angle\n",
    "phi_o = np.pi/4  # azimuthal viewing angle\n",
    "dist = 1 # Gpc"
   ]
  },
  {
   "cell_type": "code",
   "execution_count": 6,
   "id": "254afb23",
   "metadata": {},
   "outputs": [],
   "source": [
    "(t, p, e, x, Phi_phi, Phi_theta, Phi_r) = traj(m1_o, m2_o, a_o, p0_o, e0_o, xI_o, T=T, dt=delta_T, upsample=True) \n"
   ]
  },
  {
   "cell_type": "code",
   "execution_count": 7,
   "id": "6215b575",
   "metadata": {},
   "outputs": [],
   "source": [
    "# Generate mode frequencies\n",
    "OmegaPhi, OmegaTheta, OmegaR = get_fundamental_frequencies(a_o, p, e, x) #could use GPU here but im running to mismatch probs\n"
   ]
  },
  {
   "cell_type": "code",
   "execution_count": 8,
   "id": "3207db83",
   "metadata": {},
   "outputs": [],
   "source": [
    "# Get mode labels\n",
    "mode_labels = [f\"({l},{m},{n})\" for l,m,n in zip(amp.l_arr, amp.m_arr, amp.n_arr)]"
   ]
  },
  {
   "cell_type": "code",
   "execution_count": 9,
   "id": "3510b903",
   "metadata": {},
   "outputs": [],
   "source": [
    "l_cpu = amp.l_arr.get()\n",
    "m_cpu = amp.m_arr.get()\n",
    "n_cpu = amp.n_arr.get()"
   ]
  },
  {
   "cell_type": "code",
   "execution_count": 10,
   "id": "6f6ea31f",
   "metadata": {},
   "outputs": [],
   "source": [
    "gw_frequencies_per_mode = []\n",
    "\n",
    "for idx in range(len(mode_labels)):\n",
    "    # TODO: do convert this so everything is in either CPU/GPU?\n",
    "    # l = amp.l_arr[idx]\n",
    "    # m = amp.m_arr[idx] \n",
    "    # n = amp.n_arr[idx]\n",
    "    \n",
    "    l = l_cpu[idx]\n",
    "    m = m_cpu[idx] \n",
    "    n = n_cpu[idx]\n",
    "    \n",
    "    # Calculate GW frequencies\n",
    "    # k = 0 for equatorial case\n",
    "    f_gw = m * OmegaPhi + n * OmegaR\n",
    "    \n",
    "    gw_frequencies_per_mode.append(f_gw)# Generate mode frequencies"
   ]
  },
  {
   "cell_type": "code",
   "execution_count": 11,
   "id": "0cc2d4a8",
   "metadata": {},
   "outputs": [],
   "source": [
    "gw_phase_per_mode = []\n",
    "for idx in range(len(mode_labels)):\n",
    "    # l = amp.l_arr[idx]\n",
    "    # m = amp.m_arr[idx] \n",
    "    # n = amp.n_arr[idx]\n",
    "\n",
    "    l = l_cpu[idx]\n",
    "    m = m_cpu[idx] \n",
    "    n = n_cpu[idx]\n",
    "    \n",
    "    # Calculate GW phases per mode\n",
    "    phi_mode = m * Phi_phi + n * Phi_r\n",
    "    \n",
    "    gw_phase_per_mode.append(phi_mode)"
   ]
  },
  {
   "cell_type": "code",
   "execution_count": 12,
   "id": "15acf856",
   "metadata": {},
   "outputs": [],
   "source": [
    "gwf = GWfuncs.GravWaveAnalysis(T, dt)\n",
    "factor = gwf.dist_factor(dist, m2_o)"
   ]
  },
  {
   "cell_type": "code",
   "execution_count": 13,
   "id": "8a0f8db2",
   "metadata": {},
   "outputs": [],
   "source": [
    "# Get amplitudes along trajectory\n",
    "teuk_modes = amp(a_o, p, e, x)\n",
    "\n",
    "# Get Ylms\n",
    "ylms = ylm_gen(amp.unique_l, amp.unique_m, theta_o, phi_o).copy()[amp.inverse_lm]"
   ]
  },
  {
   "cell_type": "code",
   "execution_count": 14,
   "id": "e9771043",
   "metadata": {},
   "outputs": [],
   "source": [
    "mode_selector = GWfuncs.ModeSelector(teuk_modes=teuk_modes, amp=amp, gw_frequencies=gw_frequencies_per_mode, gw_phases= gw_phase_per_mode, delta_T=delta_T, factor=factor, gwf=gwf)"
   ]
  },
  {
   "cell_type": "code",
   "execution_count": 17,
   "id": "ab5079dc",
   "metadata": {},
   "outputs": [],
   "source": [
    "m0mask = amp.m_arr_no_mask != 0\n",
    "\n",
    "total_power = gwf.calc_power(teuk_modes, ylms, m0mask)\n",
    "total_power_cpu = total_power.get()\n",
    "M_mode = 50\n",
    "mp = list(zip(mode_labels, total_power_cpu)) \n",
    "# Sort by power and pick top M modes\n",
    "mp_sorted = sorted(mp, key=lambda x: x[1], reverse=True)[:M_mode]\n",
    "mp_modes = [x[0] for x in mp_sorted]\n",
    "mp_power = [x[1] for x in mp_sorted]"
   ]
  },
  {
   "cell_type": "code",
   "execution_count": 25,
   "id": "291dfed1",
   "metadata": {},
   "outputs": [
    {
     "data": {
      "text/plain": [
       "array([4.08525776e-37, 4.28041674e-36, 7.86661176e-37, ...,\n",
       "       4.55514865e-32, 4.55659483e-33, 6.53330001e-32])"
      ]
     },
     "execution_count": 25,
     "metadata": {},
     "output_type": "execute_result"
    }
   ],
   "source": [
    "total_power_cpu"
   ]
  },
  {
   "cell_type": "code",
   "execution_count": 24,
   "id": "c8d407d3",
   "metadata": {},
   "outputs": [
    {
     "data": {
      "text/plain": [
       "['(2,2,0)',\n",
       " '(2,2,1)',\n",
       " '(2,2,-1)',\n",
       " '(3,3,0)',\n",
       " '(3,3,1)',\n",
       " '(2,2,2)',\n",
       " '(3,3,-1)',\n",
       " '(2,1,0)',\n",
       " '(2,-2,0)',\n",
       " '(3,3,2)',\n",
       " '(4,4,1)',\n",
       " '(2,-2,1)',\n",
       " '(2,2,3)',\n",
       " '(4,4,2)',\n",
       " '(4,4,-1)',\n",
       " '(4,4,0)',\n",
       " '(2,1,1)',\n",
       " '(3,3,3)',\n",
       " '(2,-1,0)',\n",
       " '(2,-2,-1)',\n",
       " '(3,-3,0)',\n",
       " '(4,4,3)',\n",
       " '(3,-3,1)',\n",
       " '(5,5,1)',\n",
       " '(5,5,2)',\n",
       " '(2,-2,2)',\n",
       " '(3,3,-2)',\n",
       " '(3,2,0)',\n",
       " '(2,0,-1)',\n",
       " '(2,0,1)',\n",
       " '(2,2,-2)',\n",
       " '(5,5,-1)',\n",
       " '(2,-1,1)',\n",
       " '(3,-3,-1)',\n",
       " '(2,2,4)',\n",
       " '(3,-2,0)',\n",
       " '(3,3,4)',\n",
       " '(5,5,3)',\n",
       " '(4,4,-2)',\n",
       " '(3,2,1)',\n",
       " '(2,1,2)',\n",
       " '(3,-3,2)',\n",
       " '(4,4,4)',\n",
       " '(3,-2,1)',\n",
       " '(4,-4,1)',\n",
       " '(6,6,2)',\n",
       " '(3,-1,0)',\n",
       " '(5,5,0)',\n",
       " '(5,5,-2)',\n",
       " '(5,5,4)']"
      ]
     },
     "execution_count": 24,
     "metadata": {},
     "output_type": "execute_result"
    }
   ],
   "source": [
    "mp_modes  "
   ]
  },
  {
   "cell_type": "code",
   "execution_count": 23,
   "id": "d0ab26af",
   "metadata": {},
   "outputs": [
    {
     "data": {
      "text/plain": [
       "[16.46865454281919,\n",
       " 4.7659650803333635,\n",
       " 1.6149074449428453,\n",
       " 0.8744987496064003,\n",
       " 0.7455900716447382,\n",
       " 0.5921394976477974,\n",
       " 0.30108583364716474,\n",
       " 0.2571023073351396,\n",
       " 0.2033167227508538,\n",
       " 0.19174712260722634,\n",
       " 0.090217497140162,\n",
       " 0.05883907506584388,\n",
       " 0.051272646093899504,\n",
       " 0.04279540086729234,\n",
       " 0.041540387660283465,\n",
       " 0.036454457995534185,\n",
       " 0.03441100904914794,\n",
       " 0.02943256425259565,\n",
       " 0.028566923037237707,\n",
       " 0.019937128949911634,\n",
       " 0.010796280859338255,\n",
       " 0.01061118176842318,\n",
       " 0.00920481569931774,\n",
       " 0.008806627853982597,\n",
       " 0.007459687813974337,\n",
       " 0.007310364168491313,\n",
       " 0.0068617440112591094,\n",
       " 0.005838009764159505,\n",
       " 0.005103348229327582,\n",
       " 0.005103348229327582,\n",
       " 0.005096134411909705,\n",
       " 0.004651485811924386,\n",
       " 0.003823445449905324,\n",
       " 0.0037171090573723978,\n",
       " 0.003623935359153703,\n",
       " 0.003531635536343405,\n",
       " 0.003351229358929294,\n",
       " 0.002841108432008705,\n",
       " 0.00275611963570477,\n",
       " 0.002735971380782294,\n",
       " 0.0023851344064042884,\n",
       " 0.0023672484272497037,\n",
       " 0.0018110292439100272,\n",
       " 0.0016550937982510172,\n",
       " 0.0011137962609896529,\n",
       " 0.0010657323407201199,\n",
       " 0.0009224723026646556,\n",
       " 0.0007553810898017559,\n",
       " 0.0006975843229086911,\n",
       " 0.0006943073715301155]"
      ]
     },
     "execution_count": 23,
     "metadata": {},
     "output_type": "execute_result"
    }
   ],
   "source": [
    "mp_power"
   ]
  },
  {
   "cell_type": "code",
   "execution_count": 21,
   "id": "54484b35",
   "metadata": {},
   "outputs": [
    {
     "data": {
      "image/png": "[encoded data removed]",
      "text/plain": [
       "<Figure size 640x480 with 1 Axes>"
      ]
     },
     "metadata": {},
     "output_type": "display_data"
    }
   ],
   "source": [
    "plt.plot(mp_modes, mp_power, marker='o', linestyle='-', color='b')\n",
    "plt.yscale('log')\n",
    "plt.show()"
   ]
  },
  {
   "cell_type": "code",
   "execution_count": 18,
   "id": "db5c806d",
   "metadata": {},
   "outputs": [
    {
     "name": "stdout",
     "output_type": "stream",
     "text": [
      "Step 0: Selected strongest mode h_0: (2,2,0) with power value 1.6469e+01\n",
      "Using power inner product calculation.\n",
      "Inner product: 819.181596\n",
      "\n",
      "--- Iteration 1 ---\n",
      "Currently have 1 selected modes, target is 10\n",
      "Candidate mode h_j': (2,2,1) with power value 4.7660e+00\n",
      "  Calculating inner product with selected mode [1165] and hj_prime_idx: 1166\n",
      "0.0021594627596660163\n",
      "  calc_inner with selected mode 0 ((2,2,0)): 0.002159\n",
      "  ACCEPTED: Max inner product 0.002159 < 0.01\n",
      "  Added mode: (2,2,1) (Total selected: 2)\n",
      "\n",
      "--- Iteration 2 ---\n",
      "Currently have 2 selected modes, target is 10\n",
      "Candidate mode h_j': (2,2,-1) with power value 1.6149e+00\n",
      "  Calculating inner product with selected mode [1165] and hj_prime_idx: 1164\n",
      "0.0021440787661995133\n",
      "  calc_inner with selected mode 0 ((2,2,0)): 0.002144\n",
      "  Calculating inner product with selected mode [1166] and hj_prime_idx: 1164\n",
      "0.00231434865538158\n",
      "  calc_inner with selected mode 1 ((2,2,1)): 0.002314\n",
      "  ACCEPTED: Max inner product 0.002314 < 0.01\n",
      "  Added mode: (2,2,-1) (Total selected: 3)\n",
      "\n",
      "--- Iteration 3 ---\n",
      "Currently have 3 selected modes, target is 10\n",
      "Candidate mode h_j': (3,3,0) with power value 8.7450e-01\n",
      "  Calculating inner product with selected mode [1165] and hj_prime_idx: 1498\n",
      "0.000357858701810566\n",
      "  calc_inner with selected mode 0 ((2,2,0)): 0.000358\n",
      "  Calculating inner product with selected mode [1166] and hj_prime_idx: 1498\n",
      "0.00031666779145708446\n",
      "  calc_inner with selected mode 1 ((2,2,1)): 0.000317\n",
      "  Calculating inner product with selected mode [1164] and hj_prime_idx: 1498\n",
      "0.0004930362813332653\n",
      "  calc_inner with selected mode 2 ((2,2,-1)): 0.000493\n",
      "  ACCEPTED: Max inner product 0.000493 < 0.01\n",
      "  Added mode: (3,3,0) (Total selected: 4)\n",
      "\n",
      "--- Iteration 4 ---\n",
      "Currently have 4 selected modes, target is 10\n",
      "Candidate mode h_j': (3,3,1) with power value 7.4559e-01\n",
      "  Calculating inner product with selected mode [1165] and hj_prime_idx: 1499\n",
      "0.0005054667492400171\n",
      "  calc_inner with selected mode 0 ((2,2,0)): 0.000505\n",
      "  Calculating inner product with selected mode [1166] and hj_prime_idx: 1499\n",
      "0.00046937457666803477\n",
      "  calc_inner with selected mode 1 ((2,2,1)): 0.000469\n",
      "  Calculating inner product with selected mode [1164] and hj_prime_idx: 1499\n",
      "0.000662271464781077\n",
      "  calc_inner with selected mode 2 ((2,2,-1)): 0.000662\n",
      "  Calculating inner product with selected mode [1498] and hj_prime_idx: 1499\n",
      "0.0019133078605032526\n",
      "  calc_inner with selected mode 3 ((3,3,0)): 0.001913\n",
      "  ACCEPTED: Max inner product 0.001913 < 0.01\n",
      "  Added mode: (3,3,1) (Total selected: 5)\n",
      "\n",
      "--- Iteration 5 ---\n",
      "Currently have 5 selected modes, target is 10\n",
      "Candidate mode h_j': (2,2,2) with power value 5.9214e-01\n",
      "  Calculating inner product with selected mode [1165] and hj_prime_idx: 1167\n",
      "0.0023389078493371916\n",
      "  calc_inner with selected mode 0 ((2,2,0)): 0.002339\n",
      "  Calculating inner product with selected mode [1166] and hj_prime_idx: 1167\n",
      "0.002534732803229374\n",
      "  calc_inner with selected mode 1 ((2,2,1)): 0.002535\n",
      "  Calculating inner product with selected mode [1164] and hj_prime_idx: 1167\n",
      "0.002503856857050944\n",
      "  calc_inner with selected mode 2 ((2,2,-1)): 0.002504\n",
      "  Calculating inner product with selected mode [1498] and hj_prime_idx: 1167\n",
      "0.00030014984636115893\n",
      "  calc_inner with selected mode 3 ((3,3,0)): 0.000300\n",
      "  Calculating inner product with selected mode [1499] and hj_prime_idx: 1167\n",
      "0.0004613219374346412\n",
      "  calc_inner with selected mode 4 ((3,3,1)): 0.000461\n",
      "  ACCEPTED: Max inner product 0.002535 < 0.01\n",
      "  Added mode: (2,2,2) (Total selected: 6)\n",
      "\n",
      "--- Iteration 6 ---\n",
      "Currently have 6 selected modes, target is 10\n",
      "Candidate mode h_j': (3,3,-1) with power value 3.0109e-01\n",
      "  Calculating inner product with selected mode [1165] and hj_prime_idx: 1497\n",
      "0.0002662418457964674\n",
      "  calc_inner with selected mode 0 ((2,2,0)): 0.000266\n",
      "  Calculating inner product with selected mode [1166] and hj_prime_idx: 1497\n",
      "0.00020790699704818387\n",
      "  calc_inner with selected mode 1 ((2,2,1)): 0.000208\n",
      "  Calculating inner product with selected mode [1164] and hj_prime_idx: 1497\n",
      "0.00040959574731627\n",
      "  calc_inner with selected mode 2 ((2,2,-1)): 0.000410\n",
      "  Calculating inner product with selected mode [1498] and hj_prime_idx: 1497\n",
      "0.0019347898939396325\n",
      "  calc_inner with selected mode 3 ((3,3,0)): 0.001935\n",
      "  Calculating inner product with selected mode [1499] and hj_prime_idx: 1497\n",
      "0.0021405794647814985\n",
      "  calc_inner with selected mode 4 ((3,3,1)): 0.002141\n",
      "  Calculating inner product with selected mode [1167] and hj_prime_idx: 1497\n",
      "0.00017646562404897615\n",
      "  calc_inner with selected mode 5 ((2,2,2)): 0.000176\n",
      "  ACCEPTED: Max inner product 0.002141 < 0.01\n",
      "  Added mode: (3,3,-1) (Total selected: 7)\n",
      "\n",
      "--- Iteration 7 ---\n",
      "Currently have 7 selected modes, target is 10\n",
      "Candidate mode h_j': (2,1,0) with power value 2.5710e-01\n",
      "  Calculating inner product with selected mode [1165] and hj_prime_idx: 1054\n",
      "0.00013613563855624159\n",
      "  calc_inner with selected mode 0 ((2,2,0)): 0.000136\n",
      "  Calculating inner product with selected mode [1166] and hj_prime_idx: 1054\n",
      "0.0002216225213703325\n",
      "  calc_inner with selected mode 1 ((2,2,1)): 0.000222\n",
      "  Calculating inner product with selected mode [1164] and hj_prime_idx: 1054\n",
      "3.1259497236007455e-05\n",
      "  calc_inner with selected mode 2 ((2,2,-1)): 0.000031\n",
      "  Calculating inner product with selected mode [1498] and hj_prime_idx: 1054\n",
      "0.0017290541240636817\n",
      "  calc_inner with selected mode 3 ((3,3,0)): 0.001729\n",
      "  Calculating inner product with selected mode [1499] and hj_prime_idx: 1054\n",
      "0.001891918674714351\n",
      "  calc_inner with selected mode 4 ((3,3,1)): 0.001892\n",
      "  Calculating inner product with selected mode [1167] and hj_prime_idx: 1054\n",
      "0.0002853070250052742\n",
      "  calc_inner with selected mode 5 ((2,2,2)): 0.000285\n",
      "  Calculating inner product with selected mode [1497] and hj_prime_idx: 1054\n",
      "0.001976249559120091\n",
      "  calc_inner with selected mode 6 ((3,3,-1)): 0.001976\n",
      "  ACCEPTED: Max inner product 0.001976 < 0.01\n",
      "  Added mode: (2,1,0) (Total selected: 8)\n",
      "\n",
      "--- Iteration 8 ---\n",
      "Currently have 8 selected modes, target is 10\n",
      "Candidate mode h_j': (2,-2,0) with power value 2.0332e-01\n",
      "  Calculating inner product with selected mode [1165] and hj_prime_idx: 7159\n",
      "0.0017144768590046501\n",
      "  calc_inner with selected mode 0 ((2,2,0)): 0.001714\n",
      "  Calculating inner product with selected mode [1166] and hj_prime_idx: 7159\n",
      "0.0018147511913103793\n",
      "  calc_inner with selected mode 1 ((2,2,1)): 0.001815\n",
      "  Calculating inner product with selected mode [1164] and hj_prime_idx: 7159\n",
      "0.0019022465201664787\n",
      "  calc_inner with selected mode 2 ((2,2,-1)): 0.001902\n",
      "  Calculating inner product with selected mode [1498] and hj_prime_idx: 7159\n",
      "0.0012400399186000206\n",
      "  calc_inner with selected mode 3 ((3,3,0)): 0.001240\n",
      "  Calculating inner product with selected mode [1499] and hj_prime_idx: 7159\n",
      "0.0014587795923959766\n",
      "  calc_inner with selected mode 4 ((3,3,1)): 0.001459\n",
      "  Calculating inner product with selected mode [1167] and hj_prime_idx: 7159\n",
      "0.0019414713051323267\n",
      "  calc_inner with selected mode 5 ((2,2,2)): 0.001941\n",
      "  Calculating inner product with selected mode [1497] and hj_prime_idx: 7159\n",
      "0.0012895414766237428\n",
      "  calc_inner with selected mode 6 ((3,3,-1)): 0.001290\n",
      "  Calculating inner product with selected mode [1054] and hj_prime_idx: 7159\n",
      "0.0008689022782971374\n",
      "  calc_inner with selected mode 7 ((2,1,0)): 0.000869\n",
      "  ACCEPTED: Max inner product 0.001941 < 0.01\n",
      "  Added mode: (2,-2,0) (Total selected: 9)\n",
      "\n",
      "--- Iteration 9 ---\n",
      "Currently have 9 selected modes, target is 10\n",
      "Candidate mode h_j': (3,3,2) with power value 1.9175e-01\n",
      "  Calculating inner product with selected mode [1165] and hj_prime_idx: 1500\n",
      "0.0006440695698842683\n",
      "  calc_inner with selected mode 0 ((2,2,0)): 0.000644\n",
      "  Calculating inner product with selected mode [1166] and hj_prime_idx: 1500\n",
      "0.0006132416797477719\n",
      "  calc_inner with selected mode 1 ((2,2,1)): 0.000613\n",
      "  Calculating inner product with selected mode [1164] and hj_prime_idx: 1500\n",
      "0.0008204455805502403\n",
      "  calc_inner with selected mode 2 ((2,2,-1)): 0.000820\n",
      "  Calculating inner product with selected mode [1498] and hj_prime_idx: 1500\n",
      "0.0020805551440206327\n",
      "  calc_inner with selected mode 3 ((3,3,0)): 0.002081\n",
      "  Calculating inner product with selected mode [1499] and hj_prime_idx: 1500\n",
      "0.0023219743292664913\n",
      "  calc_inner with selected mode 4 ((3,3,1)): 0.002322\n",
      "  Calculating inner product with selected mode [1167] and hj_prime_idx: 1500\n",
      "0.000613467558005943\n",
      "  calc_inner with selected mode 5 ((2,2,2)): 0.000613\n",
      "  Calculating inner product with selected mode [1497] and hj_prime_idx: 1500\n",
      "0.002321035193777753\n",
      "  calc_inner with selected mode 6 ((3,3,-1)): 0.002321\n",
      "  Calculating inner product with selected mode [1054] and hj_prime_idx: 1500\n",
      "0.0020329729794133404\n",
      "  calc_inner with selected mode 7 ((2,1,0)): 0.002033\n",
      "  Calculating inner product with selected mode [7159] and hj_prime_idx: 1500\n",
      "0.0016578579621587155\n",
      "  calc_inner with selected mode 8 ((2,-2,0)): 0.001658\n",
      "  ACCEPTED: Max inner product 0.002322 < 0.01\n",
      "  Added mode: (3,3,2) (Total selected: 10)\n",
      "\n",
      "Reached target of 10 selected modes.\n",
      "\n",
      "==================================================\n",
      "STEP 2: Processing remaining modes as h_M\n",
      "==================================================\n",
      "There are 40 remaining modes to combine into h_M\n",
      "Remaining modes: ['(4,4,1)', '(2,-2,1)', '(2,2,3)', '(4,4,2)', '(4,4,-1)', '(4,4,0)', '(2,1,1)', '(3,3,3)', '(2,-1,0)', '(2,-2,-1)', '(3,-3,0)', '(4,4,3)', '(3,-3,1)', '(5,5,1)', '(5,5,2)', '(2,-2,2)', '(3,3,-2)', '(3,2,0)', '(2,0,-1)', '(2,0,1)', '(2,2,-2)', '(5,5,-1)', '(2,-1,1)', '(3,-3,-1)', '(2,2,4)', '(3,-2,0)', '(3,3,4)', '(5,5,3)', '(4,4,-2)', '(3,2,1)', '(2,1,2)', '(3,-3,2)', '(4,4,4)', '(3,-2,1)', '(4,-4,1)', '(6,6,2)', '(3,-1,0)', '(5,5,0)', '(5,5,-2)', '(5,5,4)']\n",
      "Condition 1: <h_M|h_M> = 737.229858 > 1? True\n",
      "  <h_0|h_M> = 26.804024\n",
      "  <h_1|h_M> = 6.027166\n",
      "  <h_2|h_M> = -0.549077\n",
      "  <h_3|h_M> = 0.218139\n",
      "  <h_4|h_M> = 0.188918\n",
      "  <h_5|h_M> = 0.131897\n",
      "  <h_6|h_M> = -0.179925\n",
      "  <h_7|h_M> = -0.294522\n",
      "  <h_8|h_M> = -23.985269\n",
      "  <h_9|h_M> = 0.090301\n",
      "Condition 2: max inner = 26.804024 < 0.01? False\n",
      "\n",
      "Decision for h_M:\n",
      "  COMBINED h_M: Condition 1 satisfied, Condition 2 violated\n",
      "  Most correlated with: (2,2,0)\n",
      "  Combined h_M with: (2,2,0)\n",
      "\n",
      "Reached target of 10 selected modes.\n",
      "\n",
      "==================================================\n",
      "FINAL INNER PRODUCTS OF SELECTED MODES:\n",
      "==================================================\n",
      "  <h_0|h_0> = 1610.019503 | (2,2,0) + 40 modes: ['(4,4,1)', '(2,-2,1)', '(2,2,3)', '(4,4,2)', '(4,4,-1)', '(4,4,0)', '(2,1,1)', '(3,3,3)', '(2,-1,0)', '(2,-2,-1)', '(3,-3,0)', '(4,4,3)', '(3,-3,1)', '(5,5,1)', '(5,5,2)', '(2,-2,2)', '(3,3,-2)', '(3,2,0)', '(2,0,-1)', '(2,0,1)', '(2,2,-2)', '(5,5,-1)', '(2,-1,1)', '(3,-3,-1)', '(2,2,4)', '(3,-2,0)', '(3,3,4)', '(5,5,3)', '(4,4,-2)', '(3,2,1)', '(2,1,2)', '(3,-3,2)', '(4,4,4)', '(3,-2,1)', '(4,-4,1)', '(6,6,2)', '(3,-1,0)', '(5,5,0)', '(5,5,-2)', '(5,5,4)']\n",
      "  <h_1|h_1> = 139.950534 | (2,2,1)\n",
      "  <h_2|h_2> = 164.115597 | (2,2,-1)\n",
      "  <h_3|h_3> = 12.911052 | (3,3,0)\n",
      "  <h_4|h_4> = 7.549751 | (3,3,1)\n",
      "  <h_5|h_5> = 11.438949 | (2,2,2)\n",
      "  <h_6|h_6> = 7.327200 | (3,3,-1)\n",
      "  <h_7|h_7> = 28.957758 | (2,1,0)\n",
      "  <h_8|h_8> = 819.181596 | (2,-2,0)\n",
      "  <h_9|h_9> = 1.413813 | (3,3,2)\n",
      "\n",
      "Total final inner product: 2802.865752\n",
      "Square root of total: 52.942098\n",
      "\n",
      "==================================================\n",
      "COMBINATION BREAKDOWN:\n",
      "==================================================\n",
      "Selected mode 0 ((2,2,0)):\n",
      "  Combined with 40 modes: ['(4,4,1)', '(2,-2,1)', '(2,2,3)', '(4,4,2)', '(4,4,-1)', '(4,4,0)', '(2,1,1)', '(3,3,3)', '(2,-1,0)', '(2,-2,-1)', '(3,-3,0)', '(4,4,3)', '(3,-3,1)', '(5,5,1)', '(5,5,2)', '(2,-2,2)', '(3,3,-2)', '(3,2,0)', '(2,0,-1)', '(2,0,1)', '(2,2,-2)', '(5,5,-1)', '(2,-1,1)', '(3,-3,-1)', '(2,2,4)', '(3,-2,0)', '(3,3,4)', '(5,5,3)', '(4,4,-2)', '(3,2,1)', '(2,1,2)', '(3,-3,2)', '(4,4,4)', '(3,-2,1)', '(4,-4,1)', '(6,6,2)', '(3,-1,0)', '(5,5,0)', '(5,5,-2)', '(5,5,4)']\n",
      "Selected mode 1 ((2,2,1)): No combinations\n",
      "Selected mode 2 ((2,2,-1)): No combinations\n",
      "Selected mode 3 ((3,3,0)): No combinations\n",
      "Selected mode 4 ((3,3,1)): No combinations\n",
      "Selected mode 5 ((2,2,2)): No combinations\n",
      "Selected mode 6 ((3,3,-1)): No combinations\n",
      "Selected mode 7 ((2,1,0)): No combinations\n",
      "Selected mode 8 ((2,-2,0)): No combinations\n",
      "Selected mode 9 ((3,3,2)): No combinations\n",
      "\n",
      "==================================================\n",
      "COMBINATION SUMMARY:\n",
      "==================================================\n",
      "Rejected modes combined: 0\n",
      "Remaining modes combined into h_M: 39\n",
      "h_M combined with selected: 1\n",
      "TOTAL COMBINATIONS: 40\n"
     ]
    }
   ],
   "source": [
    "selected_modes, selected_indices, selected_labels, counts, final_ips = mode_selector.select_modes_power(\n",
    "    power_values=mp_power, mode_labels=mp_modes, original_mode_labels=mode_labels, M_sel=10, inner_threshold=0.01\n",
    ")"
   ]
  },
  {
   "cell_type": "code",
   "execution_count": 26,
   "id": "5994a1f1",
   "metadata": {},
   "outputs": [
    {
     "data": {
      "text/plain": [
       "array([[ 1.55001444e-19-1.17375858e-19j, -5.10407779e-19+2.23870615e-19j,\n",
       "        -4.01495449e-19-1.41155523e-19j, ...,\n",
       "        -3.19075120e-16-2.84958141e-16j,  3.73706358e-17-1.00998204e-16j,\n",
       "        -6.49495176e-16+6.16414410e-16j],\n",
       "       [ 1.54321285e-19-1.16800190e-19j, -5.11539879e-19+2.24795711e-19j,\n",
       "        -3.98992159e-19-1.39659015e-19j, ...,\n",
       "        -3.19828954e-16-2.87772164e-16j,  3.76958783e-17-1.01696628e-16j,\n",
       "        -6.46055613e-16+6.14980894e-16j],\n",
       "       [ 1.53630749e-19-1.16220834e-19j, -5.12641706e-19+2.25704781e-19j,\n",
       "        -3.96475881e-19-1.38158373e-19j, ...,\n",
       "        -3.20552137e-16-2.90564482e-16j,  3.80173457e-17-1.02385336e-16j,\n",
       "        -6.42573868e-16+6.13511168e-16j],\n",
       "       ...,\n",
       "       [ 2.63993836e-20+4.63176292e-21j,  4.49835125e-20-7.28143936e-21j,\n",
       "        -1.23467946e-20+2.29361687e-22j, ...,\n",
       "         7.79997761e-18-5.81217781e-17j, -3.73822751e-18-1.50127120e-17j,\n",
       "         3.11362799e-17+1.41093742e-17j],\n",
       "       [ 2.53478014e-20+4.59270345e-21j,  4.37523201e-20-7.22022491e-21j,\n",
       "        -1.19414761e-20+2.32837083e-22j, ...,\n",
       "         6.94470000e-18-5.71612827e-17j, -4.12018565e-18-1.41802819e-17j,\n",
       "         3.08236042e-17+1.33188251e-17j],\n",
       "       [ 2.43140093e-20+4.55224706e-21j,  4.25345163e-20-7.15702078e-21j,\n",
       "        -1.15415685e-20+2.35435645e-22j, ...,\n",
       "         6.10499108e-18-5.61873513e-17j, -4.48796092e-18-1.33657007e-17j,\n",
       "         3.04985133e-17+1.25403519e-17j]])"
      ]
     },
     "execution_count": 26,
     "metadata": {},
     "output_type": "execute_result"
    }
   ],
   "source": [
    "teuk_modes"
   ]
  },
  {
   "cell_type": "code",
   "execution_count": 27,
   "id": "aac9b258",
   "metadata": {},
   "outputs": [
    {
     "data": {
      "text/plain": [
       "array([2.89705652e-01+0.j        , 2.89705652e-01+0.j        ,\n",
       "       2.89705652e-01+0.j        , ..., 1.08511120e-17-0.03544242j,\n",
       "       1.08511120e-17-0.03544242j, 1.08511120e-17-0.03544242j])"
      ]
     },
     "execution_count": 27,
     "metadata": {},
     "output_type": "execute_result"
    }
   ],
   "source": [
    "ylms"
   ]
  },
  {
   "cell_type": "code",
   "execution_count": 28,
   "id": "373634e6",
   "metadata": {},
   "outputs": [
    {
     "data": {
      "text/plain": [
       "(500, 6993)"
      ]
     },
     "execution_count": 28,
     "metadata": {},
     "output_type": "execute_result"
    }
   ],
   "source": [
    "teuk_modes.shape"
   ]
  },
  {
   "cell_type": "code",
   "execution_count": 29,
   "id": "58422bdc",
   "metadata": {},
   "outputs": [
    {
     "data": {
      "text/plain": [
       "(63116.29952709119, 1)"
      ]
     },
     "execution_count": 29,
     "metadata": {},
     "output_type": "execute_result"
    }
   ],
   "source": [
    "delta_T, T"
   ]
  },
  {
   "cell_type": "code",
   "execution_count": null,
   "id": "9a3b3ff5",
   "metadata": {},
   "outputs": [],
   "source": []
  }
 ],
 "metadata": {
  "kernelspec": {
   "display_name": "FEW Separate Modes (CUDA 12.x)",
   "language": "python",
   "name": "fewsm"
  },
  "language_info": {
   "codemirror_mode": {
    "name": "ipython",
    "version": 3
   },
   "file_extension": ".py",
   "mimetype": "text/x-python",
   "name": "python",
   "nbconvert_exporter": "python",
   "pygments_lexer": "ipython3",
   "version": "3.12.11"
  }
 },
 "nbformat": 4,
 "nbformat_minor": 5
}
