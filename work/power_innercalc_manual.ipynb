{
 "cells": [
  {
   "cell_type": "markdown",
   "id": "296d9986",
   "metadata": {},
   "source": [
    "# Import and setup"
   ]
  },
  {
   "cell_type": "code",
   "execution_count": 1,
   "id": "65355769",
   "metadata": {},
   "outputs": [],
   "source": [
    "import numpy as np\n",
    "import matplotlib.pyplot as plt\n",
    "\n",
    "import few\n",
    "\n",
    "from few.trajectory.inspiral import EMRIInspiral\n",
    "from few.trajectory.ode import SchwarzEccFlux, KerrEccEqFlux\n",
    "# from few.amplitude.romannet import RomanAmplitude\n",
    "from few.amplitude.ampinterp2d import AmpInterpKerrEccEq\n",
    "from few.summation.interpolatedmodesum import InterpolatedModeSum\n",
    "\n",
    "\n",
    "from few.utils.ylm import GetYlms\n",
    "from few.utils.modeselector import ModeSelector\n",
    "from few.summation.interpolatedmodesum import CubicSplineInterpolant\n",
    "from few import get_file_manager\n",
    "\n",
    "from few.waveform import (\n",
    "    FastKerrEccentricEquatorialFlux,\n",
    "    FastSchwarzschildEccentricFlux, \n",
    "    SlowSchwarzschildEccentricFlux, \n",
    "    Pn5AAKWaveform,\n",
    "    GenerateEMRIWaveform\n",
    ")\n",
    "\n",
    "from few.utils.geodesic import get_fundamental_frequencies\n",
    "\n",
    "import GWfuncs\n",
    "import gc\n",
    "import pickle\n",
    "import os\n",
    "import cupy as cp\n",
    "import multiprocessing as mp\n",
    "from multiprocessing import Queue, Process\n",
    "from functools import partial\n",
    "from SNR_tutorial_utils import LISA_Noise\n",
    "from lisatools.sensitivity import *\n",
    "\n",
    "from few.utils.constants import YRSID_SI, Gpc, MRSUN_SI\n",
    "\n",
    "\n",
    "\n",
    "# import pandas as pd\n",
    "# tune few configuration\n",
    "cfg_set = few.get_config_setter(reset=True)\n",
    "cfg_set.set_log_level(\"info\");"
   ]
  },
  {
   "cell_type": "code",
   "execution_count": 2,
   "id": "0dd53d2d",
   "metadata": {},
   "outputs": [
    {
     "name": "stdout",
     "output_type": "stream",
     "text": [
      " - Backend 'cpu': available\n",
      " - Backend 'cuda11x': unavailable\n",
      " - Backend 'cuda12x': available\n",
      " - Backend 'cuda': available\n",
      " - Backend 'gpu': available\n"
     ]
    }
   ],
   "source": [
    "for backend in [\"cpu\", \"cuda11x\", \"cuda12x\", \"cuda\", \"gpu\"]: \n",
    "    print(f\" - Backend '{backend}': {\"available\" if few.has_backend(backend) else \"unavailable\"}\")  "
   ]
  },
  {
   "cell_type": "code",
   "execution_count": 3,
   "id": "29c9f6f0",
   "metadata": {},
   "outputs": [],
   "source": [
    "# Parameters\n",
    "m1 = 1e6 #M\n",
    "m2 = 1e1 #mu\n",
    "a = 0.5\n",
    "p0 = 9.5\n",
    "e0 = 0.2\n",
    "theta = np.pi / 3.0 \n",
    "phi = np.pi / 4.0  \n",
    "dt = 10.0\n",
    "T = 1\n",
    "xI0 = 1.0 \n",
    "#in the paper xI0 = 0.866, but that would be non-equatorial case\n",
    "\n",
    "use_gpu = True \n",
    "traj = EMRIInspiral(func=KerrEccEqFlux, force_backend=\"cuda12x\", use_gpu=use_gpu) #theres npoints flag here\n",
    "amp = AmpInterpKerrEccEq(force_backend=\"cuda12x\") # default lmax=10, nmax=55\n",
    "interpolate_mode_sum = InterpolatedModeSum(force_backend=\"cuda12x\")\n",
    "ylm_gen = GetYlms(include_minus_m=False, force_backend=\"cuda12x\")"
   ]
  },
  {
   "cell_type": "markdown",
   "id": "ede27aac",
   "metadata": {},
   "source": [
    "# Generate waveform"
   ]
  },
  {
   "cell_type": "code",
   "execution_count": 4,
   "id": "a971b42a-6f91-43ee-8365-f4626df48ddc",
   "metadata": {},
   "outputs": [
    {
     "data": {
      "text/plain": [
       "6311.629952709119"
      ]
     },
     "execution_count": 4,
     "metadata": {},
     "output_type": "execute_result"
    }
   ],
   "source": [
    "delta_T = T*YRSID_SI/5000 # change amount of points here \n",
    "# im using 5000 as an extreme example to show the NaNs and non-zero values of the resulting waveform \n",
    "# for lower amount of points, the NaNs dominate\n",
    "delta_T "
   ]
  },
  {
   "cell_type": "code",
   "execution_count": 5,
   "id": "aa6a79b0",
   "metadata": {},
   "outputs": [],
   "source": [
    "# %%time \n",
    "# # Calc trajectory\n",
    "# (t, p, e, x, Phi_phi, Phi_theta, Phi_r) = traj(m1, m2, a, p0, e0, xI0, T=T, dt=delta_T, upsample=True)#upsampling=True, fix_t=True\n",
    "\n",
    "# # Get amplitudes along trajectory\n",
    "# teuk_modes = amp(a, p, e, x)\n",
    "\n",
    "# # Get Ylms\n",
    "# ylms = ylm_gen(amp.unique_l, amp.unique_m, theta, phi).copy()[amp.inverse_lm]\n",
    "\n",
    "# cp.cuda.Stream.null.synchronize()"
   ]
  },
  {
   "cell_type": "code",
   "execution_count": 6,
   "id": "c9e72e42-0396-44b5-aba2-d55f9c310935",
   "metadata": {},
   "outputs": [
    {
     "name": "stdout",
     "output_type": "stream",
     "text": [
      "CPU times: user 15.5 s, sys: 236 ms, total: 15.7 s\n",
      "Wall time: 16 s\n"
     ]
    }
   ],
   "source": [
    "%%time \n",
    "# Calc trajectory\n",
    "\n",
    "# with upsampling -> creates effect of dense stepping\n",
    "# do consider if fix_T is needed \n",
    "(t_u, p_u, e_u, x_u, Phi_phi_u, Phi_theta_u, Phi_r_u) = traj(m1, m2, a, p0, e0, xI0, T=T, dt=delta_T, upsample=True) \n",
    "spline_t_u = traj.integrator_spline_t.copy()  \n",
    "spline_coeff_u = traj.integrator_spline_phase_coeff[:, [0, 2]].copy()\n",
    "\n",
    "# without upsampling (default case)\n",
    "(t_f, p_f, e_f, x_f, Phi_phi_f, Phi_theta_f, Phi_r_f) = traj(m1, m2, a, p0, e0, xI0, T=T, dt=dt)\n",
    "spline_t_f = traj.integrator_spline_t.copy() \n",
    "spline_coeff_f = traj.integrator_spline_phase_coeff[:, [0, 2]].copy()\n",
    "\n",
    "# Get amplitudes along trajectory\n",
    "teuk_modes_u = amp(a, p_u, e_u, x_u)\n",
    "teuk_modes_f = amp(a, p_f, e_f, x_f)\n",
    "\n",
    "# Get Ylms\n",
    "ylms = ylm_gen(amp.unique_l, amp.unique_m, theta, phi).copy()[amp.inverse_lm]\n",
    "\n",
    "cp.cuda.Stream.null.synchronize()"
   ]
  },
  {
   "cell_type": "code",
   "execution_count": 7,
   "id": "6509e69f-88e2-4193-be2a-a344a448e5f0",
   "metadata": {},
   "outputs": [
    {
     "data": {
      "text/plain": [
       "[<matplotlib.lines.Line2D at 0x1553883caa50>]"
      ]
     },
     "execution_count": 7,
     "metadata": {},
     "output_type": "execute_result"
    },
    {
     "data": {
      "image/png": "[encoded data removed]",
      "text/plain": [
       "<Figure size 640x480 with 1 Axes>"
      ]
     },
     "metadata": {},
     "output_type": "display_data"
    }
   ],
   "source": [
    "plt.plot(np.diff(t_u))"
   ]
  },
  {
   "cell_type": "code",
   "execution_count": 8,
   "id": "a0854378-9262-4a3d-a5f7-b2c2fdb690fb",
   "metadata": {},
   "outputs": [
    {
     "data": {
      "text/plain": [
       "array(0)"
      ]
     },
     "execution_count": 8,
     "metadata": {},
     "output_type": "execute_result"
    }
   ],
   "source": [
    "np.sum(np.isnan(teuk_modes_u[:,0]))"
   ]
  },
  {
   "cell_type": "code",
   "execution_count": 9,
   "id": "418f7ef9-72f6-415d-92fa-92c326e68c6e",
   "metadata": {},
   "outputs": [
    {
     "data": {
      "text/plain": [
       "array([1.55001444e-19-1.17375858e-19j, 1.54933897e-19-1.17318459e-19j,\n",
       "       1.54866246e-19-1.17261023e-19j, ...,\n",
       "       2.36011202e-20+4.52308678e-21j, 2.35000105e-20+4.51886407e-21j,\n",
       "       2.33990847e-20+4.51462707e-21j], shape=(5000,))"
      ]
     },
     "execution_count": 9,
     "metadata": {},
     "output_type": "execute_result"
    }
   ],
   "source": [
    "teuk_modes_u[:,0]"
   ]
  },
  {
   "cell_type": "code",
   "execution_count": 10,
   "id": "e5df8184-b744-4144-ae5a-4117bd092087",
   "metadata": {},
   "outputs": [
    {
     "data": {
      "text/plain": [
       "array([ 1.55001444e-19-1.17375858e-19j,  1.54798968e-19-1.17203955e-19j,\n",
       "        1.54123326e-19-1.16633588e-19j,  1.52351163e-19-1.15160112e-19j,\n",
       "        1.46550711e-19-1.10533080e-19j,  1.19732401e-19-9.16095938e-20j,\n",
       "       -5.01628811e-21-1.56952967e-20j,  6.00353032e-20+6.04473866e-21j,\n",
       "        1.44892131e-19+5.24876564e-21j,  6.87672730e-20+5.27233384e-21j,\n",
       "        2.32983432e-20+4.51037577e-21j])"
      ]
     },
     "execution_count": 10,
     "metadata": {},
     "output_type": "execute_result"
    }
   ],
   "source": [
    "teuk_modes_f[:,0]"
   ]
  },
  {
   "cell_type": "code",
   "execution_count": 11,
   "id": "232b6d7f",
   "metadata": {},
   "outputs": [],
   "source": [
    "# %%time\n",
    "\n",
    "# t_gpu = cp.asarray(t)\n",
    "\n",
    "# # need to prepare arrays for sum with all modes due to +/- m setup\n",
    "# ls = amp.l_arr[: teuk_modes.shape[1]]\n",
    "# ms = amp.m_arr[: teuk_modes.shape[1]]\n",
    "# ns = amp.n_arr[: teuk_modes.shape[1]]\n",
    "\n",
    "# keep_modes = np.arange(teuk_modes.shape[1])\n",
    "# temp2 = keep_modes * (keep_modes < amp.num_m0) + (keep_modes + amp.num_m_1_up) * (\n",
    "#     keep_modes >= amp.num_m0\n",
    "# ) # amp.num_m0 gives number of modes with m == 0, amp.num_m_1_up gives number of modes with m > 0\n",
    "\n",
    "# ylmkeep = np.concatenate([keep_modes, temp2])\n",
    "# ylms_in = ylms[ylmkeep]\n",
    "# teuk_modes_in = teuk_modes\n",
    "\n",
    "# cp.cuda.Stream.null.synchronize()"
   ]
  },
  {
   "cell_type": "code",
   "execution_count": 12,
   "id": "cdf1b97a-bbf2-4391-90f5-5de5e2a93480",
   "metadata": {},
   "outputs": [
    {
     "name": "stdout",
     "output_type": "stream",
     "text": [
      "CPU times: user 1.74 ms, sys: 0 ns, total: 1.74 ms\n",
      "Wall time: 1.75 ms\n"
     ]
    }
   ],
   "source": [
    "%%time\n",
    "\n",
    "t_u_gpu = cp.asarray(t_u)\n",
    "t_f_gpu = cp.asarray(t_f)\n",
    "\n",
    "\n",
    "# need to prepare arrays for sum with all modes due to +/- m setup\n",
    "ls_u = amp.l_arr[: teuk_modes_u.shape[1]]\n",
    "ls_f = amp.l_arr[: teuk_modes_f.shape[1]]\n",
    "\n",
    "ms_u = amp.m_arr[: teuk_modes_u.shape[1]]\n",
    "ms_f = amp.m_arr[: teuk_modes_f.shape[1]]\n",
    "\n",
    "ns_u = amp.n_arr[: teuk_modes_u.shape[1]]\n",
    "ns_f = amp.n_arr[: teuk_modes_f.shape[1]]\n",
    "\n",
    "keep_modes_u = np.arange(teuk_modes_u.shape[1])\n",
    "keep_modes_f = np.arange(teuk_modes_f.shape[1])\n",
    "\n",
    "temp2_u = keep_modes_u * (keep_modes_u < amp.num_m0) + (keep_modes_u + amp.num_m_1_up) * (\n",
    "    keep_modes_u >= amp.num_m0\n",
    ") \n",
    "\n",
    "temp2_f = keep_modes_f * (keep_modes_f < amp.num_m0) + (keep_modes_f + amp.num_m_1_up) * (\n",
    "    keep_modes_f >= amp.num_m0\n",
    ") \n",
    "\n",
    "ylmkeep_u = np.concatenate([keep_modes_u, temp2_u])\n",
    "ylmkeep_f = np.concatenate([keep_modes_f, temp2_f])\n",
    "\n",
    "ylms_in_u = ylms[ylmkeep_u]\n",
    "ylms_in_f = ylms[ylmkeep_f]\n",
    "\n",
    "teuk_modes_in_u = teuk_modes_u\n",
    "teuk_modes_in_f = teuk_modes_f\n",
    "\n",
    "\n",
    "cp.cuda.Stream.null.synchronize()"
   ]
  },
  {
   "cell_type": "code",
   "execution_count": 13,
   "id": "5c930440-4872-446e-8c29-2b37ddfa9313",
   "metadata": {},
   "outputs": [],
   "source": [
    "# %%time\n",
    "\n",
    "# # perform summation\n",
    "# waveform1 = interpolate_mode_sum(\n",
    "#     t_gpu,\n",
    "#     teuk_modes_in,\n",
    "#     ylms_in,\n",
    "#     traj.integrator_spline_t,\n",
    "#     traj.integrator_spline_phase_coeff[:, [0, 2]],\n",
    "#     ls,\n",
    "#     ms,\n",
    "#     ns,\n",
    "#     dt=delta_T,\n",
    "#     T=T,\n",
    "# )\n",
    "\n",
    "# cp.cuda.Stream.null.synchronize()"
   ]
  },
  {
   "cell_type": "code",
   "execution_count": 14,
   "id": "fd799c47-a905-4b41-aafa-dcefb8d439c8",
   "metadata": {},
   "outputs": [
    {
     "name": "stdout",
     "output_type": "stream",
     "text": [
      "CPU times: user 5min 50s, sys: 792 ms, total: 5min 51s\n",
      "Wall time: 5min 51s\n"
     ]
    }
   ],
   "source": [
    "%%time\n",
    "\n",
    "# perform summation\n",
    "waveform1_u = interpolate_mode_sum(\n",
    "    t_u_gpu,\n",
    "    teuk_modes_in_u,\n",
    "    ylms_in_u,\n",
    "    spline_t_u,\n",
    "    spline_coeff_u,\n",
    "    ls_u,\n",
    "    ms_u,\n",
    "    ns_u,\n",
    "    dt=dt, #using finer (small delta)t for the waveform\n",
    "    T=T,\n",
    ")\n",
    "\n",
    "cp.cuda.Stream.null.synchronize()"
   ]
  },
  {
   "cell_type": "code",
   "execution_count": 15,
   "id": "b1570e9b-11b2-4498-8a56-527a039da11c",
   "metadata": {},
   "outputs": [
    {
     "name": "stdout",
     "output_type": "stream",
     "text": [
      "CPU times: user 300 ms, sys: 12.9 ms, total: 313 ms\n",
      "Wall time: 321 ms\n"
     ]
    }
   ],
   "source": [
    "%%time\n",
    "\n",
    "# interpolate only one mode \n",
    "waveform1_u_1 = interpolate_mode_sum(\n",
    "    t_u_gpu,\n",
    "    teuk_modes_in_u[:, 1:2],\n",
    "    ylms_in_u[1:2],\n",
    "    spline_t_u,\n",
    "    spline_coeff_u,\n",
    "    ls_u[1:2],\n",
    "    ms_u[1:2],\n",
    "    ns_u[1:2],\n",
    "    dt=dt,\n",
    "    T=T,\n",
    ")\n",
    "\n",
    "cp.cuda.Stream.null.synchronize()"
   ]
  },
  {
   "cell_type": "code",
   "execution_count": 16,
   "id": "cff7dc1f-5308-43f5-bcb5-ab975e0bc3fd",
   "metadata": {},
   "outputs": [
    {
     "data": {
      "text/plain": [
       "3155184"
      ]
     },
     "execution_count": 16,
     "metadata": {},
     "output_type": "execute_result"
    }
   ],
   "source": [
    "len(waveform1_u)"
   ]
  },
  {
   "cell_type": "code",
   "execution_count": 17,
   "id": "4c2d56e0-56da-4318-af20-83fc48b66eb4",
   "metadata": {},
   "outputs": [
    {
     "data": {
      "text/plain": [
       "array([-8.91537819e-20+4.20871814e-20j, -8.91536081e-20+4.20870935e-20j,\n",
       "       -8.91534344e-20+4.20870056e-20j, ...,\n",
       "       -3.60559603e-20-9.21339478e-21j, -3.60560800e-20-9.21343355e-21j,\n",
       "       -3.60561997e-20-9.21347233e-21j], shape=(43548,))"
      ]
     },
     "execution_count": 17,
     "metadata": {},
     "output_type": "execute_result"
    }
   ],
   "source": [
    "waveform1_u_1[~np.isnan(waveform1_u_1)]"
   ]
  },
  {
   "cell_type": "code",
   "execution_count": 18,
   "id": "f6a0d162-61cd-41a1-b871-6b2cb38c9983",
   "metadata": {},
   "outputs": [
    {
     "data": {
      "text/plain": [
       "array([ 0.22429852+0.19429072j,  0.22429852+0.19429072j,\n",
       "        0.22429853+0.19429072j, ..., -0.03004328-0.17988086j,\n",
       "       -0.03004328-0.17988087j, -0.03004328-0.17988087j], shape=(43548,))"
      ]
     },
     "execution_count": 18,
     "metadata": {},
     "output_type": "execute_result"
    }
   ],
   "source": [
    "waveform1_u[~np.isnan(waveform1_u)]"
   ]
  },
  {
   "cell_type": "code",
   "execution_count": 19,
   "id": "bcc15566-9dda-45f6-8fe8-08c2b62492b8",
   "metadata": {},
   "outputs": [
    {
     "data": {
      "text/plain": [
       "array(3111636)"
      ]
     },
     "execution_count": 19,
     "metadata": {},
     "output_type": "execute_result"
    }
   ],
   "source": [
    "np.sum(np.isnan(waveform1_u_1))"
   ]
  },
  {
   "cell_type": "code",
   "execution_count": 20,
   "id": "9429bee5-41e4-4cdf-a1ed-fda78ea13ab7",
   "metadata": {},
   "outputs": [
    {
     "data": {
      "text/plain": [
       "array(True)"
      ]
     },
     "execution_count": 20,
     "metadata": {},
     "output_type": "execute_result"
    }
   ],
   "source": [
    "# see if the nans appear for the same points\n",
    "np.array_equal(~np.isnan(waveform1_u), ~np.isnan(waveform1_u_1))"
   ]
  },
  {
   "cell_type": "code",
   "execution_count": 21,
   "id": "91e9bcea-5fd3-474a-bb32-29090bd4b648",
   "metadata": {},
   "outputs": [
    {
     "name": "stdout",
     "output_type": "stream",
     "text": [
      "CPU times: user 1min 38s, sys: 296 ms, total: 1min 38s\n",
      "Wall time: 1min 38s\n"
     ]
    }
   ],
   "source": [
    "%%time\n",
    "# just trying to see if we sample with delta_T instead \n",
    "\n",
    "# perform summation\n",
    "waveform1_u_alt = interpolate_mode_sum(\n",
    "    t_u_gpu,\n",
    "    teuk_modes_in_u,\n",
    "    ylms_in_u,\n",
    "    spline_t_u,\n",
    "    spline_coeff_u,\n",
    "    ls_u,\n",
    "    ms_u,\n",
    "    ns_u,\n",
    "    dt=delta_T,\n",
    "    T=T,\n",
    ")\n",
    "\n",
    "cp.cuda.Stream.null.synchronize()"
   ]
  },
  {
   "cell_type": "code",
   "execution_count": 22,
   "id": "cd3ba356-c3f8-492a-8829-ada42e2f3e20",
   "metadata": {},
   "outputs": [
    {
     "data": {
      "text/plain": [
       "5000"
      ]
     },
     "execution_count": 22,
     "metadata": {},
     "output_type": "execute_result"
    }
   ],
   "source": [
    "len(waveform1_u_alt)"
   ]
  },
  {
   "cell_type": "code",
   "execution_count": 23,
   "id": "4d402e73-5b27-4164-95a5-bfe072d94aed",
   "metadata": {},
   "outputs": [
    {
     "data": {
      "text/plain": [
       "array(4935)"
      ]
     },
     "execution_count": 23,
     "metadata": {},
     "output_type": "execute_result"
    }
   ],
   "source": [
    "np.sum(np.isnan(waveform1_u_alt))"
   ]
  },
  {
   "cell_type": "markdown",
   "id": "5ee7d228-150d-4366-92a6-94e3d656d835",
   "metadata": {},
   "source": [
    "# Reference values for the waveform interpmodesum"
   ]
  },
  {
   "cell_type": "code",
   "execution_count": 24,
   "id": "e063ca2b-59ba-4472-bb96-505169a3b7dc",
   "metadata": {},
   "outputs": [
    {
     "name": "stdout",
     "output_type": "stream",
     "text": [
      "CPU times: user 8.66 s, sys: 39.1 ms, total: 8.7 s\n",
      "Wall time: 8.68 s\n"
     ]
    }
   ],
   "source": [
    "%%time\n",
    "\n",
    "# perform summation\n",
    "waveform1_f = interpolate_mode_sum(\n",
    "    t_f_gpu,\n",
    "    teuk_modes_in_f,\n",
    "    ylms_in_f,\n",
    "    spline_t_f,\n",
    "    spline_coeff_f,\n",
    "    ls_f,\n",
    "    ms_f,\n",
    "    ns_f,\n",
    "    dt=dt,\n",
    "    T=T,\n",
    ")\n",
    "\n",
    "cp.cuda.Stream.null.synchronize()"
   ]
  },
  {
   "cell_type": "code",
   "execution_count": 25,
   "id": "c2ab7c7f-5c4c-4d4f-9534-21fdadc4abbf",
   "metadata": {},
   "outputs": [
    {
     "name": "stdout",
     "output_type": "stream",
     "text": [
      "CPU times: user 4.2 ms, sys: 1 ms, total: 5.21 ms\n",
      "Wall time: 4.9 ms\n"
     ]
    }
   ],
   "source": [
    "%%time\n",
    "# Just one mode\n",
    "# perform summation\n",
    "waveform1_f_0 = interpolate_mode_sum(\n",
    "    t_f_gpu,\n",
    "    teuk_modes_in_f[:, 1:2],\n",
    "    ylms_in_f[1:2],\n",
    "    spline_t_f,\n",
    "    spline_coeff_f,\n",
    "    ls_f[1:2],\n",
    "    ms_f[1:2],\n",
    "    ns_f[1:2],\n",
    "    dt=dt,\n",
    "    T=T,\n",
    ")\n",
    "\n",
    "cp.cuda.Stream.null.synchronize()"
   ]
  },
  {
   "cell_type": "code",
   "execution_count": 26,
   "id": "a3af2bbc-dcfd-4fa6-825a-78a024d1d10b",
   "metadata": {},
   "outputs": [
    {
     "data": {
      "text/plain": [
       "array(0)"
      ]
     },
     "execution_count": 26,
     "metadata": {},
     "output_type": "execute_result"
    }
   ],
   "source": [
    "np.sum(np.isnan(waveform1_f_0))"
   ]
  },
  {
   "cell_type": "markdown",
   "id": "1c7d4409-4896-48c7-87ed-019f0df69c7f",
   "metadata": {},
   "source": [
    "# Factors, SNRs etc"
   ]
  },
  {
   "cell_type": "code",
   "execution_count": 27,
   "id": "36cbb54a",
   "metadata": {},
   "outputs": [],
   "source": [
    "# For reference vals im using the finer waveform\n",
    "waveform1 = waveform1_f\n",
    "\n",
    "N = int(len(waveform1)) \n",
    "gwf = GWfuncs.GravWaveAnalysis(N=N,dt=dt)\n",
    "# Calculate distance dimensionless\n",
    "dist = 1.0 #Gpc\n",
    "factor = gwf.dist_factor(dist, m2)\n",
    "waveform1_scaled = waveform1.get()/factor"
   ]
  },
  {
   "cell_type": "code",
   "execution_count": 28,
   "id": "8ab26842",
   "metadata": {},
   "outputs": [
    {
     "name": "stdout",
     "output_type": "stream",
     "text": [
      "SNR: 38.1970889944838\n",
      "SNR squared: 1459.0176076525154\n"
     ]
    }
   ],
   "source": [
    "hfull_f = gwf.freq_wave(waveform1_scaled)\n",
    "\n",
    "SNR_ref = gwf.SNR(hfull_f)\n",
    "print(\"SNR:\", SNR_ref)\n",
    "print(\"SNR squared:\", SNR_ref**2)"
   ]
  },
  {
   "cell_type": "code",
   "execution_count": 29,
   "id": "ad8ce6ba",
   "metadata": {},
   "outputs": [
    {
     "name": "stdout",
     "output_type": "stream",
     "text": [
      "Number of trajectory points: 5000\n",
      "Time step in seconds 6311.629952709119\n"
     ]
    }
   ],
   "source": [
    "# for the following im going to use the upsampled ver \n",
    "N_traj = teuk_modes_u.shape[0]  # number of trajectory points\n",
    "print(\"Number of trajectory points:\", N_traj)\n",
    "# delta_T = T_sd / N_traj  # time step in seconds\n",
    "print(\"Time step in seconds\", delta_T)"
   ]
  },
  {
   "cell_type": "code",
   "execution_count": 30,
   "id": "51333d59",
   "metadata": {},
   "outputs": [],
   "source": [
    "# Get mode labels\n",
    "mode_labels = [f\"({l},{m},{n})\" for l,m,n in zip(amp.l_arr, amp.m_arr, amp.n_arr)]"
   ]
  },
  {
   "cell_type": "markdown",
   "id": "f75c5c36",
   "metadata": {},
   "source": [
    "# Generate mode frequencies "
   ]
  },
  {
   "cell_type": "markdown",
   "id": "24fcf15f",
   "metadata": {},
   "source": [
    "Using *get_fundamental_frequencies* instead. TODO: pick only one (CPU/GPU)? which would be better in this case?"
   ]
  },
  {
   "cell_type": "code",
   "execution_count": 31,
   "id": "d7a2fac8",
   "metadata": {},
   "outputs": [],
   "source": [
    "OmegaPhi, OmegaTheta, OmegaR = get_fundamental_frequencies(a, p_u, e_u, x_u) #could use GPU here but im running to mismatch probs\n",
    "#actually whats the benefit of running cpu -> convert gpu vs running all in gpu in the first place?"
   ]
  },
  {
   "cell_type": "code",
   "execution_count": 32,
   "id": "a94d3a2f-aff5-4f24-98a7-3faffa194aea",
   "metadata": {},
   "outputs": [
    {
     "data": {
      "text/plain": [
       "True"
      ]
     },
     "execution_count": 32,
     "metadata": {},
     "output_type": "execute_result"
    }
   ],
   "source": [
    "isinstance(amp.m_arr, cp.ndarray)"
   ]
  },
  {
   "cell_type": "code",
   "execution_count": 33,
   "id": "027d2aab-7036-4147-87c1-4a846eb10940",
   "metadata": {},
   "outputs": [
    {
     "data": {
      "text/plain": [
       "(5000,)"
      ]
     },
     "execution_count": 33,
     "metadata": {},
     "output_type": "execute_result"
    }
   ],
   "source": [
    "OmegaPhi.shape"
   ]
  },
  {
   "cell_type": "code",
   "execution_count": 34,
   "id": "bdac1318-98a0-47e2-b283-409d5feaa5e6",
   "metadata": {},
   "outputs": [],
   "source": [
    "l_cpu = amp.l_arr.get()\n",
    "m_cpu = amp.m_arr.get()\n",
    "n_cpu = amp.n_arr.get()"
   ]
  },
  {
   "cell_type": "code",
   "execution_count": 35,
   "id": "bc2d058c",
   "metadata": {},
   "outputs": [],
   "source": [
    "gw_frequencies_per_mode = []\n",
    "\n",
    "for idx in range(len(mode_labels)):\n",
    "    # TODO: do convert this so everything is in either CPU/GPU?\n",
    "    # l = amp.l_arr[idx]\n",
    "    # m = amp.m_arr[idx] \n",
    "    # n = amp.n_arr[idx]\n",
    "    \n",
    "    l = l_cpu[idx]\n",
    "    m = m_cpu[idx] \n",
    "    n = n_cpu[idx]\n",
    "    \n",
    "    # Calculate GW frequencies\n",
    "    # k = 0 for equatorial case\n",
    "    f_gw = m * OmegaPhi + n * OmegaR\n",
    "    \n",
    "    gw_frequencies_per_mode.append(f_gw)"
   ]
  },
  {
   "cell_type": "code",
   "execution_count": 36,
   "id": "cca3dd2d",
   "metadata": {},
   "outputs": [],
   "source": [
    "gw_phase_per_mode = []\n",
    "for idx in range(len(mode_labels)):\n",
    "    # l = amp.l_arr[idx]\n",
    "    # m = amp.m_arr[idx] \n",
    "    # n = amp.n_arr[idx]\n",
    "\n",
    "    l = l_cpu[idx]\n",
    "    m = m_cpu[idx] \n",
    "    n = n_cpu[idx]\n",
    "    \n",
    "    # Calculate GW phases per mode\n",
    "    phi_mode = m * Phi_phi_u + n * Phi_r_u\n",
    "    \n",
    "    gw_phase_per_mode.append(phi_mode)"
   ]
  },
  {
   "cell_type": "markdown",
   "id": "c15065f1",
   "metadata": {},
   "source": [
    "# Calculate inner product"
   ]
  },
  {
   "cell_type": "code",
   "execution_count": 37,
   "id": "5118e6c2",
   "metadata": {},
   "outputs": [
    {
     "data": {
      "text/plain": [
       "('(2,2,0)', '(2,2,1)')"
      ]
     },
     "execution_count": 37,
     "metadata": {},
     "output_type": "execute_result"
    }
   ],
   "source": [
    "idx_i = 1165 # 220\n",
    "idx_j = 1166 # 221\n",
    "mode_labels[idx_i], mode_labels[idx_j]"
   ]
  },
  {
   "cell_type": "code",
   "execution_count": 38,
   "id": "26329afc",
   "metadata": {},
   "outputs": [
    {
     "name": "stdout",
     "output_type": "stream",
     "text": [
      "A_0: [0.44924664-0.12386828j 0.44926036-0.12387416j 0.44927408-0.12388005j ...\n",
      " 0.54154811-0.16518926j 0.54157391-0.16520117j 0.54159972-0.16521309j]\n",
      "A_1: [0.26093475-0.08208452j 0.26093519-0.08208561j 0.26093563-0.08208671j ...\n",
      " 0.26226464-0.08779556j 0.26226481-0.08779673j 0.26226498-0.08779789j]\n"
     ]
    }
   ],
   "source": [
    "# Get complex amplitudes for the two modes\n",
    "A0 = teuk_modes_u[:, idx_i]\n",
    "A1 = teuk_modes_u[:, idx_j]\n",
    "print(\"A_0:\", A0)\n",
    "print(\"A_1:\", A1)"
   ]
  },
  {
   "cell_type": "code",
   "execution_count": 39,
   "id": "599690b8",
   "metadata": {},
   "outputs": [],
   "source": [
    "# Get sensitivity for the two modes\n",
    "Sn0 = get_sensitivity(gw_frequencies_per_mode[idx_i], sens_fn=LISASens, return_type=\"PSD\")\n",
    "Sn1 = get_sensitivity(gw_frequencies_per_mode[idx_j], sens_fn=LISASens, return_type=\"PSD\")"
   ]
  },
  {
   "cell_type": "code",
   "execution_count": 40,
   "id": "24108f44",
   "metadata": {},
   "outputs": [
    {
     "data": {
      "text/plain": [
       "array([1.02549867e+19-2.82755056e+18j, 1.02549945e+19-2.82760060e+18j,\n",
       "       1.02550023e+19-2.82765064e+18j, ...,\n",
       "       1.01349309e+19-3.09147365e+18j, 1.01348581e+19-3.09152715e+18j,\n",
       "       1.01347853e+19-3.09158064e+18j], shape=(5000,))"
      ]
     },
     "execution_count": 40,
     "metadata": {},
     "output_type": "execute_result"
    }
   ],
   "source": [
    "barA0 = A0.get() / np.sqrt(Sn0) #TODO: do convert this in C/GPU only?\n",
    "barA0 "
   ]
  },
  {
   "cell_type": "code",
   "execution_count": 41,
   "id": "f8cad797",
   "metadata": {},
   "outputs": [
    {
     "data": {
      "text/plain": [
       "array([4.53923442e+18-1.42794654e+18j, 4.53910872e+18-1.42792367e+18j,\n",
       "       4.53898301e+18-1.42790080e+18j, ...,\n",
       "       3.76619865e+18-1.26077052e+18j, 3.76600587e+18-1.26072191e+18j,\n",
       "       3.76581308e+18-1.26067329e+18j], shape=(5000,))"
      ]
     },
     "execution_count": 41,
     "metadata": {},
     "output_type": "execute_result"
    }
   ],
   "source": [
    "barA1 = A1.get() / np.sqrt(Sn1)\n",
    "barA1"
   ]
  },
  {
   "cell_type": "code",
   "execution_count": 42,
   "id": "d5a44497",
   "metadata": {},
   "outputs": [
    {
     "data": {
      "text/plain": [
       "array([ True, False, False, ..., False, False, False], shape=(5000,))"
      ]
     },
     "execution_count": 42,
     "metadata": {},
     "output_type": "execute_result"
    }
   ],
   "source": [
    "phase01 = np.abs(gw_phase_per_mode[idx_i] - gw_phase_per_mode[idx_j]) < 1.0 \n",
    "phase01"
   ]
  },
  {
   "cell_type": "code",
   "execution_count": 43,
   "id": "7731f9f3-5b32-4533-8a3f-447ea53f5fdb",
   "metadata": {},
   "outputs": [
    {
     "data": {
      "text/plain": [
       "np.int64(1)"
      ]
     },
     "execution_count": 43,
     "metadata": {},
     "output_type": "execute_result"
    }
   ],
   "source": [
    "np.sum(phase01)"
   ]
  },
  {
   "cell_type": "markdown",
   "id": "290a8c0b",
   "metadata": {},
   "source": [
    "## Cross-term inner product of (2,2,0) & (2,2,1)"
   ]
  },
  {
   "cell_type": "code",
   "execution_count": 44,
   "id": "bce40471",
   "metadata": {},
   "outputs": [
    {
     "data": {
      "text/plain": [
       "array([5.05873796e+37-1.80865793e+36j])"
      ]
     },
     "execution_count": 44,
     "metadata": {},
     "output_type": "execute_result"
    }
   ],
   "source": [
    "crossprod01 = np.conj(barA0[phase01]) * barA1[phase01]\n",
    "crossprod01"
   ]
  },
  {
   "cell_type": "code",
   "execution_count": 45,
   "id": "47c580e7",
   "metadata": {},
   "outputs": [
    {
     "data": {
      "text/plain": [
       "np.float64(0.07311779604111013)"
      ]
     },
     "execution_count": 45,
     "metadata": {},
     "output_type": "execute_result"
    }
   ],
   "source": [
    "inner_contrib_01 = np.sum(crossprod01) * delta_T * 1/(factor**2)\n",
    "np.real(inner_contrib_01)"
   ]
  },
  {
   "cell_type": "markdown",
   "id": "094e474a",
   "metadata": {},
   "source": [
    "## Self-term inner product of (2,2,0), (2,2,1)"
   ]
  },
  {
   "cell_type": "code",
   "execution_count": 46,
   "id": "a10e5517",
   "metadata": {},
   "outputs": [
    {
     "data": {
      "text/plain": [
       "array([1.13159794e+38-1.62405645e+21j, 1.13160237e+38-1.78497723e+21j,\n",
       "       1.13160679e+38-1.04743827e+21j, ...,\n",
       "       1.12274034e+38+6.70339342e+20j, 1.12272889e+38+1.88426876e+21j,\n",
       "       1.12271744e+38+3.96193429e+20j], shape=(5000,))"
      ]
     },
     "execution_count": 46,
     "metadata": {},
     "output_type": "execute_result"
    }
   ],
   "source": [
    "selfprod00 = np.conj(barA0)*barA0 #barA0**2\n",
    "selfprod00"
   ]
  },
  {
   "cell_type": "code",
   "execution_count": 47,
   "id": "4cdf4cb0",
   "metadata": {},
   "outputs": [
    {
     "data": {
      "text/plain": [
       "np.float64(819.1758316807028)"
      ]
     },
     "execution_count": 47,
     "metadata": {},
     "output_type": "execute_result"
    }
   ],
   "source": [
    "inner_contrib_00 = np.sum(np.real(selfprod00)) * delta_T * 1/(factor**2)\n",
    "inner_contrib_00"
   ]
  },
  {
   "cell_type": "code",
   "execution_count": 48,
   "id": "81ccb187",
   "metadata": {},
   "outputs": [
    {
     "data": {
      "text/plain": [
       "np.float64(139.90582448534522)"
      ]
     },
     "execution_count": 48,
     "metadata": {},
     "output_type": "execute_result"
    }
   ],
   "source": [
    "inner_contrib_11 = np.sum(np.real(np.conj(barA1)*barA1)) * delta_T * 1/(factor**2)\n",
    "inner_contrib_11"
   ]
  },
  {
   "cell_type": "code",
   "execution_count": 49,
   "id": "61c680d5",
   "metadata": {},
   "outputs": [
    {
     "data": {
      "text/plain": [
       "np.float64(0.00021611953703094865)"
      ]
     },
     "execution_count": 49,
     "metadata": {},
     "output_type": "execute_result"
    }
   ],
   "source": [
    "np.abs(inner_contrib_01 / np.sqrt(inner_contrib_00 * inner_contrib_11) )"
   ]
  },
  {
   "cell_type": "markdown",
   "id": "c7e19567-60c5-4932-b7fa-5cea6fdb2e6f",
   "metadata": {},
   "source": [
    "# Creating Inner Product Function"
   ]
  },
  {
   "cell_type": "code",
   "execution_count": 52,
   "id": "55efa48b-32f7-4254-8cec-5b0319260d5e",
   "metadata": {},
   "outputs": [],
   "source": [
    "def calc_inner(idx_i, idx_j, teuk_modes, amp, freqs, phases, delta_T, factor):\n",
    "    # Obtain the lmn-s\n",
    "    l_i = amp.l_arr[idx_i]\n",
    "    m_i = amp.m_arr[idx_i]\n",
    "    n_i = amp.n_arr[idx_i]\n",
    "\n",
    "    l_j = amp.l_arr[idx_j]\n",
    "    m_j = amp.m_arr[idx_j]\n",
    "    n_j = amp.n_arr[idx_j]\n",
    "\n",
    "    # Get Teukolsky modes\n",
    "    # Check if negative m \n",
    "    if m_i >= 0:\n",
    "        A_i = teuk_modes[:, idx_i]\n",
    "\n",
    "    elif m_i < 0:\n",
    "        pos_m_mask_i = (amp.l_arr == l_i) & (amp.m_arr == -m_i) & (amp.n_arr == n_i)\n",
    "        pos_m_idx_i = np.where(pos_m_mask_i)[0]\n",
    "        A_i_pos = teuk_modes[:, pos_m_idx_i]\n",
    "        A_i = (-1)**l_i * np.conj(A_i_pos)\n",
    "\n",
    "    if m_j >= 0:\n",
    "        A_j = teuk_modes[:, idx_j]\n",
    "        \n",
    "    elif m_j < 0:\n",
    "        pos_m_mask_j = (amp.l_arr == l_j) & (amp.m_arr == -m_j) & (amp.n_arr == n_j)\n",
    "        pos_m_idx_j = np.where(pos_m_mask_j)[0]\n",
    "        A_j_pos = teuk_modes[:, pos_m_idx_j]\n",
    "        A_j = (-1)**l_j * np.conj(A_j_pos)\n",
    "\n",
    "    # Get sensitivity for each mode \n",
    "    Sn_i = get_sensitivity(freqs[idx_i], sens_fn=LISASens, return_type=\"PSD\")\n",
    "    Sn_j = get_sensitivity(freqs[idx_j], sens_fn=LISASens, return_type=\"PSD\")\n",
    "\n",
    "    # Get noise-weighted amplitudes\n",
    "    bar_A_i = A_i.get() / np.sqrt(Sn_i)\n",
    "    bar_A_j = A_j.get() / np.sqrt(Sn_j)\n",
    "\n",
    "    # Get phase mask\n",
    "    phase_mask = np.abs(phases[idx_i] - phases[idx_j]) < 1.0 \n",
    "\n",
    "    # Calculate product\n",
    "    prod = np.conj(bar_A_i[phase_mask]) * bar_A_j[phase_mask]\n",
    "\n",
    "    # Calculate full inner product\n",
    "    innerprod = np.sum(np.real(prod)) * delta_T * 1/(factor**2)\n",
    "\n",
    "    return innerprod"
   ]
  },
  {
   "cell_type": "code",
   "execution_count": 53,
   "id": "c9d98271-2702-49ad-b93b-ed4dfcabf461",
   "metadata": {},
   "outputs": [
    {
     "data": {
      "text/plain": [
       "np.float64(819.1758316807028)"
      ]
     },
     "execution_count": 53,
     "metadata": {},
     "output_type": "execute_result"
    }
   ],
   "source": [
    "# (2,2,0) & (2,2,0)\n",
    "calc_inner(1165,1165, teuk_modes_u, amp, gw_frequencies_per_mode, gw_phase_per_mode, delta_T, factor)"
   ]
  },
  {
   "cell_type": "code",
   "execution_count": 54,
   "id": "2b226ff1-41f2-4586-b663-4a3f10ca24d3",
   "metadata": {},
   "outputs": [
    {
     "data": {
      "text/plain": [
       "np.float64(0.07311779604111013)"
      ]
     },
     "execution_count": 54,
     "metadata": {},
     "output_type": "execute_result"
    }
   ],
   "source": [
    "# (2,2,0) & (2,2,1)\n",
    "calc_inner(1165,1166, teuk_modes_u, amp, gw_frequencies_per_mode, gw_phase_per_mode, delta_T, factor)"
   ]
  },
  {
   "cell_type": "code",
   "execution_count": 55,
   "id": "d3172024-ad5f-4ebc-89e3-de2a1637f6ef",
   "metadata": {},
   "outputs": [
    {
     "data": {
      "text/plain": [
       "'(2,-2,0)'"
      ]
     },
     "execution_count": 55,
     "metadata": {},
     "output_type": "execute_result"
    }
   ],
   "source": [
    "mode_labels[7159]"
   ]
  },
  {
   "cell_type": "code",
   "execution_count": 56,
   "id": "5f64b121-2f13-41dd-babf-097a690f2346",
   "metadata": {},
   "outputs": [
    {
     "data": {
      "text/plain": [
       "np.float64(643.2564339123205)"
      ]
     },
     "execution_count": 56,
     "metadata": {},
     "output_type": "execute_result"
    }
   ],
   "source": [
    "# (2,2,0) & (2, -2, 0)\n",
    "calc_inner(1165,7159, teuk_modes_u, amp, gw_frequencies_per_mode, gw_phase_per_mode, delta_T, factor)"
   ]
  },
  {
   "cell_type": "markdown",
   "id": "14129e92-da82-48eb-b4e4-a16917c29215",
   "metadata": {},
   "source": [
    "# Reference values"
   ]
  },
  {
   "cell_type": "code",
   "execution_count": 57,
   "id": "63b951ba-6fba-4386-94f9-db4047943b9d",
   "metadata": {},
   "outputs": [],
   "source": [
    "indices = [1165, 1166, 7159]"
   ]
  },
  {
   "cell_type": "code",
   "execution_count": 67,
   "id": "64ec268a-d5cc-4ccb-9c6f-d5c891d82239",
   "metadata": {},
   "outputs": [
    {
     "name": "stdout",
     "output_type": "stream",
     "text": [
      "Mode:  (2,2,0)\n",
      "Mode:  (2,2,1)\n",
      "Mode:  (2,-2,0)\n",
      "NEGATIVE M MODE\n",
      "[2] [2] [0]\n",
      "[1165]\n",
      "[[[0.44924664+0.12386828j]]\n",
      "\n",
      " [[0.44928771+0.12388589j]]\n",
      "\n",
      " [[0.44942348+0.12394409j]]\n",
      "\n",
      " [[0.44977097+0.1240931j ]]\n",
      "\n",
      " [[0.45083585+0.12455013j]]\n",
      "\n",
      " [[0.45495384+0.12632279j]]\n",
      "\n",
      " [[0.47436319+0.13478633j]]\n",
      "\n",
      " [[0.49376997+0.14341229j]]\n",
      "\n",
      " [[0.51317459+0.15217708j]]\n",
      "\n",
      " [[0.53255914+0.16104611j]]\n",
      "\n",
      " [[0.54162553+0.16522501j]]]\n",
      "[2.41402044e-18-0.03942395j]\n"
     ]
    }
   ],
   "source": [
    "waveform_per_mode = []\n",
    "for idx in indices:\n",
    "    l = amp.l_arr[idx]\n",
    "    m = amp.m_arr[idx]\n",
    "    n = amp.n_arr[idx]\n",
    "    print('Mode: ', mode_labels[idx])\n",
    "\n",
    "    if m >= 0:\n",
    "        # For m >= 0, directly use the mode\n",
    "        teuk_modes_single = teuk_modes_f[:, [idx]]\n",
    "        ylms_single = ylms[[idx]]\n",
    "        m_arr = amp.m_arr[[idx]]\n",
    "    else:\n",
    "        # Finding corresponding m>0 mode instead of mapping\n",
    "        print('NEGATIVE M MODE')\n",
    "        pos_m_mask = (amp.l_arr == l) & (amp.m_arr == -m) & (amp.n_arr == n) \n",
    "        print(amp.l_arr[pos_m_mask], amp.m_arr[pos_m_mask], amp.n_arr[pos_m_mask])\n",
    "        pos_m_idx = np.where(pos_m_mask)[0]\n",
    "        print(pos_m_idx)\n",
    "        \n",
    "        teuk_modes_single = (-1)**l * np.conj(teuk_modes_f[:, [pos_m_idx]])\n",
    "        print(teuk_modes_single)\n",
    "        # ylms_single = (-1)**(-m) * np.conj(ylms[[pos_m_idx]])\n",
    "        ylms_single = ylms[[idx]]\n",
    "        print(ylms_single)\n",
    "        m_arr = np.abs(amp.m_arr[[idx]])  # To pass positive m \n",
    "\n",
    "    waveform = interpolate_mode_sum(\n",
    "        t_f_gpu,\n",
    "        teuk_modes_single,\n",
    "        ylms_single,\n",
    "        traj.integrator_spline_t,\n",
    "        traj.integrator_spline_phase_coeff[:, [0, 2]],\n",
    "        amp.l_arr[[idx]], \n",
    "        m_arr,  \n",
    "        amp.n_arr[[idx]], \n",
    "        dt=dt,\n",
    "        T=T\n",
    "    )\n",
    "    waveform_per_mode.append(waveform/factor)"
   ]
  },
  {
   "cell_type": "code",
   "execution_count": 68,
   "id": "f2c4d0de-04a3-4207-8cba-50db92c2ccf3",
   "metadata": {},
   "outputs": [],
   "source": [
    "# Convert each waveform to frequency domain\n",
    "hf_per_mode = [gwf.freq_wave(waveform.get()) for waveform in waveform_per_mode]"
   ]
  },
  {
   "cell_type": "code",
   "execution_count": 69,
   "id": "aa2994b4-b1ba-4029-9951-43ab96599851",
   "metadata": {},
   "outputs": [
    {
     "data": {
      "text/plain": [
       "np.float64(585.7806007839152)"
      ]
     },
     "execution_count": 69,
     "metadata": {},
     "output_type": "execute_result"
    }
   ],
   "source": [
    "# (2,2,0) & (2,2,0)\n",
    "gwf.inner(hf_per_mode[0], hf_per_mode[0])"
   ]
  },
  {
   "cell_type": "code",
   "execution_count": 70,
   "id": "6f01d156-1018-4e00-9a48-57e408d087c8",
   "metadata": {},
   "outputs": [
    {
     "data": {
      "text/plain": [
       "np.float64(-0.005138531996463582)"
      ]
     },
     "execution_count": 70,
     "metadata": {},
     "output_type": "execute_result"
    }
   ],
   "source": [
    "# (2,2,0) & (2,2,1)\n",
    "gwf.inner(hf_per_mode[0], hf_per_mode[1])"
   ]
  },
  {
   "cell_type": "code",
   "execution_count": 71,
   "id": "885e8d8f-47ef-4d4d-a8ee-bcf6bc65f280",
   "metadata": {},
   "outputs": [
    {
     "data": {
      "text/plain": [
       "np.float64(-54.802938893703626)"
      ]
     },
     "execution_count": 71,
     "metadata": {},
     "output_type": "execute_result"
    }
   ],
   "source": [
    "# (2,2,0) & (2,-2,0)\n",
    "gwf.inner(hf_per_mode[0], hf_per_mode[2])"
   ]
  },
  {
   "cell_type": "code",
   "execution_count": null,
   "id": "1bba1f2d-adce-4584-b4ec-572c850b1dbf",
   "metadata": {},
   "outputs": [],
   "source": []
  }
 ],
 "metadata": {
  "kernelspec": {
   "display_name": "Python (fewnew)",
   "language": "python",
   "name": "fewnew"
  },
  "language_info": {
   "codemirror_mode": {
    "name": "ipython",
    "version": 3
   },
   "file_extension": ".py",
   "mimetype": "text/x-python",
   "name": "python",
   "nbconvert_exporter": "python",
   "pygments_lexer": "ipython3",
   "version": "3.12.9"
  }
 },
 "nbformat": 4,
 "nbformat_minor": 5
}
