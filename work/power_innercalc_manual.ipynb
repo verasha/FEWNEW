{
 "cells": [
  {
   "cell_type": "markdown",
   "id": "296d9986",
   "metadata": {},
   "source": [
    "# Import and setup"
   ]
  },
  {
   "cell_type": "code",
   "execution_count": 11,
   "id": "65355769",
   "metadata": {},
   "outputs": [],
   "source": [
    "import numpy as np\n",
    "import matplotlib.pyplot as plt\n",
    "\n",
    "import few\n",
    "\n",
    "from few.trajectory.inspiral import EMRIInspiral\n",
    "from few.trajectory.ode import SchwarzEccFlux, KerrEccEqFlux\n",
    "# from few.amplitude.romannet import RomanAmplitude\n",
    "from few.amplitude.ampinterp2d import AmpInterpKerrEccEq\n",
    "from few.summation.interpolatedmodesum import InterpolatedModeSum\n",
    "\n",
    "\n",
    "from few.utils.ylm import GetYlms\n",
    "from few.utils.modeselector import ModeSelector\n",
    "from few.summation.interpolatedmodesum import CubicSplineInterpolant\n",
    "from few import get_file_manager\n",
    "\n",
    "from few.waveform import (\n",
    "    FastKerrEccentricEquatorialFlux,\n",
    "    FastSchwarzschildEccentricFlux, \n",
    "    SlowSchwarzschildEccentricFlux, \n",
    "    Pn5AAKWaveform,\n",
    "    GenerateEMRIWaveform\n",
    ")\n",
    "\n",
    "from few.utils.geodesic import get_fundamental_frequencies\n",
    "\n",
    "import GWfuncs\n",
    "import gc\n",
    "import pickle\n",
    "import os\n",
    "# import cupy as cp\n",
    "import multiprocessing as mp\n",
    "from multiprocessing import Queue, Process\n",
    "from functools import partial\n",
    "from SNR_tutorial_utils import LISA_Noise\n",
    "from lisatools.sensitivity import *\n",
    "\n",
    "from few.utils.constants import YRSID_SI\n",
    "\n",
    "\n",
    "\n",
    "# import pandas as pd\n",
    "# tune few configuration\n",
    "cfg_set = few.get_config_setter(reset=True)\n",
    "cfg_set.set_log_level(\"info\");"
   ]
  },
  {
   "cell_type": "code",
   "execution_count": 3,
   "id": "29c9f6f0",
   "metadata": {},
   "outputs": [],
   "source": [
    "# Parameters\n",
    "m1 = 1e6 #M\n",
    "m2 = 1e1 #mu\n",
    "a = 0.5\n",
    "p0 = 9.5\n",
    "e0 = 0.2\n",
    "theta = np.pi / 3.0 \n",
    "phi = np.pi / 4.0  \n",
    "dt = 10.0\n",
    "T = 1\n",
    "xI0 = 1.0 \n",
    "#in the paper xI0 = 0.866, but that would be non-equatorial case\n",
    "\n",
    "traj = EMRIInspiral(func=KerrEccEqFlux)\n",
    "amp = AmpInterpKerrEccEq() # default lmax=10, nmax=55\n",
    "interpolate_mode_sum = InterpolatedModeSum()\n",
    "ylm_gen = GetYlms(include_minus_m=False)\n",
    "\n",
    "\n"
   ]
  },
  {
   "cell_type": "markdown",
   "id": "ede27aac",
   "metadata": {},
   "source": [
    "# Generate waveform"
   ]
  },
  {
   "cell_type": "code",
   "execution_count": 5,
   "id": "aa6a79b0",
   "metadata": {},
   "outputs": [],
   "source": [
    "# Calc trajectory\n",
    "(t, p, e, x, Phi_phi, Phi_theta, Phi_r) = traj(m1, m2, a, p0, e0, xI0, T=T, dt=dt)\n",
    "\n",
    "# t_gpu = cp.asarray(t)\n",
    "\n",
    "# Get amplitudes along trajectory\n",
    "teuk_modes = amp(a, p, e, x)\n",
    "\n",
    "# Get Ylms\n",
    "ylms = ylm_gen(amp.unique_l, amp.unique_m, theta, phi).copy()[amp.inverse_lm]"
   ]
  },
  {
   "cell_type": "code",
   "execution_count": 6,
   "id": "102016eb",
   "metadata": {},
   "outputs": [
    {
     "data": {
      "text/plain": [
       "(11, 6993)"
      ]
     },
     "execution_count": 6,
     "metadata": {},
     "output_type": "execute_result"
    }
   ],
   "source": [
    "teuk_modes.shape"
   ]
  },
  {
   "cell_type": "code",
   "execution_count": 7,
   "id": "232b6d7f",
   "metadata": {},
   "outputs": [
    {
     "data": {
      "text/plain": [
       "<matplotlib.legend.Legend at 0x15b4cd040>"
      ]
     },
     "execution_count": 7,
     "metadata": {},
     "output_type": "execute_result"
    },
    {
     "data": {
      "image/png": "[encoded data removed]",
      "text/plain": [
       "<Figure size 640x480 with 1 Axes>"
      ]
     },
     "metadata": {},
     "output_type": "display_data"
    }
   ],
   "source": [
    "# need to prepare arrays for sum with all modes due to +/- m setup\n",
    "ls = amp.l_arr[: teuk_modes.shape[1]]\n",
    "ms = amp.m_arr[: teuk_modes.shape[1]]\n",
    "ns = amp.n_arr[: teuk_modes.shape[1]]\n",
    "\n",
    "keep_modes = np.arange(teuk_modes.shape[1])\n",
    "temp2 = keep_modes * (keep_modes < amp.num_m0) + (keep_modes + amp.num_m_1_up) * (\n",
    "    keep_modes >= amp.num_m0\n",
    ") # amp.num_m0 gives number of modes with m == 0, amp.num_m_1_up gives number of modes with m > 0\n",
    "\n",
    "ylmkeep = np.concatenate([keep_modes, temp2])\n",
    "ylms_in = ylms[ylmkeep]\n",
    "teuk_modes_in = teuk_modes\n",
    "\n",
    "# perform summation\n",
    "waveform1 = interpolate_mode_sum(\n",
    "    t,\n",
    "    teuk_modes_in,\n",
    "    ylms_in,\n",
    "    traj.integrator_spline_t,\n",
    "    traj.integrator_spline_phase_coeff[:, [0, 2]],\n",
    "    ls,\n",
    "    ms,\n",
    "    ns,\n",
    "    dt=dt,\n",
    "    T=T,\n",
    ")\n",
    "\n",
    "plt.plot(waveform1.real, label=\"Real\")\n",
    "plt.plot(waveform1.imag, label=\"Imag\")\n",
    "plt.legend(loc=\"lower left\")"
   ]
  },
  {
   "cell_type": "code",
   "execution_count": 9,
   "id": "36cbb54a",
   "metadata": {},
   "outputs": [],
   "source": [
    "N = int(len(waveform1)) \n",
    "gwf = GWfuncs.GravWaveAnalysis(N=N,dt=dt)\n",
    "# Calculate distance dimensionless\n",
    "dist = 1.0 #Gpc\n",
    "factor = gwf.dist_factor(dist, m2)\n",
    "waveform1_scaled = waveform1/factor"
   ]
  },
  {
   "cell_type": "code",
   "execution_count": 10,
   "id": "8ab26842",
   "metadata": {},
   "outputs": [
    {
     "name": "stdout",
     "output_type": "stream",
     "text": [
      "SNR: 38.19708598849489\n",
      "SNR squared: 1459.0173780124728\n"
     ]
    }
   ],
   "source": [
    "hfull_f = gwf.freq_wave(waveform1_scaled)\n",
    "\n",
    "SNR_ref = gwf.SNR(hfull_f)\n",
    "print(\"SNR:\", SNR_ref)\n",
    "print(\"SNR squared:\", SNR_ref**2)"
   ]
  },
  {
   "cell_type": "code",
   "execution_count": 14,
   "id": "8fae62fc",
   "metadata": {},
   "outputs": [
    {
     "name": "stdout",
     "output_type": "stream",
     "text": [
      "Observation time in seconds: 31558149.763545595\n"
     ]
    }
   ],
   "source": [
    "# Convert T to standard units\n",
    "T_sd = 1.0 * YRSID_SI  # 1 sidereal year in seconds (~31,558,150 seconds)\n",
    "print(\"Observation time in seconds:\", T_sd)"
   ]
  },
  {
   "cell_type": "code",
   "execution_count": 15,
   "id": "ad8ce6ba",
   "metadata": {},
   "outputs": [
    {
     "name": "stdout",
     "output_type": "stream",
     "text": [
      "Number of trajectory points: 11\n",
      "Time step in seconds 2868922.705776872\n"
     ]
    }
   ],
   "source": [
    "N_traj = teuk_modes.shape[0]  # number of trajectory points\n",
    "print(\"Number of trajectory points:\", N_traj)\n",
    "delta_T = T_sd / N_traj  # time step in seconds\n",
    "print(\"Time step in seconds\", delta_T)"
   ]
  },
  {
   "cell_type": "code",
   "execution_count": 16,
   "id": "51333d59",
   "metadata": {},
   "outputs": [],
   "source": [
    "# Get mode labels\n",
    "mode_labels = [f\"({l},{m},{n})\" for l,m,n in zip(amp.l_arr, amp.m_arr, amp.n_arr)]"
   ]
  },
  {
   "cell_type": "markdown",
   "id": "f75c5c36",
   "metadata": {},
   "source": [
    "# Generate mode frequencies "
   ]
  },
  {
   "cell_type": "markdown",
   "id": "24fcf15f",
   "metadata": {},
   "source": [
    "Using *get_fundamental_frequencies* instead"
   ]
  },
  {
   "cell_type": "code",
   "execution_count": 17,
   "id": "d7a2fac8",
   "metadata": {},
   "outputs": [],
   "source": [
    "OmegaPhi, OmegaTheta, OmegaR = get_fundamental_frequencies(a, p, e, x)"
   ]
  },
  {
   "cell_type": "code",
   "execution_count": 18,
   "id": "6735f227",
   "metadata": {},
   "outputs": [
    {
     "data": {
      "text/plain": [
       "array([0.03205396, 0.03205724, 0.03206807, 0.03209582, 0.03218097,\n",
       "       0.03250499, 0.03423571, 0.03588402, 0.03758724, 0.0393431 ,\n",
       "       0.04003604])"
      ]
     },
     "execution_count": 18,
     "metadata": {},
     "output_type": "execute_result"
    }
   ],
   "source": [
    "OmegaPhi"
   ]
  },
  {
   "cell_type": "code",
   "execution_count": 19,
   "id": "bc2d058c",
   "metadata": {},
   "outputs": [],
   "source": [
    "gw_frequencies_per_mode = []\n",
    "mode_frequencies = {}\n",
    "\n",
    "for idx in range(len(mode_labels)):\n",
    "    l = amp.l_arr[idx]\n",
    "    m = amp.m_arr[idx] \n",
    "    n = amp.n_arr[idx]\n",
    "    \n",
    "    # Calculate GW frequencies\n",
    "    # k = 0 for equatorial case\n",
    "    f_gw = m * OmegaPhi + n * OmegaR\n",
    "    \n",
    "    gw_frequencies_per_mode.append(f_gw)"
   ]
  },
  {
   "cell_type": "code",
   "execution_count": 20,
   "id": "cca3dd2d",
   "metadata": {},
   "outputs": [],
   "source": [
    "gw_phase_per_mode = []\n",
    "for idx in range(len(mode_labels)):\n",
    "    l = amp.l_arr[idx]\n",
    "    m = amp.m_arr[idx] \n",
    "    n = amp.n_arr[idx]\n",
    "    \n",
    "    # Calculate GW phases per mode\n",
    "    phi_mode = m * Phi_phi + n * Phi_r\n",
    "    \n",
    "    gw_phase_per_mode.append(phi_mode)"
   ]
  },
  {
   "cell_type": "markdown",
   "id": "c15065f1",
   "metadata": {},
   "source": [
    "# Calculate inner product"
   ]
  },
  {
   "cell_type": "code",
   "execution_count": 21,
   "id": "5118e6c2",
   "metadata": {},
   "outputs": [
    {
     "data": {
      "text/plain": [
       "('(2,2,0)', '(2,2,1)')"
      ]
     },
     "execution_count": 21,
     "metadata": {},
     "output_type": "execute_result"
    }
   ],
   "source": [
    "idx_i = 1165 # 220\n",
    "idx_j = 1166 # 221\n",
    "mode_labels[idx_i], mode_labels[idx_j]"
   ]
  },
  {
   "cell_type": "code",
   "execution_count": 22,
   "id": "26329afc",
   "metadata": {},
   "outputs": [
    {
     "name": "stdout",
     "output_type": "stream",
     "text": [
      "A_0: [0.44924664-0.12386828j 0.44928771-0.12388589j 0.44942348-0.12394409j\n",
      " 0.44977097-0.1240931j  0.45083585-0.12455013j 0.45487033-0.12628676j\n",
      " 0.47595481-0.13548793j 0.49535239-0.14412215j 0.51475619-0.15289684j\n",
      " 0.53413799-0.1617726j  0.54162553-0.16522501j]\n",
      "A_1: [0.26093475-0.08208452j 0.26093606-0.0820878j  0.26094042-0.08209865j\n",
      " 0.26095151-0.08212639j 0.26098504-0.08221107j 0.26110611-0.08252764j\n",
      " 0.26160121-0.08407366j 0.26189359-0.08534002j 0.26208225-0.08646406j\n",
      " 0.26221704-0.08745186j 0.26226515-0.08779906j]\n"
     ]
    }
   ],
   "source": [
    "# Get complex amplitudes for the two modes\n",
    "A0 = teuk_modes[:, idx_i]\n",
    "A1 = teuk_modes[:, idx_j]\n",
    "print(\"A_0:\", A0)\n",
    "print(\"A_1:\", A1)"
   ]
  },
  {
   "cell_type": "code",
   "execution_count": 23,
   "id": "599690b8",
   "metadata": {},
   "outputs": [],
   "source": [
    "# Get sensitivity for the two modes\n",
    "Sn0 = get_sensitivity(gw_frequencies_per_mode[idx_i], sens_fn=LISASens, return_type=\"PSD\")\n",
    "Sn1 = get_sensitivity(gw_frequencies_per_mode[idx_j], sens_fn=LISASens, return_type=\"PSD\")"
   ]
  },
  {
   "cell_type": "code",
   "execution_count": 24,
   "id": "24108f44",
   "metadata": {},
   "outputs": [
    {
     "data": {
      "text/plain": [
       "array([1.02549867e+19-2.82755056e+18j, 1.02550100e+19-2.82770033e+18j,\n",
       "       1.02550863e+19-2.82819530e+18j, 1.02552777e+19-2.82946062e+18j,\n",
       "       1.02558279e+19-2.83332546e+18j, 1.02574206e+19-2.84779262e+18j,\n",
       "       1.02537106e+19-2.91887791e+18j, 1.02339903e+19-2.97756661e+18j,\n",
       "       1.02005202e+19-3.02983696e+18j, 1.01551110e+19-3.07564473e+18j,\n",
       "       1.01347124e+19-3.09163413e+18j])"
      ]
     },
     "execution_count": 24,
     "metadata": {},
     "output_type": "execute_result"
    }
   ],
   "source": [
    "barA0 = A0 / np.sqrt(Sn0)\n",
    "barA0 "
   ]
  },
  {
   "cell_type": "code",
   "execution_count": 25,
   "id": "f8cad797",
   "metadata": {},
   "outputs": [
    {
     "data": {
      "text/plain": [
       "array([4.53923442e+18-1.42794654e+18j, 4.53885817e+18-1.42787808e+18j,\n",
       "       4.53761442e+18-1.42765169e+18j, 4.53443248e+18-1.42707190e+18j,\n",
       "       4.52469170e+18-1.42529149e+18j, 4.48793222e+18-1.41849782e+18j,\n",
       "       4.29984663e+18-1.38188909e+18j, 4.13340338e+18-1.34690089e+18j,\n",
       "       3.97391910e+18-1.31104330e+18j, 3.82214812e+18-1.27472254e+18j,\n",
       "       3.76562026e+18-1.26062466e+18j])"
      ]
     },
     "execution_count": 25,
     "metadata": {},
     "output_type": "execute_result"
    }
   ],
   "source": [
    "barA1 = A1 / np.sqrt(Sn1)\n",
    "barA1"
   ]
  },
  {
   "cell_type": "code",
   "execution_count": 26,
   "id": "d5a44497",
   "metadata": {},
   "outputs": [
    {
     "data": {
      "text/plain": [
       "array([ True, False, False, False, False, False, False, False, False,\n",
       "       False, False])"
      ]
     },
     "execution_count": 26,
     "metadata": {},
     "output_type": "execute_result"
    }
   ],
   "source": [
    "phase01 = np.abs(gw_phase_per_mode[idx_i] - gw_phase_per_mode[idx_j]) < 1.0 \n",
    "phase01"
   ]
  },
  {
   "cell_type": "code",
   "execution_count": 27,
   "id": "bce40471",
   "metadata": {},
   "outputs": [
    {
     "data": {
      "text/plain": [
       "array([5.05873796e+37-1.80865793e+36j])"
      ]
     },
     "execution_count": 27,
     "metadata": {},
     "output_type": "execute_result"
    }
   ],
   "source": [
    "crossprod01 = np.conj(barA0[phase01]) * barA1[phase01]\n",
    "crossprod01"
   ]
  },
  {
   "cell_type": "code",
   "execution_count": 28,
   "id": "47c580e7",
   "metadata": {},
   "outputs": [
    {
     "data": {
      "text/plain": [
       "np.float64(33.23536183686824)"
      ]
     },
     "execution_count": 28,
     "metadata": {},
     "output_type": "execute_result"
    }
   ],
   "source": [
    "inner_contrib_01 = np.sum(crossprod01) * delta_T * 1/(factor**2)\n",
    "np.real(inner_contrib_01)"
   ]
  },
  {
   "cell_type": "code",
   "execution_count": 29,
   "id": "a10e5517",
   "metadata": {},
   "outputs": [
    {
     "data": {
      "text/plain": [
       "array([1.13159794e+38-1.62405645e+21j, 1.13161119e+38+8.58996633e+20j,\n",
       "       1.13165485e+38+1.99484797e+21j, 1.13176569e+38+9.86592002e+19j,\n",
       "       1.13209740e+38-6.76756502e+20j, 1.13324600e+38-1.15680795e+21j,\n",
       "       1.13658429e+38+1.89237898e+21j, 1.13600461e+38+8.24669161e+19j,\n",
       "       1.13230525e+38-7.37369658e+20j, 1.12585871e+38+2.20434319e+21j,\n",
       "       1.12270597e+38-3.56575416e+20j])"
      ]
     },
     "execution_count": 29,
     "metadata": {},
     "output_type": "execute_result"
    }
   ],
   "source": [
    "selfprod00 = np.conj(barA0)*barA0 \n",
    "selfprod00"
   ]
  },
  {
   "cell_type": "code",
   "execution_count": 30,
   "id": "4cdf4cb0",
   "metadata": {},
   "outputs": [
    {
     "data": {
      "text/plain": [
       "np.float64(817.6514286452215)"
      ]
     },
     "execution_count": 30,
     "metadata": {},
     "output_type": "execute_result"
    }
   ],
   "source": [
    "inner_contrib_00 = np.sum(selfprod00) * delta_T * 1/(factor**2)\n",
    "np.real(inner_contrib_00)"
   ]
  },
  {
   "cell_type": "code",
   "execution_count": 31,
   "id": "96c54d02",
   "metadata": {},
   "outputs": [
    {
     "data": {
      "text/plain": [
       "np.float64(694.509869340131)"
      ]
     },
     "execution_count": 31,
     "metadata": {},
     "output_type": "execute_result"
    }
   ],
   "source": [
    "np.real(np.sum(barA0**2) * delta_T * 1/(factor**2))"
   ]
  },
  {
   "cell_type": "code",
   "execution_count": 32,
   "id": "175d5ac6",
   "metadata": {},
   "outputs": [
    {
     "data": {
      "text/plain": [
       "np.float64(147.1515164132481)"
      ]
     },
     "execution_count": 32,
     "metadata": {},
     "output_type": "execute_result"
    }
   ],
   "source": [
    "np.real(np.sum(np.conj(barA1)*barA1) * delta_T * 1/(factor**2))"
   ]
  },
  {
   "cell_type": "code",
   "execution_count": 33,
   "id": "f3b6bc08",
   "metadata": {},
   "outputs": [
    {
     "data": {
      "text/plain": [
       "np.float64(119.75129754237759)"
      ]
     },
     "execution_count": 33,
     "metadata": {},
     "output_type": "execute_result"
    }
   ],
   "source": [
    "np.real(np.sum(barA1**2) * delta_T * 1/(factor**2))"
   ]
  },
  {
   "cell_type": "markdown",
   "id": "e405830f",
   "metadata": {},
   "source": [
    "# Reference values"
   ]
  },
  {
   "cell_type": "code",
   "execution_count": 34,
   "id": "221b88b8",
   "metadata": {},
   "outputs": [],
   "source": [
    "indices = [1165, 1166]"
   ]
  },
  {
   "cell_type": "code",
   "execution_count": 36,
   "id": "3ec15931",
   "metadata": {},
   "outputs": [
    {
     "name": "stdout",
     "output_type": "stream",
     "text": [
      "Mode:  (2,2,0)\n",
      "Mode:  (2,2,1)\n"
     ]
    }
   ],
   "source": [
    "waveform_per_mode = []\n",
    "for idx in indices:\n",
    "    l = amp.l_arr[idx]\n",
    "    m = amp.m_arr[idx]\n",
    "    n = amp.n_arr[idx]\n",
    "    print('Mode: ', mode_labels[idx])\n",
    "\n",
    "    if m >= 0:\n",
    "        # For m >= 0, directly use the mode\n",
    "        teuk_modes_single = teuk_modes[:, [idx]]\n",
    "        ylms_single = ylms[[idx]]\n",
    "        m_arr = amp.m_arr[[idx]]\n",
    "    else:\n",
    "        # Finding corresponding m>0 mode instead of mapping\n",
    "        print('NEGATIVE M MODE')\n",
    "        pos_m_mask = (amp.l_arr == l) & (amp.m_arr == -m) & (amp.n_arr == n) \n",
    "        print(amp.l_arr[pos_m_mask], amp.m_arr[pos_m_mask], amp.n_arr[pos_m_mask])\n",
    "        pos_m_idx = np.where(pos_m_mask)[0]\n",
    "        print(pos_m_idx)\n",
    "        \n",
    "        teuk_modes_single = (-1)**l * np.conj(teuk_modes[:, [pos_m_idx]])\n",
    "        print(teuk_modes_single)\n",
    "        # ylms_single = (-1)**(-m) * np.conj(ylms[[pos_m_idx]])\n",
    "        ylms_single = ylms[[idx]]\n",
    "        print(ylms_single)\n",
    "        m_arr = np.abs(amp.m_arr[[idx]])  # To pass positive m \n",
    "\n",
    "    waveform = interpolate_mode_sum(\n",
    "        t,\n",
    "        teuk_modes_single,\n",
    "        ylms_single,\n",
    "        traj.integrator_spline_t,\n",
    "        traj.integrator_spline_phase_coeff[:, [0, 2]],\n",
    "        amp.l_arr[[idx]], \n",
    "        m_arr,  \n",
    "        amp.n_arr[[idx]], \n",
    "        dt=dt,\n",
    "        T=T\n",
    "    )\n",
    "    waveform_per_mode.append(waveform/factor)"
   ]
  },
  {
   "cell_type": "code",
   "execution_count": 37,
   "id": "1b9f06d8",
   "metadata": {},
   "outputs": [],
   "source": [
    "# Convert each waveform to frequency domain\n",
    "hf_per_mode = [gwf.freq_wave(waveform) for waveform in waveform_per_mode]"
   ]
  },
  {
   "cell_type": "code",
   "execution_count": 38,
   "id": "446a7794",
   "metadata": {},
   "outputs": [
    {
     "data": {
      "text/plain": [
       "np.float64(-0.0051385368643973505)"
      ]
     },
     "execution_count": 38,
     "metadata": {},
     "output_type": "execute_result"
    }
   ],
   "source": [
    "gwf.inner(hf_per_mode[0], hf_per_mode[1])"
   ]
  },
  {
   "cell_type": "code",
   "execution_count": 39,
   "id": "4bffb8ab",
   "metadata": {},
   "outputs": [
    {
     "data": {
      "text/plain": [
       "np.float64(585.780453906222)"
      ]
     },
     "execution_count": 39,
     "metadata": {},
     "output_type": "execute_result"
    }
   ],
   "source": [
    "gwf.inner(hf_per_mode[0], hf_per_mode[0])"
   ]
  },
  {
   "cell_type": "code",
   "execution_count": 40,
   "id": "1fae17dd",
   "metadata": {},
   "outputs": [
    {
     "data": {
      "text/plain": [
       "np.float64(466.6164564228653)"
      ]
     },
     "execution_count": 40,
     "metadata": {},
     "output_type": "execute_result"
    }
   ],
   "source": [
    "gwf.inner(hf_per_mode[1], hf_per_mode[1])"
   ]
  },
  {
   "cell_type": "code",
   "execution_count": null,
   "id": "4db47880",
   "metadata": {},
   "outputs": [],
   "source": []
  }
 ],
 "metadata": {
  "kernelspec": {
   "display_name": "fewnew",
   "language": "python",
   "name": "python3"
  },
  "language_info": {
   "codemirror_mode": {
    "name": "ipython",
    "version": 3
   },
   "file_extension": ".py",
   "mimetype": "text/x-python",
   "name": "python",
   "nbconvert_exporter": "python",
   "pygments_lexer": "ipython3",
   "version": "3.12.9"
  }
 },
 "nbformat": 4,
 "nbformat_minor": 5
}
