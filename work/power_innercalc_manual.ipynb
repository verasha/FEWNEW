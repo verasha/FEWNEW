{
 "cells": [
  {
   "cell_type": "markdown",
   "id": "296d9986",
   "metadata": {},
   "source": [
    "# Import and setup"
   ]
  },
  {
   "cell_type": "code",
   "execution_count": 1,
   "id": "65355769",
   "metadata": {},
   "outputs": [],
   "source": [
    "import numpy as np\n",
    "import matplotlib.pyplot as plt\n",
    "\n",
    "import few\n",
    "\n",
    "from few.trajectory.inspiral import EMRIInspiral\n",
    "from few.trajectory.ode import SchwarzEccFlux, KerrEccEqFlux\n",
    "# from few.amplitude.romannet import RomanAmplitude\n",
    "from few.amplitude.ampinterp2d import AmpInterpKerrEccEq\n",
    "from few.summation.interpolatedmodesum import InterpolatedModeSum\n",
    "\n",
    "\n",
    "from few.utils.ylm import GetYlms\n",
    "from few.utils.modeselector import ModeSelector\n",
    "from few.summation.interpolatedmodesum import CubicSplineInterpolant\n",
    "from few import get_file_manager\n",
    "\n",
    "from few.waveform import (\n",
    "    FastKerrEccentricEquatorialFlux,\n",
    "    FastSchwarzschildEccentricFlux, \n",
    "    SlowSchwarzschildEccentricFlux, \n",
    "    Pn5AAKWaveform,\n",
    "    GenerateEMRIWaveform\n",
    ")\n",
    "\n",
    "from few.utils.geodesic import get_fundamental_frequencies\n",
    "\n",
    "import GWfuncs\n",
    "import gc\n",
    "import pickle\n",
    "import os\n",
    "import cupy as cp\n",
    "import multiprocessing as mp\n",
    "from multiprocessing import Queue, Process\n",
    "from functools import partial\n",
    "from SNR_tutorial_utils import LISA_Noise\n",
    "from lisatools.sensitivity import *\n",
    "\n",
    "from few.utils.constants import YRSID_SI, Gpc, MRSUN_SI\n",
    "\n",
    "\n",
    "\n",
    "# import pandas as pd\n",
    "# tune few configuration\n",
    "cfg_set = few.get_config_setter(reset=True)\n",
    "cfg_set.set_log_level(\"info\");"
   ]
  },
  {
   "cell_type": "code",
   "execution_count": 2,
   "id": "29c9f6f0",
   "metadata": {},
   "outputs": [],
   "source": [
    "# Parameters\n",
    "m1 = 1e6 #M\n",
    "m2 = 1e1 #mu\n",
    "a = 0.5\n",
    "p0 = 9.5\n",
    "e0 = 0.2\n",
    "theta = np.pi / 3.0 \n",
    "phi = np.pi / 4.0  \n",
    "dt = 10.0\n",
    "T = 1\n",
    "xI0 = 1.0 \n",
    "#in the paper xI0 = 0.866, but that would be non-equatorial case\n",
    "\n",
    "use_gpu = True \n",
    "traj = EMRIInspiral(func=KerrEccEqFlux, force_backend=\"cuda12x\", use_gpu=use_gpu, npoints=50)\n",
    "amp = AmpInterpKerrEccEq(force_backend=\"cuda12x\") # default lmax=10, nmax=55\n",
    "interpolate_mode_sum = InterpolatedModeSum(force_backend=\"cuda12x\")\n",
    "ylm_gen = GetYlms(include_minus_m=False, force_backend=\"cuda12x\")"
   ]
  },
  {
   "cell_type": "markdown",
   "id": "ede27aac",
   "metadata": {},
   "source": [
    "# Generate waveform"
   ]
  },
  {
   "cell_type": "code",
   "execution_count": 3,
   "id": "a971b42a-6f91-43ee-8365-f4626df48ddc",
   "metadata": {},
   "outputs": [
    {
     "data": {
      "text/plain": [
       "63116.29952709119"
      ]
     },
     "execution_count": 3,
     "metadata": {},
     "output_type": "execute_result"
    }
   ],
   "source": [
    "delta_T = T*YRSID_SI/500 # change amount of points here\n",
    "delta_T"
   ]
  },
  {
   "cell_type": "code",
   "execution_count": 4,
   "id": "aa6a79b0",
   "metadata": {},
   "outputs": [
    {
     "name": "stdout",
     "output_type": "stream",
     "text": [
      "CPU times: user 13.5 s, sys: 181 ms, total: 13.7 s\n",
      "Wall time: 13.8 s\n"
     ]
    }
   ],
   "source": [
    "# %%time \n",
    "# # Calc trajectory\n",
    "# (t, p, e, x, Phi_phi, Phi_theta, Phi_r) = traj(m1, m2, a, p0, e0, xI0, T=T, dt=delta_T, upsample=True)#upsampling=True, fix_t=True\n",
    "\n",
    "# # Get amplitudes along trajectory\n",
    "# teuk_modes = amp(a, p, e, x)\n",
    "\n",
    "# # Get Ylms\n",
    "# ylms = ylm_gen(amp.unique_l, amp.unique_m, theta, phi).copy()[amp.inverse_lm]\n",
    "\n",
    "# cp.cuda.Stream.null.synchronize()"
   ]
  },
  {
   "cell_type": "code",
   "execution_count": 6,
   "id": "c9e72e42-0396-44b5-aba2-d55f9c310935",
   "metadata": {},
   "outputs": [
    {
     "name": "stdout",
     "output_type": "stream",
     "text": [
      "CPU times: user 10.8 s, sys: 114 ms, total: 11 s\n",
      "Wall time: 11 s\n"
     ]
    }
   ],
   "source": [
    "%%time \n",
    "# Calc trajectory\n",
    "(t_u, p_u, e_u, x_u, Phi_phi_u, Phi_theta_u, Phi_r_u) = traj(m1, m2, a, p0, e0, xI0, T=T, dt=delta_T, upsample=True)\n",
    "(t_f, p_f, e_f, x_f, Phi_phi_f, Phi_theta_f, Phi_r_f) = traj(m1, m2, a, p0, e0, xI0, T=T, dt=dt)\n",
    "\n",
    "# Get amplitudes along trajectory\n",
    "teuk_modes_u = amp(a, p_u, e_u, x_u)\n",
    "teuk_modes_f = amp(a, p_f, e_f, x_f)\n",
    "\n",
    "# Get Ylms\n",
    "ylms = ylm_gen(amp.unique_l, amp.unique_m, theta, phi).copy()[amp.inverse_lm]\n",
    "\n",
    "cp.cuda.Stream.null.synchronize()"
   ]
  },
  {
   "cell_type": "code",
   "execution_count": 7,
   "id": "232b6d7f",
   "metadata": {},
   "outputs": [
    {
     "ename": "NameError",
     "evalue": "name 't' is not defined",
     "output_type": "error",
     "traceback": [
      "\u001b[31m---------------------------------------------------------------------------\u001b[39m",
      "\u001b[31mNameError\u001b[39m                                 Traceback (most recent call last)",
      "\u001b[36mFile \u001b[39m\u001b[32m<timed exec>:1\u001b[39m\n",
      "\u001b[31mNameError\u001b[39m: name 't' is not defined"
     ]
    }
   ],
   "source": [
    "# %%time\n",
    "\n",
    "# t_gpu = cp.asarray(t)\n",
    "\n",
    "# # need to prepare arrays for sum with all modes due to +/- m setup\n",
    "# ls = amp.l_arr[: teuk_modes.shape[1]]\n",
    "# ms = amp.m_arr[: teuk_modes.shape[1]]\n",
    "# ns = amp.n_arr[: teuk_modes.shape[1]]\n",
    "\n",
    "# keep_modes = np.arange(teuk_modes.shape[1])\n",
    "# temp2 = keep_modes * (keep_modes < amp.num_m0) + (keep_modes + amp.num_m_1_up) * (\n",
    "#     keep_modes >= amp.num_m0\n",
    "# ) # amp.num_m0 gives number of modes with m == 0, amp.num_m_1_up gives number of modes with m > 0\n",
    "\n",
    "# ylmkeep = np.concatenate([keep_modes, temp2])\n",
    "# ylms_in = ylms[ylmkeep]\n",
    "# teuk_modes_in = teuk_modes\n",
    "\n",
    "# cp.cuda.Stream.null.synchronize()"
   ]
  },
  {
   "cell_type": "code",
   "execution_count": 10,
   "id": "cdf1b97a-bbf2-4391-90f5-5de5e2a93480",
   "metadata": {},
   "outputs": [
    {
     "name": "stdout",
     "output_type": "stream",
     "text": [
      "CPU times: user 1.18 ms, sys: 0 ns, total: 1.18 ms\n",
      "Wall time: 1.05 ms\n"
     ]
    }
   ],
   "source": [
    "%%time\n",
    "\n",
    "t_u_gpu = cp.asarray(t_u)\n",
    "t_f_gpu = cp.asarray(t_f)\n",
    "\n",
    "\n",
    "# need to prepare arrays for sum with all modes due to +/- m setup\n",
    "ls_u = amp.l_arr[: teuk_modes_u.shape[1]]\n",
    "ls_f = amp.l_arr[: teuk_modes_f.shape[1]]\n",
    "\n",
    "ms_u = amp.m_arr[: teuk_modes_u.shape[1]]\n",
    "ms_f = amp.m_arr[: teuk_modes_f.shape[1]]\n",
    "\n",
    "ns_u = amp.n_arr[: teuk_modes_u.shape[1]]\n",
    "ns_f = amp.n_arr[: teuk_modes_f.shape[1]]\n",
    "\n",
    "keep_modes_u = np.arange(teuk_modes_u.shape[1])\n",
    "keep_modes_f = np.arange(teuk_modes_f.shape[1])\n",
    "\n",
    "temp2_u = keep_modes_u * (keep_modes_u < amp.num_m0) + (keep_modes_u + amp.num_m_1_up) * (\n",
    "    keep_modes_u >= amp.num_m0\n",
    ") \n",
    "\n",
    "temp2_f = keep_modes_f * (keep_modes_f < amp.num_m0) + (keep_modes_f + amp.num_m_1_up) * (\n",
    "    keep_modes_f >= amp.num_m0\n",
    ") \n",
    "\n",
    "ylmkeep_u = np.concatenate([keep_modes_u, temp2_u])\n",
    "ylmkeep_f = np.concatenate([keep_modes_f, temp2_f])\n",
    "\n",
    "ylms_in_u = ylms[ylmkeep_u]\n",
    "ylms_in_f = ylms[ylmkeep_f]\n",
    "\n",
    "teuk_modes_in_u = teuk_modes_u\n",
    "teuk_modes_in_f = teuk_modes_f\n",
    "\n",
    "\n",
    "cp.cuda.Stream.null.synchronize()"
   ]
  },
  {
   "cell_type": "code",
   "execution_count": null,
   "id": "5c930440-4872-446e-8c29-2b37ddfa9313",
   "metadata": {},
   "outputs": [],
   "source": [
    "# %%time\n",
    "\n",
    "# # perform summation\n",
    "# waveform1 = interpolate_mode_sum(\n",
    "#     t_gpu,\n",
    "#     teuk_modes_in,\n",
    "#     ylms_in,\n",
    "#     traj.integrator_spline_t,\n",
    "#     traj.integrator_spline_phase_coeff[:, [0, 2]],\n",
    "#     ls,\n",
    "#     ms,\n",
    "#     ns,\n",
    "#     dt=delta_T,\n",
    "#     T=T,\n",
    "# )\n",
    "\n",
    "# cp.cuda.Stream.null.synchronize()"
   ]
  },
  {
   "cell_type": "code",
   "execution_count": 11,
   "id": "fd799c47-a905-4b41-aafa-dcefb8d439c8",
   "metadata": {},
   "outputs": [
    {
     "name": "stdout",
     "output_type": "stream",
     "text": [
      "CPU times: user 10.4 s, sys: 19 ms, total: 10.5 s\n",
      "Wall time: 10.5 s\n"
     ]
    }
   ],
   "source": [
    "%%time\n",
    "\n",
    "# perform summation\n",
    "waveform1_u = interpolate_mode_sum(\n",
    "    t_u_gpu,\n",
    "    teuk_modes_in_u,\n",
    "    ylms_in_u,\n",
    "    traj.integrator_spline_t,\n",
    "    traj.integrator_spline_phase_coeff[:, [0, 2]],\n",
    "    ls_u,\n",
    "    ms_u,\n",
    "    ns_u,\n",
    "    dt=delta_T,\n",
    "    T=T,\n",
    ")\n",
    "\n",
    "cp.cuda.Stream.null.synchronize()"
   ]
  },
  {
   "cell_type": "code",
   "execution_count": 12,
   "id": "4c2d56e0-56da-4318-af20-83fc48b66eb4",
   "metadata": {},
   "outputs": [
    {
     "data": {
      "text/plain": [
       "array([nan+nanj, nan+nanj, nan+nanj, nan+nanj, nan+nanj, nan+nanj,\n",
       "       nan+nanj, nan+nanj, nan+nanj, nan+nanj, nan+nanj, nan+nanj,\n",
       "       nan+nanj, nan+nanj, nan+nanj, nan+nanj, nan+nanj, nan+nanj,\n",
       "       nan+nanj, nan+nanj, nan+nanj, nan+nanj, nan+nanj, nan+nanj,\n",
       "       nan+nanj, nan+nanj, nan+nanj, nan+nanj, nan+nanj, nan+nanj,\n",
       "       nan+nanj, nan+nanj, nan+nanj, nan+nanj, nan+nanj, nan+nanj,\n",
       "       nan+nanj, nan+nanj, nan+nanj, nan+nanj, nan+nanj, nan+nanj,\n",
       "       nan+nanj, nan+nanj, nan+nanj, nan+nanj, nan+nanj, nan+nanj,\n",
       "       nan+nanj, nan+nanj, nan+nanj, nan+nanj, nan+nanj, nan+nanj,\n",
       "       nan+nanj, nan+nanj, nan+nanj, nan+nanj, nan+nanj, nan+nanj,\n",
       "       nan+nanj, nan+nanj, nan+nanj, nan+nanj, nan+nanj, nan+nanj,\n",
       "       nan+nanj, nan+nanj, nan+nanj, nan+nanj, nan+nanj, nan+nanj,\n",
       "       nan+nanj, nan+nanj, nan+nanj, nan+nanj, nan+nanj, nan+nanj,\n",
       "       nan+nanj, nan+nanj, nan+nanj, nan+nanj, nan+nanj, nan+nanj,\n",
       "       nan+nanj, nan+nanj, nan+nanj, nan+nanj, nan+nanj, nan+nanj,\n",
       "       nan+nanj, nan+nanj, nan+nanj, nan+nanj, nan+nanj, nan+nanj,\n",
       "       nan+nanj, nan+nanj, nan+nanj, nan+nanj, nan+nanj, nan+nanj,\n",
       "       nan+nanj, nan+nanj, nan+nanj, nan+nanj, nan+nanj, nan+nanj,\n",
       "       nan+nanj, nan+nanj, nan+nanj, nan+nanj, nan+nanj, nan+nanj,\n",
       "       nan+nanj, nan+nanj, nan+nanj, nan+nanj, nan+nanj, nan+nanj,\n",
       "       nan+nanj, nan+nanj, nan+nanj, nan+nanj, nan+nanj, nan+nanj,\n",
       "       nan+nanj, nan+nanj, nan+nanj, nan+nanj, nan+nanj, nan+nanj,\n",
       "       nan+nanj, nan+nanj, nan+nanj, nan+nanj, nan+nanj, nan+nanj,\n",
       "       nan+nanj, nan+nanj, nan+nanj, nan+nanj, nan+nanj, nan+nanj,\n",
       "       nan+nanj, nan+nanj, nan+nanj, nan+nanj, nan+nanj, nan+nanj,\n",
       "       nan+nanj, nan+nanj, nan+nanj, nan+nanj, nan+nanj, nan+nanj,\n",
       "       nan+nanj, nan+nanj, nan+nanj, nan+nanj, nan+nanj, nan+nanj,\n",
       "       nan+nanj, nan+nanj, nan+nanj, nan+nanj, nan+nanj, nan+nanj,\n",
       "       nan+nanj, nan+nanj, nan+nanj, nan+nanj, nan+nanj, nan+nanj,\n",
       "       nan+nanj, nan+nanj, nan+nanj, nan+nanj, nan+nanj, nan+nanj,\n",
       "       nan+nanj, nan+nanj, nan+nanj, nan+nanj, nan+nanj, nan+nanj,\n",
       "       nan+nanj, nan+nanj, nan+nanj, nan+nanj, nan+nanj, nan+nanj,\n",
       "       nan+nanj, nan+nanj, nan+nanj, nan+nanj, nan+nanj, nan+nanj,\n",
       "       nan+nanj, nan+nanj, nan+nanj, nan+nanj, nan+nanj, nan+nanj,\n",
       "       nan+nanj, nan+nanj, nan+nanj, nan+nanj, nan+nanj, nan+nanj,\n",
       "       nan+nanj, nan+nanj, nan+nanj, nan+nanj, nan+nanj, nan+nanj,\n",
       "       nan+nanj, nan+nanj, nan+nanj, nan+nanj, nan+nanj, nan+nanj,\n",
       "       nan+nanj, nan+nanj, nan+nanj, nan+nanj, nan+nanj, nan+nanj,\n",
       "       nan+nanj, nan+nanj, nan+nanj, nan+nanj, nan+nanj, nan+nanj,\n",
       "       nan+nanj, nan+nanj, nan+nanj, nan+nanj, nan+nanj, nan+nanj,\n",
       "       nan+nanj, nan+nanj, nan+nanj, nan+nanj, nan+nanj, nan+nanj,\n",
       "       nan+nanj, nan+nanj, nan+nanj, nan+nanj, nan+nanj, nan+nanj,\n",
       "       nan+nanj, nan+nanj, nan+nanj, nan+nanj, nan+nanj, nan+nanj,\n",
       "       nan+nanj, nan+nanj, nan+nanj, nan+nanj, nan+nanj, nan+nanj,\n",
       "       nan+nanj, nan+nanj, nan+nanj, nan+nanj, nan+nanj, nan+nanj,\n",
       "       nan+nanj, nan+nanj, nan+nanj, nan+nanj, nan+nanj, nan+nanj,\n",
       "       nan+nanj, nan+nanj, nan+nanj, nan+nanj, nan+nanj, nan+nanj,\n",
       "       nan+nanj, nan+nanj, nan+nanj, nan+nanj, nan+nanj, nan+nanj,\n",
       "       nan+nanj, nan+nanj, nan+nanj, nan+nanj, nan+nanj, nan+nanj,\n",
       "       nan+nanj, nan+nanj, nan+nanj, nan+nanj, nan+nanj, nan+nanj,\n",
       "       nan+nanj, nan+nanj, nan+nanj, nan+nanj, nan+nanj, nan+nanj,\n",
       "       nan+nanj, nan+nanj, nan+nanj, nan+nanj, nan+nanj, nan+nanj,\n",
       "       nan+nanj, nan+nanj, nan+nanj, nan+nanj, nan+nanj, nan+nanj,\n",
       "       nan+nanj, nan+nanj, nan+nanj, nan+nanj, nan+nanj, nan+nanj,\n",
       "       nan+nanj, nan+nanj, nan+nanj, nan+nanj, nan+nanj, nan+nanj,\n",
       "       nan+nanj, nan+nanj, nan+nanj, nan+nanj, nan+nanj, nan+nanj,\n",
       "       nan+nanj, nan+nanj, nan+nanj, nan+nanj, nan+nanj, nan+nanj,\n",
       "       nan+nanj, nan+nanj, nan+nanj, nan+nanj, nan+nanj, nan+nanj,\n",
       "       nan+nanj, nan+nanj, nan+nanj, nan+nanj, nan+nanj, nan+nanj,\n",
       "       nan+nanj, nan+nanj, nan+nanj, nan+nanj, nan+nanj, nan+nanj,\n",
       "       nan+nanj, nan+nanj, nan+nanj, nan+nanj, nan+nanj, nan+nanj,\n",
       "       nan+nanj, nan+nanj, nan+nanj, nan+nanj, nan+nanj, nan+nanj,\n",
       "       nan+nanj, nan+nanj, nan+nanj, nan+nanj, nan+nanj, nan+nanj,\n",
       "       nan+nanj, nan+nanj, nan+nanj, nan+nanj, nan+nanj, nan+nanj,\n",
       "       nan+nanj, nan+nanj, nan+nanj, nan+nanj, nan+nanj, nan+nanj,\n",
       "       nan+nanj, nan+nanj, nan+nanj, nan+nanj, nan+nanj, nan+nanj,\n",
       "       nan+nanj, nan+nanj, nan+nanj, nan+nanj, nan+nanj, nan+nanj,\n",
       "       nan+nanj, nan+nanj, nan+nanj, nan+nanj, nan+nanj, nan+nanj,\n",
       "       nan+nanj, nan+nanj, nan+nanj, nan+nanj, nan+nanj, nan+nanj,\n",
       "       nan+nanj, nan+nanj, nan+nanj, nan+nanj, nan+nanj, nan+nanj,\n",
       "       nan+nanj, nan+nanj, nan+nanj, nan+nanj, nan+nanj, nan+nanj,\n",
       "       nan+nanj, nan+nanj, nan+nanj, nan+nanj, nan+nanj, nan+nanj,\n",
       "       nan+nanj, nan+nanj, nan+nanj, nan+nanj, nan+nanj, nan+nanj,\n",
       "       nan+nanj, nan+nanj, nan+nanj, nan+nanj, nan+nanj, nan+nanj,\n",
       "       nan+nanj, nan+nanj, nan+nanj, nan+nanj, nan+nanj, nan+nanj,\n",
       "       nan+nanj, nan+nanj, nan+nanj, nan+nanj, nan+nanj, nan+nanj,\n",
       "       nan+nanj, nan+nanj, nan+nanj, nan+nanj, nan+nanj, nan+nanj,\n",
       "       nan+nanj, nan+nanj, nan+nanj, nan+nanj, nan+nanj, nan+nanj,\n",
       "       nan+nanj, nan+nanj, nan+nanj, nan+nanj, nan+nanj, nan+nanj,\n",
       "       nan+nanj, nan+nanj, nan+nanj, nan+nanj, nan+nanj, nan+nanj,\n",
       "       nan+nanj, nan+nanj, nan+nanj, nan+nanj, nan+nanj, nan+nanj,\n",
       "       nan+nanj, nan+nanj, nan+nanj, nan+nanj, nan+nanj, nan+nanj,\n",
       "       nan+nanj, nan+nanj, nan+nanj, nan+nanj, nan+nanj, nan+nanj,\n",
       "       nan+nanj, nan+nanj])"
      ]
     },
     "execution_count": 12,
     "metadata": {},
     "output_type": "execute_result"
    }
   ],
   "source": [
    "waveform1_u"
   ]
  },
  {
   "cell_type": "code",
   "execution_count": 13,
   "id": "e063ca2b-59ba-4472-bb96-505169a3b7dc",
   "metadata": {},
   "outputs": [
    {
     "name": "stdout",
     "output_type": "stream",
     "text": [
      "CPU times: user 277 ms, sys: 3.87 ms, total: 281 ms\n",
      "Wall time: 281 ms\n"
     ]
    }
   ],
   "source": [
    "%%time\n",
    "\n",
    "# perform summation\n",
    "waveform1_f = interpolate_mode_sum(\n",
    "    t_f_gpu,\n",
    "    teuk_modes_in_f,\n",
    "    ylms_in_f,\n",
    "    traj.integrator_spline_t,\n",
    "    traj.integrator_spline_phase_coeff[:, [0, 2]],\n",
    "    ls_f,\n",
    "    ms_f,\n",
    "    ns_f,\n",
    "    dt=delta_T,\n",
    "    T=T,\n",
    ")\n",
    "\n",
    "cp.cuda.Stream.null.synchronize()"
   ]
  },
  {
   "cell_type": "code",
   "execution_count": 14,
   "id": "a3af2bbc-dcfd-4fa6-825a-78a024d1d10b",
   "metadata": {},
   "outputs": [
    {
     "data": {
      "text/plain": [
       "array([ 2.19303172e-01+0.1927499j , -2.18458451e-01+0.09485164j,\n",
       "       -3.34073217e-01-0.10939711j, -1.45123391e-01-0.13410802j,\n",
       "        7.32812352e-02-0.21634381j,  1.34400613e-02-0.14307672j,\n",
       "        1.65564338e-01-0.08141199j,  8.15438823e-02-0.10568146j,\n",
       "        1.70327160e-01-0.04894861j,  3.28852693e-02-0.14191166j,\n",
       "       -9.72241600e-02-0.24194011j, -1.47405558e-01+0.16625637j,\n",
       "        1.58186028e-01-0.12725114j, -1.05379586e-01-0.16838841j,\n",
       "       -1.45546390e-01+0.05555176j,  1.89731589e-01+0.07015994j,\n",
       "       -1.29231389e-01-0.26543789j,  2.69260187e-01+0.03186786j,\n",
       "       -1.65414556e-01+0.03077035j,  1.69756086e-01-0.01894486j,\n",
       "       -2.97384942e-01+0.09142618j, -3.03578686e-01-0.12663045j,\n",
       "        1.73394653e-01-0.05724119j, -9.14217800e-02+0.12048139j,\n",
       "       -2.18789593e-01+0.09652299j, -1.63467769e-01+0.06246153j,\n",
       "       -7.44431496e-02-0.11676955j, -7.83258653e-02-0.18531264j,\n",
       "       -1.64645391e-01-0.05730277j, -3.59700869e-02-0.13180046j,\n",
       "       -2.39008268e-01-0.05062185j, -1.36812240e-01+0.07477425j,\n",
       "       -1.74284172e-01+0.08250363j,  2.44322863e-01-0.03786691j,\n",
       "        1.62927961e-01-0.08199288j, -2.40957116e-01+0.22128529j,\n",
       "        1.64613328e-01+0.03238595j, -6.87073303e-02-0.18706803j,\n",
       "        2.88421304e-02+0.13024246j,  2.42107818e-01-0.1457455j ,\n",
       "        1.72733435e-01+0.03783128j, -1.17309428e-01-0.15193989j,\n",
       "        1.69034893e-01-0.07584654j, -7.13836931e-02+0.2667977j ,\n",
       "       -1.63145802e-01+0.01369103j,  1.19492321e-01-0.27978168j,\n",
       "        1.17563489e-01-0.08695373j,  2.86675206e-01-0.03048357j,\n",
       "        1.16242779e-01+0.15496954j,  1.80349166e-01+0.06203641j,\n",
       "        2.20487864e-01+0.17010563j,  1.22454636e-01+0.08684405j,\n",
       "        6.91284638e-03-0.17537874j,  2.37551197e-01-0.05557992j,\n",
       "       -1.62387720e-01-0.01597079j,  2.10617961e-01+0.15427188j,\n",
       "        1.02256243e-01+0.15337589j, -1.24360266e-01-0.08203243j,\n",
       "        2.25456583e-01+0.04456375j,  2.81921870e-01-0.10396j   ,\n",
       "       -1.40285767e-01+0.07917747j, -1.06596278e-01-0.10280959j,\n",
       "        2.45321346e-01-0.03308749j, -2.28584258e-01-0.21453599j,\n",
       "        1.94882918e-01-0.01082297j,  1.21142695e-01+0.08963306j,\n",
       "        3.54530328e-02+0.15323651j, -2.06491544e-01+0.10412232j,\n",
       "       -1.45071721e-01-0.14585854j, -1.41109711e-02-0.15003301j,\n",
       "       -5.40053008e-02-0.12312867j, -1.35556199e-01-0.07290587j,\n",
       "       -1.74671159e-01+0.0245262j , -1.14759542e-01+0.13670484j,\n",
       "        4.51392203e-02+0.19648058j,  2.47834901e-01+0.12274557j,\n",
       "        2.66107280e-01-0.16020685j, -2.97382227e-01-0.13326652j,\n",
       "        1.64594090e-01+0.17972821j,  5.17671434e-03-0.1615702j ,\n",
       "       -1.22517777e-01+0.12177996j,  1.64481304e-01-0.13953745j,\n",
       "        8.91628421e-02+0.18398596j, -1.47501572e-01-0.09554787j,\n",
       "        2.19543541e-01+0.03281258j,  9.68470835e-02+0.20808745j,\n",
       "       -2.17344499e-01+0.02451042j, -1.77620162e-01-0.25137096j,\n",
       "       -1.26503038e-01-0.17218484j,  1.47656386e-02-0.29547407j,\n",
       "       -1.22136903e-01-0.14359269j, -7.16892646e-02-0.20066853j,\n",
       "       -1.10395203e-01-0.10066368j, -1.04838075e-01-0.15354467j,\n",
       "       -1.66613651e-01-0.04564219j, -1.41828300e-01+0.21917066j,\n",
       "        2.92398027e-01+0.06432097j, -2.04534363e-01-0.03834108j,\n",
       "        8.06599477e-02+0.14914497j,  1.77704026e-01+0.01451341j,\n",
       "       -1.98795816e-01-0.04868707j,  9.76756336e-02-0.18862675j,\n",
       "        9.32162611e-02+0.16327523j,  9.03165868e-02-0.14472573j,\n",
       "        1.28304222e-02+0.17798282j, -6.75676729e-02+0.18694825j,\n",
       "       -1.66724785e-01-0.02069479j,  9.93539290e-02-0.12884861j,\n",
       "        8.39254451e-02-0.19323153j,  9.49470556e-02-0.11044132j,\n",
       "        1.98421320e-01+0.07915255j,  1.43499996e-01-0.16419057j,\n",
       "        7.94501990e-02-0.11174948j,  1.33825493e-01-0.14952715j,\n",
       "       -1.95053521e-01+0.01175326j, -1.74929482e-01+0.01263526j,\n",
       "        2.38433917e-01+0.11957583j,  1.04333804e-01-0.13571357j,\n",
       "       -2.82842706e-01+0.19928054j,  1.03203942e-01-0.10082894j,\n",
       "       -2.25860506e-01-0.05445577j,  1.73667494e-01-0.07244316j,\n",
       "       -2.95818376e-01+0.14994153j, -1.18856517e-01-0.09438872j,\n",
       "        1.88644139e-01+0.16063115j,  4.57579868e-02+0.15696415j,\n",
       "       -2.39298532e-01+0.06283864j, -2.79100423e-02-0.17683209j,\n",
       "       -1.86982000e-01-0.08341845j,  2.29806904e-01-0.04842981j,\n",
       "       -9.96449135e-02-0.1110521j ,  3.52196121e-02-0.30467429j,\n",
       "       -1.06999838e-01-0.10598163j, -3.11466936e-03+0.19955689j,\n",
       "       -9.86728559e-02+0.18387586j,  1.64451596e-01-0.04495652j,\n",
       "       -2.64513354e-01+0.01779103j, -8.93680394e-02+0.19571973j,\n",
       "        1.24949578e-01-0.10806163j,  2.92025105e-02+0.1665503j ,\n",
       "       -3.69665981e-02-0.26803626j, -1.25409603e-01+0.16230022j,\n",
       "       -1.13324808e-01-0.10564152j,  2.86592574e-02-0.12940547j,\n",
       "        2.00403863e-01-0.06560257j, -2.17956559e-03+0.29112338j,\n",
       "       -2.14831124e-01-0.18657414j, -6.95303892e-02-0.18302024j,\n",
       "       -1.58883462e-01-0.128125j  , -2.44218058e-01+0.0131003j ,\n",
       "       -1.67470201e-01+0.18665312j,  5.37759631e-03+0.27007561j,\n",
       "        1.84790783e-01+0.22784158j,  2.75897592e-01+0.01414902j,\n",
       "        3.90580477e-02-0.16990319j, -1.94036639e-01+0.00858297j,\n",
       "        1.21824067e-01+0.11841373j, -1.42411813e-01-0.1588403j ,\n",
       "        1.84885243e-01+0.04463445j, -1.69377746e-01-0.02693059j,\n",
       "        1.88832585e-01-0.01441345j,  3.88187447e-02+0.17419729j,\n",
       "       -1.68740685e-01-0.04308922j,  1.43883725e-01-0.14420031j,\n",
       "        1.86182722e-01-0.07645924j,  1.33520773e-01+0.15011382j,\n",
       "        2.73804165e-01+0.07099735j,  2.31724532e-01+0.14132502j,\n",
       "        1.30316918e-01-0.16879256j,  8.63899610e-02-0.21589516j,\n",
       "       -1.38843225e-01-0.08709281j, -2.29619278e-01-0.00368754j,\n",
       "       -1.13041664e-01+0.11278758j,  2.35128098e-01-0.05621685j,\n",
       "       -3.79784468e-01+0.05440907j,  2.38180123e-01+0.0085909j ,\n",
       "       -1.64443196e-01-0.03365757j,  1.85219498e-01+0.08105104j,\n",
       "       -3.66284822e-01+0.0145952j , -1.52588622e-01-0.22672682j,\n",
       "        1.61467553e-01+0.05694168j, -1.61730477e-01+0.08390094j,\n",
       "       -2.27592526e-01+0.09280567j, -1.75945108e-01+0.03377772j,\n",
       "       -8.51765912e-02-0.1250132j , -2.18541925e-01-0.10142506j,\n",
       "       -1.75166249e-01+0.02860521j, -1.82310864e-01-0.04123113j,\n",
       "        4.44662121e-02+0.20257877j,  1.44011344e-01+0.07635683j,\n",
       "        2.61825670e-01-0.14943061j, -1.67112644e-02+0.18849425j,\n",
       "        2.12867080e-01+0.09034741j, -1.96533731e-01+0.0588554j ,\n",
       "        5.68032661e-02+0.14167821j, -1.12862218e-01+0.2415779j ,\n",
       "        1.30724559e-01-0.09840437j,  2.01545165e-01+0.12936758j,\n",
       "       -2.48450999e-01-0.03595927j, -2.13030779e-01+0.00316754j,\n",
       "        2.21770749e-01-0.0587425j , -5.93731296e-02-0.14022963j,\n",
       "        2.67394018e-01+0.05227308j,  2.32049455e-02-0.13098785j,\n",
       "       -2.42455120e-02-0.30249125j, -7.82252776e-02-0.13205741j,\n",
       "        5.12992146e-03+0.19017779j,  4.43342907e-02+0.21291097j,\n",
       "        9.20276788e-02-0.11873625j, -3.49103701e-02+0.1980178j ,\n",
       "        2.62297971e-01+0.11215291j, -1.57122040e-01-0.07466958j,\n",
       "        7.31578744e-02-0.12339538j,  1.69966659e-01+0.2019946j ,\n",
       "        1.35503313e-01-0.23766893j,  1.74372361e-01+0.05393984j,\n",
       "        1.32583948e-01+0.09796637j,  6.92176489e-02+0.17726426j,\n",
       "       -2.08765460e-01+0.12127805j, -2.08615682e-01-0.01624662j,\n",
       "       -1.71143938e-01+0.03882285j, -5.31804705e-02+0.13010096j,\n",
       "        1.70611107e-01+0.07960547j,  1.70911097e-01-0.18823122j,\n",
       "       -3.13059218e-01-0.16801734j, -6.51212676e-02+0.29466671j,\n",
       "        2.57768463e-01-0.05900158j, -1.84305938e-01-0.09307056j,\n",
       "        1.12131200e-01+0.14842j   , -2.63818363e-01-0.0672038j ,\n",
       "        1.07812306e-01-0.12706332j, -3.39353889e-03+0.15191725j,\n",
       "       -2.47289838e-01+0.06764219j, -1.31247932e-01-0.10760493j,\n",
       "        1.47600566e-01-0.16423303j,  7.93136066e-02-0.1563677j ,\n",
       "        2.55972133e-01-0.10027271j, -3.65309119e-02-0.1937295j ,\n",
       "       -3.18150152e-01-0.19200602j, -1.43862576e-01+0.16206349j,\n",
       "        2.22778706e-01-0.02298481j,  1.13853054e-01-0.16046251j,\n",
       "       -1.71778302e-01-0.01097053j,  1.45253115e-01+0.13357444j,\n",
       "        7.45887115e-02-0.24607762j,  2.31539603e-01+0.14530898j,\n",
       "       -1.40172815e-01+0.12399458j, -2.95153316e-02-0.13338879j,\n",
       "        1.65575503e-01+0.12304865j, -6.57205971e-02+0.28678614j,\n",
       "        1.28448107e-02+0.23194202j, -2.37012668e-01+0.00834102j,\n",
       "       -8.32527874e-02-0.22476287j, -2.73941782e-01+0.20170318j,\n",
       "       -5.53990082e-02+0.17832658j, -9.50648499e-02+0.20611594j,\n",
       "        1.59733622e-01-0.15966154j, -1.00003978e-01-0.11119961j,\n",
       "       -2.21623911e-01+0.03032204j,  1.83375330e-01-0.15752654j,\n",
       "       -2.32089045e-01-0.085381j  ,  6.77926198e-02-0.19549539j,\n",
       "       -1.09683283e-01+0.10778808j, -9.51799093e-02-0.30804123j,\n",
       "        7.53125730e-02-0.12155099j,  4.98627995e-02+0.21068042j,\n",
       "        1.04583557e-01+0.14221002j, -2.00287213e-01+0.12921571j,\n",
       "       -7.06999098e-02+0.17155625j, -7.79999201e-02+0.20438556j,\n",
       "        7.88381021e-02+0.16366668j,  2.64901302e-01-0.08800697j,\n",
       "        9.34331620e-02-0.15093485j, -1.20317733e-01+0.16735773j,\n",
       "        1.95697555e-01+0.17204934j, -7.32867407e-02-0.13078956j,\n",
       "        1.94548292e-01-0.04233172j, -2.55592291e-01-0.24167227j,\n",
       "        1.66978727e-01+0.07640403j,  6.16781206e-02+0.14388698j,\n",
       "       -2.37711982e-01+0.07567459j, -2.53853913e-02-0.16743204j,\n",
       "       -1.71814110e-02-0.13568318j, -1.07029467e-01-0.12875808j,\n",
       "       -1.02723906e-01-0.18455721j,  1.34019394e-04-0.18620214j,\n",
       "       -1.42547671e-01-0.09311455j, -9.57358117e-02+0.11732581j,\n",
       "        2.16756054e-01-0.01612986j, -3.02532414e-01-0.11298187j,\n",
       "        1.97786393e-01+0.21994436j,  6.13543988e-02-0.19695913j,\n",
       "       -1.53258937e-01+0.13132102j,  5.67523447e-02-0.21243567j,\n",
       "        1.94268587e-01-0.0347662j , -4.50507824e-02+0.14057689j,\n",
       "       -1.79928942e-01+0.12795777j, -1.76206751e-01-0.00689626j,\n",
       "       -2.22014786e-01-0.07885232j, -1.72324960e-01-0.02929384j,\n",
       "       -2.37962875e-01+0.04558132j, -1.23787492e-01+0.10618698j,\n",
       "        1.84729552e-01+0.09472268j,  2.25847806e-01-0.06465283j,\n",
       "       -2.18727262e-01-0.02358545j,  2.82108536e-01-0.0238991j ,\n",
       "       -3.54492380e-01+0.13354003j,  2.21919273e-01-0.16806123j,\n",
       "       -8.73725699e-03+0.15483783j, -1.47310413e-01-0.07567068j,\n",
       "        1.52817895e-01-0.09432091j,  2.66600042e-01+0.08095504j,\n",
       "        2.82050470e-01-0.01893748j,  2.03065756e-01-0.01410684j,\n",
       "        1.63631856e-01+0.09213625j,  2.42333627e-01+0.08795417j,\n",
       "       -4.30399189e-02-0.19812882j, -1.82708800e-01-0.01582203j,\n",
       "       -1.59478793e-01+0.08570884j,  3.27159014e-01-0.06926347j,\n",
       "       -1.03654336e-01+0.18269973j,  2.09660130e-01-0.02486908j,\n",
       "       -9.32075961e-02+0.19640571j, -9.68853130e-02-0.17541424j,\n",
       "        2.64338674e-01-0.03014476j,  1.83949154e-01+0.09094473j,\n",
       "       -1.73223235e-01+0.17502676j, -1.35355325e-02+0.18923674j,\n",
       "       -1.90488146e-01+0.13725517j,  9.32391163e-02+0.1942142j ,\n",
       "        1.66474725e-01+0.11082395j,  1.26403543e-01-0.25141568j,\n",
       "       -1.18772396e-01-0.11800212j,  2.32204247e-01+0.01987036j,\n",
       "        2.55096730e-01-0.06060525j,  1.51944393e-02+0.14881973j,\n",
       "       -1.25932502e-01-0.18035511j,  1.92692433e-01+0.03374867j,\n",
       "        1.83228786e-01+0.14708764j, -1.99034331e-01-0.2407474j ,\n",
       "       -5.08462253e-02-0.18602116j, -2.38339879e-01-0.16755731j,\n",
       "        2.00521583e-01-0.23219251j,  4.72273452e-04-0.19690601j,\n",
       "       -1.55208374e-01+0.162277j  ,  2.54695159e-01+0.13352231j,\n",
       "        2.67157052e-01-0.02330902j, -1.21149967e-01-0.1120088j ,\n",
       "        1.03203957e-01+0.12125633j, -2.96647003e-01+0.01875902j,\n",
       "        2.08290489e-01-0.13303077j, -2.35526584e-01+0.07588677j,\n",
       "        1.08916387e-01-0.22285917j,  1.24810183e-01-0.11865909j,\n",
       "        1.85852180e-01+0.03859863j,  1.49149979e-01-0.07734698j,\n",
       "        1.98755633e-01-0.05273507j, -3.91666120e-02-0.14521805j,\n",
       "       -2.45735040e-01-0.09997466j, -1.06051769e-01+0.13632625j,\n",
       "        1.73994191e-01-0.08294492j, -2.32306182e-01-0.12400433j,\n",
       "        9.60231749e-02+0.13898278j, -1.66162506e-01-0.06514407j,\n",
       "        1.68827645e-01-0.05332436j, -9.63372060e-02+0.17457094j,\n",
       "       -1.27246055e-01-0.17989277j,  1.94540016e-01-0.14088627j,\n",
       "        2.87882494e-01-0.09357622j,  1.50239222e-01-0.28644654j,\n",
       "       -2.77803199e-01-0.14828613j, -2.49486425e-01+0.06119478j,\n",
       "       -1.15446208e-01+0.17244297j,  2.42242888e-01+0.08060522j,\n",
       "       -2.23451692e-01-0.10646474j,  1.68029895e-01+0.11414803j,\n",
       "       -7.25996933e-02-0.18677197j,  2.55185029e-01+0.09169691j,\n",
       "       -4.19663835e-02+0.19889558j, -2.39491520e-01-0.06385722j,\n",
       "        6.17993504e-02-0.17093174j,  3.68423354e-03-0.28269111j,\n",
       "        2.93808061e-02-0.13923391j,  2.50484104e-01-0.19094199j,\n",
       "       -1.96539537e-01+0.00889006j, -2.92302418e-01+0.04519594j,\n",
       "        2.78025552e-01-0.00449357j, -4.58578992e-02-0.14515442j,\n",
       "        2.77004415e-01+0.05696978j,  4.89382176e-02-0.19145681j,\n",
       "        2.99802273e-01+0.01541696j, -1.81502275e-01+0.05075526j,\n",
       "       -2.17016035e-01+0.04601626j,  3.98497368e-02-0.16868271j,\n",
       "       -1.06234556e-01-0.12641123j,  1.10373257e-02-0.20826523j,\n",
       "       -8.33666912e-02-0.12805934j, -1.83188409e-01+0.10752414j,\n",
       "       -1.66911530e-01+0.13762186j,  1.99703795e-01-0.01607696j,\n",
       "       -1.54319254e-01+0.21928375j,  2.91393374e-01+0.00614437j,\n",
       "       -1.89495075e-01-0.01212526j,  1.45676209e-04-0.20305852j,\n",
       "        1.85865473e-01-0.1360843j , -1.32415465e-01+0.17890092j,\n",
       "       -2.61392410e-01+0.09484948j, -1.49390007e-01+0.08551772j,\n",
       "        1.18939912e-01+0.15950928j,  1.96198813e-01+0.1251796j ,\n",
       "        1.27268778e-01-0.18640012j, -2.09466319e-02-0.31932927j,\n",
       "       -1.83788738e-01+0.12458763j,  1.41246171e-01-0.13952425j,\n",
       "       -1.25159904e-01+0.20340025j,  3.18358920e-02-0.20938803j,\n",
       "        1.93409358e-01+0.05896376j,  2.60218345e-03+0.15546384j,\n",
       "       -1.22073928e-01+0.12111855j, -1.61487942e-01+0.09227189j,\n",
       "       -1.48864347e-01+0.11617541j, -3.38851142e-02+0.18103347j,\n",
       "        2.62583406e-01+0.0861633j , -1.92957868e-01-0.29277157j,\n",
       "        2.66239466e-01+0.1255547j , -1.46071974e-01-0.1268166j ,\n",
       "        3.54645849e-02+0.15110895j, -1.01560948e-01-0.18700514j,\n",
       "        2.20409471e-01-0.06121178j,  1.33611844e-01+0.20604445j,\n",
       "        2.48207320e-01+0.03689791j, -2.21623293e-02+0.14805959j,\n",
       "       -1.80725804e-02+0.22543288j,  2.28026054e-01+0.15978277j,\n",
       "       -6.14249270e-02-0.15072047j, -1.61878308e-01-0.17383676j,\n",
       "        7.01142920e-02+0.22161518j, -1.81679257e-01-0.05906442j,\n",
       "        1.52649275e-01+0.17028683j, -1.13486868e-01+0.27434124j,\n",
       "        5.06520520e-02-0.18821607j,  3.33716804e-01-0.03206874j,\n",
       "        2.08398952e-01-0.00643078j,  2.02200470e-01+0.15777535j,\n",
       "        1.78941824e-01-0.11863415j,  2.43079239e-01-0.20217913j,\n",
       "       -2.16848463e-01+0.11335699j,  2.94715941e-01+0.10644989j,\n",
       "       -7.17747946e-02-0.1349998j ,  1.84883071e-01+0.16276392j,\n",
       "       -4.35495919e-02-0.23835287j, -1.12556075e-02-0.1524039j ,\n",
       "        2.01547302e-01+0.17848257j, -6.22847975e-03+0.21277386j,\n",
       "        4.77288511e-02+0.15627808j,  2.87863498e-01+0.11008738j,\n",
       "        4.53286753e-02+0.18059471j,  3.20369307e-02-0.14337534j,\n",
       "       -1.69404022e-01+0.19362412j,  2.31995720e-01+0.15534288j,\n",
       "       -1.25380658e-01-0.16138406j,  2.17340244e-01+0.03714037j,\n",
       "       -4.83718887e-02+0.1918368j , -2.65703733e-01+0.06428625j,\n",
       "       -2.76246517e-01-0.14073509j, -1.38143207e-01-0.28772166j,\n",
       "       -8.01727045e-02-0.32614732j, -2.95016942e-01-0.23539682j,\n",
       "       -2.55275364e-01+0.2342659j ,  2.89654050e-01+0.05487415j,\n",
       "       -1.19626617e-01-0.17313506j,  3.89849196e-03+0.21222881j,\n",
       "       -2.95615769e-01-0.21811532j,  9.52616790e-02-0.20294803j,\n",
       "        2.56589469e-01+0.13712107j,  2.81177190e-01+0.04231129j,\n",
       "        1.11314104e-01+0.1661289j ,  2.06144088e-01+0.04114236j,\n",
       "        1.58619500e-01+0.09173019j,  9.78668572e-02-0.14316683j,\n",
       "       -3.51918867e-01-0.10763089j,  3.16598716e-01+0.03717443j,\n",
       "       -1.79126174e-01+0.08403727j,  1.15564999e-01-0.11820336j,\n",
       "        6.96251108e-02+0.25248875j,  8.92623154e-02+0.27011999j,\n",
       "       -1.90501777e-01+0.14671048j, -2.54783524e-01-0.14775826j,\n",
       "        4.69751603e-02+0.28773008j,  1.75116104e-01+0.09903448j,\n",
       "        2.38567554e-01-0.0858232j , -1.93785923e-01+0.08276104j,\n",
       "        7.18557880e-02+0.15860052j, -1.61612085e-01+0.26310353j,\n",
       "        6.66639799e-02-0.14311143j,  3.09732563e-01+0.05132781j,\n",
       "        1.03491958e-01+0.17345383j,  1.18247788e-01+0.19869673j,\n",
       "        8.34622031e-02+0.1996298j ,  2.60535024e-01-0.0683207j ,\n",
       "        7.73136175e-02-0.18429754j])"
      ]
     },
     "execution_count": 14,
     "metadata": {},
     "output_type": "execute_result"
    }
   ],
   "source": [
    "waveform1_f"
   ]
  },
  {
   "cell_type": "code",
   "execution_count": 58,
   "id": "c4d904df-15ad-4681-98ca-634b867ef27c",
   "metadata": {},
   "outputs": [
    {
     "name": "stdout",
     "output_type": "stream",
     "text": [
      "=== Comprehensive Time Grid Analysis ===\n",
      "DENSE_STEPPING=False (Adaptive):\n",
      "  t_adaptive shape: (11,)\n",
      "  spline_t shape: (11,)\n",
      "  t_adaptive range: [0.000000, 31558149.763546]\n",
      "  spline_t range: [0.000000, 33984842.488057]\n",
      "  spline_coeff shape: (10, 3, 8)\n",
      "\n",
      "DENSE_STEPPING=True:\n",
      "  t_dense shape: (500,)\n",
      "  spline_t shape: (500,)\n",
      "  t_dense range: [0.000000, 31495033.464019]\n",
      "  spline_t range: [0.000000, 0.000000]\n",
      "  spline_coeff shape: (499, 3, 8)\n",
      "\n",
      "upsample=True, fix_t=True:\n",
      "  t_upsample shape: (500,)\n",
      "  spline_t shape: (11,)\n",
      "  t_upsample range: [0.000000, 31495033.464019]\n",
      "  spline_t range: [0.000000, 33984842.488057]\n",
      "  spline_coeff shape: (10, 3, 8)\n",
      "\n",
      "=== Time Compatibility Analysis ===\n",
      "Adaptive - Time compatibility:\n",
      "  t_adaptive[0] >= spline_t[0]: True\n",
      "  t_adaptive[-1] <= spline_t[-1]: True\n",
      "  Valid spline range: True\n",
      "\n",
      "Dense stepping - Time compatibility:\n",
      "  t_dense[0] >= spline_t[0]: True\n",
      "  t_dense[-1] <= spline_t[-1]: False\n",
      "  Valid spline range: False\n",
      "\n",
      "Upsample - Time compatibility:\n",
      "  t_upsample[0] >= spline_t[0]: True\n",
      "  t_upsample[-1] <= spline_t[-1]: True\n",
      "  Valid spline range: True\n",
      "\n",
      "=== Time Spacing Analysis ===\n",
      "Adaptive time steps (first 5): [  18890.40983391   62416.75226959  159481.2258171   486422.53077561\n",
      " 1848551.52689902]\n",
      "Dense time steps (first 5): [63116.29952709 63116.29952709 63116.29952709 63116.29952709\n",
      " 63116.29952709]\n",
      "Upsample time steps (first 5): [63116.29952709 63116.29952709 63116.29952709 63116.29952709\n",
      " 63116.29952709]\n",
      "\n",
      "Uniform spacing check:\n",
      "  Adaptive uniform: False\n",
      "  Dense uniform: True\n",
      "  Upsample uniform: True\n"
     ]
    }
   ],
   "source": [
    "# Compare time grids across all three modes\n",
    "print(\"=== Comprehensive Time Grid Analysis ===\")\n",
    "\n",
    "# Test 1: DENSE_STEPPING=False (baseline)\n",
    "(t_adaptive, _, _, _, _, _, _) = traj(m1, m2, a, p0, e0, xI0, T=T, dt=delta_T, DENSE_STEPPING=False)\n",
    "spline_t_adaptive = traj.integrator_spline_t.copy()\n",
    "spline_coeff_adaptive = traj.integrator_spline_phase_coeff.copy()\n",
    "\n",
    "print(f\"DENSE_STEPPING=False (Adaptive):\")\n",
    "print(f\"  t_adaptive shape: {t_adaptive.shape}\")\n",
    "print(f\"  spline_t shape: {spline_t_adaptive.shape}\")\n",
    "print(f\"  t_adaptive range: [{t_adaptive[0]:.6f}, {t_adaptive[-1]:.6f}]\")\n",
    "print(f\"  spline_t range: [{spline_t_adaptive[0]:.6f}, {spline_t_adaptive[-1]:.6f}]\")\n",
    "print(f\"  spline_coeff shape: {spline_coeff_adaptive.shape}\")\n",
    "\n",
    "# Test 2: DENSE_STEPPING=True (problematic)\n",
    "(t_dense, _, _, _, _, _, _) = traj(m1, m2, a, p0, e0, xI0, T=T, dt=delta_T, DENSE_STEPPING=True)\n",
    "spline_t_dense = traj.integrator_spline_t.copy()\n",
    "spline_coeff_dense = traj.integrator_spline_phase_coeff.copy()\n",
    "\n",
    "print(f\"\\nDENSE_STEPPING=True:\")\n",
    "print(f\"  t_dense shape: {t_dense.shape}\")\n",
    "print(f\"  spline_t shape: {spline_t_dense.shape}\")\n",
    "print(f\"  t_dense range: [{t_dense[0]:.6f}, {t_dense[-1]:.6f}]\")\n",
    "print(f\"  spline_t range: [{spline_t_dense[0]:.6f}, {spline_t_dense[-1]:.6f}]\")\n",
    "print(f\"  spline_coeff shape: {spline_coeff_dense.shape}\")\n",
    "\n",
    "# Test 3: upsample=True\n",
    "(t_upsample, _, _, _, _, _, _) = traj(m1, m2, a, p0, e0, xI0, T=T, dt=delta_T, DENSE_STEPPING=False, upsample=True, fix_t=True)\n",
    "spline_t_upsample = traj.integrator_spline_t.copy()\n",
    "spline_coeff_upsample = traj.integrator_spline_phase_coeff.copy()\n",
    "\n",
    "print(f\"\\nupsample=True, fix_t=True:\")\n",
    "print(f\"  t_upsample shape: {t_upsample.shape}\")\n",
    "print(f\"  spline_t shape: {spline_t_upsample.shape}\")\n",
    "print(f\"  t_upsample range: [{t_upsample[0]:.6f}, {t_upsample[-1]:.6f}]\")\n",
    "print(f\"  spline_t range: [{spline_t_upsample[0]:.6f}, {spline_t_upsample[-1]:.6f}]\")\n",
    "print(f\"  spline_coeff shape: {spline_coeff_upsample.shape}\")\n",
    "\n",
    "# Check time compatibility for each mode\n",
    "print(f\"\\n=== Time Compatibility Analysis ===\")\n",
    "\n",
    "print(f\"Adaptive - Time compatibility:\")\n",
    "print(f\"  t_adaptive[0] >= spline_t[0]: {t_adaptive[0] >= spline_t_adaptive[0]}\")\n",
    "print(f\"  t_adaptive[-1] <= spline_t[-1]: {t_adaptive[-1] <= spline_t_adaptive[-1]}\")\n",
    "print(f\"  Valid spline range: {spline_t_adaptive[-1] - spline_t_adaptive[0] > 1e-10}\")\n",
    "\n",
    "print(f\"\\nDense stepping - Time compatibility:\")\n",
    "print(f\"  t_dense[0] >= spline_t[0]: {t_dense[0] >= spline_t_dense[0]}\")\n",
    "print(f\"  t_dense[-1] <= spline_t[-1]: {t_dense[-1] <= spline_t_dense[-1]}\")\n",
    "print(f\"  Valid spline range: {spline_t_dense[-1] - spline_t_dense[0] > 1e-10}\")\n",
    "\n",
    "print(f\"\\nUpsample - Time compatibility:\")\n",
    "print(f\"  t_upsample[0] >= spline_t[0]: {t_upsample[0] >= spline_t_upsample[0]}\")\n",
    "print(f\"  t_upsample[-1] <= spline_t[-1]: {t_upsample[-1] <= spline_t_upsample[-1]}\")\n",
    "print(f\"  Valid spline range: {spline_t_upsample[-1] - spline_t_upsample[0] > 1e-10}\")\n",
    "\n",
    "# Check if upsampling preserves uniform spacing\n",
    "print(f\"\\n=== Time Spacing Analysis ===\")\n",
    "print(f\"Adaptive time steps (first 5): {np.diff(t_adaptive)[:5]}\")\n",
    "print(f\"Dense time steps (first 5): {np.diff(t_dense)[:5]}\")\n",
    "print(f\"Upsample time steps (first 5): {np.diff(t_upsample)[:5]}\")\n",
    "\n",
    "print(f\"\\nUniform spacing check:\")\n",
    "print(f\"  Adaptive uniform: {np.allclose(np.diff(t_adaptive), np.diff(t_adaptive)[0])}\")\n",
    "print(f\"  Dense uniform: {np.allclose(np.diff(t_dense), np.diff(t_dense)[0])}\")\n",
    "print(f\"  Upsample uniform: {np.allclose(np.diff(t_upsample), np.diff(t_upsample)[0])}\")"
   ]
  },
  {
   "cell_type": "code",
   "execution_count": null,
   "id": "d7cbdaae-2d4a-47ce-b98a-38c5e5d9433e",
   "metadata": {},
   "outputs": [],
   "source": []
  },
  {
   "cell_type": "code",
   "execution_count": 59,
   "id": "bdc70700-ae32-4ceb-97c2-f9c690f1c525",
   "metadata": {},
   "outputs": [
    {
     "name": "stdout",
     "output_type": "stream",
     "text": [
      "=== Current Trajectory Parameters Check ===\n",
      "Current t shape: (500,)\n",
      "Current spline_t range: [0.000000, 33984842.488057]\n",
      "Valid spline range: True\n",
      "fix_step attribute: Not found\n"
     ]
    }
   ],
   "source": [
    "# Debug: Check what trajectory parameters were actually used\n",
    "print(\"=== Current Trajectory Parameters Check ===\")\n",
    "print(f\"Current t shape: {t.shape}\")\n",
    "print(f\"Current spline_t range: [{traj.integrator_spline_t[0]:.6f}, {traj.integrator_spline_t[-1]:.6f}]\")\n",
    "print(f\"Valid spline range: {traj.integrator_spline_t[-1] - traj.integrator_spline_t[0] > 1e-10}\")\n",
    "\n",
    "# Check if you accidentally used DENSE_STEPPING=True in the current run\n",
    "print(f\"fix_step attribute: {getattr(traj, 'fix_step', 'Not found')}\")"
   ]
  },
  {
   "cell_type": "code",
   "execution_count": 14,
   "id": "36cbb54a",
   "metadata": {},
   "outputs": [],
   "source": [
    "N = int(len(waveform1)) \n",
    "gwf = GWfuncs.GravWaveAnalysis(N=N,dt=dt)\n",
    "# Calculate distance dimensionless\n",
    "dist = 1.0 #Gpc\n",
    "factor = gwf.dist_factor(dist, m2)\n",
    "waveform1_scaled = waveform1.get()/factor"
   ]
  },
  {
   "cell_type": "code",
   "execution_count": 111,
   "id": "71ed97c3-4085-49ff-a0e9-d8074ace8b48",
   "metadata": {},
   "outputs": [
    {
     "data": {
      "text/plain": [
       "array([9.5       , 9.48019521, 9.46025158, 9.44016679, 9.41993846,\n",
       "       9.39956416, 9.37904137, 9.35836753, 9.33753997, 9.31655598,\n",
       "       9.29541275, 9.2741074 , 9.25263696, 9.23099839, 9.20918853,\n",
       "       9.18720414, 9.16504189, 9.14269834, 9.12016994, 9.09745302,\n",
       "       9.07454381, 9.0514384 , 9.02813278, 9.00462279, 8.98090411,\n",
       "       8.95697231, 8.93282278, 8.90845077, 8.88385135, 8.85901942,\n",
       "       8.83394967, 8.80863665, 8.78307464, 8.75725776, 8.73117986,\n",
       "       8.70483459, 8.67821532, 8.65131516, 8.62412695, 8.59664322,\n",
       "       8.56885621, 8.54075779, 8.51233951, 8.48359254, 8.45450764,\n",
       "       8.42507517, 8.39528501, 8.36512661, 8.33458886, 8.30366014])"
      ]
     },
     "execution_count": 111,
     "metadata": {},
     "output_type": "execute_result"
    }
   ],
   "source": [
    "p"
   ]
  },
  {
   "cell_type": "code",
   "execution_count": 16,
   "id": "432e3594-6b13-4d7c-b339-8379dc1d6fda",
   "metadata": {},
   "outputs": [
    {
     "data": {
      "text/plain": [
       "array([nan+nanj, nan+nanj, nan+nanj, ..., nan+nanj, nan+nanj, nan+nanj],\n",
       "      shape=(3155815,))"
      ]
     },
     "execution_count": 16,
     "metadata": {},
     "output_type": "execute_result"
    }
   ],
   "source": [
    "waveform1_scaled"
   ]
  },
  {
   "cell_type": "code",
   "execution_count": 15,
   "id": "8ab26842",
   "metadata": {},
   "outputs": [
    {
     "name": "stdout",
     "output_type": "stream",
     "text": [
      "SNR: nan\n",
      "SNR squared: nan\n"
     ]
    }
   ],
   "source": [
    "hfull_f = gwf.freq_wave(waveform1_scaled)\n",
    "\n",
    "SNR_ref = gwf.SNR(hfull_f)\n",
    "print(\"SNR:\", SNR_ref)\n",
    "print(\"SNR squared:\", SNR_ref**2)"
   ]
  },
  {
   "cell_type": "code",
   "execution_count": null,
   "id": "8fae62fc",
   "metadata": {},
   "outputs": [],
   "source": [
    "# Convert T to standard units\n",
    "T_sd = 1.0 * YRSID_SI  # 1 sidereal year in seconds (~31,558,150 seconds)\n",
    "print(\"Observation time in seconds:\", T_sd)"
   ]
  },
  {
   "cell_type": "code",
   "execution_count": null,
   "id": "ad8ce6ba",
   "metadata": {},
   "outputs": [],
   "source": [
    "N_traj = teuk_modes.shape[0]  # number of trajectory points\n",
    "print(\"Number of trajectory points:\", N_traj)\n",
    "delta_T = T_sd / N_traj  # time step in seconds\n",
    "print(\"Time step in seconds\", delta_T)"
   ]
  },
  {
   "cell_type": "code",
   "execution_count": null,
   "id": "51333d59",
   "metadata": {},
   "outputs": [],
   "source": [
    "# Get mode labels\n",
    "mode_labels = [f\"({l},{m},{n})\" for l,m,n in zip(amp.l_arr, amp.m_arr, amp.n_arr)]"
   ]
  },
  {
   "cell_type": "markdown",
   "id": "f75c5c36",
   "metadata": {},
   "source": [
    "# Generate mode frequencies "
   ]
  },
  {
   "cell_type": "markdown",
   "id": "24fcf15f",
   "metadata": {},
   "source": [
    "Using *get_fundamental_frequencies* instead"
   ]
  },
  {
   "cell_type": "code",
   "execution_count": null,
   "id": "d7a2fac8",
   "metadata": {},
   "outputs": [],
   "source": [
    "OmegaPhi, OmegaTheta, OmegaR = get_fundamental_frequencies(a, p, e, x)"
   ]
  },
  {
   "cell_type": "code",
   "execution_count": null,
   "id": "6735f227",
   "metadata": {},
   "outputs": [],
   "source": [
    "OmegaPhi"
   ]
  },
  {
   "cell_type": "code",
   "execution_count": null,
   "id": "bc2d058c",
   "metadata": {},
   "outputs": [],
   "source": [
    "gw_frequencies_per_mode = []\n",
    "mode_frequencies = {}\n",
    "\n",
    "for idx in range(len(mode_labels)):\n",
    "    l = amp.l_arr[idx]\n",
    "    m = amp.m_arr[idx] \n",
    "    n = amp.n_arr[idx]\n",
    "    \n",
    "    # Calculate GW frequencies\n",
    "    # k = 0 for equatorial case\n",
    "    f_gw = m * OmegaPhi + n * OmegaR\n",
    "    \n",
    "    gw_frequencies_per_mode.append(f_gw)"
   ]
  },
  {
   "cell_type": "code",
   "execution_count": null,
   "id": "cca3dd2d",
   "metadata": {},
   "outputs": [],
   "source": [
    "gw_phase_per_mode = []\n",
    "for idx in range(len(mode_labels)):\n",
    "    l = amp.l_arr[idx]\n",
    "    m = amp.m_arr[idx] \n",
    "    n = amp.n_arr[idx]\n",
    "    \n",
    "    # Calculate GW phases per mode\n",
    "    phi_mode = m * Phi_phi + n * Phi_r\n",
    "    \n",
    "    gw_phase_per_mode.append(phi_mode)"
   ]
  },
  {
   "cell_type": "markdown",
   "id": "c15065f1",
   "metadata": {},
   "source": [
    "# Calculate inner product"
   ]
  },
  {
   "cell_type": "code",
   "execution_count": null,
   "id": "5118e6c2",
   "metadata": {},
   "outputs": [],
   "source": [
    "idx_i = 1165 # 220\n",
    "idx_j = 1166 # 221\n",
    "mode_labels[idx_i], mode_labels[idx_j]"
   ]
  },
  {
   "cell_type": "code",
   "execution_count": null,
   "id": "26329afc",
   "metadata": {},
   "outputs": [],
   "source": [
    "# Get complex amplitudes for the two modes\n",
    "A0 = teuk_modes[:, idx_i]\n",
    "A1 = teuk_modes[:, idx_j]\n",
    "print(\"A_0:\", A0)\n",
    "print(\"A_1:\", A1)"
   ]
  },
  {
   "cell_type": "code",
   "execution_count": null,
   "id": "599690b8",
   "metadata": {},
   "outputs": [],
   "source": [
    "# Get sensitivity for the two modes\n",
    "Sn0 = get_sensitivity(gw_frequencies_per_mode[idx_i], sens_fn=LISASens, return_type=\"PSD\")\n",
    "Sn1 = get_sensitivity(gw_frequencies_per_mode[idx_j], sens_fn=LISASens, return_type=\"PSD\")"
   ]
  },
  {
   "cell_type": "code",
   "execution_count": null,
   "id": "24108f44",
   "metadata": {},
   "outputs": [],
   "source": [
    "barA0 = A0 / np.sqrt(Sn0)\n",
    "barA0 "
   ]
  },
  {
   "cell_type": "code",
   "execution_count": null,
   "id": "f8cad797",
   "metadata": {},
   "outputs": [],
   "source": [
    "barA1 = A1 / np.sqrt(Sn1)\n",
    "barA1"
   ]
  },
  {
   "cell_type": "code",
   "execution_count": null,
   "id": "d5a44497",
   "metadata": {},
   "outputs": [],
   "source": [
    "phase01 = np.abs(gw_phase_per_mode[idx_i] - gw_phase_per_mode[idx_j]) < 1.0 \n",
    "phase01"
   ]
  },
  {
   "cell_type": "markdown",
   "id": "290a8c0b",
   "metadata": {},
   "source": [
    "## Cross-term inner product of (2,2,0) & (2,2,1)"
   ]
  },
  {
   "cell_type": "code",
   "execution_count": null,
   "id": "bce40471",
   "metadata": {},
   "outputs": [],
   "source": [
    "crossprod01 = np.conj(barA0[phase01]) * barA1[phase01]\n",
    "crossprod01"
   ]
  },
  {
   "cell_type": "code",
   "execution_count": null,
   "id": "47c580e7",
   "metadata": {},
   "outputs": [],
   "source": [
    "inner_contrib_01 = np.sum(crossprod01) * delta_T * 1/(factor**2)\n",
    "np.real(inner_contrib_01)"
   ]
  },
  {
   "cell_type": "markdown",
   "id": "094e474a",
   "metadata": {},
   "source": [
    "## Self-term inner product of (2,2,0)"
   ]
  },
  {
   "cell_type": "code",
   "execution_count": null,
   "id": "a10e5517",
   "metadata": {},
   "outputs": [],
   "source": [
    "selfprod00 = np.conj(barA0)*barA0 #barA0**2\n",
    "selfprod00"
   ]
  },
  {
   "cell_type": "code",
   "execution_count": null,
   "id": "4cdf4cb0",
   "metadata": {},
   "outputs": [],
   "source": [
    "inner_contrib_00 = np.sum(np.real(selfprod00)) * delta_T * 1/(factor**2)\n",
    "inner_contrib_00"
   ]
  },
  {
   "cell_type": "code",
   "execution_count": null,
   "id": "81ccb187",
   "metadata": {},
   "outputs": [],
   "source": [
    "inner_contrib_11 = np.sum(np.real(np.conj(barA1)*barA1)) * delta_T * 1/(factor**2)\n",
    "inner_contrib_11"
   ]
  },
  {
   "cell_type": "code",
   "execution_count": null,
   "id": "61c680d5",
   "metadata": {},
   "outputs": [],
   "source": [
    "np.abs(inner_contrib_01 / np.sqrt(inner_contrib_00 * inner_contrib_11) )"
   ]
  },
  {
   "cell_type": "markdown",
   "id": "cc124501",
   "metadata": {},
   "source": [
    "## Discrepancy of self-term between squared and conj*original array?"
   ]
  },
  {
   "cell_type": "code",
   "execution_count": null,
   "id": "96c54d02",
   "metadata": {},
   "outputs": [],
   "source": [
    "np.real(np.sum(barA0**2) * delta_T * 1/(factor**2))"
   ]
  },
  {
   "cell_type": "code",
   "execution_count": null,
   "id": "175d5ac6",
   "metadata": {},
   "outputs": [],
   "source": [
    "np.real(np.sum(np.conj(barA1)*barA1) * delta_T * 1/(factor**2))"
   ]
  },
  {
   "cell_type": "code",
   "execution_count": null,
   "id": "f3b6bc08",
   "metadata": {},
   "outputs": [],
   "source": [
    "np.real(np.sum(barA1**2) * delta_T * 1/(factor**2))"
   ]
  },
  {
   "cell_type": "markdown",
   "id": "e405830f",
   "metadata": {},
   "source": [
    "# Reference values"
   ]
  },
  {
   "cell_type": "code",
   "execution_count": null,
   "id": "221b88b8",
   "metadata": {},
   "outputs": [],
   "source": [
    "indices = [1165, 1166]"
   ]
  },
  {
   "cell_type": "code",
   "execution_count": null,
   "id": "3ec15931",
   "metadata": {},
   "outputs": [],
   "source": [
    "waveform_per_mode = []\n",
    "for idx in indices:\n",
    "    l = amp.l_arr[idx]\n",
    "    m = amp.m_arr[idx]\n",
    "    n = amp.n_arr[idx]\n",
    "    print('Mode: ', mode_labels[idx])\n",
    "\n",
    "    if m >= 0:\n",
    "        # For m >= 0, directly use the mode\n",
    "        teuk_modes_single = teuk_modes[:, [idx]]\n",
    "        ylms_single = ylms[[idx]]\n",
    "        m_arr = amp.m_arr[[idx]]\n",
    "    else:\n",
    "        # Finding corresponding m>0 mode instead of mapping\n",
    "        print('NEGATIVE M MODE')\n",
    "        pos_m_mask = (amp.l_arr == l) & (amp.m_arr == -m) & (amp.n_arr == n) \n",
    "        print(amp.l_arr[pos_m_mask], amp.m_arr[pos_m_mask], amp.n_arr[pos_m_mask])\n",
    "        pos_m_idx = np.where(pos_m_mask)[0]\n",
    "        print(pos_m_idx)\n",
    "        \n",
    "        teuk_modes_single = (-1)**l * np.conj(teuk_modes[:, [pos_m_idx]])\n",
    "        print(teuk_modes_single)\n",
    "        # ylms_single = (-1)**(-m) * np.conj(ylms[[pos_m_idx]])\n",
    "        ylms_single = ylms[[idx]]\n",
    "        print(ylms_single)\n",
    "        m_arr = np.abs(amp.m_arr[[idx]])  # To pass positive m \n",
    "\n",
    "    waveform = interpolate_mode_sum(\n",
    "        t,\n",
    "        teuk_modes_single,\n",
    "        ylms_single,\n",
    "        traj.integrator_spline_t,\n",
    "        traj.integrator_spline_phase_coeff[:, [0, 2]],\n",
    "        amp.l_arr[[idx]], \n",
    "        m_arr,  \n",
    "        amp.n_arr[[idx]], \n",
    "        dt=dt,\n",
    "        T=T\n",
    "    )\n",
    "    waveform_per_mode.append(waveform/factor)"
   ]
  },
  {
   "cell_type": "code",
   "execution_count": null,
   "id": "1b9f06d8",
   "metadata": {},
   "outputs": [],
   "source": [
    "# Convert each waveform to frequency domain\n",
    "hf_per_mode = [gwf.freq_wave(waveform) for waveform in waveform_per_mode]"
   ]
  },
  {
   "cell_type": "code",
   "execution_count": null,
   "id": "446a7794",
   "metadata": {},
   "outputs": [],
   "source": [
    "gwf.inner(hf_per_mode[0], hf_per_mode[1])"
   ]
  },
  {
   "cell_type": "code",
   "execution_count": null,
   "id": "4bffb8ab",
   "metadata": {},
   "outputs": [],
   "source": [
    "gwf.inner(hf_per_mode[0], hf_per_mode[0])"
   ]
  },
  {
   "cell_type": "code",
   "execution_count": null,
   "id": "1fae17dd",
   "metadata": {},
   "outputs": [],
   "source": [
    "gwf.inner(hf_per_mode[1], hf_per_mode[1])"
   ]
  },
  {
   "cell_type": "code",
   "execution_count": null,
   "id": "4db47880",
   "metadata": {},
   "outputs": [],
   "source": []
  }
 ],
 "metadata": {
  "kernelspec": {
   "display_name": "Python (fewnew)",
   "language": "python",
   "name": "fewnew"
  },
  "language_info": {
   "codemirror_mode": {
    "name": "ipython",
    "version": 3
   },
   "file_extension": ".py",
   "mimetype": "text/x-python",
   "name": "python",
   "nbconvert_exporter": "python",
   "pygments_lexer": "ipython3",
   "version": "3.12.9"
  }
 },
 "nbformat": 4,
 "nbformat_minor": 5
}
