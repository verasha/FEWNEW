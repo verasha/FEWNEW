{
 "cells": [
  {
   "cell_type": "markdown",
   "id": "296d9986",
   "metadata": {},
   "source": [
    "# Import and setup"
   ]
  },
  {
   "cell_type": "code",
   "execution_count": 1,
   "id": "65355769",
   "metadata": {},
   "outputs": [],
   "source": [
    "import numpy as np\n",
    "import matplotlib.pyplot as plt\n",
    "\n",
    "import few\n",
    "\n",
    "from few.trajectory.inspiral import EMRIInspiral\n",
    "from few.trajectory.ode import SchwarzEccFlux, KerrEccEqFlux\n",
    "# from few.amplitude.romannet import RomanAmplitude\n",
    "from few.amplitude.ampinterp2d import AmpInterpKerrEccEq\n",
    "from few.summation.interpolatedmodesum import InterpolatedModeSum\n",
    "\n",
    "\n",
    "from few.utils.ylm import GetYlms\n",
    "from few.utils.modeselector import ModeSelector\n",
    "from few.summation.interpolatedmodesum import CubicSplineInterpolant\n",
    "from few import get_file_manager\n",
    "\n",
    "from few.waveform import (\n",
    "    FastKerrEccentricEquatorialFlux,\n",
    "    FastSchwarzschildEccentricFlux, \n",
    "    SlowSchwarzschildEccentricFlux, \n",
    "    Pn5AAKWaveform,\n",
    "    GenerateEMRIWaveform\n",
    ")\n",
    "\n",
    "from few.utils.geodesic import get_fundamental_frequencies\n",
    "\n",
    "import GWfuncs\n",
    "import gc\n",
    "import pickle\n",
    "import os\n",
    "import cupy as cp\n",
    "import multiprocessing as mp\n",
    "from multiprocessing import Queue, Process\n",
    "from functools import partial\n",
    "from SNR_tutorial_utils import LISA_Noise\n",
    "from lisatools.sensitivity import *\n",
    "\n",
    "from few.utils.constants import YRSID_SI, Gpc, MRSUN_SI\n",
    "\n",
    "\n",
    "\n",
    "# import pandas as pd\n",
    "# tune few configuration\n",
    "cfg_set = few.get_config_setter(reset=True)\n",
    "cfg_set.set_log_level(\"info\");"
   ]
  },
  {
   "cell_type": "code",
   "execution_count": 2,
   "id": "29c9f6f0",
   "metadata": {},
   "outputs": [],
   "source": [
    "# Parameters\n",
    "m1 = 1e6 #M\n",
    "m2 = 1e1 #mu\n",
    "a = 0.5\n",
    "p0 = 9.5\n",
    "e0 = 0.2\n",
    "theta = np.pi / 3.0 \n",
    "phi = np.pi / 4.0  \n",
    "dt = 10.0\n",
    "T = 1\n",
    "xI0 = 1.0 \n",
    "#in the paper xI0 = 0.866, but that would be non-equatorial case\n",
    "\n",
    "use_gpu = True \n",
    "traj = EMRIInspiral(func=KerrEccEqFlux, force_backend=\"cuda12x\", use_gpu=use_gpu, npoints=50)\n",
    "amp = AmpInterpKerrEccEq(force_backend=\"cuda12x\") # default lmax=10, nmax=55\n",
    "interpolate_mode_sum = InterpolatedModeSum(force_backend=\"cuda12x\")\n",
    "ylm_gen = GetYlms(include_minus_m=False, force_backend=\"cuda12x\")"
   ]
  },
  {
   "cell_type": "markdown",
   "id": "ede27aac",
   "metadata": {},
   "source": [
    "# Generate waveform"
   ]
  },
  {
   "cell_type": "code",
   "execution_count": 162,
   "id": "a971b42a-6f91-43ee-8365-f4626df48ddc",
   "metadata": {},
   "outputs": [
    {
     "data": {
      "text/plain": [
       "63116.29952709119"
      ]
     },
     "execution_count": 162,
     "metadata": {},
     "output_type": "execute_result"
    }
   ],
   "source": [
    "delta_T = T*YRSID_SI/500 # change amount of points here\n",
    "delta_T"
   ]
  },
  {
   "cell_type": "code",
   "execution_count": 163,
   "id": "aa6a79b0",
   "metadata": {},
   "outputs": [
    {
     "name": "stdout",
     "output_type": "stream",
     "text": [
      "CPU times: user 155 ms, sys: 954 μs, total: 155 ms\n",
      "Wall time: 155 ms\n"
     ]
    }
   ],
   "source": [
    "%%time \n",
    "# Calc trajectory\n",
    "(t, p, e, x, Phi_phi, Phi_theta, Phi_r) = traj(m1, m2, a, p0, e0, xI0, T=T, dt=delta_T, DENSE_STEPPING=True)#upsampling=True, fix_t=True\n",
    "\n",
    "# Get amplitudes along trajectory\n",
    "teuk_modes = amp(a, p, e, x)\n",
    "\n",
    "# Get Ylms\n",
    "ylms = ylm_gen(amp.unique_l, amp.unique_m, theta, phi).copy()[amp.inverse_lm]\n",
    "\n",
    "cp.cuda.Stream.null.synchronize()"
   ]
  },
  {
   "cell_type": "code",
   "execution_count": 164,
   "id": "3656aba8-e5c6-4a4c-b8ab-71a2727f5b39",
   "metadata": {},
   "outputs": [
    {
     "data": {
      "text/plain": [
       "500"
      ]
     },
     "execution_count": 164,
     "metadata": {},
     "output_type": "execute_result"
    }
   ],
   "source": [
    "len(t)"
   ]
  },
  {
   "cell_type": "code",
   "execution_count": 165,
   "id": "f6bf1a47-73d1-43ed-8bdf-f58f38661e05",
   "metadata": {},
   "outputs": [
    {
     "data": {
      "text/plain": [
       "array([63116.29952709, 63116.29952709, 63116.29952709, 63116.29952709,\n",
       "       63116.29952709, 63116.29952709, 63116.29952709, 63116.29952709,\n",
       "       63116.29952709, 63116.29952709, 63116.29952709, 63116.29952709,\n",
       "       63116.29952709, 63116.29952709, 63116.29952709, 63116.29952709,\n",
       "       63116.29952709, 63116.29952709, 63116.29952709, 63116.29952709,\n",
       "       63116.29952709, 63116.29952709, 63116.29952709, 63116.29952709,\n",
       "       63116.29952709, 63116.29952709, 63116.29952709, 63116.29952709,\n",
       "       63116.29952709, 63116.29952709, 63116.29952709, 63116.29952709,\n",
       "       63116.29952709, 63116.29952709, 63116.29952709, 63116.29952709,\n",
       "       63116.29952709, 63116.29952709, 63116.29952709, 63116.29952709,\n",
       "       63116.29952709, 63116.29952709, 63116.29952709, 63116.29952709,\n",
       "       63116.29952709, 63116.29952709, 63116.29952709, 63116.29952709,\n",
       "       63116.29952709, 63116.29952709, 63116.29952709, 63116.29952709,\n",
       "       63116.29952709, 63116.29952709, 63116.29952709, 63116.29952709,\n",
       "       63116.29952709, 63116.29952709, 63116.29952709, 63116.29952709,\n",
       "       63116.29952709, 63116.29952709, 63116.29952709, 63116.29952709,\n",
       "       63116.29952709, 63116.29952709, 63116.29952709, 63116.29952709,\n",
       "       63116.29952709, 63116.29952709, 63116.29952709, 63116.29952709,\n",
       "       63116.29952709, 63116.29952709, 63116.29952709, 63116.29952709,\n",
       "       63116.29952709, 63116.29952709, 63116.29952709, 63116.29952709,\n",
       "       63116.29952709, 63116.29952709, 63116.29952709, 63116.29952709,\n",
       "       63116.29952709, 63116.29952709, 63116.29952709, 63116.29952709,\n",
       "       63116.29952709, 63116.29952709, 63116.29952709, 63116.29952709,\n",
       "       63116.29952709, 63116.29952709, 63116.29952709, 63116.29952709,\n",
       "       63116.29952709, 63116.29952709, 63116.29952709, 63116.29952709,\n",
       "       63116.29952709, 63116.29952709, 63116.29952709, 63116.29952709,\n",
       "       63116.29952709, 63116.29952709, 63116.29952709, 63116.29952709,\n",
       "       63116.29952709, 63116.29952709, 63116.29952709, 63116.29952709,\n",
       "       63116.29952709, 63116.29952709, 63116.29952709, 63116.29952709,\n",
       "       63116.29952709, 63116.29952709, 63116.29952709, 63116.29952709,\n",
       "       63116.29952709, 63116.29952709, 63116.29952709, 63116.29952709,\n",
       "       63116.29952709, 63116.29952709, 63116.29952709, 63116.29952709,\n",
       "       63116.29952709, 63116.29952709, 63116.29952709, 63116.29952709,\n",
       "       63116.29952709, 63116.29952709, 63116.29952709, 63116.29952709,\n",
       "       63116.29952709, 63116.29952709, 63116.29952709, 63116.29952709,\n",
       "       63116.29952709, 63116.29952709, 63116.29952709, 63116.29952709,\n",
       "       63116.29952709, 63116.29952709, 63116.29952709, 63116.29952709,\n",
       "       63116.29952709, 63116.29952709, 63116.29952709, 63116.29952709,\n",
       "       63116.29952709, 63116.29952709, 63116.29952709, 63116.29952709,\n",
       "       63116.29952709, 63116.29952709, 63116.29952709, 63116.29952709,\n",
       "       63116.29952709, 63116.29952709, 63116.29952709, 63116.29952709,\n",
       "       63116.29952709, 63116.29952709, 63116.29952709, 63116.29952709,\n",
       "       63116.29952709, 63116.29952709, 63116.29952709, 63116.29952709,\n",
       "       63116.29952709, 63116.29952709, 63116.29952709, 63116.29952709,\n",
       "       63116.29952709, 63116.29952709, 63116.29952709, 63116.29952709,\n",
       "       63116.29952709, 63116.29952709, 63116.29952709, 63116.29952709,\n",
       "       63116.29952709, 63116.29952709, 63116.29952709, 63116.29952709,\n",
       "       63116.29952709, 63116.29952709, 63116.29952709, 63116.29952709,\n",
       "       63116.29952709, 63116.29952709, 63116.29952709, 63116.29952709,\n",
       "       63116.29952709, 63116.29952709, 63116.29952709, 63116.29952709,\n",
       "       63116.29952709, 63116.29952709, 63116.29952709, 63116.29952709,\n",
       "       63116.29952709, 63116.29952709, 63116.29952709, 63116.29952709,\n",
       "       63116.29952709, 63116.29952709, 63116.29952709, 63116.29952709,\n",
       "       63116.29952709, 63116.29952709, 63116.29952709, 63116.29952709,\n",
       "       63116.29952709, 63116.29952709, 63116.29952709, 63116.29952709,\n",
       "       63116.29952709, 63116.29952709, 63116.29952709, 63116.29952709,\n",
       "       63116.29952709, 63116.29952709, 63116.29952709, 63116.29952709,\n",
       "       63116.29952709, 63116.29952709, 63116.29952709, 63116.29952709,\n",
       "       63116.29952709, 63116.29952709, 63116.29952709, 63116.29952709,\n",
       "       63116.29952709, 63116.29952709, 63116.29952709, 63116.29952709,\n",
       "       63116.29952709, 63116.29952709, 63116.29952709, 63116.29952709,\n",
       "       63116.29952709, 63116.29952709, 63116.29952709, 63116.29952709,\n",
       "       63116.29952709, 63116.29952709, 63116.29952709, 63116.29952709,\n",
       "       63116.29952709, 63116.29952709, 63116.29952709, 63116.29952709,\n",
       "       63116.29952709, 63116.29952709, 63116.29952709, 63116.29952709,\n",
       "       63116.29952709, 63116.29952709, 63116.29952709, 63116.29952709,\n",
       "       63116.29952709, 63116.29952709, 63116.29952709, 63116.29952709,\n",
       "       63116.29952709, 63116.29952709, 63116.29952709, 63116.29952709,\n",
       "       63116.29952709, 63116.29952709, 63116.29952709, 63116.29952709,\n",
       "       63116.29952709, 63116.29952709, 63116.29952709, 63116.29952709,\n",
       "       63116.29952709, 63116.29952709, 63116.29952709, 63116.29952709,\n",
       "       63116.29952709, 63116.29952709, 63116.29952709, 63116.29952709,\n",
       "       63116.29952709, 63116.29952709, 63116.29952709, 63116.29952709,\n",
       "       63116.29952709, 63116.29952709, 63116.29952709, 63116.29952709,\n",
       "       63116.29952709, 63116.29952709, 63116.29952709, 63116.29952709,\n",
       "       63116.29952709, 63116.29952709, 63116.29952709, 63116.29952709,\n",
       "       63116.29952709, 63116.29952709, 63116.29952709, 63116.29952709,\n",
       "       63116.29952709, 63116.29952709, 63116.29952709, 63116.29952709,\n",
       "       63116.29952709, 63116.29952709, 63116.29952709, 63116.29952709,\n",
       "       63116.29952709, 63116.29952709, 63116.29952709, 63116.29952709,\n",
       "       63116.29952709, 63116.29952709, 63116.29952709, 63116.29952709,\n",
       "       63116.29952709, 63116.29952709, 63116.29952709, 63116.29952709,\n",
       "       63116.29952709, 63116.29952709, 63116.29952709, 63116.29952709,\n",
       "       63116.29952709, 63116.29952709, 63116.29952709, 63116.29952709,\n",
       "       63116.29952709, 63116.29952709, 63116.29952709, 63116.29952709,\n",
       "       63116.29952709, 63116.29952709, 63116.29952709, 63116.29952709,\n",
       "       63116.29952709, 63116.29952709, 63116.29952709, 63116.29952709,\n",
       "       63116.29952709, 63116.29952709, 63116.29952709, 63116.29952709,\n",
       "       63116.29952709, 63116.29952709, 63116.29952709, 63116.29952709,\n",
       "       63116.29952709, 63116.29952709, 63116.29952709, 63116.29952709,\n",
       "       63116.29952709, 63116.29952709, 63116.29952709, 63116.29952709,\n",
       "       63116.29952709, 63116.29952709, 63116.29952709, 63116.29952709,\n",
       "       63116.29952709, 63116.29952709, 63116.29952709, 63116.29952709,\n",
       "       63116.29952709, 63116.29952709, 63116.29952709, 63116.29952709,\n",
       "       63116.29952709, 63116.29952709, 63116.29952709, 63116.29952709,\n",
       "       63116.29952709, 63116.29952709, 63116.29952709, 63116.29952709,\n",
       "       63116.29952709, 63116.29952709, 63116.29952709, 63116.29952709,\n",
       "       63116.29952709, 63116.29952709, 63116.29952709, 63116.29952709,\n",
       "       63116.29952709, 63116.29952709, 63116.29952709, 63116.29952709,\n",
       "       63116.29952709, 63116.29952709, 63116.29952709, 63116.29952709,\n",
       "       63116.29952709, 63116.29952709, 63116.29952709, 63116.29952709,\n",
       "       63116.29952709, 63116.29952709, 63116.29952709, 63116.29952709,\n",
       "       63116.29952709, 63116.29952709, 63116.29952709, 63116.29952709,\n",
       "       63116.29952709, 63116.29952709, 63116.29952709, 63116.29952709,\n",
       "       63116.29952709, 63116.29952709, 63116.29952709, 63116.29952709,\n",
       "       63116.29952709, 63116.29952709, 63116.29952709, 63116.29952709,\n",
       "       63116.29952709, 63116.29952709, 63116.29952709, 63116.29952709,\n",
       "       63116.29952709, 63116.29952709, 63116.29952709, 63116.29952709,\n",
       "       63116.29952709, 63116.29952709, 63116.29952709, 63116.29952709,\n",
       "       63116.29952709, 63116.29952709, 63116.29952709, 63116.29952709,\n",
       "       63116.29952709, 63116.29952709, 63116.29952709, 63116.29952709,\n",
       "       63116.29952709, 63116.29952709, 63116.29952709, 63116.29952709,\n",
       "       63116.29952709, 63116.29952709, 63116.29952709, 63116.29952709,\n",
       "       63116.29952709, 63116.29952709, 63116.29952709, 63116.29952709,\n",
       "       63116.29952709, 63116.29952709, 63116.29952709, 63116.29952709,\n",
       "       63116.29952709, 63116.29952709, 63116.29952709, 63116.29952709,\n",
       "       63116.29952709, 63116.29952709, 63116.29952709, 63116.29952709,\n",
       "       63116.29952709, 63116.29952709, 63116.29952709, 63116.29952709,\n",
       "       63116.29952709, 63116.29952709, 63116.29952709, 63116.29952709,\n",
       "       63116.29952709, 63116.29952709, 63116.29952709, 63116.29952709,\n",
       "       63116.29952709, 63116.29952709, 63116.29952709, 63116.29952709,\n",
       "       63116.29952709, 63116.29952709, 63116.29952709, 63116.29952709,\n",
       "       63116.29952709, 63116.29952709, 63116.29952709, 63116.29952709,\n",
       "       63116.29952709, 63116.29952709, 63116.29952709, 63116.29952709,\n",
       "       63116.29952709, 63116.29952709, 63116.29952709])"
      ]
     },
     "execution_count": 165,
     "metadata": {},
     "output_type": "execute_result"
    }
   ],
   "source": [
    "np.diff(t)"
   ]
  },
  {
   "cell_type": "code",
   "execution_count": 166,
   "id": "4b068e86",
   "metadata": {},
   "outputs": [
    {
     "data": {
      "text/plain": [
       "[<matplotlib.lines.Line2D at 0x1553611ac4a0>]"
      ]
     },
     "execution_count": 166,
     "metadata": {},
     "output_type": "execute_result"
    },
    {
     "data": {
      "image/png": "[encoded data removed]",
      "text/plain": [
       "<Figure size 640x480 with 1 Axes>"
      ]
     },
     "metadata": {},
     "output_type": "display_data"
    }
   ],
   "source": [
    "plt.plot(np.diff(t))"
   ]
  },
  {
   "cell_type": "code",
   "execution_count": 167,
   "id": "232b6d7f",
   "metadata": {},
   "outputs": [
    {
     "name": "stdout",
     "output_type": "stream",
     "text": [
      "CPU times: user 963 μs, sys: 0 ns, total: 963 μs\n",
      "Wall time: 803 μs\n"
     ]
    }
   ],
   "source": [
    "%%time\n",
    "\n",
    "t_gpu = cp.asarray(t)\n",
    "\n",
    "# need to prepare arrays for sum with all modes due to +/- m setup\n",
    "ls = amp.l_arr[: teuk_modes.shape[1]]\n",
    "ms = amp.m_arr[: teuk_modes.shape[1]]\n",
    "ns = amp.n_arr[: teuk_modes.shape[1]]\n",
    "\n",
    "keep_modes = np.arange(teuk_modes.shape[1])\n",
    "temp2 = keep_modes * (keep_modes < amp.num_m0) + (keep_modes + amp.num_m_1_up) * (\n",
    "    keep_modes >= amp.num_m0\n",
    ") # amp.num_m0 gives number of modes with m == 0, amp.num_m_1_up gives number of modes with m > 0\n",
    "\n",
    "ylmkeep = np.concatenate([keep_modes, temp2])\n",
    "ylms_in = ylms[ylmkeep]\n",
    "teuk_modes_in = teuk_modes\n",
    "\n",
    "cp.cuda.Stream.null.synchronize()"
   ]
  },
  {
   "cell_type": "code",
   "execution_count": null,
   "id": "5c930440-4872-446e-8c29-2b37ddfa9313",
   "metadata": {},
   "outputs": [],
   "source": [
    "%%time\n",
    "\n",
    "# perform summation\n",
    "waveform1 = interpolate_mode_sum(\n",
    "    t_gpu,\n",
    "    teuk_modes_in,\n",
    "    ylms_in,\n",
    "    traj.integrator_spline_t,\n",
    "    traj.integrator_spline_phase_coeff[:, [0, 2]],\n",
    "    ls,\n",
    "    ms,\n",
    "    ns,\n",
    "    dt=dt,\n",
    "    T=T,\n",
    ")\n",
    "\n",
    "cp.cuda.Stream.null.synchronize()"
   ]
  },
  {
   "cell_type": "code",
   "execution_count": 161,
   "id": "4c2d56e0-56da-4318-af20-83fc48b66eb4",
   "metadata": {},
   "outputs": [
    {
     "data": {
      "text/plain": [
       "array([nan+nanj, nan+nanj, nan+nanj, ..., nan+nanj, nan+nanj, nan+nanj],\n",
       "      shape=(3155815,))"
      ]
     },
     "execution_count": 161,
     "metadata": {},
     "output_type": "execute_result"
    }
   ],
   "source": [
    "waveform1"
   ]
  },
  {
   "cell_type": "code",
   "execution_count": null,
   "id": "c4d904df-15ad-4681-98ca-634b867ef27c",
   "metadata": {},
   "outputs": [],
   "source": []
  },
  {
   "cell_type": "code",
   "execution_count": null,
   "id": "bdc70700-ae32-4ceb-97c2-f9c690f1c525",
   "metadata": {},
   "outputs": [],
   "source": []
  },
  {
   "cell_type": "code",
   "execution_count": 14,
   "id": "36cbb54a",
   "metadata": {},
   "outputs": [],
   "source": [
    "N = int(len(waveform1)) \n",
    "gwf = GWfuncs.GravWaveAnalysis(N=N,dt=dt)\n",
    "# Calculate distance dimensionless\n",
    "dist = 1.0 #Gpc\n",
    "factor = gwf.dist_factor(dist, m2)\n",
    "waveform1_scaled = waveform1.get()/factor"
   ]
  },
  {
   "cell_type": "code",
   "execution_count": 111,
   "id": "71ed97c3-4085-49ff-a0e9-d8074ace8b48",
   "metadata": {},
   "outputs": [
    {
     "data": {
      "text/plain": [
       "array([9.5       , 9.48019521, 9.46025158, 9.44016679, 9.41993846,\n",
       "       9.39956416, 9.37904137, 9.35836753, 9.33753997, 9.31655598,\n",
       "       9.29541275, 9.2741074 , 9.25263696, 9.23099839, 9.20918853,\n",
       "       9.18720414, 9.16504189, 9.14269834, 9.12016994, 9.09745302,\n",
       "       9.07454381, 9.0514384 , 9.02813278, 9.00462279, 8.98090411,\n",
       "       8.95697231, 8.93282278, 8.90845077, 8.88385135, 8.85901942,\n",
       "       8.83394967, 8.80863665, 8.78307464, 8.75725776, 8.73117986,\n",
       "       8.70483459, 8.67821532, 8.65131516, 8.62412695, 8.59664322,\n",
       "       8.56885621, 8.54075779, 8.51233951, 8.48359254, 8.45450764,\n",
       "       8.42507517, 8.39528501, 8.36512661, 8.33458886, 8.30366014])"
      ]
     },
     "execution_count": 111,
     "metadata": {},
     "output_type": "execute_result"
    }
   ],
   "source": [
    "p"
   ]
  },
  {
   "cell_type": "code",
   "execution_count": 16,
   "id": "432e3594-6b13-4d7c-b339-8379dc1d6fda",
   "metadata": {},
   "outputs": [
    {
     "data": {
      "text/plain": [
       "array([nan+nanj, nan+nanj, nan+nanj, ..., nan+nanj, nan+nanj, nan+nanj],\n",
       "      shape=(3155815,))"
      ]
     },
     "execution_count": 16,
     "metadata": {},
     "output_type": "execute_result"
    }
   ],
   "source": [
    "waveform1_scaled"
   ]
  },
  {
   "cell_type": "code",
   "execution_count": 15,
   "id": "8ab26842",
   "metadata": {},
   "outputs": [
    {
     "name": "stdout",
     "output_type": "stream",
     "text": [
      "SNR: nan\n",
      "SNR squared: nan\n"
     ]
    }
   ],
   "source": [
    "hfull_f = gwf.freq_wave(waveform1_scaled)\n",
    "\n",
    "SNR_ref = gwf.SNR(hfull_f)\n",
    "print(\"SNR:\", SNR_ref)\n",
    "print(\"SNR squared:\", SNR_ref**2)"
   ]
  },
  {
   "cell_type": "code",
   "execution_count": null,
   "id": "8fae62fc",
   "metadata": {},
   "outputs": [],
   "source": [
    "# Convert T to standard units\n",
    "T_sd = 1.0 * YRSID_SI  # 1 sidereal year in seconds (~31,558,150 seconds)\n",
    "print(\"Observation time in seconds:\", T_sd)"
   ]
  },
  {
   "cell_type": "code",
   "execution_count": null,
   "id": "ad8ce6ba",
   "metadata": {},
   "outputs": [],
   "source": [
    "N_traj = teuk_modes.shape[0]  # number of trajectory points\n",
    "print(\"Number of trajectory points:\", N_traj)\n",
    "delta_T = T_sd / N_traj  # time step in seconds\n",
    "print(\"Time step in seconds\", delta_T)"
   ]
  },
  {
   "cell_type": "code",
   "execution_count": null,
   "id": "51333d59",
   "metadata": {},
   "outputs": [],
   "source": [
    "# Get mode labels\n",
    "mode_labels = [f\"({l},{m},{n})\" for l,m,n in zip(amp.l_arr, amp.m_arr, amp.n_arr)]"
   ]
  },
  {
   "cell_type": "markdown",
   "id": "f75c5c36",
   "metadata": {},
   "source": [
    "# Generate mode frequencies "
   ]
  },
  {
   "cell_type": "markdown",
   "id": "24fcf15f",
   "metadata": {},
   "source": [
    "Using *get_fundamental_frequencies* instead"
   ]
  },
  {
   "cell_type": "code",
   "execution_count": null,
   "id": "d7a2fac8",
   "metadata": {},
   "outputs": [],
   "source": [
    "OmegaPhi, OmegaTheta, OmegaR = get_fundamental_frequencies(a, p, e, x)"
   ]
  },
  {
   "cell_type": "code",
   "execution_count": null,
   "id": "6735f227",
   "metadata": {},
   "outputs": [],
   "source": [
    "OmegaPhi"
   ]
  },
  {
   "cell_type": "code",
   "execution_count": null,
   "id": "bc2d058c",
   "metadata": {},
   "outputs": [],
   "source": [
    "gw_frequencies_per_mode = []\n",
    "mode_frequencies = {}\n",
    "\n",
    "for idx in range(len(mode_labels)):\n",
    "    l = amp.l_arr[idx]\n",
    "    m = amp.m_arr[idx] \n",
    "    n = amp.n_arr[idx]\n",
    "    \n",
    "    # Calculate GW frequencies\n",
    "    # k = 0 for equatorial case\n",
    "    f_gw = m * OmegaPhi + n * OmegaR\n",
    "    \n",
    "    gw_frequencies_per_mode.append(f_gw)"
   ]
  },
  {
   "cell_type": "code",
   "execution_count": null,
   "id": "cca3dd2d",
   "metadata": {},
   "outputs": [],
   "source": [
    "gw_phase_per_mode = []\n",
    "for idx in range(len(mode_labels)):\n",
    "    l = amp.l_arr[idx]\n",
    "    m = amp.m_arr[idx] \n",
    "    n = amp.n_arr[idx]\n",
    "    \n",
    "    # Calculate GW phases per mode\n",
    "    phi_mode = m * Phi_phi + n * Phi_r\n",
    "    \n",
    "    gw_phase_per_mode.append(phi_mode)"
   ]
  },
  {
   "cell_type": "markdown",
   "id": "c15065f1",
   "metadata": {},
   "source": [
    "# Calculate inner product"
   ]
  },
  {
   "cell_type": "code",
   "execution_count": null,
   "id": "5118e6c2",
   "metadata": {},
   "outputs": [],
   "source": [
    "idx_i = 1165 # 220\n",
    "idx_j = 1166 # 221\n",
    "mode_labels[idx_i], mode_labels[idx_j]"
   ]
  },
  {
   "cell_type": "code",
   "execution_count": null,
   "id": "26329afc",
   "metadata": {},
   "outputs": [],
   "source": [
    "# Get complex amplitudes for the two modes\n",
    "A0 = teuk_modes[:, idx_i]\n",
    "A1 = teuk_modes[:, idx_j]\n",
    "print(\"A_0:\", A0)\n",
    "print(\"A_1:\", A1)"
   ]
  },
  {
   "cell_type": "code",
   "execution_count": null,
   "id": "599690b8",
   "metadata": {},
   "outputs": [],
   "source": [
    "# Get sensitivity for the two modes\n",
    "Sn0 = get_sensitivity(gw_frequencies_per_mode[idx_i], sens_fn=LISASens, return_type=\"PSD\")\n",
    "Sn1 = get_sensitivity(gw_frequencies_per_mode[idx_j], sens_fn=LISASens, return_type=\"PSD\")"
   ]
  },
  {
   "cell_type": "code",
   "execution_count": null,
   "id": "24108f44",
   "metadata": {},
   "outputs": [],
   "source": [
    "barA0 = A0 / np.sqrt(Sn0)\n",
    "barA0 "
   ]
  },
  {
   "cell_type": "code",
   "execution_count": null,
   "id": "f8cad797",
   "metadata": {},
   "outputs": [],
   "source": [
    "barA1 = A1 / np.sqrt(Sn1)\n",
    "barA1"
   ]
  },
  {
   "cell_type": "code",
   "execution_count": null,
   "id": "d5a44497",
   "metadata": {},
   "outputs": [],
   "source": [
    "phase01 = np.abs(gw_phase_per_mode[idx_i] - gw_phase_per_mode[idx_j]) < 1.0 \n",
    "phase01"
   ]
  },
  {
   "cell_type": "markdown",
   "id": "290a8c0b",
   "metadata": {},
   "source": [
    "## Cross-term inner product of (2,2,0) & (2,2,1)"
   ]
  },
  {
   "cell_type": "code",
   "execution_count": null,
   "id": "bce40471",
   "metadata": {},
   "outputs": [],
   "source": [
    "crossprod01 = np.conj(barA0[phase01]) * barA1[phase01]\n",
    "crossprod01"
   ]
  },
  {
   "cell_type": "code",
   "execution_count": null,
   "id": "47c580e7",
   "metadata": {},
   "outputs": [],
   "source": [
    "inner_contrib_01 = np.sum(crossprod01) * delta_T * 1/(factor**2)\n",
    "np.real(inner_contrib_01)"
   ]
  },
  {
   "cell_type": "markdown",
   "id": "094e474a",
   "metadata": {},
   "source": [
    "## Self-term inner product of (2,2,0)"
   ]
  },
  {
   "cell_type": "code",
   "execution_count": null,
   "id": "a10e5517",
   "metadata": {},
   "outputs": [],
   "source": [
    "selfprod00 = np.conj(barA0)*barA0 #barA0**2\n",
    "selfprod00"
   ]
  },
  {
   "cell_type": "code",
   "execution_count": null,
   "id": "4cdf4cb0",
   "metadata": {},
   "outputs": [],
   "source": [
    "inner_contrib_00 = np.sum(np.real(selfprod00)) * delta_T * 1/(factor**2)\n",
    "inner_contrib_00"
   ]
  },
  {
   "cell_type": "code",
   "execution_count": null,
   "id": "81ccb187",
   "metadata": {},
   "outputs": [],
   "source": [
    "inner_contrib_11 = np.sum(np.real(np.conj(barA1)*barA1)) * delta_T * 1/(factor**2)\n",
    "inner_contrib_11"
   ]
  },
  {
   "cell_type": "code",
   "execution_count": null,
   "id": "61c680d5",
   "metadata": {},
   "outputs": [],
   "source": [
    "np.abs(inner_contrib_01 / np.sqrt(inner_contrib_00 * inner_contrib_11) )"
   ]
  },
  {
   "cell_type": "markdown",
   "id": "cc124501",
   "metadata": {},
   "source": [
    "## Discrepancy of self-term between squared and conj*original array?"
   ]
  },
  {
   "cell_type": "code",
   "execution_count": null,
   "id": "96c54d02",
   "metadata": {},
   "outputs": [],
   "source": [
    "np.real(np.sum(barA0**2) * delta_T * 1/(factor**2))"
   ]
  },
  {
   "cell_type": "code",
   "execution_count": null,
   "id": "175d5ac6",
   "metadata": {},
   "outputs": [],
   "source": [
    "np.real(np.sum(np.conj(barA1)*barA1) * delta_T * 1/(factor**2))"
   ]
  },
  {
   "cell_type": "code",
   "execution_count": null,
   "id": "f3b6bc08",
   "metadata": {},
   "outputs": [],
   "source": [
    "np.real(np.sum(barA1**2) * delta_T * 1/(factor**2))"
   ]
  },
  {
   "cell_type": "markdown",
   "id": "e405830f",
   "metadata": {},
   "source": [
    "# Reference values"
   ]
  },
  {
   "cell_type": "code",
   "execution_count": null,
   "id": "221b88b8",
   "metadata": {},
   "outputs": [],
   "source": [
    "indices = [1165, 1166]"
   ]
  },
  {
   "cell_type": "code",
   "execution_count": null,
   "id": "3ec15931",
   "metadata": {},
   "outputs": [],
   "source": [
    "waveform_per_mode = []\n",
    "for idx in indices:\n",
    "    l = amp.l_arr[idx]\n",
    "    m = amp.m_arr[idx]\n",
    "    n = amp.n_arr[idx]\n",
    "    print('Mode: ', mode_labels[idx])\n",
    "\n",
    "    if m >= 0:\n",
    "        # For m >= 0, directly use the mode\n",
    "        teuk_modes_single = teuk_modes[:, [idx]]\n",
    "        ylms_single = ylms[[idx]]\n",
    "        m_arr = amp.m_arr[[idx]]\n",
    "    else:\n",
    "        # Finding corresponding m>0 mode instead of mapping\n",
    "        print('NEGATIVE M MODE')\n",
    "        pos_m_mask = (amp.l_arr == l) & (amp.m_arr == -m) & (amp.n_arr == n) \n",
    "        print(amp.l_arr[pos_m_mask], amp.m_arr[pos_m_mask], amp.n_arr[pos_m_mask])\n",
    "        pos_m_idx = np.where(pos_m_mask)[0]\n",
    "        print(pos_m_idx)\n",
    "        \n",
    "        teuk_modes_single = (-1)**l * np.conj(teuk_modes[:, [pos_m_idx]])\n",
    "        print(teuk_modes_single)\n",
    "        # ylms_single = (-1)**(-m) * np.conj(ylms[[pos_m_idx]])\n",
    "        ylms_single = ylms[[idx]]\n",
    "        print(ylms_single)\n",
    "        m_arr = np.abs(amp.m_arr[[idx]])  # To pass positive m \n",
    "\n",
    "    waveform = interpolate_mode_sum(\n",
    "        t,\n",
    "        teuk_modes_single,\n",
    "        ylms_single,\n",
    "        traj.integrator_spline_t,\n",
    "        traj.integrator_spline_phase_coeff[:, [0, 2]],\n",
    "        amp.l_arr[[idx]], \n",
    "        m_arr,  \n",
    "        amp.n_arr[[idx]], \n",
    "        dt=dt,\n",
    "        T=T\n",
    "    )\n",
    "    waveform_per_mode.append(waveform/factor)"
   ]
  },
  {
   "cell_type": "code",
   "execution_count": null,
   "id": "1b9f06d8",
   "metadata": {},
   "outputs": [],
   "source": [
    "# Convert each waveform to frequency domain\n",
    "hf_per_mode = [gwf.freq_wave(waveform) for waveform in waveform_per_mode]"
   ]
  },
  {
   "cell_type": "code",
   "execution_count": null,
   "id": "446a7794",
   "metadata": {},
   "outputs": [],
   "source": [
    "gwf.inner(hf_per_mode[0], hf_per_mode[1])"
   ]
  },
  {
   "cell_type": "code",
   "execution_count": null,
   "id": "4bffb8ab",
   "metadata": {},
   "outputs": [],
   "source": [
    "gwf.inner(hf_per_mode[0], hf_per_mode[0])"
   ]
  },
  {
   "cell_type": "code",
   "execution_count": null,
   "id": "1fae17dd",
   "metadata": {},
   "outputs": [],
   "source": [
    "gwf.inner(hf_per_mode[1], hf_per_mode[1])"
   ]
  },
  {
   "cell_type": "code",
   "execution_count": null,
   "id": "4db47880",
   "metadata": {},
   "outputs": [],
   "source": []
  }
 ],
 "metadata": {
  "kernelspec": {
   "display_name": "Python (fewnew)",
   "language": "python",
   "name": "fewnew"
  },
  "language_info": {
   "codemirror_mode": {
    "name": "ipython",
    "version": 3
   },
   "file_extension": ".py",
   "mimetype": "text/x-python",
   "name": "python",
   "nbconvert_exporter": "python",
   "pygments_lexer": "ipython3",
   "version": "3.12.9"
  }
 },
 "nbformat": 4,
 "nbformat_minor": 5
}
