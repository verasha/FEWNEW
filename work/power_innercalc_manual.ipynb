{
 "cells": [
  {
   "cell_type": "markdown",
   "id": "296d9986",
   "metadata": {},
   "source": [
    "# Import and setup"
   ]
  },
  {
   "cell_type": "code",
   "execution_count": 4,
   "id": "65355769",
   "metadata": {},
   "outputs": [],
   "source": [
    "import numpy as np\n",
    "import matplotlib.pyplot as plt\n",
    "\n",
    "import few\n",
    "\n",
    "from few.trajectory.inspiral import EMRIInspiral\n",
    "from few.trajectory.ode import SchwarzEccFlux, KerrEccEqFlux\n",
    "# from few.amplitude.romannet import RomanAmplitude\n",
    "from few.amplitude.ampinterp2d import AmpInterpKerrEqEcc\n",
    "from few.summation.interpolatedmodesum import InterpolatedModeSum\n",
    "\n",
    "\n",
    "from few.utils.ylm import GetYlms\n",
    "from few.utils.modeselector import ModeSelector\n",
    "from few.summation.interpolatedmodesum import CubicSplineInterpolant\n",
    "from few import get_file_manager\n",
    "\n",
    "from few.waveform import (\n",
    "    FastKerrEccentricEquatorialFlux,\n",
    "    FastSchwarzschildEccentricFlux, \n",
    "    SlowSchwarzschildEccentricFlux, \n",
    "    Pn5AAKWaveform,\n",
    "    GenerateEMRIWaveform\n",
    ")\n",
    "\n",
    "from few.utils.utility import get_fundamental_frequencies\n",
    "\n",
    "import GWfuncs\n",
    "import gc\n",
    "import pickle\n",
    "import os\n",
    "# import cupy as cp\n",
    "import multiprocessing as mp\n",
    "from multiprocessing import Queue, Process\n",
    "from functools import partial\n",
    "from SNR_tutorial_utils import LISA_Noise\n",
    "from lisatools.sensitivity import *\n",
    "\n",
    "\n",
    "# import pandas as pd\n",
    "# tune few configuration\n",
    "cfg_set = few.get_config_setter(reset=True)\n",
    "cfg_set.set_log_level(\"info\");"
   ]
  },
  {
   "cell_type": "code",
   "execution_count": 3,
   "id": "29c9f6f0",
   "metadata": {},
   "outputs": [],
   "source": [
    "# Parameters\n",
    "M = 1e6\n",
    "mu = 1e1 \n",
    "a = 0.5\n",
    "p0 = 9.5\n",
    "e0 = 0.2\n",
    "theta = np.pi / 3.0 \n",
    "phi = np.pi / 4.0  \n",
    "dt = 10.0\n",
    "T = 1\n",
    "xI0 = 1.0 \n",
    "#in the paper xI0 = 0.866, but that would be non-equatorial case\n",
    "\n",
    "traj = EMRIInspiral(func=KerrEccEqFlux, force_backend=\"cuda12x\")\n",
    "amp = AmpInterpKerrEqEcc(lmax=10,nmax=55) # default lmax=10, nmax=55\n",
    "interpolate_mode_sum = InterpolatedModeSum()\n",
    "ylm_gen = GetYlms(assume_positive_m=False)\n",
    "\n",
    "use_gpu = False\n",
    "func = \"KerrEccentricEquatorial\"\n",
    "\n",
    "# keyword arguments for inspiral generator \n",
    "inspiral_kwargs={\n",
    "        \"err\": 1e-10,\n",
    "        \"func\": func,\n",
    "        \"DENSE_STEPPING\": 0,  # we want a sparsely sampled trajectory\n",
    "        \"include_minus_m\": False, \n",
    "        \"use_gpu\" : use_gpu,\n",
    "        \"force_backend\": \"cuda12x\"  # Force GPU\n",
    "        # \"buffer_length\": int(1e4),  # all of the trajectories will be well under len = 1000\n",
    "        # diff in v2.0: max init length => buffer length\n",
    "    }\n",
    "\n",
    "# keyword arguments for inspiral generator \n",
    "amplitude_kwargs = {\n",
    "    \"force_backend\": \"cuda12x\"  # Force GPU\n",
    "    # \"buffer_length\": int(1e3),  # all of the trajectories will be well under len = 1000\n",
    "    # \"use_gpu\": use_gpu  # GPU is available in this class\n",
    "}\n",
    "\n",
    "# keyword arguments for Ylm generator (GetYlms)\n",
    "Ylm_kwargs = {\n",
    "    \"force_backend\": \"cuda12x\",  # Force GPU\n",
    "    \"assume_positive_m\": True  # if we assume positive m, it will generate negative m for all m>0\n",
    "}\n",
    "\n",
    "# keyword arguments for summation generator (InterpolatedModeSum)\n",
    "sum_kwargs = {\n",
    "    \"force_backend\": \"cuda12x\",  # Force GPU\n",
    "    # \"use_gpu\": use_gpu,  # GPU is available for this type of summation\n",
    "    \"pad_output\": False,\n",
    "}\n",
    "\n",
    "# Kerr eccentric flux\n",
    "few = FastKerrEccentricEquatorialFlux(\n",
    "    inspiral_kwargs=inspiral_kwargs,\n",
    "    amplitude_kwargs=amplitude_kwargs,\n",
    "    Ylm_kwargs=Ylm_kwargs,\n",
    "    sum_kwargs=sum_kwargs,\n",
    "    use_gpu=use_gpu,\n",
    ")\n"
   ]
  },
  {
   "cell_type": "markdown",
   "id": "ede27aac",
   "metadata": {},
   "source": [
    "# Generate waveform"
   ]
  },
  {
   "cell_type": "code",
   "execution_count": 5,
   "id": "aa6a79b0",
   "metadata": {},
   "outputs": [],
   "source": [
    "# Calc trajectory\n",
    "t, p, e, x, Phi_phi, Phi_theta, Phi_r = traj(M, mu, a, p0, e0, 1.0)\n",
    "# the arguments: M, mu, a, p0, e0, x0\n",
    "\n",
    "# t_gpu = cp.asarray(t)\n",
    "\n",
    "# Get amplitudes along trajectory\n",
    "teuk_modes = amp(a, p, e, x)\n",
    "\n",
    "# Get Ylms\n",
    "ylms = ylm_gen(amp.unique_l, amp.unique_m, theta, phi).copy()[amp.inverse_lm]\n",
    "\n",
    "# need to prepare arrays for sum with all modes due to +/- m setup\n",
    "ls = amp.l_arr[: teuk_modes.shape[1]]\n",
    "ms = amp.m_arr[: teuk_modes.shape[1]]\n",
    "ns = amp.n_arr[: teuk_modes.shape[1]]\n",
    "\n",
    "keep_modes = np.arange(teuk_modes.shape[1])\n",
    "temp2 = keep_modes * (keep_modes < amp.num_m0) + (keep_modes + amp.num_m_1_up) * (\n",
    "    keep_modes >= amp.num_m0\n",
    ")\n",
    "\n",
    "ylmkeep = np.concatenate([keep_modes, temp2])\n",
    "ylms_in = ylms[ylmkeep]\n",
    "teuk_modes_in = teuk_modes\n",
    "\n",
    "# summation\n",
    "waveform1 = interpolate_mode_sum(\n",
    "    t,\n",
    "    teuk_modes_in,\n",
    "    ylms_in,\n",
    "    traj.integrator_spline_t,\n",
    "    traj.integrator_spline_phase_coeff[:, [0, 2]],\n",
    "    amp.m_arr,\n",
    "    amp.n_arr,    \n",
    "    dt=dt,\n",
    "    T=T,\n",
    ")\n",
    "\n",
    "N = int(len(waveform1)) \n",
    "gwf = GWfuncs.GravWaveAnalysis(N=N,dt=dt)\n",
    "# Calculate distance dimensionless\n",
    "dist = 1.0 #Gpc\n",
    "factor = gwf.dist_factor(dist, mu)\n",
    "waveform1_scaled = waveform1/factor"
   ]
  },
  {
   "cell_type": "code",
   "execution_count": 6,
   "id": "8ab26842",
   "metadata": {},
   "outputs": [
    {
     "name": "stdout",
     "output_type": "stream",
     "text": [
      "SNR: 38.19806409907605\n",
      "SNR squared: 1459.0921009171225\n"
     ]
    }
   ],
   "source": [
    "hfull_f = gwf.freq_wave(waveform1_scaled)\n",
    "\n",
    "SNR_ref = gwf.SNR(hfull_f)\n",
    "print(\"SNR:\", SNR_ref)\n",
    "print(\"SNR squared:\", SNR_ref**2)"
   ]
  },
  {
   "cell_type": "code",
   "execution_count": 7,
   "id": "8fae62fc",
   "metadata": {},
   "outputs": [
    {
     "name": "stdout",
     "output_type": "stream",
     "text": [
      "Observation time in seconds: 31558149.763545603\n"
     ]
    }
   ],
   "source": [
    "# Convert T to standard units\n",
    "YRSID_SI = 31558149.763545603  # 1 sidereal year in seconds\n",
    "T_sd = 1.0 * YRSID_SI  # 1 sidereal year in seconds (~31,558,150 seconds)\n",
    "print(\"Observation time in seconds:\", T_sd)"
   ]
  },
  {
   "cell_type": "code",
   "execution_count": 8,
   "id": "ad8ce6ba",
   "metadata": {},
   "outputs": [
    {
     "name": "stdout",
     "output_type": "stream",
     "text": [
      "Number of trajectory points: 14\n",
      "Time step in seconds 2254153.5545389717\n"
     ]
    }
   ],
   "source": [
    "N_traj = teuk_modes.shape[0]  # number of trajectory points\n",
    "print(\"Number of trajectory points:\", N_traj)\n",
    "delta_T = T_sd / N_traj  # time step in seconds\n",
    "print(\"Time step in seconds\", delta_T)"
   ]
  },
  {
   "cell_type": "code",
   "execution_count": 9,
   "id": "51333d59",
   "metadata": {},
   "outputs": [],
   "source": [
    "# Get mode labels\n",
    "mode_labels = [f\"({l},{m},{n})\" for l,m,n in zip(amp.l_arr, amp.m_arr, amp.n_arr)]"
   ]
  },
  {
   "cell_type": "markdown",
   "id": "f75c5c36",
   "metadata": {},
   "source": [
    "# Generate mode frequencies "
   ]
  },
  {
   "cell_type": "markdown",
   "id": "24fcf15f",
   "metadata": {},
   "source": [
    "Using *get_fundamental_frequencies* instead"
   ]
  },
  {
   "cell_type": "code",
   "execution_count": null,
   "id": "d7a2fac8",
   "metadata": {},
   "outputs": [],
   "source": [
    "OmegaPhi, OmegaTheta, OmegaR = get_fundamental_frequencies(a, p, e, x)"
   ]
  },
  {
   "cell_type": "code",
   "execution_count": 11,
   "id": "6735f227",
   "metadata": {},
   "outputs": [
    {
     "data": {
      "text/plain": [
       "array([0.03205396, 0.03205396, 0.03205397, 0.03205403, 0.03205441,\n",
       "       0.03205666, 0.03207016, 0.03215159, 0.03265547, 0.03393851,\n",
       "       0.03541557, 0.03776285, 0.0400312 , 0.0400364 ])"
      ]
     },
     "execution_count": 11,
     "metadata": {},
     "output_type": "execute_result"
    }
   ],
   "source": [
    "OmegaPhi"
   ]
  },
  {
   "cell_type": "code",
   "execution_count": 16,
   "id": "bc2d058c",
   "metadata": {},
   "outputs": [],
   "source": [
    "gw_frequencies_per_mode = []\n",
    "mode_frequencies = {}\n",
    "\n",
    "for idx in range(len(mode_labels)):\n",
    "    l = amp.l_arr[idx]\n",
    "    m = amp.m_arr[idx] \n",
    "    n = amp.n_arr[idx]\n",
    "    \n",
    "    # Calculate GW frequencies\n",
    "    # k = 0 for equatorial case\n",
    "    f_gw = m * OmegaPhi + n * OmegaR\n",
    "    \n",
    "    gw_frequencies_per_mode.append(f_gw)"
   ]
  },
  {
   "cell_type": "code",
   "execution_count": 17,
   "id": "cca3dd2d",
   "metadata": {},
   "outputs": [],
   "source": [
    "gw_phase_per_mode = []\n",
    "for idx in range(len(mode_labels)):\n",
    "    l = amp.l_arr[idx]\n",
    "    m = amp.m_arr[idx] \n",
    "    n = amp.n_arr[idx]\n",
    "    \n",
    "    # Calculate GW phases per mode\n",
    "    phi_mode = m * Phi_phi + n * Phi_r\n",
    "    \n",
    "    gw_phase_per_mode.append(phi_mode)"
   ]
  },
  {
   "cell_type": "markdown",
   "id": "c15065f1",
   "metadata": {},
   "source": [
    "# Calculate inner product"
   ]
  },
  {
   "cell_type": "code",
   "execution_count": 21,
   "id": "5118e6c2",
   "metadata": {},
   "outputs": [
    {
     "data": {
      "text/plain": [
       "('(2,2,0)', '(2,2,1)')"
      ]
     },
     "execution_count": 21,
     "metadata": {},
     "output_type": "execute_result"
    }
   ],
   "source": [
    "idx_i = 1165 # 220\n",
    "idx_j = 1166 # 221\n",
    "mode_labels[idx_i], mode_labels[idx_j]"
   ]
  },
  {
   "cell_type": "code",
   "execution_count": 24,
   "id": "26329afc",
   "metadata": {},
   "outputs": [
    {
     "name": "stdout",
     "output_type": "stream",
     "text": [
      "A_0: [0.44924664-0.12386828j 0.44924666-0.12386829j 0.44924679-0.12386835j\n",
      " 0.44924758-0.12386868j 0.44925227-0.1238707j  0.44928045-0.12388277j\n",
      " 0.44944961-0.1239553j  0.45046868-0.12439248j 0.45673448-0.12709187j\n",
      " 0.47238826-0.13391732j 0.48990391-0.14168195j 0.51672206-0.15379251j\n",
      " 0.54157349-0.16520098j 0.5416294 -0.1652268j ]\n",
      "A_1: [0.26093475-0.08208452j 0.26093475-0.08208452j 0.26093475-0.08208453j\n",
      " 0.26093478-0.08208459j 0.26093493-0.08208497j 0.26093583-0.08208722j\n",
      " 0.26094125-0.08210074j 0.26097355-0.08218193j 0.26115894-0.08267163j\n",
      " 0.26153211-0.08382475j 0.26182414-0.08499903j 0.26209755-0.08657027j\n",
      " 0.26226481-0.08779671j 0.26226517-0.08779923j]\n"
     ]
    }
   ],
   "source": [
    "# Get complex amplitudes for the two modes\n",
    "A0 = teuk_modes[:, idx_i]\n",
    "A1 = teuk_modes[:, idx_j]\n",
    "print(\"A_0:\", A0)\n",
    "print(\"A_1:\", A1)"
   ]
  },
  {
   "cell_type": "code",
   "execution_count": 27,
   "id": "599690b8",
   "metadata": {},
   "outputs": [],
   "source": [
    "# Get sensitivity for the two modes\n",
    "Sn0 = get_sensitivity(gw_frequencies_per_mode[idx_i], sens_fn=LISASens, return_type=\"PSD\")\n",
    "Sn1 = get_sensitivity(gw_frequencies_per_mode[idx_j], sens_fn=LISASens, return_type=\"PSD\")"
   ]
  },
  {
   "cell_type": "code",
   "execution_count": 28,
   "id": "24108f44",
   "metadata": {},
   "outputs": [
    {
     "data": {
      "text/plain": [
       "array([1.02549867e+19-2.82755056e+18j, 1.02549867e+19-2.82755064e+18j,\n",
       "       1.02549868e+19-2.82755112e+18j, 1.02549872e+19-2.82755397e+18j,\n",
       "       1.02549899e+19-2.82757110e+18j, 1.02550059e+19-2.82767385e+18j,\n",
       "       1.02551009e+19-2.82829052e+18j, 1.02556444e+19-2.83199505e+18j,\n",
       "       1.02578971e+19-2.85438341e+18j, 1.02556975e+19-2.90738695e+18j,\n",
       "       1.02409945e+19-2.96173196e+18j, 1.01964316e+19-3.03477423e+18j,\n",
       "       1.01348593e+19-3.09152628e+18j, 1.01347015e+19-3.09164215e+18j])"
      ]
     },
     "execution_count": 28,
     "metadata": {},
     "output_type": "execute_result"
    }
   ],
   "source": [
    "barA0 = A0 / np.sqrt(Sn0)\n",
    "barA0 "
   ]
  },
  {
   "cell_type": "code",
   "execution_count": 29,
   "id": "f8cad797",
   "metadata": {},
   "outputs": [
    {
     "data": {
      "text/plain": [
       "array([4.53923442e+18-1.42794654e+18j, 4.53923422e+18-1.42794650e+18j,\n",
       "       4.53923303e+18-1.42794629e+18j, 4.53922586e+18-1.42794498e+18j,\n",
       "       4.53918284e+18-1.42793715e+18j, 4.53892470e+18-1.42789019e+18j,\n",
       "       4.53737508e+18-1.42760812e+18j, 4.52804853e+18-1.42590599e+18j,\n",
       "       4.47102665e+18-1.41533376e+18j, 4.33116191e+18-1.38819886e+18j,\n",
       "       4.17947330e+18-1.35683127e+18j, 3.95817442e+18-1.30737668e+18j,\n",
       "       3.76600900e+18-1.26072270e+18j, 3.76559135e+18-1.26061737e+18j])"
      ]
     },
     "execution_count": 29,
     "metadata": {},
     "output_type": "execute_result"
    }
   ],
   "source": [
    "barA1 = A1 / np.sqrt(Sn1)\n",
    "barA1"
   ]
  },
  {
   "cell_type": "code",
   "execution_count": 35,
   "id": "d5a44497",
   "metadata": {},
   "outputs": [
    {
     "data": {
      "text/plain": [
       "array([ True,  True,  True, False, False, False, False, False, False,\n",
       "       False, False, False, False, False])"
      ]
     },
     "execution_count": 35,
     "metadata": {},
     "output_type": "execute_result"
    }
   ],
   "source": [
    "phase01 = np.abs(gw_phase_per_mode[idx_i] - gw_phase_per_mode[idx_j]) < 1.0 \n",
    "phase01"
   ]
  },
  {
   "cell_type": "code",
   "execution_count": 39,
   "id": "bce40471",
   "metadata": {},
   "outputs": [
    {
     "data": {
      "text/plain": [
       "array([5.05873796e+37-1.80865793e+36j, 5.05873777e+37-1.80865778e+36j,\n",
       "       5.05873658e+37-1.80865688e+36j])"
      ]
     },
     "execution_count": 39,
     "metadata": {},
     "output_type": "execute_result"
    }
   ],
   "source": [
    "crossprod01 = np.conj(barA0[phase01]) * barA1[phase01]\n",
    "crossprod01"
   ]
  },
  {
   "cell_type": "code",
   "execution_count": 40,
   "id": "47c580e7",
   "metadata": {},
   "outputs": [
    {
     "data": {
      "text/plain": [
       "np.float64(78.34048759987516)"
      ]
     },
     "execution_count": 40,
     "metadata": {},
     "output_type": "execute_result"
    }
   ],
   "source": [
    "inner_contrib_01 = np.sum(crossprod01) * delta_T * 1/(factor**2)\n",
    "np.real(inner_contrib_01)"
   ]
  },
  {
   "cell_type": "code",
   "execution_count": 41,
   "id": "a10e5517",
   "metadata": {},
   "outputs": [
    {
     "data": {
      "text/plain": [
       "array([1.13159794e+38-1.62405645e+21j, 1.13159795e+38-1.62211251e+21j,\n",
       "       1.13159799e+38-1.27729898e+21j, 1.13159824e+38-2.21577627e+21j,\n",
       "       1.13159976e+38+1.91719498e+21j, 1.13160885e+38+1.85324414e+21j,\n",
       "       1.13166323e+38+1.29929196e+21j, 1.13198438e+38-1.21034929e+21j,\n",
       "       1.13371958e+38+9.08865403e+19j, 1.13632229e+38+7.35647173e+20j,\n",
       "       1.13649824e+38-3.90484599e+20j, 1.13177072e+38-1.32351577e+21j,\n",
       "       1.12272908e+38+1.46226910e+21j, 1.12270425e+38-1.88145804e+21j])"
      ]
     },
     "execution_count": 41,
     "metadata": {},
     "output_type": "execute_result"
    }
   ],
   "source": [
    "selfprod00 = np.conj(barA0)*barA0 \n",
    "selfprod00"
   ]
  },
  {
   "cell_type": "code",
   "execution_count": 43,
   "id": "4cdf4cb0",
   "metadata": {},
   "outputs": [
    {
     "data": {
      "text/plain": [
       "np.float64(817.5147332029419)"
      ]
     },
     "execution_count": 43,
     "metadata": {},
     "output_type": "execute_result"
    }
   ],
   "source": [
    "inner_contrib_00 = np.sum(selfprod00) * delta_T * 1/(factor**2)\n",
    "np.real(inner_contrib_00)"
   ]
  },
  {
   "cell_type": "code",
   "execution_count": 45,
   "id": "96c54d02",
   "metadata": {},
   "outputs": [
    {
     "data": {
      "text/plain": [
       "np.float64(696.0118515675955)"
      ]
     },
     "execution_count": 45,
     "metadata": {},
     "output_type": "execute_result"
    }
   ],
   "source": [
    "np.real(np.sum(barA0**2) * delta_T * 1/(factor**2))"
   ]
  },
  {
   "cell_type": "code",
   "execution_count": 47,
   "id": "175d5ac6",
   "metadata": {},
   "outputs": [
    {
     "data": {
      "text/plain": [
       "np.float64(150.69417288688206)"
      ]
     },
     "execution_count": 47,
     "metadata": {},
     "output_type": "execute_result"
    }
   ],
   "source": [
    "np.real(np.sum(np.conj(barA1)*barA1) * delta_T * 1/(factor**2))"
   ]
  },
  {
   "cell_type": "code",
   "execution_count": 46,
   "id": "f3b6bc08",
   "metadata": {},
   "outputs": [
    {
     "data": {
      "text/plain": [
       "np.float64(122.85587955544625)"
      ]
     },
     "execution_count": 46,
     "metadata": {},
     "output_type": "execute_result"
    }
   ],
   "source": [
    "np.real(np.sum(barA1**2) * delta_T * 1/(factor**2))"
   ]
  },
  {
   "cell_type": "markdown",
   "id": "e405830f",
   "metadata": {},
   "source": [
    "# Reference values"
   ]
  },
  {
   "cell_type": "code",
   "execution_count": 49,
   "id": "221b88b8",
   "metadata": {},
   "outputs": [],
   "source": [
    "indices = [1165, 1166]"
   ]
  },
  {
   "cell_type": "code",
   "execution_count": 50,
   "id": "3ec15931",
   "metadata": {},
   "outputs": [
    {
     "name": "stdout",
     "output_type": "stream",
     "text": [
      "Mode:  (2,2,0)\n",
      "Mode:  (2,2,1)\n"
     ]
    }
   ],
   "source": [
    "waveform_per_mode = []\n",
    "for idx in indices:\n",
    "    l = amp.l_arr[idx]\n",
    "    m = amp.m_arr[idx]\n",
    "    n = amp.n_arr[idx]\n",
    "    print('Mode: ', mode_labels[idx])\n",
    "\n",
    "    if m >= 0:\n",
    "        # For m >= 0, directly use the mode\n",
    "        teuk_modes_single = teuk_modes[:, [idx]]\n",
    "        ylms_single = ylms[[idx]]\n",
    "        m_arr = amp.m_arr[[idx]]\n",
    "    else:\n",
    "        # Finding corresponding m>0 mode instead of mapping\n",
    "        print('NEGATIVE M MODE')\n",
    "        pos_m_mask = (amp.l_arr == l) & (amp.m_arr == -m) & (amp.n_arr == n) \n",
    "        print(amp.l_arr[pos_m_mask], amp.m_arr[pos_m_mask], amp.n_arr[pos_m_mask])\n",
    "        pos_m_idx = np.where(pos_m_mask)[0]\n",
    "        print(pos_m_idx)\n",
    "        \n",
    "        teuk_modes_single = (-1)**l * np.conj(teuk_modes[:, [pos_m_idx]])\n",
    "        print(teuk_modes_single)\n",
    "        # ylms_single = (-1)**(-m) * np.conj(ylms[[pos_m_idx]])\n",
    "        ylms_single = ylms[[idx]]\n",
    "        print(ylms_single)\n",
    "        m_arr = np.abs(amp.m_arr[[idx]])  # To pass positive m \n",
    "\n",
    "    waveform = interpolate_mode_sum(\n",
    "        t,\n",
    "        teuk_modes_single,\n",
    "        ylms_single,\n",
    "        traj.integrator_spline_t,\n",
    "        traj.integrator_spline_phase_coeff[:, [0, 2]],\n",
    "        m_arr,  \n",
    "        amp.n_arr[[idx]], \n",
    "        dt=dt,\n",
    "        T=T\n",
    "    )\n",
    "    waveform_per_mode.append(waveform/factor)"
   ]
  },
  {
   "cell_type": "code",
   "execution_count": 51,
   "id": "1b9f06d8",
   "metadata": {},
   "outputs": [],
   "source": [
    "# Convert each waveform to frequency domain\n",
    "hf_per_mode = [gwf.freq_wave(waveform) for waveform in waveform_per_mode]"
   ]
  },
  {
   "cell_type": "code",
   "execution_count": 54,
   "id": "446a7794",
   "metadata": {},
   "outputs": [
    {
     "data": {
      "text/plain": [
       "np.float64(0.006326338103142443)"
      ]
     },
     "execution_count": 54,
     "metadata": {},
     "output_type": "execute_result"
    }
   ],
   "source": [
    "gwf.inner(hf_per_mode[0], hf_per_mode[1])"
   ]
  },
  {
   "cell_type": "code",
   "execution_count": 55,
   "id": "4bffb8ab",
   "metadata": {},
   "outputs": [
    {
     "data": {
      "text/plain": [
       "np.float64(585.8239700556379)"
      ]
     },
     "execution_count": 55,
     "metadata": {},
     "output_type": "execute_result"
    }
   ],
   "source": [
    "gwf.inner(hf_per_mode[0], hf_per_mode[0])"
   ]
  },
  {
   "cell_type": "code",
   "execution_count": 56,
   "id": "1fae17dd",
   "metadata": {},
   "outputs": [
    {
     "data": {
      "text/plain": [
       "np.float64(466.6345702182539)"
      ]
     },
     "execution_count": 56,
     "metadata": {},
     "output_type": "execute_result"
    }
   ],
   "source": [
    "gwf.inner(hf_per_mode[1], hf_per_mode[1])"
   ]
  },
  {
   "cell_type": "code",
   "execution_count": null,
   "id": "4db47880",
   "metadata": {},
   "outputs": [],
   "source": []
  }
 ],
 "metadata": {
  "kernelspec": {
   "display_name": "few",
   "language": "python",
   "name": "python3"
  },
  "language_info": {
   "codemirror_mode": {
    "name": "ipython",
    "version": 3
   },
   "file_extension": ".py",
   "mimetype": "text/x-python",
   "name": "python",
   "nbconvert_exporter": "python",
   "pygments_lexer": "ipython3",
   "version": "3.12.9"
  }
 },
 "nbformat": 4,
 "nbformat_minor": 5
}
