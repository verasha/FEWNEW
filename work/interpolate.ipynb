{
 "cells": [
  {
   "cell_type": "markdown",
   "id": "66352a0a-19e8-42eb-8d80-a629d83d9cb6",
   "metadata": {},
   "source": [
    "# Import and setup"
   ]
  },
  {
   "cell_type": "code",
   "execution_count": 9,
   "id": "40237ba0-030d-4759-bff1-bb08473e6ad9",
   "metadata": {},
   "outputs": [],
   "source": [
    "import numpy as np\n",
    "import matplotlib.pyplot as plt\n",
    "\n",
    "import few\n",
    "\n",
    "from few.trajectory.inspiral import EMRIInspiral\n",
    "from few.trajectory.ode import SchwarzEccFlux, KerrEccEqFlux\n",
    "# from few.amplitude.romannet import RomanAmplitude\n",
    "from few.amplitude.ampinterp2d import AmpInterpKerrEccEq\n",
    "from few.summation.interpolatedmodesum import InterpolatedModeSum, CubicSplineInterpolant\n",
    "\n",
    "\n",
    "from few.utils.ylm import GetYlms\n",
    "from few.utils.modeselector import ModeSelector\n",
    "from few.summation.interpolatedmodesum import CubicSplineInterpolant\n",
    "from few import get_file_manager\n",
    "\n",
    "from few.waveform import (\n",
    "    FastKerrEccentricEquatorialFlux,\n",
    "    FastSchwarzschildEccentricFlux, \n",
    "    SlowSchwarzschildEccentricFlux, \n",
    "    Pn5AAKWaveform,\n",
    "    GenerateEMRIWaveform\n",
    ")\n",
    "\n",
    "from few.utils.geodesic import get_fundamental_frequencies\n",
    "\n",
    "import GWfuncs\n",
    "import gc\n",
    "import pickle\n",
    "import os\n",
    "import cupy as cp\n",
    "import multiprocessing as mp\n",
    "from multiprocessing import Queue, Process\n",
    "from functools import partial\n",
    "from SNR_tutorial_utils import LISA_Noise\n",
    "from lisatools.sensitivity import *\n",
    "\n",
    "from few.utils.constants import YRSID_SI, Gpc, MRSUN_SI\n",
    "\n",
    "\n",
    "\n",
    "# import pandas as pd\n",
    "# tune few configuration\n",
    "cfg_set = few.get_config_setter(reset=True)\n",
    "cfg_set.set_log_level(\"info\");"
   ]
  },
  {
   "cell_type": "code",
   "execution_count": 2,
   "id": "0f25b1fb-dd60-4e53-97d7-34834281ac9b",
   "metadata": {},
   "outputs": [],
   "source": [
    "# Parameters\n",
    "m1 = 1e6 #M\n",
    "m2 = 1e1 #mu\n",
    "a = 0.5\n",
    "p0 = 9.5\n",
    "e0 = 0.2\n",
    "theta = np.pi / 3.0 \n",
    "phi = np.pi / 4.0  \n",
    "dt = 10.0\n",
    "T = 1\n",
    "xI0 = 1.0 \n",
    "#in the paper xI0 = 0.866, but that would be non-equatorial case\n",
    "\n",
    "use_gpu = True \n",
    "traj = EMRIInspiral(func=KerrEccEqFlux, force_backend=\"cuda12x\", use_gpu=use_gpu) #theres npoints flag here\n",
    "amp = AmpInterpKerrEccEq(force_backend=\"cuda12x\") # default lmax=10, nmax=55\n",
    "interpolate_mode_sum = InterpolatedModeSum(force_backend=\"cuda12x\")\n",
    "ylm_gen = GetYlms(include_minus_m=False, force_backend=\"cuda12x\")"
   ]
  },
  {
   "cell_type": "markdown",
   "id": "bd325cf9-be87-4792-92df-d1bd76d38625",
   "metadata": {},
   "source": [
    "# Generate amplitudes, trajectory, etc."
   ]
  },
  {
   "cell_type": "code",
   "execution_count": 28,
   "id": "1a0e50b8-1a51-4062-b1f9-94bb2cd8a310",
   "metadata": {},
   "outputs": [],
   "source": [
    "N_traj = 100 # change amount of points here \n",
    "delta_T = T*YRSID_SI/N_traj "
   ]
  },
  {
   "cell_type": "code",
   "execution_count": 29,
   "id": "6b678072-0828-4d68-b358-78b4dcd8dda5",
   "metadata": {},
   "outputs": [],
   "source": [
    "# Calc trajectory\n",
    "(t, p, e, x, Phi_phi, Phi_theta, Phi_r) = traj(m1, m2, a, p0, e0, xI0, T=T, dt=delta_T, upsample=True) \n",
    "\n",
    "t_gpu = cp.asarray(t)\n",
    "\n",
    "# Get amplitudes along trajectory\n",
    "teuk_modes = amp(a, p, e, x)\n",
    "\n",
    "# Get Ylms\n",
    "ylms = ylm_gen(amp.unique_l, amp.unique_m, theta, phi).copy()[amp.inverse_lm]"
   ]
  },
  {
   "cell_type": "code",
   "execution_count": 30,
   "id": "20c80064-dcca-4b3c-a5cb-2396439d3112",
   "metadata": {},
   "outputs": [],
   "source": [
    "dist = 1.0 # Gpc\n",
    "factor = dist * Gpc / (m2 * MRSUN_SI)\n",
    "N_traj = teuk_modes.shape[0]  # number of trajectory points"
   ]
  },
  {
   "cell_type": "markdown",
   "id": "12939148-a9bd-4e9d-87ef-b91825d79717",
   "metadata": {},
   "source": [
    "# Interpolate -> sum (one full waveform)"
   ]
  },
  {
   "cell_type": "markdown",
   "id": "fd7a6297-be14-4b8d-b2fb-05d2892129da",
   "metadata": {},
   "source": [
    "Still have problems with NaNs"
   ]
  },
  {
   "cell_type": "code",
   "execution_count": 31,
   "id": "892e7206-fd4d-4df1-9fb3-21b5f1bb780a",
   "metadata": {},
   "outputs": [
    {
     "name": "stdout",
     "output_type": "stream",
     "text": [
      "CPU times: user 3.78 ms, sys: 17 μs, total: 3.8 ms\n",
      "Wall time: 3.14 ms\n"
     ]
    }
   ],
   "source": [
    "%%time\n",
    "\n",
    "t_gpu = cp.asarray(t)\n",
    "\n",
    "# need to prepare arrays for sum with all modes due to +/- m setup\n",
    "ls = amp.l_arr[: teuk_modes.shape[1]]\n",
    "ms = amp.m_arr[: teuk_modes.shape[1]]\n",
    "ns = amp.n_arr[: teuk_modes.shape[1]]\n",
    "\n",
    "keep_modes = np.arange(teuk_modes.shape[1])\n",
    "temp2 = keep_modes * (keep_modes < amp.num_m0) + (keep_modes + amp.num_m_1_up) * (\n",
    "    keep_modes >= amp.num_m0\n",
    ") \n",
    "\n",
    "ylmkeep = np.concatenate([keep_modes, temp2])\n",
    "ylms_in = ylms[ylmkeep]\n",
    "teuk_modes_in = teuk_modes\n",
    "\n",
    "cp.cuda.Stream.null.synchronize()"
   ]
  },
  {
   "cell_type": "code",
   "execution_count": 32,
   "id": "e913e435-0733-47d7-bf65-9e49ad066fec",
   "metadata": {},
   "outputs": [
    {
     "name": "stdout",
     "output_type": "stream",
     "text": [
      "CPU times: user 13.6 s, sys: 44.9 ms, total: 13.6 s\n",
      "Wall time: 13.6 s\n"
     ]
    }
   ],
   "source": [
    "%%time\n",
    "\n",
    "# perform summation\n",
    "waveform1 = interpolate_mode_sum(\n",
    "    t_gpu,\n",
    "    teuk_modes_in,\n",
    "    ylms_in,\n",
    "    traj.integrator_spline_t,\n",
    "    traj.integrator_spline_phase_coeff[:, [0, 2]],\n",
    "    ls,\n",
    "    ms,\n",
    "    ns,\n",
    "    dt=dt,\n",
    "    T=T,\n",
    ")\n",
    "\n",
    "cp.cuda.Stream.null.synchronize()"
   ]
  },
  {
   "cell_type": "code",
   "execution_count": 33,
   "id": "20d1102f-61d8-4c49-88f2-2a9b400b7d26",
   "metadata": {},
   "outputs": [
    {
     "data": {
      "text/plain": [
       "array([0.21930317+0.1927499j , 0.21930321+0.19274987j,\n",
       "       0.21930332+0.19274977j, ..., 0.00028628+0.16310596j,\n",
       "       0.0002863 +0.16310597j, 0.00028632+0.16310597j], shape=(347140,))"
      ]
     },
     "execution_count": 33,
     "metadata": {},
     "output_type": "execute_result"
    }
   ],
   "source": [
    "waveform1[~np.isnan(waveform1)]"
   ]
  },
  {
   "cell_type": "markdown",
   "id": "4bf1cb9f-e2be-4122-ba3a-928666edfa10",
   "metadata": {},
   "source": [
    "# Interpolate 1 mode with interpmodesum"
   ]
  },
  {
   "cell_type": "code",
   "execution_count": 34,
   "id": "dfc80ff5-0946-437b-8de8-702cf08ccca8",
   "metadata": {},
   "outputs": [
    {
     "name": "stdout",
     "output_type": "stream",
     "text": [
      "CPU times: user 7 ms, sys: 1.98 ms, total: 8.97 ms\n",
      "Wall time: 8.76 ms\n"
     ]
    }
   ],
   "source": [
    "%%time\n",
    "\n",
    "# interpolate only one mode \n",
    "waveform1_1 = interpolate_mode_sum(\n",
    "    t_gpu,\n",
    "    teuk_modes_in[:, 2:3],\n",
    "    ylms_in[1:2],\n",
    "    traj.integrator_spline_t,\n",
    "    traj.integrator_spline_phase_coeff[:, [0, 2]],\n",
    "    ls[1:2],\n",
    "    ms[1:2],\n",
    "    ns[1:2],\n",
    "    dt=dt,\n",
    "    T=T,\n",
    ")\n",
    "\n",
    "cp.cuda.Stream.null.synchronize()"
   ]
  },
  {
   "cell_type": "code",
   "execution_count": 35,
   "id": "6af2dc71-1c94-4cf2-bf5e-9158f3e0c7bd",
   "metadata": {},
   "outputs": [
    {
     "data": {
      "text/plain": [
       "array([-1.16315501e-19-4.08935528e-20j,  7.05224931e-20-1.01134188e-19j,\n",
       "        5.76304600e-20+1.08996532e-19j, ...,\n",
       "       -5.40243339e-20+5.24450841e-20j, -4.90025460e-20-5.71650714e-20j,\n",
       "        6.00743703e-20-4.53888127e-20j], shape=(347140,))"
      ]
     },
     "execution_count": 35,
     "metadata": {},
     "output_type": "execute_result"
    }
   ],
   "source": [
    "waveform1_1[~np.isnan(waveform1_1)]"
   ]
  },
  {
   "cell_type": "code",
   "execution_count": 38,
   "id": "b29e70f1-ec8a-4a3f-8b69-dbe096b1b03e",
   "metadata": {},
   "outputs": [
    {
     "data": {
      "text/plain": [
       "array(11.22450002)"
      ]
     },
     "execution_count": 38,
     "metadata": {},
     "output_type": "execute_result"
    }
   ],
   "source": [
    "np.sum(~np.isnan(waveform1_1))/len(waveform1_1) * 100"
   ]
  },
  {
   "cell_type": "markdown",
   "id": "4b4d28d5-1fdf-4d5e-8eb5-4f2b6669c57b",
   "metadata": {},
   "source": [
    "# Interpolate 1 mode with CubicSpineInterpolant"
   ]
  }
 ],
 "metadata": {
  "kernelspec": {
   "display_name": "Python (fewnew)",
   "language": "python",
   "name": "fewnew"
  },
  "language_info": {
   "codemirror_mode": {
    "name": "ipython",
    "version": 3
   },
   "file_extension": ".py",
   "mimetype": "text/x-python",
   "name": "python",
   "nbconvert_exporter": "python",
   "pygments_lexer": "ipython3",
   "version": "3.12.9"
  }
 },
 "nbformat": 4,
 "nbformat_minor": 5
}
