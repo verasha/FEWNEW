{
 "cells": [
  {
   "cell_type": "markdown",
   "id": "68d16aba-af07-40c0-81c5-a3a385ac710d",
   "metadata": {},
   "source": [
    "# Import and setup"
   ]
  },
  {
   "cell_type": "code",
   "execution_count": 1,
   "id": "66ba4169-a716-40c3-b04d-eab2902f9dde",
   "metadata": {},
   "outputs": [],
   "source": [
    "import numpy as np\n",
    "import matplotlib.pyplot as plt\n",
    "\n",
    "import few\n",
    "\n",
    "from few.trajectory.inspiral import EMRIInspiral\n",
    "from few.trajectory.ode import KerrEccEqFlux\n",
    "# from few.amplitude.romannet import RomanAmplitude\n",
    "from few.amplitude.ampinterp2d import AmpInterpKerrEccEq\n",
    "from few.summation.interpolatedmodesum import InterpolatedModeSum \n",
    "\n",
    "\n",
    "from few.utils.ylm import GetYlms\n",
    "\n",
    "from few import get_file_manager\n",
    "\n",
    "from few.waveform import FastKerrEccentricEquatorialFlux\n",
    "\n",
    "from few.utils.geodesic import get_fundamental_frequencies\n",
    "\n",
    "import os\n",
    "import sys\n",
    "# Change to the desired directory\n",
    "os.chdir('/nfs/home/svu/e1498138/localgit/FEWNEW/work/')\n",
    "\n",
    "# Add it to Python path\n",
    "sys.path.insert(0, '/nfs/home/svu/e1498138/localgit/FEWNEW/work/')\n",
    "\n",
    "import GWfuncs\n",
    "# import gc\n",
    "# import pickle\n",
    "import cupy as cp\n",
    "\n",
    "# tune few configuration\n",
    "cfg_set = few.get_config_setter(reset=True)\n",
    "cfg_set.set_log_level(\"info\");"
   ]
  },
  {
   "cell_type": "markdown",
   "id": "3f8441f5-d9c8-451d-bbdb-84f5b821c9f5",
   "metadata": {},
   "source": [
    "# Generating waveform via FEW func"
   ]
  },
  {
   "cell_type": "code",
   "execution_count": 2,
   "id": "816135cf-8b32-43ba-86c4-515d87bdbfcc",
   "metadata": {},
   "outputs": [],
   "source": [
    "# Parameters\n",
    "m1 = 1e6 #M\n",
    "m2 = 1e1 #mu\n",
    "a = 0.5\n",
    "p0 = 9.5\n",
    "e0 = 0.2\n",
    "theta = np.pi / 3.0 \n",
    "phi = np.pi / 4.0  \n",
    "dt = 10.0\n",
    "T = 1\n",
    "xI0 = 1.0 \n",
    "dist = 1 #Gpc\n",
    "#in the paper xI0 = 0.866, but that would be non-equatorial case\n",
    "\n",
    "use_gpu = True \n",
    "func = \"KerrEccentricEquatorial\"\n"
   ]
  },
  {
   "cell_type": "code",
   "execution_count": 3,
   "id": "037a511e-2e46-4531-9f31-857b149e780b",
   "metadata": {},
   "outputs": [],
   "source": [
    "# keyword arguments for inspiral generator \n",
    "inspiral_kwargs={\n",
    "        \"func\": 'KerrEccEqFlux',\n",
    "        \"DENSE_STEPPING\": 0, #change to 1/True for uniform sampling\n",
    "        \"include_minus_m\": False, \n",
    "        \"use_gpu\" : use_gpu,\n",
    "        \"force_backend\": \"cuda12x\"  # Force GPU\n",
    "}\n",
    "\n",
    "# keyword arguments for inspiral generator \n",
    "amplitude_kwargs = {\n",
    "    \"force_backend\": \"cuda12x\",  # Force GPU\n",
    "    # \"use_gpu\" : use_gpu\n",
    "}\n",
    "\n",
    "# keyword arguments for Ylm generator (GetYlms)\n",
    "Ylm_kwargs = {\n",
    "    \"force_backend\": \"cuda12x\",  # Force GPU\n",
    "    # \"assume_positive_m\": True  # if we assume positive m, it will generate negative m for all m>0\n",
    "}\n",
    "\n",
    "# keyword arguments for summation generator (InterpolatedModeSum)\n",
    "sum_kwargs = {\n",
    "    \"force_backend\": \"cuda12x\",  # Force GPU\n",
    "    \"pad_output\": False,\n",
    "    # \"use_gpu\" : use_gpu\n",
    "}\n",
    "\n",
    "# Kerr eccentric flux\n",
    "waveform_gen = FastKerrEccentricEquatorialFlux(\n",
    "    inspiral_kwargs=inspiral_kwargs,\n",
    "    amplitude_kwargs=amplitude_kwargs,\n",
    "    Ylm_kwargs=Ylm_kwargs,\n",
    "    sum_kwargs=sum_kwargs,\n",
    "    use_gpu=use_gpu,\n",
    ")\n"
   ]
  },
  {
   "cell_type": "code",
   "execution_count": 4,
   "id": "22fd517c-c881-4e3a-b17e-a6333688e4f4",
   "metadata": {},
   "outputs": [
    {
     "name": "stdout",
     "output_type": "stream",
     "text": [
      "CPU times: user 12.4 s, sys: 526 ms, total: 12.9 s\n",
      "Wall time: 13.2 s\n"
     ]
    }
   ],
   "source": [
    "%%time\n",
    "# Generate template waveform\n",
    "h_temp = waveform_gen(m1, m2, a, p0, e0, xI0, theta, phi, dist=dist, dt=dt, T=1)\n",
    "cp.cuda.Stream.null.synchronize()"
   ]
  },
  {
   "cell_type": "code",
   "execution_count": 5,
   "id": "d9b58957-f28c-4320-a2fa-b39fdabb4263",
   "metadata": {},
   "outputs": [
    {
     "name": "stdout",
     "output_type": "stream",
     "text": [
      "3155815\n"
     ]
    }
   ],
   "source": [
    "N = int(len(h_temp)) \n",
    "print(N)\n",
    "gwf = GWfuncs.GravWaveAnalysis(N=N,dt=dt)"
   ]
  },
  {
   "cell_type": "code",
   "execution_count": 6,
   "id": "d26fb599-af22-436f-b8c2-660613444764",
   "metadata": {},
   "outputs": [],
   "source": [
    "factor = gwf.dist_factor(dist, m2)"
   ]
  },
  {
   "cell_type": "code",
   "execution_count": 7,
   "id": "c153de26-15f0-4f9f-b3fa-c62ab5ffeb5f",
   "metadata": {},
   "outputs": [
    {
     "name": "stdout",
     "output_type": "stream",
     "text": [
      "CPU times: user 917 ms, sys: 15 ms, total: 932 ms\n",
      "Wall time: 935 ms\n"
     ]
    }
   ],
   "source": [
    "%%time\n",
    "#Generating data (true)\n",
    "# varying the params a bit\n",
    "\n",
    "m1_o = 1e5\n",
    "m2_o = 1e1\n",
    "a_o = 0.3\n",
    "p0_o = 40\n",
    "e0_o = 0.1\n",
    "xI_o = 1.0\n",
    "theta_o = np.pi/3  # polar viewing angle\n",
    "phi_o = np.pi/2  # azimuthal viewing angle\n",
    "\n",
    "h_true= waveform_gen(m1_o, m2_o, a_o, p0_o, e0_o, xI_o, theta_o, phi_o, dist=dist, dt=dt, T=1)\n",
    "cp.cuda.Stream.null.synchronize()"
   ]
  },
  {
   "cell_type": "markdown",
   "id": "62ac85e7-4214-4fd5-a202-a19742cc753e",
   "metadata": {},
   "source": [
    "# Generating amps, traj., etc."
   ]
  },
  {
   "cell_type": "markdown",
   "id": "40095c94-e124-44bf-900d-b9489294b6f3",
   "metadata": {},
   "source": [
    "Since there were problems with the upsampling process, keeping it False first"
   ]
  },
  {
   "cell_type": "code",
   "execution_count": 8,
   "id": "3ca603e4-0cf1-445f-bf07-9aab5fc13fae",
   "metadata": {},
   "outputs": [],
   "source": [
    "traj = EMRIInspiral(func=KerrEccEqFlux, force_backend=\"cuda12x\", use_gpu=use_gpu) #theres npoints flag here\n",
    "amp = AmpInterpKerrEccEq(force_backend=\"cuda12x\") # default lmax=10, nmax=55\n",
    "interpolate_mode_sum = InterpolatedModeSum(force_backend=\"cuda12x\")\n",
    "ylm_gen = GetYlms(include_minus_m=False, force_backend=\"cuda12x\")"
   ]
  },
  {
   "cell_type": "code",
   "execution_count": 9,
   "id": "114a9c95-8ef4-4f97-99ba-0ff9096fc9ca",
   "metadata": {},
   "outputs": [
    {
     "name": "stdout",
     "output_type": "stream",
     "text": [
      "CPU times: user 15.7 ms, sys: 1.1 ms, total: 16.8 ms\n",
      "Wall time: 16.1 ms\n"
     ]
    }
   ],
   "source": [
    "%%time \n",
    "# Calc trajectory\n",
    "# template waveform\n",
    "(t, p, e, x, Phi_phi, Phi_theta, Phi_r) = traj(m1, m2, a, p0, e0, xI0, T=T, dt=dt) #False\n",
    "\n",
    "# Get amplitudes along trajectory\n",
    "teuk_modes = amp(a, p, e, x)\n",
    "\n",
    "# Get Ylms\n",
    "ylms = ylm_gen(amp.unique_l, amp.unique_m, theta, phi).copy()[amp.inverse_lm]\n",
    "\n",
    "cp.cuda.Stream.null.synchronize()"
   ]
  },
  {
   "cell_type": "markdown",
   "id": "99dc3e06-71ad-4aca-b9db-849bce9ccbf4",
   "metadata": {
    "jp-MarkdownHeadingCollapsed": true
   },
   "source": [
    "# Generating frequencies"
   ]
  },
  {
   "cell_type": "code",
   "execution_count": 10,
   "id": "938f8f43-e408-4f9a-b461-c5cfa8f903c8",
   "metadata": {},
   "outputs": [],
   "source": [
    "OmegaPhi, OmegaTheta, OmegaR = get_fundamental_frequencies(a, p, e, x) #TODO: do change the cpu-gpu intermix here"
   ]
  },
  {
   "cell_type": "code",
   "execution_count": 11,
   "id": "6174df64",
   "metadata": {},
   "outputs": [
    {
     "name": "stderr",
     "output_type": "stream",
     "text": [
      "/scratch/e1498138/anaconda3/envs/fewnew/lib/python3.12/site-packages/numba/cuda/dispatcher.py:536: NumbaPerformanceWarning: \u001b[1mGrid size 1 will likely result in GPU under-utilization due to low occupancy.\u001b[0m\n",
      "  warn(NumbaPerformanceWarning(msg))\n"
     ]
    },
    {
     "ename": "TypeError",
     "evalue": "Signature mismatch: 1 argument types given, but function takes 2 arguments",
     "output_type": "error",
     "traceback": [
      "\u001b[31m---------------------------------------------------------------------------\u001b[39m",
      "\u001b[31mTypeError\u001b[39m                                 Traceback (most recent call last)",
      "\u001b[36mCell\u001b[39m\u001b[36m \u001b[39m\u001b[32mIn[11]\u001b[39m\u001b[32m, line 1\u001b[39m\n\u001b[32m----> \u001b[39m\u001b[32m1\u001b[39m OmegaPhi, OmegaTheta, OmegaR = \u001b[43mget_fundamental_frequencies\u001b[49m\u001b[43m(\u001b[49m\u001b[43ma\u001b[49m\u001b[43m,\u001b[49m\u001b[43m \u001b[49m\u001b[43mp\u001b[49m\u001b[43m,\u001b[49m\u001b[43m \u001b[49m\u001b[43me\u001b[49m\u001b[43m,\u001b[49m\u001b[43m \u001b[49m\u001b[43mx\u001b[49m\u001b[43m,\u001b[49m\u001b[43m \u001b[49m\u001b[43muse_gpu\u001b[49m\u001b[43m=\u001b[49m\u001b[43muse_gpu\u001b[49m\u001b[43m)\u001b[49m\n",
      "\u001b[36mFile \u001b[39m\u001b[32m/scratch/e1498138/anaconda3/envs/fewnew/lib/python3.12/site-packages/few/utils/geodesic.py:527\u001b[39m, in \u001b[36mget_fundamental_frequencies\u001b[39m\u001b[34m(a, p, e, x, use_gpu)\u001b[39m\n\u001b[32m    525\u001b[39m     threadsperblock = \u001b[32m256\u001b[39m\n\u001b[32m    526\u001b[39m     blockspergrid = (p_in.size + (threadsperblock - \u001b[32m1\u001b[39m)) // threadsperblock\n\u001b[32m--> \u001b[39m\u001b[32m527\u001b[39m     \u001b[43m_KerrGeoCoordinateFrequencies_kernel_gpu\u001b[49m\u001b[43m[\u001b[49m\u001b[43mblockspergrid\u001b[49m\u001b[43m,\u001b[49m\u001b[43m \u001b[49m\u001b[43mthreadsperblock\u001b[49m\u001b[43m]\u001b[49m\u001b[43m(\u001b[49m\n\u001b[32m    528\u001b[39m \u001b[43m        \u001b[49m\u001b[43mOmegaPhi\u001b[49m\u001b[43m,\u001b[49m\u001b[43m \u001b[49m\u001b[43mOmegaTheta\u001b[49m\u001b[43m,\u001b[49m\u001b[43m \u001b[49m\u001b[43mOmegaR\u001b[49m\u001b[43m,\u001b[49m\u001b[43m \u001b[49m\u001b[43ma_in\u001b[49m\u001b[43m,\u001b[49m\u001b[43m \u001b[49m\u001b[43mp_in\u001b[49m\u001b[43m,\u001b[49m\u001b[43m \u001b[49m\u001b[43me_in\u001b[49m\u001b[43m,\u001b[49m\u001b[43m \u001b[49m\u001b[43mx_in\u001b[49m\n\u001b[32m    529\u001b[39m \u001b[43m    \u001b[49m\u001b[43m)\u001b[49m\n\u001b[32m    530\u001b[39m \u001b[38;5;28;01melse\u001b[39;00m:\n\u001b[32m    531\u001b[39m     _KerrGeoCoordinateFrequencies_kernel_cpu(\n\u001b[32m    532\u001b[39m         OmegaPhi, OmegaTheta, OmegaR, a_in, p_in, e_in, x_in\n\u001b[32m    533\u001b[39m     )\n",
      "\u001b[36mFile \u001b[39m\u001b[32m/scratch/e1498138/anaconda3/envs/fewnew/lib/python3.12/site-packages/numba/cuda/dispatcher.py:539\u001b[39m, in \u001b[36m_LaunchConfiguration.__call__\u001b[39m\u001b[34m(self, *args)\u001b[39m\n\u001b[32m    538\u001b[39m \u001b[38;5;28;01mdef\u001b[39;00m\u001b[38;5;250m \u001b[39m\u001b[34m__call__\u001b[39m(\u001b[38;5;28mself\u001b[39m, *args):\n\u001b[32m--> \u001b[39m\u001b[32m539\u001b[39m     \u001b[38;5;28;01mreturn\u001b[39;00m \u001b[38;5;28;43mself\u001b[39;49m\u001b[43m.\u001b[49m\u001b[43mdispatcher\u001b[49m\u001b[43m.\u001b[49m\u001b[43mcall\u001b[49m\u001b[43m(\u001b[49m\u001b[43margs\u001b[49m\u001b[43m,\u001b[49m\u001b[43m \u001b[49m\u001b[38;5;28;43mself\u001b[39;49m\u001b[43m.\u001b[49m\u001b[43mgriddim\u001b[49m\u001b[43m,\u001b[49m\u001b[43m \u001b[49m\u001b[38;5;28;43mself\u001b[39;49m\u001b[43m.\u001b[49m\u001b[43mblockdim\u001b[49m\u001b[43m,\u001b[49m\n\u001b[32m    540\u001b[39m \u001b[43m                                \u001b[49m\u001b[38;5;28;43mself\u001b[39;49m\u001b[43m.\u001b[49m\u001b[43mstream\u001b[49m\u001b[43m,\u001b[49m\u001b[43m \u001b[49m\u001b[38;5;28;43mself\u001b[39;49m\u001b[43m.\u001b[49m\u001b[43msharedmem\u001b[49m\u001b[43m)\u001b[49m\n",
      "\u001b[36mFile \u001b[39m\u001b[32m/scratch/e1498138/anaconda3/envs/fewnew/lib/python3.12/site-packages/numba/cuda/dispatcher.py:681\u001b[39m, in \u001b[36mCUDADispatcher.call\u001b[39m\u001b[34m(self, args, griddim, blockdim, stream, sharedmem)\u001b[39m\n\u001b[32m    679\u001b[39m     kernel = \u001b[38;5;28mnext\u001b[39m(\u001b[38;5;28miter\u001b[39m(\u001b[38;5;28mself\u001b[39m.overloads.values()))\n\u001b[32m    680\u001b[39m \u001b[38;5;28;01melse\u001b[39;00m:\n\u001b[32m--> \u001b[39m\u001b[32m681\u001b[39m     kernel = \u001b[43m_dispatcher\u001b[49m\u001b[43m.\u001b[49m\u001b[43mDispatcher\u001b[49m\u001b[43m.\u001b[49m\u001b[43m_cuda_call\u001b[49m\u001b[43m(\u001b[49m\u001b[38;5;28;43mself\u001b[39;49m\u001b[43m,\u001b[49m\u001b[43m \u001b[49m\u001b[43m*\u001b[49m\u001b[43margs\u001b[49m\u001b[43m)\u001b[49m\n\u001b[32m    683\u001b[39m kernel.launch(args, griddim, blockdim, stream, sharedmem)\n",
      "\u001b[36mFile \u001b[39m\u001b[32m/scratch/e1498138/anaconda3/envs/fewnew/lib/python3.12/site-packages/numba/cuda/dispatcher.py:689\u001b[39m, in \u001b[36mCUDADispatcher._compile_for_args\u001b[39m\u001b[34m(self, *args, **kws)\u001b[39m\n\u001b[32m    687\u001b[39m \u001b[38;5;28;01massert\u001b[39;00m \u001b[38;5;129;01mnot\u001b[39;00m kws\n\u001b[32m    688\u001b[39m argtypes = [\u001b[38;5;28mself\u001b[39m.typeof_pyval(a) \u001b[38;5;28;01mfor\u001b[39;00m a \u001b[38;5;129;01min\u001b[39;00m args]\n\u001b[32m--> \u001b[39m\u001b[32m689\u001b[39m \u001b[38;5;28;01mreturn\u001b[39;00m \u001b[38;5;28;43mself\u001b[39;49m\u001b[43m.\u001b[49m\u001b[43mcompile\u001b[49m\u001b[43m(\u001b[49m\u001b[38;5;28;43mtuple\u001b[39;49m\u001b[43m(\u001b[49m\u001b[43margtypes\u001b[49m\u001b[43m)\u001b[49m\u001b[43m)\u001b[49m\n",
      "\u001b[36mFile \u001b[39m\u001b[32m/scratch/e1498138/anaconda3/envs/fewnew/lib/python3.12/site-packages/numba/cuda/dispatcher.py:932\u001b[39m, in \u001b[36mCUDADispatcher.compile\u001b[39m\u001b[34m(self, sig)\u001b[39m\n\u001b[32m    929\u001b[39m \u001b[38;5;28;01mif\u001b[39;00m \u001b[38;5;129;01mnot\u001b[39;00m \u001b[38;5;28mself\u001b[39m._can_compile:\n\u001b[32m    930\u001b[39m     \u001b[38;5;28;01mraise\u001b[39;00m \u001b[38;5;167;01mRuntimeError\u001b[39;00m(\u001b[33m\"\u001b[39m\u001b[33mCompilation disabled\u001b[39m\u001b[33m\"\u001b[39m)\n\u001b[32m--> \u001b[39m\u001b[32m932\u001b[39m kernel = \u001b[43m_Kernel\u001b[49m\u001b[43m(\u001b[49m\u001b[38;5;28;43mself\u001b[39;49m\u001b[43m.\u001b[49m\u001b[43mpy_func\u001b[49m\u001b[43m,\u001b[49m\u001b[43m \u001b[49m\u001b[43margtypes\u001b[49m\u001b[43m,\u001b[49m\u001b[43m \u001b[49m\u001b[43m*\u001b[49m\u001b[43m*\u001b[49m\u001b[38;5;28;43mself\u001b[39;49m\u001b[43m.\u001b[49m\u001b[43mtargetoptions\u001b[49m\u001b[43m)\u001b[49m\n\u001b[32m    933\u001b[39m \u001b[38;5;66;03m# We call bind to force codegen, so that there is a cubin to cache\u001b[39;00m\n\u001b[32m    934\u001b[39m kernel.bind()\n",
      "\u001b[36mFile \u001b[39m\u001b[32m/scratch/e1498138/anaconda3/envs/fewnew/lib/python3.12/site-packages/numba/core/compiler_lock.py:35\u001b[39m, in \u001b[36m_CompilerLock.__call__.<locals>._acquire_compile_lock\u001b[39m\u001b[34m(*args, **kwargs)\u001b[39m\n\u001b[32m     32\u001b[39m \u001b[38;5;129m@functools\u001b[39m.wraps(func)\n\u001b[32m     33\u001b[39m \u001b[38;5;28;01mdef\u001b[39;00m\u001b[38;5;250m \u001b[39m\u001b[34m_acquire_compile_lock\u001b[39m(*args, **kwargs):\n\u001b[32m     34\u001b[39m     \u001b[38;5;28;01mwith\u001b[39;00m \u001b[38;5;28mself\u001b[39m:\n\u001b[32m---> \u001b[39m\u001b[32m35\u001b[39m         \u001b[38;5;28;01mreturn\u001b[39;00m \u001b[43mfunc\u001b[49m\u001b[43m(\u001b[49m\u001b[43m*\u001b[49m\u001b[43margs\u001b[49m\u001b[43m,\u001b[49m\u001b[43m \u001b[49m\u001b[43m*\u001b[49m\u001b[43m*\u001b[49m\u001b[43mkwargs\u001b[49m\u001b[43m)\u001b[49m\n",
      "\u001b[36mFile \u001b[39m\u001b[32m/scratch/e1498138/anaconda3/envs/fewnew/lib/python3.12/site-packages/numba/cuda/dispatcher.py:83\u001b[39m, in \u001b[36m_Kernel.__init__\u001b[39m\u001b[34m(self, py_func, argtypes, link, debug, lineinfo, inline, fastmath, extensions, max_registers, opt, device)\u001b[39m\n\u001b[32m     77\u001b[39m nvvm_options = {\n\u001b[32m     78\u001b[39m     \u001b[33m'\u001b[39m\u001b[33mfastmath\u001b[39m\u001b[33m'\u001b[39m: fastmath,\n\u001b[32m     79\u001b[39m     \u001b[33m'\u001b[39m\u001b[33mopt\u001b[39m\u001b[33m'\u001b[39m: \u001b[32m3\u001b[39m \u001b[38;5;28;01mif\u001b[39;00m opt \u001b[38;5;28;01melse\u001b[39;00m \u001b[32m0\u001b[39m\n\u001b[32m     80\u001b[39m }\n\u001b[32m     82\u001b[39m cc = get_current_device().compute_capability\n\u001b[32m---> \u001b[39m\u001b[32m83\u001b[39m cres = \u001b[43mcompile_cuda\u001b[49m\u001b[43m(\u001b[49m\u001b[38;5;28;43mself\u001b[39;49m\u001b[43m.\u001b[49m\u001b[43mpy_func\u001b[49m\u001b[43m,\u001b[49m\u001b[43m \u001b[49m\u001b[43mtypes\u001b[49m\u001b[43m.\u001b[49m\u001b[43mvoid\u001b[49m\u001b[43m,\u001b[49m\u001b[43m \u001b[49m\u001b[38;5;28;43mself\u001b[39;49m\u001b[43m.\u001b[49m\u001b[43margtypes\u001b[49m\u001b[43m,\u001b[49m\n\u001b[32m     84\u001b[39m \u001b[43m                    \u001b[49m\u001b[43mdebug\u001b[49m\u001b[43m=\u001b[49m\u001b[38;5;28;43mself\u001b[39;49m\u001b[43m.\u001b[49m\u001b[43mdebug\u001b[49m\u001b[43m,\u001b[49m\n\u001b[32m     85\u001b[39m \u001b[43m                    \u001b[49m\u001b[43mlineinfo\u001b[49m\u001b[43m=\u001b[49m\u001b[43mlineinfo\u001b[49m\u001b[43m,\u001b[49m\n\u001b[32m     86\u001b[39m \u001b[43m                    \u001b[49m\u001b[43minline\u001b[49m\u001b[43m=\u001b[49m\u001b[43minline\u001b[49m\u001b[43m,\u001b[49m\n\u001b[32m     87\u001b[39m \u001b[43m                    \u001b[49m\u001b[43mfastmath\u001b[49m\u001b[43m=\u001b[49m\u001b[43mfastmath\u001b[49m\u001b[43m,\u001b[49m\n\u001b[32m     88\u001b[39m \u001b[43m                    \u001b[49m\u001b[43mnvvm_options\u001b[49m\u001b[43m=\u001b[49m\u001b[43mnvvm_options\u001b[49m\u001b[43m,\u001b[49m\n\u001b[32m     89\u001b[39m \u001b[43m                    \u001b[49m\u001b[43mcc\u001b[49m\u001b[43m=\u001b[49m\u001b[43mcc\u001b[49m\u001b[43m)\u001b[49m\n\u001b[32m     90\u001b[39m tgt_ctx = cres.target_context\n\u001b[32m     91\u001b[39m code = \u001b[38;5;28mself\u001b[39m.py_func.\u001b[34m__code__\u001b[39m\n",
      "\u001b[36mFile \u001b[39m\u001b[32m/scratch/e1498138/anaconda3/envs/fewnew/lib/python3.12/site-packages/numba/core/compiler_lock.py:35\u001b[39m, in \u001b[36m_CompilerLock.__call__.<locals>._acquire_compile_lock\u001b[39m\u001b[34m(*args, **kwargs)\u001b[39m\n\u001b[32m     32\u001b[39m \u001b[38;5;129m@functools\u001b[39m.wraps(func)\n\u001b[32m     33\u001b[39m \u001b[38;5;28;01mdef\u001b[39;00m\u001b[38;5;250m \u001b[39m\u001b[34m_acquire_compile_lock\u001b[39m(*args, **kwargs):\n\u001b[32m     34\u001b[39m     \u001b[38;5;28;01mwith\u001b[39;00m \u001b[38;5;28mself\u001b[39m:\n\u001b[32m---> \u001b[39m\u001b[32m35\u001b[39m         \u001b[38;5;28;01mreturn\u001b[39;00m \u001b[43mfunc\u001b[49m\u001b[43m(\u001b[49m\u001b[43m*\u001b[49m\u001b[43margs\u001b[49m\u001b[43m,\u001b[49m\u001b[43m \u001b[49m\u001b[43m*\u001b[49m\u001b[43m*\u001b[49m\u001b[43mkwargs\u001b[49m\u001b[43m)\u001b[49m\n",
      "\u001b[36mFile \u001b[39m\u001b[32m/scratch/e1498138/anaconda3/envs/fewnew/lib/python3.12/site-packages/numba/cuda/compiler.py:196\u001b[39m, in \u001b[36mcompile_cuda\u001b[39m\u001b[34m(pyfunc, return_type, args, debug, lineinfo, inline, fastmath, nvvm_options, cc)\u001b[39m\n\u001b[32m    194\u001b[39m \u001b[38;5;28;01mfrom\u001b[39;00m\u001b[38;5;250m \u001b[39m\u001b[34;01mnumba\u001b[39;00m\u001b[34;01m.\u001b[39;00m\u001b[34;01mcore\u001b[39;00m\u001b[34;01m.\u001b[39;00m\u001b[34;01mtarget_extension\u001b[39;00m\u001b[38;5;250m \u001b[39m\u001b[38;5;28;01mimport\u001b[39;00m target_override\n\u001b[32m    195\u001b[39m \u001b[38;5;28;01mwith\u001b[39;00m target_override(\u001b[33m'\u001b[39m\u001b[33mcuda\u001b[39m\u001b[33m'\u001b[39m):\n\u001b[32m--> \u001b[39m\u001b[32m196\u001b[39m     cres = \u001b[43mcompiler\u001b[49m\u001b[43m.\u001b[49m\u001b[43mcompile_extra\u001b[49m\u001b[43m(\u001b[49m\u001b[43mtypingctx\u001b[49m\u001b[43m=\u001b[49m\u001b[43mtypingctx\u001b[49m\u001b[43m,\u001b[49m\n\u001b[32m    197\u001b[39m \u001b[43m                                  \u001b[49m\u001b[43mtargetctx\u001b[49m\u001b[43m=\u001b[49m\u001b[43mtargetctx\u001b[49m\u001b[43m,\u001b[49m\n\u001b[32m    198\u001b[39m \u001b[43m                                  \u001b[49m\u001b[43mfunc\u001b[49m\u001b[43m=\u001b[49m\u001b[43mpyfunc\u001b[49m\u001b[43m,\u001b[49m\n\u001b[32m    199\u001b[39m \u001b[43m                                  \u001b[49m\u001b[43margs\u001b[49m\u001b[43m=\u001b[49m\u001b[43margs\u001b[49m\u001b[43m,\u001b[49m\n\u001b[32m    200\u001b[39m \u001b[43m                                  \u001b[49m\u001b[43mreturn_type\u001b[49m\u001b[43m=\u001b[49m\u001b[43mreturn_type\u001b[49m\u001b[43m,\u001b[49m\n\u001b[32m    201\u001b[39m \u001b[43m                                  \u001b[49m\u001b[43mflags\u001b[49m\u001b[43m=\u001b[49m\u001b[43mflags\u001b[49m\u001b[43m,\u001b[49m\n\u001b[32m    202\u001b[39m \u001b[43m                                  \u001b[49m\u001b[38;5;28;43mlocals\u001b[39;49m\u001b[43m=\u001b[49m\u001b[43m{\u001b[49m\u001b[43m}\u001b[49m\u001b[43m,\u001b[49m\n\u001b[32m    203\u001b[39m \u001b[43m                                  \u001b[49m\u001b[43mpipeline_class\u001b[49m\u001b[43m=\u001b[49m\u001b[43mCUDACompiler\u001b[49m\u001b[43m)\u001b[49m\n\u001b[32m    205\u001b[39m library = cres.library\n\u001b[32m    206\u001b[39m library.finalize()\n",
      "\u001b[36mFile \u001b[39m\u001b[32m/scratch/e1498138/anaconda3/envs/fewnew/lib/python3.12/site-packages/numba/core/compiler.py:739\u001b[39m, in \u001b[36mcompile_extra\u001b[39m\u001b[34m(typingctx, targetctx, func, args, return_type, flags, locals, library, pipeline_class)\u001b[39m\n\u001b[32m    715\u001b[39m \u001b[38;5;250m\u001b[39m\u001b[33;03m\"\"\"Compiler entry point\u001b[39;00m\n\u001b[32m    716\u001b[39m \n\u001b[32m    717\u001b[39m \u001b[33;03mParameter\u001b[39;00m\n\u001b[32m   (...)\u001b[39m\u001b[32m    735\u001b[39m \u001b[33;03m    compiler pipeline\u001b[39;00m\n\u001b[32m    736\u001b[39m \u001b[33;03m\"\"\"\u001b[39;00m\n\u001b[32m    737\u001b[39m pipeline = pipeline_class(typingctx, targetctx, library,\n\u001b[32m    738\u001b[39m                           args, return_type, flags, \u001b[38;5;28mlocals\u001b[39m)\n\u001b[32m--> \u001b[39m\u001b[32m739\u001b[39m \u001b[38;5;28;01mreturn\u001b[39;00m \u001b[43mpipeline\u001b[49m\u001b[43m.\u001b[49m\u001b[43mcompile_extra\u001b[49m\u001b[43m(\u001b[49m\u001b[43mfunc\u001b[49m\u001b[43m)\u001b[49m\n",
      "\u001b[36mFile \u001b[39m\u001b[32m/scratch/e1498138/anaconda3/envs/fewnew/lib/python3.12/site-packages/numba/core/compiler.py:439\u001b[39m, in \u001b[36mCompilerBase.compile_extra\u001b[39m\u001b[34m(self, func)\u001b[39m\n\u001b[32m    437\u001b[39m \u001b[38;5;28mself\u001b[39m.state.lifted = ()\n\u001b[32m    438\u001b[39m \u001b[38;5;28mself\u001b[39m.state.lifted_from = \u001b[38;5;28;01mNone\u001b[39;00m\n\u001b[32m--> \u001b[39m\u001b[32m439\u001b[39m \u001b[38;5;28;01mreturn\u001b[39;00m \u001b[38;5;28;43mself\u001b[39;49m\u001b[43m.\u001b[49m\u001b[43m_compile_bytecode\u001b[49m\u001b[43m(\u001b[49m\u001b[43m)\u001b[49m\n",
      "\u001b[36mFile \u001b[39m\u001b[32m/scratch/e1498138/anaconda3/envs/fewnew/lib/python3.12/site-packages/numba/core/compiler.py:505\u001b[39m, in \u001b[36mCompilerBase._compile_bytecode\u001b[39m\u001b[34m(self)\u001b[39m\n\u001b[32m    501\u001b[39m \u001b[38;5;250m\u001b[39m\u001b[33;03m\"\"\"\u001b[39;00m\n\u001b[32m    502\u001b[39m \u001b[33;03mPopulate and run pipeline for bytecode input\u001b[39;00m\n\u001b[32m    503\u001b[39m \u001b[33;03m\"\"\"\u001b[39;00m\n\u001b[32m    504\u001b[39m \u001b[38;5;28;01massert\u001b[39;00m \u001b[38;5;28mself\u001b[39m.state.func_ir \u001b[38;5;129;01mis\u001b[39;00m \u001b[38;5;28;01mNone\u001b[39;00m\n\u001b[32m--> \u001b[39m\u001b[32m505\u001b[39m \u001b[38;5;28;01mreturn\u001b[39;00m \u001b[38;5;28;43mself\u001b[39;49m\u001b[43m.\u001b[49m\u001b[43m_compile_core\u001b[49m\u001b[43m(\u001b[49m\u001b[43m)\u001b[49m\n",
      "\u001b[36mFile \u001b[39m\u001b[32m/scratch/e1498138/anaconda3/envs/fewnew/lib/python3.12/site-packages/numba/core/compiler.py:481\u001b[39m, in \u001b[36mCompilerBase._compile_core\u001b[39m\u001b[34m(self)\u001b[39m\n\u001b[32m    479\u001b[39m \u001b[38;5;28;01mexcept\u001b[39;00m \u001b[38;5;167;01mException\u001b[39;00m \u001b[38;5;28;01mas\u001b[39;00m e:\n\u001b[32m    480\u001b[39m     \u001b[38;5;28;01mif\u001b[39;00m \u001b[38;5;129;01mnot\u001b[39;00m \u001b[38;5;28misinstance\u001b[39m(e, errors.NumbaError):\n\u001b[32m--> \u001b[39m\u001b[32m481\u001b[39m         \u001b[38;5;28;01mraise\u001b[39;00m e\n\u001b[32m    482\u001b[39m     \u001b[38;5;28mself\u001b[39m.state.status.fail_reason = e\n\u001b[32m    483\u001b[39m     \u001b[38;5;28;01mif\u001b[39;00m is_final_pipeline:\n",
      "\u001b[36mFile \u001b[39m\u001b[32m/scratch/e1498138/anaconda3/envs/fewnew/lib/python3.12/site-packages/numba/core/compiler.py:473\u001b[39m, in \u001b[36mCompilerBase._compile_core\u001b[39m\u001b[34m(self)\u001b[39m\n\u001b[32m    471\u001b[39m res = \u001b[38;5;28;01mNone\u001b[39;00m\n\u001b[32m    472\u001b[39m \u001b[38;5;28;01mtry\u001b[39;00m:\n\u001b[32m--> \u001b[39m\u001b[32m473\u001b[39m     \u001b[43mpm\u001b[49m\u001b[43m.\u001b[49m\u001b[43mrun\u001b[49m\u001b[43m(\u001b[49m\u001b[38;5;28;43mself\u001b[39;49m\u001b[43m.\u001b[49m\u001b[43mstate\u001b[49m\u001b[43m)\u001b[49m\n\u001b[32m    474\u001b[39m     \u001b[38;5;28;01mif\u001b[39;00m \u001b[38;5;28mself\u001b[39m.state.cr \u001b[38;5;129;01mis\u001b[39;00m \u001b[38;5;129;01mnot\u001b[39;00m \u001b[38;5;28;01mNone\u001b[39;00m:\n\u001b[32m    475\u001b[39m         \u001b[38;5;28;01mbreak\u001b[39;00m\n",
      "\u001b[36mFile \u001b[39m\u001b[32m/scratch/e1498138/anaconda3/envs/fewnew/lib/python3.12/site-packages/numba/core/compiler_machinery.py:363\u001b[39m, in \u001b[36mPassManager.run\u001b[39m\u001b[34m(self, state)\u001b[39m\n\u001b[32m    361\u001b[39m \u001b[38;5;28;01mexcept\u001b[39;00m \u001b[38;5;167;01mException\u001b[39;00m \u001b[38;5;28;01mas\u001b[39;00m e:\n\u001b[32m    362\u001b[39m     \u001b[38;5;28;01mif\u001b[39;00m \u001b[38;5;129;01mnot\u001b[39;00m \u001b[38;5;28misinstance\u001b[39m(e, errors.NumbaError):\n\u001b[32m--> \u001b[39m\u001b[32m363\u001b[39m         \u001b[38;5;28;01mraise\u001b[39;00m e\n\u001b[32m    364\u001b[39m     msg = \u001b[33m\"\u001b[39m\u001b[33mFailed in \u001b[39m\u001b[38;5;132;01m%s\u001b[39;00m\u001b[33m mode pipeline (step: \u001b[39m\u001b[38;5;132;01m%s\u001b[39;00m\u001b[33m)\u001b[39m\u001b[33m\"\u001b[39m % \\\n\u001b[32m    365\u001b[39m         (\u001b[38;5;28mself\u001b[39m.pipeline_name, pass_desc)\n\u001b[32m    366\u001b[39m     patched_exception = \u001b[38;5;28mself\u001b[39m._patch_error(msg, e)\n",
      "\u001b[36mFile \u001b[39m\u001b[32m/scratch/e1498138/anaconda3/envs/fewnew/lib/python3.12/site-packages/numba/core/compiler_machinery.py:356\u001b[39m, in \u001b[36mPassManager.run\u001b[39m\u001b[34m(self, state)\u001b[39m\n\u001b[32m    354\u001b[39m pass_inst = _pass_registry.get(pss).pass_inst\n\u001b[32m    355\u001b[39m \u001b[38;5;28;01mif\u001b[39;00m \u001b[38;5;28misinstance\u001b[39m(pass_inst, CompilerPass):\n\u001b[32m--> \u001b[39m\u001b[32m356\u001b[39m     \u001b[38;5;28;43mself\u001b[39;49m\u001b[43m.\u001b[49m\u001b[43m_runPass\u001b[49m\u001b[43m(\u001b[49m\u001b[43midx\u001b[49m\u001b[43m,\u001b[49m\u001b[43m \u001b[49m\u001b[43mpass_inst\u001b[49m\u001b[43m,\u001b[49m\u001b[43m \u001b[49m\u001b[43mstate\u001b[49m\u001b[43m)\u001b[49m\n\u001b[32m    357\u001b[39m \u001b[38;5;28;01melse\u001b[39;00m:\n\u001b[32m    358\u001b[39m     \u001b[38;5;28;01mraise\u001b[39;00m \u001b[38;5;167;01mBaseException\u001b[39;00m(\u001b[33m\"\u001b[39m\u001b[33mLegacy pass in use\u001b[39m\u001b[33m\"\u001b[39m)\n",
      "\u001b[36mFile \u001b[39m\u001b[32m/scratch/e1498138/anaconda3/envs/fewnew/lib/python3.12/site-packages/numba/core/compiler_lock.py:35\u001b[39m, in \u001b[36m_CompilerLock.__call__.<locals>._acquire_compile_lock\u001b[39m\u001b[34m(*args, **kwargs)\u001b[39m\n\u001b[32m     32\u001b[39m \u001b[38;5;129m@functools\u001b[39m.wraps(func)\n\u001b[32m     33\u001b[39m \u001b[38;5;28;01mdef\u001b[39;00m\u001b[38;5;250m \u001b[39m\u001b[34m_acquire_compile_lock\u001b[39m(*args, **kwargs):\n\u001b[32m     34\u001b[39m     \u001b[38;5;28;01mwith\u001b[39;00m \u001b[38;5;28mself\u001b[39m:\n\u001b[32m---> \u001b[39m\u001b[32m35\u001b[39m         \u001b[38;5;28;01mreturn\u001b[39;00m \u001b[43mfunc\u001b[49m\u001b[43m(\u001b[49m\u001b[43m*\u001b[49m\u001b[43margs\u001b[49m\u001b[43m,\u001b[49m\u001b[43m \u001b[49m\u001b[43m*\u001b[49m\u001b[43m*\u001b[49m\u001b[43mkwargs\u001b[49m\u001b[43m)\u001b[49m\n",
      "\u001b[36mFile \u001b[39m\u001b[32m/scratch/e1498138/anaconda3/envs/fewnew/lib/python3.12/site-packages/numba/core/compiler_machinery.py:311\u001b[39m, in \u001b[36mPassManager._runPass\u001b[39m\u001b[34m(self, index, pss, internal_state)\u001b[39m\n\u001b[32m    309\u001b[39m     mutated |= check(pss.run_initialization, internal_state)\n\u001b[32m    310\u001b[39m \u001b[38;5;28;01mwith\u001b[39;00m SimpleTimer() \u001b[38;5;28;01mas\u001b[39;00m pass_time:\n\u001b[32m--> \u001b[39m\u001b[32m311\u001b[39m     mutated |= \u001b[43mcheck\u001b[49m\u001b[43m(\u001b[49m\u001b[43mpss\u001b[49m\u001b[43m.\u001b[49m\u001b[43mrun_pass\u001b[49m\u001b[43m,\u001b[49m\u001b[43m \u001b[49m\u001b[43minternal_state\u001b[49m\u001b[43m)\u001b[49m\n\u001b[32m    312\u001b[39m \u001b[38;5;28;01mwith\u001b[39;00m SimpleTimer() \u001b[38;5;28;01mas\u001b[39;00m finalize_time:\n\u001b[32m    313\u001b[39m     mutated |= check(pss.run_finalizer, internal_state)\n",
      "\u001b[36mFile \u001b[39m\u001b[32m/scratch/e1498138/anaconda3/envs/fewnew/lib/python3.12/site-packages/numba/core/compiler_machinery.py:272\u001b[39m, in \u001b[36mPassManager._runPass.<locals>.check\u001b[39m\u001b[34m(func, compiler_state)\u001b[39m\n\u001b[32m    271\u001b[39m \u001b[38;5;28;01mdef\u001b[39;00m\u001b[38;5;250m \u001b[39m\u001b[34mcheck\u001b[39m(func, compiler_state):\n\u001b[32m--> \u001b[39m\u001b[32m272\u001b[39m     mangled = \u001b[43mfunc\u001b[49m\u001b[43m(\u001b[49m\u001b[43mcompiler_state\u001b[49m\u001b[43m)\u001b[49m\n\u001b[32m    273\u001b[39m     \u001b[38;5;28;01mif\u001b[39;00m mangled \u001b[38;5;129;01mnot\u001b[39;00m \u001b[38;5;129;01min\u001b[39;00m (\u001b[38;5;28;01mTrue\u001b[39;00m, \u001b[38;5;28;01mFalse\u001b[39;00m):\n\u001b[32m    274\u001b[39m         msg = (\u001b[33m\"\u001b[39m\u001b[33mCompilerPass implementations should return True/False. \u001b[39m\u001b[33m\"\u001b[39m\n\u001b[32m    275\u001b[39m                \u001b[33m\"\u001b[39m\u001b[33mCompilerPass with name \u001b[39m\u001b[33m'\u001b[39m\u001b[38;5;132;01m%s\u001b[39;00m\u001b[33m'\u001b[39m\u001b[33m did not.\u001b[39m\u001b[33m\"\u001b[39m)\n",
      "\u001b[36mFile \u001b[39m\u001b[32m/scratch/e1498138/anaconda3/envs/fewnew/lib/python3.12/site-packages/numba/core/typed_passes.py:112\u001b[39m, in \u001b[36mBaseTypeInference.run_pass\u001b[39m\u001b[34m(self, state)\u001b[39m\n\u001b[32m    106\u001b[39m \u001b[38;5;250m\u001b[39m\u001b[33;03m\"\"\"\u001b[39;00m\n\u001b[32m    107\u001b[39m \u001b[33;03mType inference and legalization\u001b[39;00m\n\u001b[32m    108\u001b[39m \u001b[33;03m\"\"\"\u001b[39;00m\n\u001b[32m    109\u001b[39m \u001b[38;5;28;01mwith\u001b[39;00m fallback_context(state, \u001b[33m'\u001b[39m\u001b[33mFunction \u001b[39m\u001b[33m\"\u001b[39m\u001b[38;5;132;01m%s\u001b[39;00m\u001b[33m\"\u001b[39m\u001b[33m failed type inference\u001b[39m\u001b[33m'\u001b[39m\n\u001b[32m    110\u001b[39m                       % (state.func_id.func_name,)):\n\u001b[32m    111\u001b[39m     \u001b[38;5;66;03m# Type inference\u001b[39;00m\n\u001b[32m--> \u001b[39m\u001b[32m112\u001b[39m     typemap, return_type, calltypes, errs = \u001b[43mtype_inference_stage\u001b[49m\u001b[43m(\u001b[49m\n\u001b[32m    113\u001b[39m \u001b[43m        \u001b[49m\u001b[43mstate\u001b[49m\u001b[43m.\u001b[49m\u001b[43mtypingctx\u001b[49m\u001b[43m,\u001b[49m\n\u001b[32m    114\u001b[39m \u001b[43m        \u001b[49m\u001b[43mstate\u001b[49m\u001b[43m.\u001b[49m\u001b[43mtargetctx\u001b[49m\u001b[43m,\u001b[49m\n\u001b[32m    115\u001b[39m \u001b[43m        \u001b[49m\u001b[43mstate\u001b[49m\u001b[43m.\u001b[49m\u001b[43mfunc_ir\u001b[49m\u001b[43m,\u001b[49m\n\u001b[32m    116\u001b[39m \u001b[43m        \u001b[49m\u001b[43mstate\u001b[49m\u001b[43m.\u001b[49m\u001b[43margs\u001b[49m\u001b[43m,\u001b[49m\n\u001b[32m    117\u001b[39m \u001b[43m        \u001b[49m\u001b[43mstate\u001b[49m\u001b[43m.\u001b[49m\u001b[43mreturn_type\u001b[49m\u001b[43m,\u001b[49m\n\u001b[32m    118\u001b[39m \u001b[43m        \u001b[49m\u001b[43mstate\u001b[49m\u001b[43m.\u001b[49m\u001b[43mlocals\u001b[49m\u001b[43m,\u001b[49m\n\u001b[32m    119\u001b[39m \u001b[43m        \u001b[49m\u001b[43mraise_errors\u001b[49m\u001b[43m=\u001b[49m\u001b[38;5;28;43mself\u001b[39;49m\u001b[43m.\u001b[49m\u001b[43m_raise_errors\u001b[49m\u001b[43m)\u001b[49m\n\u001b[32m    120\u001b[39m     state.typemap = typemap\n\u001b[32m    121\u001b[39m     \u001b[38;5;66;03m# save errors in case of partial typing\u001b[39;00m\n",
      "\u001b[36mFile \u001b[39m\u001b[32m/scratch/e1498138/anaconda3/envs/fewnew/lib/python3.12/site-packages/numba/core/typed_passes.py:93\u001b[39m, in \u001b[36mtype_inference_stage\u001b[39m\u001b[34m(typingctx, targetctx, interp, args, return_type, locals, raise_errors)\u001b[39m\n\u001b[32m     91\u001b[39m     infer.build_constraint()\n\u001b[32m     92\u001b[39m     \u001b[38;5;66;03m# return errors in case of partial typing\u001b[39;00m\n\u001b[32m---> \u001b[39m\u001b[32m93\u001b[39m     errs = \u001b[43minfer\u001b[49m\u001b[43m.\u001b[49m\u001b[43mpropagate\u001b[49m\u001b[43m(\u001b[49m\u001b[43mraise_errors\u001b[49m\u001b[43m=\u001b[49m\u001b[43mraise_errors\u001b[49m\u001b[43m)\u001b[49m\n\u001b[32m     94\u001b[39m     typemap, restype, calltypes = infer.unify(raise_errors=raise_errors)\n\u001b[32m     96\u001b[39m \u001b[38;5;28;01mreturn\u001b[39;00m _TypingResults(typemap, restype, calltypes, errs)\n",
      "\u001b[36mFile \u001b[39m\u001b[32m/scratch/e1498138/anaconda3/envs/fewnew/lib/python3.12/site-packages/numba/core/typeinfer.py:1066\u001b[39m, in \u001b[36mTypeInferer.propagate\u001b[39m\u001b[34m(self, raise_errors)\u001b[39m\n\u001b[32m   1063\u001b[39m oldtoken = newtoken\n\u001b[32m   1064\u001b[39m \u001b[38;5;66;03m# Errors can appear when the type set is incomplete; only\u001b[39;00m\n\u001b[32m   1065\u001b[39m \u001b[38;5;66;03m# raise them when there is no progress anymore.\u001b[39;00m\n\u001b[32m-> \u001b[39m\u001b[32m1066\u001b[39m errors = \u001b[38;5;28;43mself\u001b[39;49m\u001b[43m.\u001b[49m\u001b[43mconstraints\u001b[49m\u001b[43m.\u001b[49m\u001b[43mpropagate\u001b[49m\u001b[43m(\u001b[49m\u001b[38;5;28;43mself\u001b[39;49m\u001b[43m)\u001b[49m\n\u001b[32m   1067\u001b[39m newtoken = \u001b[38;5;28mself\u001b[39m.get_state_token()\n\u001b[32m   1068\u001b[39m \u001b[38;5;28mself\u001b[39m.debug.propagate_finished()\n",
      "\u001b[36mFile \u001b[39m\u001b[32m/scratch/e1498138/anaconda3/envs/fewnew/lib/python3.12/site-packages/numba/core/typeinfer.py:160\u001b[39m, in \u001b[36mConstraintNetwork.propagate\u001b[39m\u001b[34m(self, typeinfer)\u001b[39m\n\u001b[32m    157\u001b[39m \u001b[38;5;28;01mwith\u001b[39;00m typeinfer.warnings.catch_warnings(filename=loc.filename,\n\u001b[32m    158\u001b[39m                                        lineno=loc.line):\n\u001b[32m    159\u001b[39m     \u001b[38;5;28;01mtry\u001b[39;00m:\n\u001b[32m--> \u001b[39m\u001b[32m160\u001b[39m         \u001b[43mconstraint\u001b[49m\u001b[43m(\u001b[49m\u001b[43mtypeinfer\u001b[49m\u001b[43m)\u001b[49m\n\u001b[32m    161\u001b[39m     \u001b[38;5;28;01mexcept\u001b[39;00m ForceLiteralArg \u001b[38;5;28;01mas\u001b[39;00m e:\n\u001b[32m    162\u001b[39m         errors.append(e)\n",
      "\u001b[36mFile \u001b[39m\u001b[32m/scratch/e1498138/anaconda3/envs/fewnew/lib/python3.12/site-packages/numba/core/typeinfer.py:566\u001b[39m, in \u001b[36mCallConstraint.__call__\u001b[39m\u001b[34m(self, typeinfer)\u001b[39m\n\u001b[32m    564\u001b[39m     fnty = typevars[\u001b[38;5;28mself\u001b[39m.func].getone()\n\u001b[32m    565\u001b[39m \u001b[38;5;28;01mwith\u001b[39;00m new_error_context(\u001b[33m\"\u001b[39m\u001b[33mresolving callee type: \u001b[39m\u001b[38;5;132;01m{0}\u001b[39;00m\u001b[33m\"\u001b[39m, fnty):\n\u001b[32m--> \u001b[39m\u001b[32m566\u001b[39m     \u001b[38;5;28;43mself\u001b[39;49m\u001b[43m.\u001b[49m\u001b[43mresolve\u001b[49m\u001b[43m(\u001b[49m\u001b[43mtypeinfer\u001b[49m\u001b[43m,\u001b[49m\u001b[43m \u001b[49m\u001b[43mtypevars\u001b[49m\u001b[43m,\u001b[49m\u001b[43m \u001b[49m\u001b[43mfnty\u001b[49m\u001b[43m)\u001b[49m\n",
      "\u001b[36mFile \u001b[39m\u001b[32m/scratch/e1498138/anaconda3/envs/fewnew/lib/python3.12/site-packages/numba/core/typeinfer.py:589\u001b[39m, in \u001b[36mCallConstraint.resolve\u001b[39m\u001b[34m(self, typeinfer, typevars, fnty)\u001b[39m\n\u001b[32m    587\u001b[39m     fnty = fnty.instance_type\n\u001b[32m    588\u001b[39m \u001b[38;5;28;01mtry\u001b[39;00m:\n\u001b[32m--> \u001b[39m\u001b[32m589\u001b[39m     sig = \u001b[43mtypeinfer\u001b[49m\u001b[43m.\u001b[49m\u001b[43mresolve_call\u001b[49m\u001b[43m(\u001b[49m\u001b[43mfnty\u001b[49m\u001b[43m,\u001b[49m\u001b[43m \u001b[49m\u001b[43mpos_args\u001b[49m\u001b[43m,\u001b[49m\u001b[43m \u001b[49m\u001b[43mkw_args\u001b[49m\u001b[43m)\u001b[49m\n\u001b[32m    590\u001b[39m \u001b[38;5;28;01mexcept\u001b[39;00m ForceLiteralArg \u001b[38;5;28;01mas\u001b[39;00m e:\n\u001b[32m    591\u001b[39m     \u001b[38;5;66;03m# Adjust for bound methods\u001b[39;00m\n\u001b[32m    592\u001b[39m     folding_args = ((fnty.this,) + \u001b[38;5;28mtuple\u001b[39m(\u001b[38;5;28mself\u001b[39m.args)\n\u001b[32m    593\u001b[39m                     \u001b[38;5;28;01mif\u001b[39;00m \u001b[38;5;28misinstance\u001b[39m(fnty, types.BoundFunction)\n\u001b[32m    594\u001b[39m                     \u001b[38;5;28;01melse\u001b[39;00m \u001b[38;5;28mself\u001b[39m.args)\n",
      "\u001b[36mFile \u001b[39m\u001b[32m/scratch/e1498138/anaconda3/envs/fewnew/lib/python3.12/site-packages/numba/core/typeinfer.py:1560\u001b[39m, in \u001b[36mTypeInferer.resolve_call\u001b[39m\u001b[34m(self, fnty, pos_args, kw_args)\u001b[39m\n\u001b[32m   1557\u001b[39m     \u001b[38;5;28;01mreturn\u001b[39;00m sig\n\u001b[32m   1558\u001b[39m \u001b[38;5;28;01melse\u001b[39;00m:\n\u001b[32m   1559\u001b[39m     \u001b[38;5;66;03m# Normal non-recursive call\u001b[39;00m\n\u001b[32m-> \u001b[39m\u001b[32m1560\u001b[39m     \u001b[38;5;28;01mreturn\u001b[39;00m \u001b[38;5;28;43mself\u001b[39;49m\u001b[43m.\u001b[49m\u001b[43mcontext\u001b[49m\u001b[43m.\u001b[49m\u001b[43mresolve_function_type\u001b[49m\u001b[43m(\u001b[49m\u001b[43mfnty\u001b[49m\u001b[43m,\u001b[49m\u001b[43m \u001b[49m\u001b[43mpos_args\u001b[49m\u001b[43m,\u001b[49m\u001b[43m \u001b[49m\u001b[43mkw_args\u001b[49m\u001b[43m)\u001b[49m\n",
      "\u001b[36mFile \u001b[39m\u001b[32m/scratch/e1498138/anaconda3/envs/fewnew/lib/python3.12/site-packages/numba/core/typing/context.py:195\u001b[39m, in \u001b[36mBaseContext.resolve_function_type\u001b[39m\u001b[34m(self, func, args, kws)\u001b[39m\n\u001b[32m    193\u001b[39m \u001b[38;5;66;03m# Prefer user definition first\u001b[39;00m\n\u001b[32m    194\u001b[39m \u001b[38;5;28;01mtry\u001b[39;00m:\n\u001b[32m--> \u001b[39m\u001b[32m195\u001b[39m     res = \u001b[38;5;28;43mself\u001b[39;49m\u001b[43m.\u001b[49m\u001b[43m_resolve_user_function_type\u001b[49m\u001b[43m(\u001b[49m\u001b[43mfunc\u001b[49m\u001b[43m,\u001b[49m\u001b[43m \u001b[49m\u001b[43margs\u001b[49m\u001b[43m,\u001b[49m\u001b[43m \u001b[49m\u001b[43mkws\u001b[49m\u001b[43m)\u001b[49m\n\u001b[32m    196\u001b[39m \u001b[38;5;28;01mexcept\u001b[39;00m errors.TypingError \u001b[38;5;28;01mas\u001b[39;00m e:\n\u001b[32m    197\u001b[39m     \u001b[38;5;66;03m# Capture any typing error\u001b[39;00m\n\u001b[32m    198\u001b[39m     last_exception = e\n",
      "\u001b[36mFile \u001b[39m\u001b[32m/scratch/e1498138/anaconda3/envs/fewnew/lib/python3.12/site-packages/numba/core/typing/context.py:247\u001b[39m, in \u001b[36mBaseContext._resolve_user_function_type\u001b[39m\u001b[34m(self, func, args, kws, literals)\u001b[39m\n\u001b[32m    243\u001b[39m         \u001b[38;5;28;01mreturn\u001b[39;00m \u001b[38;5;28mself\u001b[39m.resolve_function_type(func_type, args, kws)\n\u001b[32m    245\u001b[39m \u001b[38;5;28;01mif\u001b[39;00m \u001b[38;5;28misinstance\u001b[39m(func, types.Callable):\n\u001b[32m    246\u001b[39m     \u001b[38;5;66;03m# XXX fold this into the __call__ attribute logic?\u001b[39;00m\n\u001b[32m--> \u001b[39m\u001b[32m247\u001b[39m     \u001b[38;5;28;01mreturn\u001b[39;00m \u001b[43mfunc\u001b[49m\u001b[43m.\u001b[49m\u001b[43mget_call_type\u001b[49m\u001b[43m(\u001b[49m\u001b[38;5;28;43mself\u001b[39;49m\u001b[43m,\u001b[49m\u001b[43m \u001b[49m\u001b[43margs\u001b[49m\u001b[43m,\u001b[49m\u001b[43m \u001b[49m\u001b[43mkws\u001b[49m\u001b[43m)\u001b[49m\n",
      "\u001b[36mFile \u001b[39m\u001b[32m/scratch/e1498138/anaconda3/envs/fewnew/lib/python3.12/site-packages/numba/core/types/functions.py:538\u001b[39m, in \u001b[36mDispatcher.get_call_type\u001b[39m\u001b[34m(self, context, args, kws)\u001b[39m\n\u001b[32m    531\u001b[39m \u001b[38;5;28;01mdef\u001b[39;00m\u001b[38;5;250m \u001b[39m\u001b[34mget_call_type\u001b[39m(\u001b[38;5;28mself\u001b[39m, context, args, kws):\n\u001b[32m    532\u001b[39m \u001b[38;5;250m    \u001b[39m\u001b[33;03m\"\"\"\u001b[39;00m\n\u001b[32m    533\u001b[39m \u001b[33;03m    Resolve a call to this dispatcher using the given argument types.\u001b[39;00m\n\u001b[32m    534\u001b[39m \u001b[33;03m    A signature returned and it is ensured that a compiled specialization\u001b[39;00m\n\u001b[32m    535\u001b[39m \u001b[33;03m    is available for it.\u001b[39;00m\n\u001b[32m    536\u001b[39m \u001b[33;03m    \"\"\"\u001b[39;00m\n\u001b[32m    537\u001b[39m     template, pysig, args, kws = \\\n\u001b[32m--> \u001b[39m\u001b[32m538\u001b[39m         \u001b[38;5;28;43mself\u001b[39;49m\u001b[43m.\u001b[49m\u001b[43mdispatcher\u001b[49m\u001b[43m.\u001b[49m\u001b[43mget_call_template\u001b[49m\u001b[43m(\u001b[49m\u001b[43margs\u001b[49m\u001b[43m,\u001b[49m\u001b[43m \u001b[49m\u001b[43mkws\u001b[49m\u001b[43m)\u001b[49m\n\u001b[32m    539\u001b[39m     sig = template(context).apply(args, kws)\n\u001b[32m    540\u001b[39m     \u001b[38;5;28;01mif\u001b[39;00m sig:\n",
      "\u001b[36mFile \u001b[39m\u001b[32m/scratch/e1498138/anaconda3/envs/fewnew/lib/python3.12/site-packages/numba/cuda/dispatcher.py:849\u001b[39m, in \u001b[36mCUDADispatcher.get_call_template\u001b[39m\u001b[34m(self, args, kws)\u001b[39m\n\u001b[32m    845\u001b[39m \u001b[38;5;66;03m# Ensure an exactly-matching overload is available if we can\u001b[39;00m\n\u001b[32m    846\u001b[39m \u001b[38;5;66;03m# compile. We proceed with the typing even if we can't compile\u001b[39;00m\n\u001b[32m    847\u001b[39m \u001b[38;5;66;03m# because we may be able to force a cast on the caller side.\u001b[39;00m\n\u001b[32m    848\u001b[39m \u001b[38;5;28;01mif\u001b[39;00m \u001b[38;5;28mself\u001b[39m._can_compile:\n\u001b[32m--> \u001b[39m\u001b[32m849\u001b[39m     \u001b[38;5;28;43mself\u001b[39;49m\u001b[43m.\u001b[49m\u001b[43mcompile_device\u001b[49m\u001b[43m(\u001b[49m\u001b[38;5;28;43mtuple\u001b[39;49m\u001b[43m(\u001b[49m\u001b[43margs\u001b[49m\u001b[43m)\u001b[49m\u001b[43m)\u001b[49m\n\u001b[32m    851\u001b[39m \u001b[38;5;66;03m# Create function type for typing\u001b[39;00m\n\u001b[32m    852\u001b[39m func_name = \u001b[38;5;28mself\u001b[39m.py_func.\u001b[34m__name__\u001b[39m\n",
      "\u001b[36mFile \u001b[39m\u001b[32m/scratch/e1498138/anaconda3/envs/fewnew/lib/python3.12/site-packages/numba/cuda/dispatcher.py:883\u001b[39m, in \u001b[36mCUDADispatcher.compile_device\u001b[39m\u001b[34m(self, args, return_type)\u001b[39m\n\u001b[32m    877\u001b[39m nvvm_options = {\n\u001b[32m    878\u001b[39m     \u001b[33m'\u001b[39m\u001b[33mopt\u001b[39m\u001b[33m'\u001b[39m: \u001b[32m3\u001b[39m \u001b[38;5;28;01mif\u001b[39;00m \u001b[38;5;28mself\u001b[39m.targetoptions.get(\u001b[33m'\u001b[39m\u001b[33mopt\u001b[39m\u001b[33m'\u001b[39m) \u001b[38;5;28;01melse\u001b[39;00m \u001b[32m0\u001b[39m,\n\u001b[32m    879\u001b[39m     \u001b[33m'\u001b[39m\u001b[33mfastmath\u001b[39m\u001b[33m'\u001b[39m: fastmath\n\u001b[32m    880\u001b[39m }\n\u001b[32m    882\u001b[39m cc = get_current_device().compute_capability\n\u001b[32m--> \u001b[39m\u001b[32m883\u001b[39m cres = \u001b[43mcompile_cuda\u001b[49m\u001b[43m(\u001b[49m\u001b[38;5;28;43mself\u001b[39;49m\u001b[43m.\u001b[49m\u001b[43mpy_func\u001b[49m\u001b[43m,\u001b[49m\u001b[43m \u001b[49m\u001b[43mreturn_type\u001b[49m\u001b[43m,\u001b[49m\u001b[43m \u001b[49m\u001b[43margs\u001b[49m\u001b[43m,\u001b[49m\n\u001b[32m    884\u001b[39m \u001b[43m                    \u001b[49m\u001b[43mdebug\u001b[49m\u001b[43m=\u001b[49m\u001b[43mdebug\u001b[49m\u001b[43m,\u001b[49m\n\u001b[32m    885\u001b[39m \u001b[43m                    \u001b[49m\u001b[43mlineinfo\u001b[49m\u001b[43m=\u001b[49m\u001b[43mlineinfo\u001b[49m\u001b[43m,\u001b[49m\n\u001b[32m    886\u001b[39m \u001b[43m                    \u001b[49m\u001b[43minline\u001b[49m\u001b[43m=\u001b[49m\u001b[43minline\u001b[49m\u001b[43m,\u001b[49m\n\u001b[32m    887\u001b[39m \u001b[43m                    \u001b[49m\u001b[43mfastmath\u001b[49m\u001b[43m=\u001b[49m\u001b[43mfastmath\u001b[49m\u001b[43m,\u001b[49m\n\u001b[32m    888\u001b[39m \u001b[43m                    \u001b[49m\u001b[43mnvvm_options\u001b[49m\u001b[43m=\u001b[49m\u001b[43mnvvm_options\u001b[49m\u001b[43m,\u001b[49m\n\u001b[32m    889\u001b[39m \u001b[43m                    \u001b[49m\u001b[43mcc\u001b[49m\u001b[43m=\u001b[49m\u001b[43mcc\u001b[49m\u001b[43m)\u001b[49m\n\u001b[32m    890\u001b[39m \u001b[38;5;28mself\u001b[39m.overloads[args] = cres\n\u001b[32m    892\u001b[39m cres.target_context.insert_user_function(cres.entry_point,\n\u001b[32m    893\u001b[39m                                          cres.fndesc,\n\u001b[32m    894\u001b[39m                                          [cres.library])\n",
      "\u001b[36mFile \u001b[39m\u001b[32m/scratch/e1498138/anaconda3/envs/fewnew/lib/python3.12/site-packages/numba/core/compiler_lock.py:35\u001b[39m, in \u001b[36m_CompilerLock.__call__.<locals>._acquire_compile_lock\u001b[39m\u001b[34m(*args, **kwargs)\u001b[39m\n\u001b[32m     32\u001b[39m \u001b[38;5;129m@functools\u001b[39m.wraps(func)\n\u001b[32m     33\u001b[39m \u001b[38;5;28;01mdef\u001b[39;00m\u001b[38;5;250m \u001b[39m\u001b[34m_acquire_compile_lock\u001b[39m(*args, **kwargs):\n\u001b[32m     34\u001b[39m     \u001b[38;5;28;01mwith\u001b[39;00m \u001b[38;5;28mself\u001b[39m:\n\u001b[32m---> \u001b[39m\u001b[32m35\u001b[39m         \u001b[38;5;28;01mreturn\u001b[39;00m \u001b[43mfunc\u001b[49m\u001b[43m(\u001b[49m\u001b[43m*\u001b[49m\u001b[43margs\u001b[49m\u001b[43m,\u001b[49m\u001b[43m \u001b[49m\u001b[43m*\u001b[49m\u001b[43m*\u001b[49m\u001b[43mkwargs\u001b[49m\u001b[43m)\u001b[49m\n",
      "\u001b[36mFile \u001b[39m\u001b[32m/scratch/e1498138/anaconda3/envs/fewnew/lib/python3.12/site-packages/numba/cuda/compiler.py:196\u001b[39m, in \u001b[36mcompile_cuda\u001b[39m\u001b[34m(pyfunc, return_type, args, debug, lineinfo, inline, fastmath, nvvm_options, cc)\u001b[39m\n\u001b[32m    194\u001b[39m \u001b[38;5;28;01mfrom\u001b[39;00m\u001b[38;5;250m \u001b[39m\u001b[34;01mnumba\u001b[39;00m\u001b[34;01m.\u001b[39;00m\u001b[34;01mcore\u001b[39;00m\u001b[34;01m.\u001b[39;00m\u001b[34;01mtarget_extension\u001b[39;00m\u001b[38;5;250m \u001b[39m\u001b[38;5;28;01mimport\u001b[39;00m target_override\n\u001b[32m    195\u001b[39m \u001b[38;5;28;01mwith\u001b[39;00m target_override(\u001b[33m'\u001b[39m\u001b[33mcuda\u001b[39m\u001b[33m'\u001b[39m):\n\u001b[32m--> \u001b[39m\u001b[32m196\u001b[39m     cres = \u001b[43mcompiler\u001b[49m\u001b[43m.\u001b[49m\u001b[43mcompile_extra\u001b[49m\u001b[43m(\u001b[49m\u001b[43mtypingctx\u001b[49m\u001b[43m=\u001b[49m\u001b[43mtypingctx\u001b[49m\u001b[43m,\u001b[49m\n\u001b[32m    197\u001b[39m \u001b[43m                                  \u001b[49m\u001b[43mtargetctx\u001b[49m\u001b[43m=\u001b[49m\u001b[43mtargetctx\u001b[49m\u001b[43m,\u001b[49m\n\u001b[32m    198\u001b[39m \u001b[43m                                  \u001b[49m\u001b[43mfunc\u001b[49m\u001b[43m=\u001b[49m\u001b[43mpyfunc\u001b[49m\u001b[43m,\u001b[49m\n\u001b[32m    199\u001b[39m \u001b[43m                                  \u001b[49m\u001b[43margs\u001b[49m\u001b[43m=\u001b[49m\u001b[43margs\u001b[49m\u001b[43m,\u001b[49m\n\u001b[32m    200\u001b[39m \u001b[43m                                  \u001b[49m\u001b[43mreturn_type\u001b[49m\u001b[43m=\u001b[49m\u001b[43mreturn_type\u001b[49m\u001b[43m,\u001b[49m\n\u001b[32m    201\u001b[39m \u001b[43m                                  \u001b[49m\u001b[43mflags\u001b[49m\u001b[43m=\u001b[49m\u001b[43mflags\u001b[49m\u001b[43m,\u001b[49m\n\u001b[32m    202\u001b[39m \u001b[43m                                  \u001b[49m\u001b[38;5;28;43mlocals\u001b[39;49m\u001b[43m=\u001b[49m\u001b[43m{\u001b[49m\u001b[43m}\u001b[49m\u001b[43m,\u001b[49m\n\u001b[32m    203\u001b[39m \u001b[43m                                  \u001b[49m\u001b[43mpipeline_class\u001b[49m\u001b[43m=\u001b[49m\u001b[43mCUDACompiler\u001b[49m\u001b[43m)\u001b[49m\n\u001b[32m    205\u001b[39m library = cres.library\n\u001b[32m    206\u001b[39m library.finalize()\n",
      "\u001b[36mFile \u001b[39m\u001b[32m/scratch/e1498138/anaconda3/envs/fewnew/lib/python3.12/site-packages/numba/core/compiler.py:739\u001b[39m, in \u001b[36mcompile_extra\u001b[39m\u001b[34m(typingctx, targetctx, func, args, return_type, flags, locals, library, pipeline_class)\u001b[39m\n\u001b[32m    715\u001b[39m \u001b[38;5;250m\u001b[39m\u001b[33;03m\"\"\"Compiler entry point\u001b[39;00m\n\u001b[32m    716\u001b[39m \n\u001b[32m    717\u001b[39m \u001b[33;03mParameter\u001b[39;00m\n\u001b[32m   (...)\u001b[39m\u001b[32m    735\u001b[39m \u001b[33;03m    compiler pipeline\u001b[39;00m\n\u001b[32m    736\u001b[39m \u001b[33;03m\"\"\"\u001b[39;00m\n\u001b[32m    737\u001b[39m pipeline = pipeline_class(typingctx, targetctx, library,\n\u001b[32m    738\u001b[39m                           args, return_type, flags, \u001b[38;5;28mlocals\u001b[39m)\n\u001b[32m--> \u001b[39m\u001b[32m739\u001b[39m \u001b[38;5;28;01mreturn\u001b[39;00m \u001b[43mpipeline\u001b[49m\u001b[43m.\u001b[49m\u001b[43mcompile_extra\u001b[49m\u001b[43m(\u001b[49m\u001b[43mfunc\u001b[49m\u001b[43m)\u001b[49m\n",
      "\u001b[36mFile \u001b[39m\u001b[32m/scratch/e1498138/anaconda3/envs/fewnew/lib/python3.12/site-packages/numba/core/compiler.py:439\u001b[39m, in \u001b[36mCompilerBase.compile_extra\u001b[39m\u001b[34m(self, func)\u001b[39m\n\u001b[32m    437\u001b[39m \u001b[38;5;28mself\u001b[39m.state.lifted = ()\n\u001b[32m    438\u001b[39m \u001b[38;5;28mself\u001b[39m.state.lifted_from = \u001b[38;5;28;01mNone\u001b[39;00m\n\u001b[32m--> \u001b[39m\u001b[32m439\u001b[39m \u001b[38;5;28;01mreturn\u001b[39;00m \u001b[38;5;28;43mself\u001b[39;49m\u001b[43m.\u001b[49m\u001b[43m_compile_bytecode\u001b[49m\u001b[43m(\u001b[49m\u001b[43m)\u001b[49m\n",
      "\u001b[36mFile \u001b[39m\u001b[32m/scratch/e1498138/anaconda3/envs/fewnew/lib/python3.12/site-packages/numba/core/compiler.py:505\u001b[39m, in \u001b[36mCompilerBase._compile_bytecode\u001b[39m\u001b[34m(self)\u001b[39m\n\u001b[32m    501\u001b[39m \u001b[38;5;250m\u001b[39m\u001b[33;03m\"\"\"\u001b[39;00m\n\u001b[32m    502\u001b[39m \u001b[33;03mPopulate and run pipeline for bytecode input\u001b[39;00m\n\u001b[32m    503\u001b[39m \u001b[33;03m\"\"\"\u001b[39;00m\n\u001b[32m    504\u001b[39m \u001b[38;5;28;01massert\u001b[39;00m \u001b[38;5;28mself\u001b[39m.state.func_ir \u001b[38;5;129;01mis\u001b[39;00m \u001b[38;5;28;01mNone\u001b[39;00m\n\u001b[32m--> \u001b[39m\u001b[32m505\u001b[39m \u001b[38;5;28;01mreturn\u001b[39;00m \u001b[38;5;28;43mself\u001b[39;49m\u001b[43m.\u001b[49m\u001b[43m_compile_core\u001b[49m\u001b[43m(\u001b[49m\u001b[43m)\u001b[49m\n",
      "\u001b[36mFile \u001b[39m\u001b[32m/scratch/e1498138/anaconda3/envs/fewnew/lib/python3.12/site-packages/numba/core/compiler.py:481\u001b[39m, in \u001b[36mCompilerBase._compile_core\u001b[39m\u001b[34m(self)\u001b[39m\n\u001b[32m    479\u001b[39m \u001b[38;5;28;01mexcept\u001b[39;00m \u001b[38;5;167;01mException\u001b[39;00m \u001b[38;5;28;01mas\u001b[39;00m e:\n\u001b[32m    480\u001b[39m     \u001b[38;5;28;01mif\u001b[39;00m \u001b[38;5;129;01mnot\u001b[39;00m \u001b[38;5;28misinstance\u001b[39m(e, errors.NumbaError):\n\u001b[32m--> \u001b[39m\u001b[32m481\u001b[39m         \u001b[38;5;28;01mraise\u001b[39;00m e\n\u001b[32m    482\u001b[39m     \u001b[38;5;28mself\u001b[39m.state.status.fail_reason = e\n\u001b[32m    483\u001b[39m     \u001b[38;5;28;01mif\u001b[39;00m is_final_pipeline:\n",
      "\u001b[36mFile \u001b[39m\u001b[32m/scratch/e1498138/anaconda3/envs/fewnew/lib/python3.12/site-packages/numba/core/compiler.py:473\u001b[39m, in \u001b[36mCompilerBase._compile_core\u001b[39m\u001b[34m(self)\u001b[39m\n\u001b[32m    471\u001b[39m res = \u001b[38;5;28;01mNone\u001b[39;00m\n\u001b[32m    472\u001b[39m \u001b[38;5;28;01mtry\u001b[39;00m:\n\u001b[32m--> \u001b[39m\u001b[32m473\u001b[39m     \u001b[43mpm\u001b[49m\u001b[43m.\u001b[49m\u001b[43mrun\u001b[49m\u001b[43m(\u001b[49m\u001b[38;5;28;43mself\u001b[39;49m\u001b[43m.\u001b[49m\u001b[43mstate\u001b[49m\u001b[43m)\u001b[49m\n\u001b[32m    474\u001b[39m     \u001b[38;5;28;01mif\u001b[39;00m \u001b[38;5;28mself\u001b[39m.state.cr \u001b[38;5;129;01mis\u001b[39;00m \u001b[38;5;129;01mnot\u001b[39;00m \u001b[38;5;28;01mNone\u001b[39;00m:\n\u001b[32m    475\u001b[39m         \u001b[38;5;28;01mbreak\u001b[39;00m\n",
      "\u001b[36mFile \u001b[39m\u001b[32m/scratch/e1498138/anaconda3/envs/fewnew/lib/python3.12/site-packages/numba/core/compiler_machinery.py:363\u001b[39m, in \u001b[36mPassManager.run\u001b[39m\u001b[34m(self, state)\u001b[39m\n\u001b[32m    361\u001b[39m \u001b[38;5;28;01mexcept\u001b[39;00m \u001b[38;5;167;01mException\u001b[39;00m \u001b[38;5;28;01mas\u001b[39;00m e:\n\u001b[32m    362\u001b[39m     \u001b[38;5;28;01mif\u001b[39;00m \u001b[38;5;129;01mnot\u001b[39;00m \u001b[38;5;28misinstance\u001b[39m(e, errors.NumbaError):\n\u001b[32m--> \u001b[39m\u001b[32m363\u001b[39m         \u001b[38;5;28;01mraise\u001b[39;00m e\n\u001b[32m    364\u001b[39m     msg = \u001b[33m\"\u001b[39m\u001b[33mFailed in \u001b[39m\u001b[38;5;132;01m%s\u001b[39;00m\u001b[33m mode pipeline (step: \u001b[39m\u001b[38;5;132;01m%s\u001b[39;00m\u001b[33m)\u001b[39m\u001b[33m\"\u001b[39m % \\\n\u001b[32m    365\u001b[39m         (\u001b[38;5;28mself\u001b[39m.pipeline_name, pass_desc)\n\u001b[32m    366\u001b[39m     patched_exception = \u001b[38;5;28mself\u001b[39m._patch_error(msg, e)\n",
      "\u001b[36mFile \u001b[39m\u001b[32m/scratch/e1498138/anaconda3/envs/fewnew/lib/python3.12/site-packages/numba/core/compiler_machinery.py:356\u001b[39m, in \u001b[36mPassManager.run\u001b[39m\u001b[34m(self, state)\u001b[39m\n\u001b[32m    354\u001b[39m pass_inst = _pass_registry.get(pss).pass_inst\n\u001b[32m    355\u001b[39m \u001b[38;5;28;01mif\u001b[39;00m \u001b[38;5;28misinstance\u001b[39m(pass_inst, CompilerPass):\n\u001b[32m--> \u001b[39m\u001b[32m356\u001b[39m     \u001b[38;5;28;43mself\u001b[39;49m\u001b[43m.\u001b[49m\u001b[43m_runPass\u001b[49m\u001b[43m(\u001b[49m\u001b[43midx\u001b[49m\u001b[43m,\u001b[49m\u001b[43m \u001b[49m\u001b[43mpass_inst\u001b[49m\u001b[43m,\u001b[49m\u001b[43m \u001b[49m\u001b[43mstate\u001b[49m\u001b[43m)\u001b[49m\n\u001b[32m    357\u001b[39m \u001b[38;5;28;01melse\u001b[39;00m:\n\u001b[32m    358\u001b[39m     \u001b[38;5;28;01mraise\u001b[39;00m \u001b[38;5;167;01mBaseException\u001b[39;00m(\u001b[33m\"\u001b[39m\u001b[33mLegacy pass in use\u001b[39m\u001b[33m\"\u001b[39m)\n",
      "\u001b[36mFile \u001b[39m\u001b[32m/scratch/e1498138/anaconda3/envs/fewnew/lib/python3.12/site-packages/numba/core/compiler_lock.py:35\u001b[39m, in \u001b[36m_CompilerLock.__call__.<locals>._acquire_compile_lock\u001b[39m\u001b[34m(*args, **kwargs)\u001b[39m\n\u001b[32m     32\u001b[39m \u001b[38;5;129m@functools\u001b[39m.wraps(func)\n\u001b[32m     33\u001b[39m \u001b[38;5;28;01mdef\u001b[39;00m\u001b[38;5;250m \u001b[39m\u001b[34m_acquire_compile_lock\u001b[39m(*args, **kwargs):\n\u001b[32m     34\u001b[39m     \u001b[38;5;28;01mwith\u001b[39;00m \u001b[38;5;28mself\u001b[39m:\n\u001b[32m---> \u001b[39m\u001b[32m35\u001b[39m         \u001b[38;5;28;01mreturn\u001b[39;00m \u001b[43mfunc\u001b[49m\u001b[43m(\u001b[49m\u001b[43m*\u001b[49m\u001b[43margs\u001b[49m\u001b[43m,\u001b[49m\u001b[43m \u001b[49m\u001b[43m*\u001b[49m\u001b[43m*\u001b[49m\u001b[43mkwargs\u001b[49m\u001b[43m)\u001b[49m\n",
      "\u001b[36mFile \u001b[39m\u001b[32m/scratch/e1498138/anaconda3/envs/fewnew/lib/python3.12/site-packages/numba/core/compiler_machinery.py:311\u001b[39m, in \u001b[36mPassManager._runPass\u001b[39m\u001b[34m(self, index, pss, internal_state)\u001b[39m\n\u001b[32m    309\u001b[39m     mutated |= check(pss.run_initialization, internal_state)\n\u001b[32m    310\u001b[39m \u001b[38;5;28;01mwith\u001b[39;00m SimpleTimer() \u001b[38;5;28;01mas\u001b[39;00m pass_time:\n\u001b[32m--> \u001b[39m\u001b[32m311\u001b[39m     mutated |= \u001b[43mcheck\u001b[49m\u001b[43m(\u001b[49m\u001b[43mpss\u001b[49m\u001b[43m.\u001b[49m\u001b[43mrun_pass\u001b[49m\u001b[43m,\u001b[49m\u001b[43m \u001b[49m\u001b[43minternal_state\u001b[49m\u001b[43m)\u001b[49m\n\u001b[32m    312\u001b[39m \u001b[38;5;28;01mwith\u001b[39;00m SimpleTimer() \u001b[38;5;28;01mas\u001b[39;00m finalize_time:\n\u001b[32m    313\u001b[39m     mutated |= check(pss.run_finalizer, internal_state)\n",
      "\u001b[36mFile \u001b[39m\u001b[32m/scratch/e1498138/anaconda3/envs/fewnew/lib/python3.12/site-packages/numba/core/compiler_machinery.py:272\u001b[39m, in \u001b[36mPassManager._runPass.<locals>.check\u001b[39m\u001b[34m(func, compiler_state)\u001b[39m\n\u001b[32m    271\u001b[39m \u001b[38;5;28;01mdef\u001b[39;00m\u001b[38;5;250m \u001b[39m\u001b[34mcheck\u001b[39m(func, compiler_state):\n\u001b[32m--> \u001b[39m\u001b[32m272\u001b[39m     mangled = \u001b[43mfunc\u001b[49m\u001b[43m(\u001b[49m\u001b[43mcompiler_state\u001b[49m\u001b[43m)\u001b[49m\n\u001b[32m    273\u001b[39m     \u001b[38;5;28;01mif\u001b[39;00m mangled \u001b[38;5;129;01mnot\u001b[39;00m \u001b[38;5;129;01min\u001b[39;00m (\u001b[38;5;28;01mTrue\u001b[39;00m, \u001b[38;5;28;01mFalse\u001b[39;00m):\n\u001b[32m    274\u001b[39m         msg = (\u001b[33m\"\u001b[39m\u001b[33mCompilerPass implementations should return True/False. \u001b[39m\u001b[33m\"\u001b[39m\n\u001b[32m    275\u001b[39m                \u001b[33m\"\u001b[39m\u001b[33mCompilerPass with name \u001b[39m\u001b[33m'\u001b[39m\u001b[38;5;132;01m%s\u001b[39;00m\u001b[33m'\u001b[39m\u001b[33m did not.\u001b[39m\u001b[33m\"\u001b[39m)\n",
      "\u001b[36mFile \u001b[39m\u001b[32m/scratch/e1498138/anaconda3/envs/fewnew/lib/python3.12/site-packages/numba/core/typed_passes.py:112\u001b[39m, in \u001b[36mBaseTypeInference.run_pass\u001b[39m\u001b[34m(self, state)\u001b[39m\n\u001b[32m    106\u001b[39m \u001b[38;5;250m\u001b[39m\u001b[33;03m\"\"\"\u001b[39;00m\n\u001b[32m    107\u001b[39m \u001b[33;03mType inference and legalization\u001b[39;00m\n\u001b[32m    108\u001b[39m \u001b[33;03m\"\"\"\u001b[39;00m\n\u001b[32m    109\u001b[39m \u001b[38;5;28;01mwith\u001b[39;00m fallback_context(state, \u001b[33m'\u001b[39m\u001b[33mFunction \u001b[39m\u001b[33m\"\u001b[39m\u001b[38;5;132;01m%s\u001b[39;00m\u001b[33m\"\u001b[39m\u001b[33m failed type inference\u001b[39m\u001b[33m'\u001b[39m\n\u001b[32m    110\u001b[39m                       % (state.func_id.func_name,)):\n\u001b[32m    111\u001b[39m     \u001b[38;5;66;03m# Type inference\u001b[39;00m\n\u001b[32m--> \u001b[39m\u001b[32m112\u001b[39m     typemap, return_type, calltypes, errs = \u001b[43mtype_inference_stage\u001b[49m\u001b[43m(\u001b[49m\n\u001b[32m    113\u001b[39m \u001b[43m        \u001b[49m\u001b[43mstate\u001b[49m\u001b[43m.\u001b[49m\u001b[43mtypingctx\u001b[49m\u001b[43m,\u001b[49m\n\u001b[32m    114\u001b[39m \u001b[43m        \u001b[49m\u001b[43mstate\u001b[49m\u001b[43m.\u001b[49m\u001b[43mtargetctx\u001b[49m\u001b[43m,\u001b[49m\n\u001b[32m    115\u001b[39m \u001b[43m        \u001b[49m\u001b[43mstate\u001b[49m\u001b[43m.\u001b[49m\u001b[43mfunc_ir\u001b[49m\u001b[43m,\u001b[49m\n\u001b[32m    116\u001b[39m \u001b[43m        \u001b[49m\u001b[43mstate\u001b[49m\u001b[43m.\u001b[49m\u001b[43margs\u001b[49m\u001b[43m,\u001b[49m\n\u001b[32m    117\u001b[39m \u001b[43m        \u001b[49m\u001b[43mstate\u001b[49m\u001b[43m.\u001b[49m\u001b[43mreturn_type\u001b[49m\u001b[43m,\u001b[49m\n\u001b[32m    118\u001b[39m \u001b[43m        \u001b[49m\u001b[43mstate\u001b[49m\u001b[43m.\u001b[49m\u001b[43mlocals\u001b[49m\u001b[43m,\u001b[49m\n\u001b[32m    119\u001b[39m \u001b[43m        \u001b[49m\u001b[43mraise_errors\u001b[49m\u001b[43m=\u001b[49m\u001b[38;5;28;43mself\u001b[39;49m\u001b[43m.\u001b[49m\u001b[43m_raise_errors\u001b[49m\u001b[43m)\u001b[49m\n\u001b[32m    120\u001b[39m     state.typemap = typemap\n\u001b[32m    121\u001b[39m     \u001b[38;5;66;03m# save errors in case of partial typing\u001b[39;00m\n",
      "\u001b[36mFile \u001b[39m\u001b[32m/scratch/e1498138/anaconda3/envs/fewnew/lib/python3.12/site-packages/numba/core/typed_passes.py:93\u001b[39m, in \u001b[36mtype_inference_stage\u001b[39m\u001b[34m(typingctx, targetctx, interp, args, return_type, locals, raise_errors)\u001b[39m\n\u001b[32m     91\u001b[39m     infer.build_constraint()\n\u001b[32m     92\u001b[39m     \u001b[38;5;66;03m# return errors in case of partial typing\u001b[39;00m\n\u001b[32m---> \u001b[39m\u001b[32m93\u001b[39m     errs = \u001b[43minfer\u001b[49m\u001b[43m.\u001b[49m\u001b[43mpropagate\u001b[49m\u001b[43m(\u001b[49m\u001b[43mraise_errors\u001b[49m\u001b[43m=\u001b[49m\u001b[43mraise_errors\u001b[49m\u001b[43m)\u001b[49m\n\u001b[32m     94\u001b[39m     typemap, restype, calltypes = infer.unify(raise_errors=raise_errors)\n\u001b[32m     96\u001b[39m \u001b[38;5;28;01mreturn\u001b[39;00m _TypingResults(typemap, restype, calltypes, errs)\n",
      "\u001b[36mFile \u001b[39m\u001b[32m/scratch/e1498138/anaconda3/envs/fewnew/lib/python3.12/site-packages/numba/core/typeinfer.py:1066\u001b[39m, in \u001b[36mTypeInferer.propagate\u001b[39m\u001b[34m(self, raise_errors)\u001b[39m\n\u001b[32m   1063\u001b[39m oldtoken = newtoken\n\u001b[32m   1064\u001b[39m \u001b[38;5;66;03m# Errors can appear when the type set is incomplete; only\u001b[39;00m\n\u001b[32m   1065\u001b[39m \u001b[38;5;66;03m# raise them when there is no progress anymore.\u001b[39;00m\n\u001b[32m-> \u001b[39m\u001b[32m1066\u001b[39m errors = \u001b[38;5;28;43mself\u001b[39;49m\u001b[43m.\u001b[49m\u001b[43mconstraints\u001b[49m\u001b[43m.\u001b[49m\u001b[43mpropagate\u001b[49m\u001b[43m(\u001b[49m\u001b[38;5;28;43mself\u001b[39;49m\u001b[43m)\u001b[49m\n\u001b[32m   1067\u001b[39m newtoken = \u001b[38;5;28mself\u001b[39m.get_state_token()\n\u001b[32m   1068\u001b[39m \u001b[38;5;28mself\u001b[39m.debug.propagate_finished()\n",
      "\u001b[36mFile \u001b[39m\u001b[32m/scratch/e1498138/anaconda3/envs/fewnew/lib/python3.12/site-packages/numba/core/typeinfer.py:160\u001b[39m, in \u001b[36mConstraintNetwork.propagate\u001b[39m\u001b[34m(self, typeinfer)\u001b[39m\n\u001b[32m    157\u001b[39m \u001b[38;5;28;01mwith\u001b[39;00m typeinfer.warnings.catch_warnings(filename=loc.filename,\n\u001b[32m    158\u001b[39m                                        lineno=loc.line):\n\u001b[32m    159\u001b[39m     \u001b[38;5;28;01mtry\u001b[39;00m:\n\u001b[32m--> \u001b[39m\u001b[32m160\u001b[39m         \u001b[43mconstraint\u001b[49m\u001b[43m(\u001b[49m\u001b[43mtypeinfer\u001b[49m\u001b[43m)\u001b[49m\n\u001b[32m    161\u001b[39m     \u001b[38;5;28;01mexcept\u001b[39;00m ForceLiteralArg \u001b[38;5;28;01mas\u001b[39;00m e:\n\u001b[32m    162\u001b[39m         errors.append(e)\n",
      "\u001b[36mFile \u001b[39m\u001b[32m/scratch/e1498138/anaconda3/envs/fewnew/lib/python3.12/site-packages/numba/core/typeinfer.py:566\u001b[39m, in \u001b[36mCallConstraint.__call__\u001b[39m\u001b[34m(self, typeinfer)\u001b[39m\n\u001b[32m    564\u001b[39m     fnty = typevars[\u001b[38;5;28mself\u001b[39m.func].getone()\n\u001b[32m    565\u001b[39m \u001b[38;5;28;01mwith\u001b[39;00m new_error_context(\u001b[33m\"\u001b[39m\u001b[33mresolving callee type: \u001b[39m\u001b[38;5;132;01m{0}\u001b[39;00m\u001b[33m\"\u001b[39m, fnty):\n\u001b[32m--> \u001b[39m\u001b[32m566\u001b[39m     \u001b[38;5;28;43mself\u001b[39;49m\u001b[43m.\u001b[49m\u001b[43mresolve\u001b[49m\u001b[43m(\u001b[49m\u001b[43mtypeinfer\u001b[49m\u001b[43m,\u001b[49m\u001b[43m \u001b[49m\u001b[43mtypevars\u001b[49m\u001b[43m,\u001b[49m\u001b[43m \u001b[49m\u001b[43mfnty\u001b[49m\u001b[43m)\u001b[49m\n",
      "\u001b[36mFile \u001b[39m\u001b[32m/scratch/e1498138/anaconda3/envs/fewnew/lib/python3.12/site-packages/numba/core/typeinfer.py:589\u001b[39m, in \u001b[36mCallConstraint.resolve\u001b[39m\u001b[34m(self, typeinfer, typevars, fnty)\u001b[39m\n\u001b[32m    587\u001b[39m     fnty = fnty.instance_type\n\u001b[32m    588\u001b[39m \u001b[38;5;28;01mtry\u001b[39;00m:\n\u001b[32m--> \u001b[39m\u001b[32m589\u001b[39m     sig = \u001b[43mtypeinfer\u001b[49m\u001b[43m.\u001b[49m\u001b[43mresolve_call\u001b[49m\u001b[43m(\u001b[49m\u001b[43mfnty\u001b[49m\u001b[43m,\u001b[49m\u001b[43m \u001b[49m\u001b[43mpos_args\u001b[49m\u001b[43m,\u001b[49m\u001b[43m \u001b[49m\u001b[43mkw_args\u001b[49m\u001b[43m)\u001b[49m\n\u001b[32m    590\u001b[39m \u001b[38;5;28;01mexcept\u001b[39;00m ForceLiteralArg \u001b[38;5;28;01mas\u001b[39;00m e:\n\u001b[32m    591\u001b[39m     \u001b[38;5;66;03m# Adjust for bound methods\u001b[39;00m\n\u001b[32m    592\u001b[39m     folding_args = ((fnty.this,) + \u001b[38;5;28mtuple\u001b[39m(\u001b[38;5;28mself\u001b[39m.args)\n\u001b[32m    593\u001b[39m                     \u001b[38;5;28;01mif\u001b[39;00m \u001b[38;5;28misinstance\u001b[39m(fnty, types.BoundFunction)\n\u001b[32m    594\u001b[39m                     \u001b[38;5;28;01melse\u001b[39;00m \u001b[38;5;28mself\u001b[39m.args)\n",
      "\u001b[36mFile \u001b[39m\u001b[32m/scratch/e1498138/anaconda3/envs/fewnew/lib/python3.12/site-packages/numba/core/typeinfer.py:1560\u001b[39m, in \u001b[36mTypeInferer.resolve_call\u001b[39m\u001b[34m(self, fnty, pos_args, kw_args)\u001b[39m\n\u001b[32m   1557\u001b[39m     \u001b[38;5;28;01mreturn\u001b[39;00m sig\n\u001b[32m   1558\u001b[39m \u001b[38;5;28;01melse\u001b[39;00m:\n\u001b[32m   1559\u001b[39m     \u001b[38;5;66;03m# Normal non-recursive call\u001b[39;00m\n\u001b[32m-> \u001b[39m\u001b[32m1560\u001b[39m     \u001b[38;5;28;01mreturn\u001b[39;00m \u001b[38;5;28;43mself\u001b[39;49m\u001b[43m.\u001b[49m\u001b[43mcontext\u001b[49m\u001b[43m.\u001b[49m\u001b[43mresolve_function_type\u001b[49m\u001b[43m(\u001b[49m\u001b[43mfnty\u001b[49m\u001b[43m,\u001b[49m\u001b[43m \u001b[49m\u001b[43mpos_args\u001b[49m\u001b[43m,\u001b[49m\u001b[43m \u001b[49m\u001b[43mkw_args\u001b[49m\u001b[43m)\u001b[49m\n",
      "\u001b[36mFile \u001b[39m\u001b[32m/scratch/e1498138/anaconda3/envs/fewnew/lib/python3.12/site-packages/numba/core/typing/context.py:195\u001b[39m, in \u001b[36mBaseContext.resolve_function_type\u001b[39m\u001b[34m(self, func, args, kws)\u001b[39m\n\u001b[32m    193\u001b[39m \u001b[38;5;66;03m# Prefer user definition first\u001b[39;00m\n\u001b[32m    194\u001b[39m \u001b[38;5;28;01mtry\u001b[39;00m:\n\u001b[32m--> \u001b[39m\u001b[32m195\u001b[39m     res = \u001b[38;5;28;43mself\u001b[39;49m\u001b[43m.\u001b[49m\u001b[43m_resolve_user_function_type\u001b[49m\u001b[43m(\u001b[49m\u001b[43mfunc\u001b[49m\u001b[43m,\u001b[49m\u001b[43m \u001b[49m\u001b[43margs\u001b[49m\u001b[43m,\u001b[49m\u001b[43m \u001b[49m\u001b[43mkws\u001b[49m\u001b[43m)\u001b[49m\n\u001b[32m    196\u001b[39m \u001b[38;5;28;01mexcept\u001b[39;00m errors.TypingError \u001b[38;5;28;01mas\u001b[39;00m e:\n\u001b[32m    197\u001b[39m     \u001b[38;5;66;03m# Capture any typing error\u001b[39;00m\n\u001b[32m    198\u001b[39m     last_exception = e\n",
      "\u001b[36mFile \u001b[39m\u001b[32m/scratch/e1498138/anaconda3/envs/fewnew/lib/python3.12/site-packages/numba/core/typing/context.py:247\u001b[39m, in \u001b[36mBaseContext._resolve_user_function_type\u001b[39m\u001b[34m(self, func, args, kws, literals)\u001b[39m\n\u001b[32m    243\u001b[39m         \u001b[38;5;28;01mreturn\u001b[39;00m \u001b[38;5;28mself\u001b[39m.resolve_function_type(func_type, args, kws)\n\u001b[32m    245\u001b[39m \u001b[38;5;28;01mif\u001b[39;00m \u001b[38;5;28misinstance\u001b[39m(func, types.Callable):\n\u001b[32m    246\u001b[39m     \u001b[38;5;66;03m# XXX fold this into the __call__ attribute logic?\u001b[39;00m\n\u001b[32m--> \u001b[39m\u001b[32m247\u001b[39m     \u001b[38;5;28;01mreturn\u001b[39;00m \u001b[43mfunc\u001b[49m\u001b[43m.\u001b[49m\u001b[43mget_call_type\u001b[49m\u001b[43m(\u001b[49m\u001b[38;5;28;43mself\u001b[39;49m\u001b[43m,\u001b[49m\u001b[43m \u001b[49m\u001b[43margs\u001b[49m\u001b[43m,\u001b[49m\u001b[43m \u001b[49m\u001b[43mkws\u001b[49m\u001b[43m)\u001b[49m\n",
      "\u001b[36mFile \u001b[39m\u001b[32m/scratch/e1498138/anaconda3/envs/fewnew/lib/python3.12/site-packages/numba/core/types/functions.py:538\u001b[39m, in \u001b[36mDispatcher.get_call_type\u001b[39m\u001b[34m(self, context, args, kws)\u001b[39m\n\u001b[32m    531\u001b[39m \u001b[38;5;28;01mdef\u001b[39;00m\u001b[38;5;250m \u001b[39m\u001b[34mget_call_type\u001b[39m(\u001b[38;5;28mself\u001b[39m, context, args, kws):\n\u001b[32m    532\u001b[39m \u001b[38;5;250m    \u001b[39m\u001b[33;03m\"\"\"\u001b[39;00m\n\u001b[32m    533\u001b[39m \u001b[33;03m    Resolve a call to this dispatcher using the given argument types.\u001b[39;00m\n\u001b[32m    534\u001b[39m \u001b[33;03m    A signature returned and it is ensured that a compiled specialization\u001b[39;00m\n\u001b[32m    535\u001b[39m \u001b[33;03m    is available for it.\u001b[39;00m\n\u001b[32m    536\u001b[39m \u001b[33;03m    \"\"\"\u001b[39;00m\n\u001b[32m    537\u001b[39m     template, pysig, args, kws = \\\n\u001b[32m--> \u001b[39m\u001b[32m538\u001b[39m         \u001b[38;5;28;43mself\u001b[39;49m\u001b[43m.\u001b[49m\u001b[43mdispatcher\u001b[49m\u001b[43m.\u001b[49m\u001b[43mget_call_template\u001b[49m\u001b[43m(\u001b[49m\u001b[43margs\u001b[49m\u001b[43m,\u001b[49m\u001b[43m \u001b[49m\u001b[43mkws\u001b[49m\u001b[43m)\u001b[49m\n\u001b[32m    539\u001b[39m     sig = template(context).apply(args, kws)\n\u001b[32m    540\u001b[39m     \u001b[38;5;28;01mif\u001b[39;00m sig:\n",
      "\u001b[36mFile \u001b[39m\u001b[32m/scratch/e1498138/anaconda3/envs/fewnew/lib/python3.12/site-packages/numba/cuda/dispatcher.py:849\u001b[39m, in \u001b[36mCUDADispatcher.get_call_template\u001b[39m\u001b[34m(self, args, kws)\u001b[39m\n\u001b[32m    845\u001b[39m \u001b[38;5;66;03m# Ensure an exactly-matching overload is available if we can\u001b[39;00m\n\u001b[32m    846\u001b[39m \u001b[38;5;66;03m# compile. We proceed with the typing even if we can't compile\u001b[39;00m\n\u001b[32m    847\u001b[39m \u001b[38;5;66;03m# because we may be able to force a cast on the caller side.\u001b[39;00m\n\u001b[32m    848\u001b[39m \u001b[38;5;28;01mif\u001b[39;00m \u001b[38;5;28mself\u001b[39m._can_compile:\n\u001b[32m--> \u001b[39m\u001b[32m849\u001b[39m     \u001b[38;5;28;43mself\u001b[39;49m\u001b[43m.\u001b[49m\u001b[43mcompile_device\u001b[49m\u001b[43m(\u001b[49m\u001b[38;5;28;43mtuple\u001b[39;49m\u001b[43m(\u001b[49m\u001b[43margs\u001b[49m\u001b[43m)\u001b[49m\u001b[43m)\u001b[49m\n\u001b[32m    851\u001b[39m \u001b[38;5;66;03m# Create function type for typing\u001b[39;00m\n\u001b[32m    852\u001b[39m func_name = \u001b[38;5;28mself\u001b[39m.py_func.\u001b[34m__name__\u001b[39m\n",
      "\u001b[36mFile \u001b[39m\u001b[32m/scratch/e1498138/anaconda3/envs/fewnew/lib/python3.12/site-packages/numba/cuda/dispatcher.py:883\u001b[39m, in \u001b[36mCUDADispatcher.compile_device\u001b[39m\u001b[34m(self, args, return_type)\u001b[39m\n\u001b[32m    877\u001b[39m nvvm_options = {\n\u001b[32m    878\u001b[39m     \u001b[33m'\u001b[39m\u001b[33mopt\u001b[39m\u001b[33m'\u001b[39m: \u001b[32m3\u001b[39m \u001b[38;5;28;01mif\u001b[39;00m \u001b[38;5;28mself\u001b[39m.targetoptions.get(\u001b[33m'\u001b[39m\u001b[33mopt\u001b[39m\u001b[33m'\u001b[39m) \u001b[38;5;28;01melse\u001b[39;00m \u001b[32m0\u001b[39m,\n\u001b[32m    879\u001b[39m     \u001b[33m'\u001b[39m\u001b[33mfastmath\u001b[39m\u001b[33m'\u001b[39m: fastmath\n\u001b[32m    880\u001b[39m }\n\u001b[32m    882\u001b[39m cc = get_current_device().compute_capability\n\u001b[32m--> \u001b[39m\u001b[32m883\u001b[39m cres = \u001b[43mcompile_cuda\u001b[49m\u001b[43m(\u001b[49m\u001b[38;5;28;43mself\u001b[39;49m\u001b[43m.\u001b[49m\u001b[43mpy_func\u001b[49m\u001b[43m,\u001b[49m\u001b[43m \u001b[49m\u001b[43mreturn_type\u001b[49m\u001b[43m,\u001b[49m\u001b[43m \u001b[49m\u001b[43margs\u001b[49m\u001b[43m,\u001b[49m\n\u001b[32m    884\u001b[39m \u001b[43m                    \u001b[49m\u001b[43mdebug\u001b[49m\u001b[43m=\u001b[49m\u001b[43mdebug\u001b[49m\u001b[43m,\u001b[49m\n\u001b[32m    885\u001b[39m \u001b[43m                    \u001b[49m\u001b[43mlineinfo\u001b[49m\u001b[43m=\u001b[49m\u001b[43mlineinfo\u001b[49m\u001b[43m,\u001b[49m\n\u001b[32m    886\u001b[39m \u001b[43m                    \u001b[49m\u001b[43minline\u001b[49m\u001b[43m=\u001b[49m\u001b[43minline\u001b[49m\u001b[43m,\u001b[49m\n\u001b[32m    887\u001b[39m \u001b[43m                    \u001b[49m\u001b[43mfastmath\u001b[49m\u001b[43m=\u001b[49m\u001b[43mfastmath\u001b[49m\u001b[43m,\u001b[49m\n\u001b[32m    888\u001b[39m \u001b[43m                    \u001b[49m\u001b[43mnvvm_options\u001b[49m\u001b[43m=\u001b[49m\u001b[43mnvvm_options\u001b[49m\u001b[43m,\u001b[49m\n\u001b[32m    889\u001b[39m \u001b[43m                    \u001b[49m\u001b[43mcc\u001b[49m\u001b[43m=\u001b[49m\u001b[43mcc\u001b[49m\u001b[43m)\u001b[49m\n\u001b[32m    890\u001b[39m \u001b[38;5;28mself\u001b[39m.overloads[args] = cres\n\u001b[32m    892\u001b[39m cres.target_context.insert_user_function(cres.entry_point,\n\u001b[32m    893\u001b[39m                                          cres.fndesc,\n\u001b[32m    894\u001b[39m                                          [cres.library])\n",
      "\u001b[36mFile \u001b[39m\u001b[32m/scratch/e1498138/anaconda3/envs/fewnew/lib/python3.12/site-packages/numba/core/compiler_lock.py:35\u001b[39m, in \u001b[36m_CompilerLock.__call__.<locals>._acquire_compile_lock\u001b[39m\u001b[34m(*args, **kwargs)\u001b[39m\n\u001b[32m     32\u001b[39m \u001b[38;5;129m@functools\u001b[39m.wraps(func)\n\u001b[32m     33\u001b[39m \u001b[38;5;28;01mdef\u001b[39;00m\u001b[38;5;250m \u001b[39m\u001b[34m_acquire_compile_lock\u001b[39m(*args, **kwargs):\n\u001b[32m     34\u001b[39m     \u001b[38;5;28;01mwith\u001b[39;00m \u001b[38;5;28mself\u001b[39m:\n\u001b[32m---> \u001b[39m\u001b[32m35\u001b[39m         \u001b[38;5;28;01mreturn\u001b[39;00m \u001b[43mfunc\u001b[49m\u001b[43m(\u001b[49m\u001b[43m*\u001b[49m\u001b[43margs\u001b[49m\u001b[43m,\u001b[49m\u001b[43m \u001b[49m\u001b[43m*\u001b[49m\u001b[43m*\u001b[49m\u001b[43mkwargs\u001b[49m\u001b[43m)\u001b[49m\n",
      "\u001b[36mFile \u001b[39m\u001b[32m/scratch/e1498138/anaconda3/envs/fewnew/lib/python3.12/site-packages/numba/cuda/compiler.py:196\u001b[39m, in \u001b[36mcompile_cuda\u001b[39m\u001b[34m(pyfunc, return_type, args, debug, lineinfo, inline, fastmath, nvvm_options, cc)\u001b[39m\n\u001b[32m    194\u001b[39m \u001b[38;5;28;01mfrom\u001b[39;00m\u001b[38;5;250m \u001b[39m\u001b[34;01mnumba\u001b[39;00m\u001b[34;01m.\u001b[39;00m\u001b[34;01mcore\u001b[39;00m\u001b[34;01m.\u001b[39;00m\u001b[34;01mtarget_extension\u001b[39;00m\u001b[38;5;250m \u001b[39m\u001b[38;5;28;01mimport\u001b[39;00m target_override\n\u001b[32m    195\u001b[39m \u001b[38;5;28;01mwith\u001b[39;00m target_override(\u001b[33m'\u001b[39m\u001b[33mcuda\u001b[39m\u001b[33m'\u001b[39m):\n\u001b[32m--> \u001b[39m\u001b[32m196\u001b[39m     cres = \u001b[43mcompiler\u001b[49m\u001b[43m.\u001b[49m\u001b[43mcompile_extra\u001b[49m\u001b[43m(\u001b[49m\u001b[43mtypingctx\u001b[49m\u001b[43m=\u001b[49m\u001b[43mtypingctx\u001b[49m\u001b[43m,\u001b[49m\n\u001b[32m    197\u001b[39m \u001b[43m                                  \u001b[49m\u001b[43mtargetctx\u001b[49m\u001b[43m=\u001b[49m\u001b[43mtargetctx\u001b[49m\u001b[43m,\u001b[49m\n\u001b[32m    198\u001b[39m \u001b[43m                                  \u001b[49m\u001b[43mfunc\u001b[49m\u001b[43m=\u001b[49m\u001b[43mpyfunc\u001b[49m\u001b[43m,\u001b[49m\n\u001b[32m    199\u001b[39m \u001b[43m                                  \u001b[49m\u001b[43margs\u001b[49m\u001b[43m=\u001b[49m\u001b[43margs\u001b[49m\u001b[43m,\u001b[49m\n\u001b[32m    200\u001b[39m \u001b[43m                                  \u001b[49m\u001b[43mreturn_type\u001b[49m\u001b[43m=\u001b[49m\u001b[43mreturn_type\u001b[49m\u001b[43m,\u001b[49m\n\u001b[32m    201\u001b[39m \u001b[43m                                  \u001b[49m\u001b[43mflags\u001b[49m\u001b[43m=\u001b[49m\u001b[43mflags\u001b[49m\u001b[43m,\u001b[49m\n\u001b[32m    202\u001b[39m \u001b[43m                                  \u001b[49m\u001b[38;5;28;43mlocals\u001b[39;49m\u001b[43m=\u001b[49m\u001b[43m{\u001b[49m\u001b[43m}\u001b[49m\u001b[43m,\u001b[49m\n\u001b[32m    203\u001b[39m \u001b[43m                                  \u001b[49m\u001b[43mpipeline_class\u001b[49m\u001b[43m=\u001b[49m\u001b[43mCUDACompiler\u001b[49m\u001b[43m)\u001b[49m\n\u001b[32m    205\u001b[39m library = cres.library\n\u001b[32m    206\u001b[39m library.finalize()\n",
      "\u001b[36mFile \u001b[39m\u001b[32m/scratch/e1498138/anaconda3/envs/fewnew/lib/python3.12/site-packages/numba/core/compiler.py:739\u001b[39m, in \u001b[36mcompile_extra\u001b[39m\u001b[34m(typingctx, targetctx, func, args, return_type, flags, locals, library, pipeline_class)\u001b[39m\n\u001b[32m    715\u001b[39m \u001b[38;5;250m\u001b[39m\u001b[33;03m\"\"\"Compiler entry point\u001b[39;00m\n\u001b[32m    716\u001b[39m \n\u001b[32m    717\u001b[39m \u001b[33;03mParameter\u001b[39;00m\n\u001b[32m   (...)\u001b[39m\u001b[32m    735\u001b[39m \u001b[33;03m    compiler pipeline\u001b[39;00m\n\u001b[32m    736\u001b[39m \u001b[33;03m\"\"\"\u001b[39;00m\n\u001b[32m    737\u001b[39m pipeline = pipeline_class(typingctx, targetctx, library,\n\u001b[32m    738\u001b[39m                           args, return_type, flags, \u001b[38;5;28mlocals\u001b[39m)\n\u001b[32m--> \u001b[39m\u001b[32m739\u001b[39m \u001b[38;5;28;01mreturn\u001b[39;00m \u001b[43mpipeline\u001b[49m\u001b[43m.\u001b[49m\u001b[43mcompile_extra\u001b[49m\u001b[43m(\u001b[49m\u001b[43mfunc\u001b[49m\u001b[43m)\u001b[49m\n",
      "\u001b[36mFile \u001b[39m\u001b[32m/scratch/e1498138/anaconda3/envs/fewnew/lib/python3.12/site-packages/numba/core/compiler.py:439\u001b[39m, in \u001b[36mCompilerBase.compile_extra\u001b[39m\u001b[34m(self, func)\u001b[39m\n\u001b[32m    437\u001b[39m \u001b[38;5;28mself\u001b[39m.state.lifted = ()\n\u001b[32m    438\u001b[39m \u001b[38;5;28mself\u001b[39m.state.lifted_from = \u001b[38;5;28;01mNone\u001b[39;00m\n\u001b[32m--> \u001b[39m\u001b[32m439\u001b[39m \u001b[38;5;28;01mreturn\u001b[39;00m \u001b[38;5;28;43mself\u001b[39;49m\u001b[43m.\u001b[49m\u001b[43m_compile_bytecode\u001b[49m\u001b[43m(\u001b[49m\u001b[43m)\u001b[49m\n",
      "\u001b[36mFile \u001b[39m\u001b[32m/scratch/e1498138/anaconda3/envs/fewnew/lib/python3.12/site-packages/numba/core/compiler.py:505\u001b[39m, in \u001b[36mCompilerBase._compile_bytecode\u001b[39m\u001b[34m(self)\u001b[39m\n\u001b[32m    501\u001b[39m \u001b[38;5;250m\u001b[39m\u001b[33;03m\"\"\"\u001b[39;00m\n\u001b[32m    502\u001b[39m \u001b[33;03mPopulate and run pipeline for bytecode input\u001b[39;00m\n\u001b[32m    503\u001b[39m \u001b[33;03m\"\"\"\u001b[39;00m\n\u001b[32m    504\u001b[39m \u001b[38;5;28;01massert\u001b[39;00m \u001b[38;5;28mself\u001b[39m.state.func_ir \u001b[38;5;129;01mis\u001b[39;00m \u001b[38;5;28;01mNone\u001b[39;00m\n\u001b[32m--> \u001b[39m\u001b[32m505\u001b[39m \u001b[38;5;28;01mreturn\u001b[39;00m \u001b[38;5;28;43mself\u001b[39;49m\u001b[43m.\u001b[49m\u001b[43m_compile_core\u001b[49m\u001b[43m(\u001b[49m\u001b[43m)\u001b[49m\n",
      "\u001b[36mFile \u001b[39m\u001b[32m/scratch/e1498138/anaconda3/envs/fewnew/lib/python3.12/site-packages/numba/core/compiler.py:481\u001b[39m, in \u001b[36mCompilerBase._compile_core\u001b[39m\u001b[34m(self)\u001b[39m\n\u001b[32m    479\u001b[39m \u001b[38;5;28;01mexcept\u001b[39;00m \u001b[38;5;167;01mException\u001b[39;00m \u001b[38;5;28;01mas\u001b[39;00m e:\n\u001b[32m    480\u001b[39m     \u001b[38;5;28;01mif\u001b[39;00m \u001b[38;5;129;01mnot\u001b[39;00m \u001b[38;5;28misinstance\u001b[39m(e, errors.NumbaError):\n\u001b[32m--> \u001b[39m\u001b[32m481\u001b[39m         \u001b[38;5;28;01mraise\u001b[39;00m e\n\u001b[32m    482\u001b[39m     \u001b[38;5;28mself\u001b[39m.state.status.fail_reason = e\n\u001b[32m    483\u001b[39m     \u001b[38;5;28;01mif\u001b[39;00m is_final_pipeline:\n",
      "\u001b[36mFile \u001b[39m\u001b[32m/scratch/e1498138/anaconda3/envs/fewnew/lib/python3.12/site-packages/numba/core/compiler.py:473\u001b[39m, in \u001b[36mCompilerBase._compile_core\u001b[39m\u001b[34m(self)\u001b[39m\n\u001b[32m    471\u001b[39m res = \u001b[38;5;28;01mNone\u001b[39;00m\n\u001b[32m    472\u001b[39m \u001b[38;5;28;01mtry\u001b[39;00m:\n\u001b[32m--> \u001b[39m\u001b[32m473\u001b[39m     \u001b[43mpm\u001b[49m\u001b[43m.\u001b[49m\u001b[43mrun\u001b[49m\u001b[43m(\u001b[49m\u001b[38;5;28;43mself\u001b[39;49m\u001b[43m.\u001b[49m\u001b[43mstate\u001b[49m\u001b[43m)\u001b[49m\n\u001b[32m    474\u001b[39m     \u001b[38;5;28;01mif\u001b[39;00m \u001b[38;5;28mself\u001b[39m.state.cr \u001b[38;5;129;01mis\u001b[39;00m \u001b[38;5;129;01mnot\u001b[39;00m \u001b[38;5;28;01mNone\u001b[39;00m:\n\u001b[32m    475\u001b[39m         \u001b[38;5;28;01mbreak\u001b[39;00m\n",
      "\u001b[36mFile \u001b[39m\u001b[32m/scratch/e1498138/anaconda3/envs/fewnew/lib/python3.12/site-packages/numba/core/compiler_machinery.py:363\u001b[39m, in \u001b[36mPassManager.run\u001b[39m\u001b[34m(self, state)\u001b[39m\n\u001b[32m    361\u001b[39m \u001b[38;5;28;01mexcept\u001b[39;00m \u001b[38;5;167;01mException\u001b[39;00m \u001b[38;5;28;01mas\u001b[39;00m e:\n\u001b[32m    362\u001b[39m     \u001b[38;5;28;01mif\u001b[39;00m \u001b[38;5;129;01mnot\u001b[39;00m \u001b[38;5;28misinstance\u001b[39m(e, errors.NumbaError):\n\u001b[32m--> \u001b[39m\u001b[32m363\u001b[39m         \u001b[38;5;28;01mraise\u001b[39;00m e\n\u001b[32m    364\u001b[39m     msg = \u001b[33m\"\u001b[39m\u001b[33mFailed in \u001b[39m\u001b[38;5;132;01m%s\u001b[39;00m\u001b[33m mode pipeline (step: \u001b[39m\u001b[38;5;132;01m%s\u001b[39;00m\u001b[33m)\u001b[39m\u001b[33m\"\u001b[39m % \\\n\u001b[32m    365\u001b[39m         (\u001b[38;5;28mself\u001b[39m.pipeline_name, pass_desc)\n\u001b[32m    366\u001b[39m     patched_exception = \u001b[38;5;28mself\u001b[39m._patch_error(msg, e)\n",
      "\u001b[36mFile \u001b[39m\u001b[32m/scratch/e1498138/anaconda3/envs/fewnew/lib/python3.12/site-packages/numba/core/compiler_machinery.py:356\u001b[39m, in \u001b[36mPassManager.run\u001b[39m\u001b[34m(self, state)\u001b[39m\n\u001b[32m    354\u001b[39m pass_inst = _pass_registry.get(pss).pass_inst\n\u001b[32m    355\u001b[39m \u001b[38;5;28;01mif\u001b[39;00m \u001b[38;5;28misinstance\u001b[39m(pass_inst, CompilerPass):\n\u001b[32m--> \u001b[39m\u001b[32m356\u001b[39m     \u001b[38;5;28;43mself\u001b[39;49m\u001b[43m.\u001b[49m\u001b[43m_runPass\u001b[49m\u001b[43m(\u001b[49m\u001b[43midx\u001b[49m\u001b[43m,\u001b[49m\u001b[43m \u001b[49m\u001b[43mpass_inst\u001b[49m\u001b[43m,\u001b[49m\u001b[43m \u001b[49m\u001b[43mstate\u001b[49m\u001b[43m)\u001b[49m\n\u001b[32m    357\u001b[39m \u001b[38;5;28;01melse\u001b[39;00m:\n\u001b[32m    358\u001b[39m     \u001b[38;5;28;01mraise\u001b[39;00m \u001b[38;5;167;01mBaseException\u001b[39;00m(\u001b[33m\"\u001b[39m\u001b[33mLegacy pass in use\u001b[39m\u001b[33m\"\u001b[39m)\n",
      "\u001b[36mFile \u001b[39m\u001b[32m/scratch/e1498138/anaconda3/envs/fewnew/lib/python3.12/site-packages/numba/core/compiler_lock.py:35\u001b[39m, in \u001b[36m_CompilerLock.__call__.<locals>._acquire_compile_lock\u001b[39m\u001b[34m(*args, **kwargs)\u001b[39m\n\u001b[32m     32\u001b[39m \u001b[38;5;129m@functools\u001b[39m.wraps(func)\n\u001b[32m     33\u001b[39m \u001b[38;5;28;01mdef\u001b[39;00m\u001b[38;5;250m \u001b[39m\u001b[34m_acquire_compile_lock\u001b[39m(*args, **kwargs):\n\u001b[32m     34\u001b[39m     \u001b[38;5;28;01mwith\u001b[39;00m \u001b[38;5;28mself\u001b[39m:\n\u001b[32m---> \u001b[39m\u001b[32m35\u001b[39m         \u001b[38;5;28;01mreturn\u001b[39;00m \u001b[43mfunc\u001b[49m\u001b[43m(\u001b[49m\u001b[43m*\u001b[49m\u001b[43margs\u001b[49m\u001b[43m,\u001b[49m\u001b[43m \u001b[49m\u001b[43m*\u001b[49m\u001b[43m*\u001b[49m\u001b[43mkwargs\u001b[49m\u001b[43m)\u001b[49m\n",
      "\u001b[36mFile \u001b[39m\u001b[32m/scratch/e1498138/anaconda3/envs/fewnew/lib/python3.12/site-packages/numba/core/compiler_machinery.py:311\u001b[39m, in \u001b[36mPassManager._runPass\u001b[39m\u001b[34m(self, index, pss, internal_state)\u001b[39m\n\u001b[32m    309\u001b[39m     mutated |= check(pss.run_initialization, internal_state)\n\u001b[32m    310\u001b[39m \u001b[38;5;28;01mwith\u001b[39;00m SimpleTimer() \u001b[38;5;28;01mas\u001b[39;00m pass_time:\n\u001b[32m--> \u001b[39m\u001b[32m311\u001b[39m     mutated |= \u001b[43mcheck\u001b[49m\u001b[43m(\u001b[49m\u001b[43mpss\u001b[49m\u001b[43m.\u001b[49m\u001b[43mrun_pass\u001b[49m\u001b[43m,\u001b[49m\u001b[43m \u001b[49m\u001b[43minternal_state\u001b[49m\u001b[43m)\u001b[49m\n\u001b[32m    312\u001b[39m \u001b[38;5;28;01mwith\u001b[39;00m SimpleTimer() \u001b[38;5;28;01mas\u001b[39;00m finalize_time:\n\u001b[32m    313\u001b[39m     mutated |= check(pss.run_finalizer, internal_state)\n",
      "\u001b[36mFile \u001b[39m\u001b[32m/scratch/e1498138/anaconda3/envs/fewnew/lib/python3.12/site-packages/numba/core/compiler_machinery.py:272\u001b[39m, in \u001b[36mPassManager._runPass.<locals>.check\u001b[39m\u001b[34m(func, compiler_state)\u001b[39m\n\u001b[32m    271\u001b[39m \u001b[38;5;28;01mdef\u001b[39;00m\u001b[38;5;250m \u001b[39m\u001b[34mcheck\u001b[39m(func, compiler_state):\n\u001b[32m--> \u001b[39m\u001b[32m272\u001b[39m     mangled = \u001b[43mfunc\u001b[49m\u001b[43m(\u001b[49m\u001b[43mcompiler_state\u001b[49m\u001b[43m)\u001b[49m\n\u001b[32m    273\u001b[39m     \u001b[38;5;28;01mif\u001b[39;00m mangled \u001b[38;5;129;01mnot\u001b[39;00m \u001b[38;5;129;01min\u001b[39;00m (\u001b[38;5;28;01mTrue\u001b[39;00m, \u001b[38;5;28;01mFalse\u001b[39;00m):\n\u001b[32m    274\u001b[39m         msg = (\u001b[33m\"\u001b[39m\u001b[33mCompilerPass implementations should return True/False. \u001b[39m\u001b[33m\"\u001b[39m\n\u001b[32m    275\u001b[39m                \u001b[33m\"\u001b[39m\u001b[33mCompilerPass with name \u001b[39m\u001b[33m'\u001b[39m\u001b[38;5;132;01m%s\u001b[39;00m\u001b[33m'\u001b[39m\u001b[33m did not.\u001b[39m\u001b[33m\"\u001b[39m)\n",
      "\u001b[36mFile \u001b[39m\u001b[32m/scratch/e1498138/anaconda3/envs/fewnew/lib/python3.12/site-packages/numba/core/typed_passes.py:112\u001b[39m, in \u001b[36mBaseTypeInference.run_pass\u001b[39m\u001b[34m(self, state)\u001b[39m\n\u001b[32m    106\u001b[39m \u001b[38;5;250m\u001b[39m\u001b[33;03m\"\"\"\u001b[39;00m\n\u001b[32m    107\u001b[39m \u001b[33;03mType inference and legalization\u001b[39;00m\n\u001b[32m    108\u001b[39m \u001b[33;03m\"\"\"\u001b[39;00m\n\u001b[32m    109\u001b[39m \u001b[38;5;28;01mwith\u001b[39;00m fallback_context(state, \u001b[33m'\u001b[39m\u001b[33mFunction \u001b[39m\u001b[33m\"\u001b[39m\u001b[38;5;132;01m%s\u001b[39;00m\u001b[33m\"\u001b[39m\u001b[33m failed type inference\u001b[39m\u001b[33m'\u001b[39m\n\u001b[32m    110\u001b[39m                       % (state.func_id.func_name,)):\n\u001b[32m    111\u001b[39m     \u001b[38;5;66;03m# Type inference\u001b[39;00m\n\u001b[32m--> \u001b[39m\u001b[32m112\u001b[39m     typemap, return_type, calltypes, errs = \u001b[43mtype_inference_stage\u001b[49m\u001b[43m(\u001b[49m\n\u001b[32m    113\u001b[39m \u001b[43m        \u001b[49m\u001b[43mstate\u001b[49m\u001b[43m.\u001b[49m\u001b[43mtypingctx\u001b[49m\u001b[43m,\u001b[49m\n\u001b[32m    114\u001b[39m \u001b[43m        \u001b[49m\u001b[43mstate\u001b[49m\u001b[43m.\u001b[49m\u001b[43mtargetctx\u001b[49m\u001b[43m,\u001b[49m\n\u001b[32m    115\u001b[39m \u001b[43m        \u001b[49m\u001b[43mstate\u001b[49m\u001b[43m.\u001b[49m\u001b[43mfunc_ir\u001b[49m\u001b[43m,\u001b[49m\n\u001b[32m    116\u001b[39m \u001b[43m        \u001b[49m\u001b[43mstate\u001b[49m\u001b[43m.\u001b[49m\u001b[43margs\u001b[49m\u001b[43m,\u001b[49m\n\u001b[32m    117\u001b[39m \u001b[43m        \u001b[49m\u001b[43mstate\u001b[49m\u001b[43m.\u001b[49m\u001b[43mreturn_type\u001b[49m\u001b[43m,\u001b[49m\n\u001b[32m    118\u001b[39m \u001b[43m        \u001b[49m\u001b[43mstate\u001b[49m\u001b[43m.\u001b[49m\u001b[43mlocals\u001b[49m\u001b[43m,\u001b[49m\n\u001b[32m    119\u001b[39m \u001b[43m        \u001b[49m\u001b[43mraise_errors\u001b[49m\u001b[43m=\u001b[49m\u001b[38;5;28;43mself\u001b[39;49m\u001b[43m.\u001b[49m\u001b[43m_raise_errors\u001b[49m\u001b[43m)\u001b[49m\n\u001b[32m    120\u001b[39m     state.typemap = typemap\n\u001b[32m    121\u001b[39m     \u001b[38;5;66;03m# save errors in case of partial typing\u001b[39;00m\n",
      "\u001b[36mFile \u001b[39m\u001b[32m/scratch/e1498138/anaconda3/envs/fewnew/lib/python3.12/site-packages/numba/core/typed_passes.py:93\u001b[39m, in \u001b[36mtype_inference_stage\u001b[39m\u001b[34m(typingctx, targetctx, interp, args, return_type, locals, raise_errors)\u001b[39m\n\u001b[32m     91\u001b[39m     infer.build_constraint()\n\u001b[32m     92\u001b[39m     \u001b[38;5;66;03m# return errors in case of partial typing\u001b[39;00m\n\u001b[32m---> \u001b[39m\u001b[32m93\u001b[39m     errs = \u001b[43minfer\u001b[49m\u001b[43m.\u001b[49m\u001b[43mpropagate\u001b[49m\u001b[43m(\u001b[49m\u001b[43mraise_errors\u001b[49m\u001b[43m=\u001b[49m\u001b[43mraise_errors\u001b[49m\u001b[43m)\u001b[49m\n\u001b[32m     94\u001b[39m     typemap, restype, calltypes = infer.unify(raise_errors=raise_errors)\n\u001b[32m     96\u001b[39m \u001b[38;5;28;01mreturn\u001b[39;00m _TypingResults(typemap, restype, calltypes, errs)\n",
      "\u001b[36mFile \u001b[39m\u001b[32m/scratch/e1498138/anaconda3/envs/fewnew/lib/python3.12/site-packages/numba/core/typeinfer.py:1066\u001b[39m, in \u001b[36mTypeInferer.propagate\u001b[39m\u001b[34m(self, raise_errors)\u001b[39m\n\u001b[32m   1063\u001b[39m oldtoken = newtoken\n\u001b[32m   1064\u001b[39m \u001b[38;5;66;03m# Errors can appear when the type set is incomplete; only\u001b[39;00m\n\u001b[32m   1065\u001b[39m \u001b[38;5;66;03m# raise them when there is no progress anymore.\u001b[39;00m\n\u001b[32m-> \u001b[39m\u001b[32m1066\u001b[39m errors = \u001b[38;5;28;43mself\u001b[39;49m\u001b[43m.\u001b[49m\u001b[43mconstraints\u001b[49m\u001b[43m.\u001b[49m\u001b[43mpropagate\u001b[49m\u001b[43m(\u001b[49m\u001b[38;5;28;43mself\u001b[39;49m\u001b[43m)\u001b[49m\n\u001b[32m   1067\u001b[39m newtoken = \u001b[38;5;28mself\u001b[39m.get_state_token()\n\u001b[32m   1068\u001b[39m \u001b[38;5;28mself\u001b[39m.debug.propagate_finished()\n",
      "\u001b[36mFile \u001b[39m\u001b[32m/scratch/e1498138/anaconda3/envs/fewnew/lib/python3.12/site-packages/numba/core/typeinfer.py:160\u001b[39m, in \u001b[36mConstraintNetwork.propagate\u001b[39m\u001b[34m(self, typeinfer)\u001b[39m\n\u001b[32m    157\u001b[39m \u001b[38;5;28;01mwith\u001b[39;00m typeinfer.warnings.catch_warnings(filename=loc.filename,\n\u001b[32m    158\u001b[39m                                        lineno=loc.line):\n\u001b[32m    159\u001b[39m     \u001b[38;5;28;01mtry\u001b[39;00m:\n\u001b[32m--> \u001b[39m\u001b[32m160\u001b[39m         \u001b[43mconstraint\u001b[49m\u001b[43m(\u001b[49m\u001b[43mtypeinfer\u001b[49m\u001b[43m)\u001b[49m\n\u001b[32m    161\u001b[39m     \u001b[38;5;28;01mexcept\u001b[39;00m ForceLiteralArg \u001b[38;5;28;01mas\u001b[39;00m e:\n\u001b[32m    162\u001b[39m         errors.append(e)\n",
      "\u001b[36mFile \u001b[39m\u001b[32m/scratch/e1498138/anaconda3/envs/fewnew/lib/python3.12/site-packages/numba/core/typeinfer.py:566\u001b[39m, in \u001b[36mCallConstraint.__call__\u001b[39m\u001b[34m(self, typeinfer)\u001b[39m\n\u001b[32m    564\u001b[39m     fnty = typevars[\u001b[38;5;28mself\u001b[39m.func].getone()\n\u001b[32m    565\u001b[39m \u001b[38;5;28;01mwith\u001b[39;00m new_error_context(\u001b[33m\"\u001b[39m\u001b[33mresolving callee type: \u001b[39m\u001b[38;5;132;01m{0}\u001b[39;00m\u001b[33m\"\u001b[39m, fnty):\n\u001b[32m--> \u001b[39m\u001b[32m566\u001b[39m     \u001b[38;5;28;43mself\u001b[39;49m\u001b[43m.\u001b[49m\u001b[43mresolve\u001b[49m\u001b[43m(\u001b[49m\u001b[43mtypeinfer\u001b[49m\u001b[43m,\u001b[49m\u001b[43m \u001b[49m\u001b[43mtypevars\u001b[49m\u001b[43m,\u001b[49m\u001b[43m \u001b[49m\u001b[43mfnty\u001b[49m\u001b[43m)\u001b[49m\n",
      "\u001b[36mFile \u001b[39m\u001b[32m/scratch/e1498138/anaconda3/envs/fewnew/lib/python3.12/site-packages/numba/core/typeinfer.py:589\u001b[39m, in \u001b[36mCallConstraint.resolve\u001b[39m\u001b[34m(self, typeinfer, typevars, fnty)\u001b[39m\n\u001b[32m    587\u001b[39m     fnty = fnty.instance_type\n\u001b[32m    588\u001b[39m \u001b[38;5;28;01mtry\u001b[39;00m:\n\u001b[32m--> \u001b[39m\u001b[32m589\u001b[39m     sig = \u001b[43mtypeinfer\u001b[49m\u001b[43m.\u001b[49m\u001b[43mresolve_call\u001b[49m\u001b[43m(\u001b[49m\u001b[43mfnty\u001b[49m\u001b[43m,\u001b[49m\u001b[43m \u001b[49m\u001b[43mpos_args\u001b[49m\u001b[43m,\u001b[49m\u001b[43m \u001b[49m\u001b[43mkw_args\u001b[49m\u001b[43m)\u001b[49m\n\u001b[32m    590\u001b[39m \u001b[38;5;28;01mexcept\u001b[39;00m ForceLiteralArg \u001b[38;5;28;01mas\u001b[39;00m e:\n\u001b[32m    591\u001b[39m     \u001b[38;5;66;03m# Adjust for bound methods\u001b[39;00m\n\u001b[32m    592\u001b[39m     folding_args = ((fnty.this,) + \u001b[38;5;28mtuple\u001b[39m(\u001b[38;5;28mself\u001b[39m.args)\n\u001b[32m    593\u001b[39m                     \u001b[38;5;28;01mif\u001b[39;00m \u001b[38;5;28misinstance\u001b[39m(fnty, types.BoundFunction)\n\u001b[32m    594\u001b[39m                     \u001b[38;5;28;01melse\u001b[39;00m \u001b[38;5;28mself\u001b[39m.args)\n",
      "\u001b[36mFile \u001b[39m\u001b[32m/scratch/e1498138/anaconda3/envs/fewnew/lib/python3.12/site-packages/numba/core/typeinfer.py:1560\u001b[39m, in \u001b[36mTypeInferer.resolve_call\u001b[39m\u001b[34m(self, fnty, pos_args, kw_args)\u001b[39m\n\u001b[32m   1557\u001b[39m     \u001b[38;5;28;01mreturn\u001b[39;00m sig\n\u001b[32m   1558\u001b[39m \u001b[38;5;28;01melse\u001b[39;00m:\n\u001b[32m   1559\u001b[39m     \u001b[38;5;66;03m# Normal non-recursive call\u001b[39;00m\n\u001b[32m-> \u001b[39m\u001b[32m1560\u001b[39m     \u001b[38;5;28;01mreturn\u001b[39;00m \u001b[38;5;28;43mself\u001b[39;49m\u001b[43m.\u001b[49m\u001b[43mcontext\u001b[49m\u001b[43m.\u001b[49m\u001b[43mresolve_function_type\u001b[49m\u001b[43m(\u001b[49m\u001b[43mfnty\u001b[49m\u001b[43m,\u001b[49m\u001b[43m \u001b[49m\u001b[43mpos_args\u001b[49m\u001b[43m,\u001b[49m\u001b[43m \u001b[49m\u001b[43mkw_args\u001b[49m\u001b[43m)\u001b[49m\n",
      "\u001b[36mFile \u001b[39m\u001b[32m/scratch/e1498138/anaconda3/envs/fewnew/lib/python3.12/site-packages/numba/core/typing/context.py:195\u001b[39m, in \u001b[36mBaseContext.resolve_function_type\u001b[39m\u001b[34m(self, func, args, kws)\u001b[39m\n\u001b[32m    193\u001b[39m \u001b[38;5;66;03m# Prefer user definition first\u001b[39;00m\n\u001b[32m    194\u001b[39m \u001b[38;5;28;01mtry\u001b[39;00m:\n\u001b[32m--> \u001b[39m\u001b[32m195\u001b[39m     res = \u001b[38;5;28;43mself\u001b[39;49m\u001b[43m.\u001b[49m\u001b[43m_resolve_user_function_type\u001b[49m\u001b[43m(\u001b[49m\u001b[43mfunc\u001b[49m\u001b[43m,\u001b[49m\u001b[43m \u001b[49m\u001b[43margs\u001b[49m\u001b[43m,\u001b[49m\u001b[43m \u001b[49m\u001b[43mkws\u001b[49m\u001b[43m)\u001b[49m\n\u001b[32m    196\u001b[39m \u001b[38;5;28;01mexcept\u001b[39;00m errors.TypingError \u001b[38;5;28;01mas\u001b[39;00m e:\n\u001b[32m    197\u001b[39m     \u001b[38;5;66;03m# Capture any typing error\u001b[39;00m\n\u001b[32m    198\u001b[39m     last_exception = e\n",
      "\u001b[36mFile \u001b[39m\u001b[32m/scratch/e1498138/anaconda3/envs/fewnew/lib/python3.12/site-packages/numba/core/typing/context.py:247\u001b[39m, in \u001b[36mBaseContext._resolve_user_function_type\u001b[39m\u001b[34m(self, func, args, kws, literals)\u001b[39m\n\u001b[32m    243\u001b[39m         \u001b[38;5;28;01mreturn\u001b[39;00m \u001b[38;5;28mself\u001b[39m.resolve_function_type(func_type, args, kws)\n\u001b[32m    245\u001b[39m \u001b[38;5;28;01mif\u001b[39;00m \u001b[38;5;28misinstance\u001b[39m(func, types.Callable):\n\u001b[32m    246\u001b[39m     \u001b[38;5;66;03m# XXX fold this into the __call__ attribute logic?\u001b[39;00m\n\u001b[32m--> \u001b[39m\u001b[32m247\u001b[39m     \u001b[38;5;28;01mreturn\u001b[39;00m \u001b[43mfunc\u001b[49m\u001b[43m.\u001b[49m\u001b[43mget_call_type\u001b[49m\u001b[43m(\u001b[49m\u001b[38;5;28;43mself\u001b[39;49m\u001b[43m,\u001b[49m\u001b[43m \u001b[49m\u001b[43margs\u001b[49m\u001b[43m,\u001b[49m\u001b[43m \u001b[49m\u001b[43mkws\u001b[49m\u001b[43m)\u001b[49m\n",
      "\u001b[36mFile \u001b[39m\u001b[32m/scratch/e1498138/anaconda3/envs/fewnew/lib/python3.12/site-packages/numba/core/types/functions.py:538\u001b[39m, in \u001b[36mDispatcher.get_call_type\u001b[39m\u001b[34m(self, context, args, kws)\u001b[39m\n\u001b[32m    531\u001b[39m \u001b[38;5;28;01mdef\u001b[39;00m\u001b[38;5;250m \u001b[39m\u001b[34mget_call_type\u001b[39m(\u001b[38;5;28mself\u001b[39m, context, args, kws):\n\u001b[32m    532\u001b[39m \u001b[38;5;250m    \u001b[39m\u001b[33;03m\"\"\"\u001b[39;00m\n\u001b[32m    533\u001b[39m \u001b[33;03m    Resolve a call to this dispatcher using the given argument types.\u001b[39;00m\n\u001b[32m    534\u001b[39m \u001b[33;03m    A signature returned and it is ensured that a compiled specialization\u001b[39;00m\n\u001b[32m    535\u001b[39m \u001b[33;03m    is available for it.\u001b[39;00m\n\u001b[32m    536\u001b[39m \u001b[33;03m    \"\"\"\u001b[39;00m\n\u001b[32m    537\u001b[39m     template, pysig, args, kws = \\\n\u001b[32m--> \u001b[39m\u001b[32m538\u001b[39m         \u001b[38;5;28;43mself\u001b[39;49m\u001b[43m.\u001b[49m\u001b[43mdispatcher\u001b[49m\u001b[43m.\u001b[49m\u001b[43mget_call_template\u001b[49m\u001b[43m(\u001b[49m\u001b[43margs\u001b[49m\u001b[43m,\u001b[49m\u001b[43m \u001b[49m\u001b[43mkws\u001b[49m\u001b[43m)\u001b[49m\n\u001b[32m    539\u001b[39m     sig = template(context).apply(args, kws)\n\u001b[32m    540\u001b[39m     \u001b[38;5;28;01mif\u001b[39;00m sig:\n",
      "\u001b[36mFile \u001b[39m\u001b[32m/scratch/e1498138/anaconda3/envs/fewnew/lib/python3.12/site-packages/numba/cuda/dispatcher.py:849\u001b[39m, in \u001b[36mCUDADispatcher.get_call_template\u001b[39m\u001b[34m(self, args, kws)\u001b[39m\n\u001b[32m    845\u001b[39m \u001b[38;5;66;03m# Ensure an exactly-matching overload is available if we can\u001b[39;00m\n\u001b[32m    846\u001b[39m \u001b[38;5;66;03m# compile. We proceed with the typing even if we can't compile\u001b[39;00m\n\u001b[32m    847\u001b[39m \u001b[38;5;66;03m# because we may be able to force a cast on the caller side.\u001b[39;00m\n\u001b[32m    848\u001b[39m \u001b[38;5;28;01mif\u001b[39;00m \u001b[38;5;28mself\u001b[39m._can_compile:\n\u001b[32m--> \u001b[39m\u001b[32m849\u001b[39m     \u001b[38;5;28;43mself\u001b[39;49m\u001b[43m.\u001b[49m\u001b[43mcompile_device\u001b[49m\u001b[43m(\u001b[49m\u001b[38;5;28;43mtuple\u001b[39;49m\u001b[43m(\u001b[49m\u001b[43margs\u001b[49m\u001b[43m)\u001b[49m\u001b[43m)\u001b[49m\n\u001b[32m    851\u001b[39m \u001b[38;5;66;03m# Create function type for typing\u001b[39;00m\n\u001b[32m    852\u001b[39m func_name = \u001b[38;5;28mself\u001b[39m.py_func.\u001b[34m__name__\u001b[39m\n",
      "\u001b[36mFile \u001b[39m\u001b[32m/scratch/e1498138/anaconda3/envs/fewnew/lib/python3.12/site-packages/numba/cuda/dispatcher.py:883\u001b[39m, in \u001b[36mCUDADispatcher.compile_device\u001b[39m\u001b[34m(self, args, return_type)\u001b[39m\n\u001b[32m    877\u001b[39m nvvm_options = {\n\u001b[32m    878\u001b[39m     \u001b[33m'\u001b[39m\u001b[33mopt\u001b[39m\u001b[33m'\u001b[39m: \u001b[32m3\u001b[39m \u001b[38;5;28;01mif\u001b[39;00m \u001b[38;5;28mself\u001b[39m.targetoptions.get(\u001b[33m'\u001b[39m\u001b[33mopt\u001b[39m\u001b[33m'\u001b[39m) \u001b[38;5;28;01melse\u001b[39;00m \u001b[32m0\u001b[39m,\n\u001b[32m    879\u001b[39m     \u001b[33m'\u001b[39m\u001b[33mfastmath\u001b[39m\u001b[33m'\u001b[39m: fastmath\n\u001b[32m    880\u001b[39m }\n\u001b[32m    882\u001b[39m cc = get_current_device().compute_capability\n\u001b[32m--> \u001b[39m\u001b[32m883\u001b[39m cres = \u001b[43mcompile_cuda\u001b[49m\u001b[43m(\u001b[49m\u001b[38;5;28;43mself\u001b[39;49m\u001b[43m.\u001b[49m\u001b[43mpy_func\u001b[49m\u001b[43m,\u001b[49m\u001b[43m \u001b[49m\u001b[43mreturn_type\u001b[49m\u001b[43m,\u001b[49m\u001b[43m \u001b[49m\u001b[43margs\u001b[49m\u001b[43m,\u001b[49m\n\u001b[32m    884\u001b[39m \u001b[43m                    \u001b[49m\u001b[43mdebug\u001b[49m\u001b[43m=\u001b[49m\u001b[43mdebug\u001b[49m\u001b[43m,\u001b[49m\n\u001b[32m    885\u001b[39m \u001b[43m                    \u001b[49m\u001b[43mlineinfo\u001b[49m\u001b[43m=\u001b[49m\u001b[43mlineinfo\u001b[49m\u001b[43m,\u001b[49m\n\u001b[32m    886\u001b[39m \u001b[43m                    \u001b[49m\u001b[43minline\u001b[49m\u001b[43m=\u001b[49m\u001b[43minline\u001b[49m\u001b[43m,\u001b[49m\n\u001b[32m    887\u001b[39m \u001b[43m                    \u001b[49m\u001b[43mfastmath\u001b[49m\u001b[43m=\u001b[49m\u001b[43mfastmath\u001b[49m\u001b[43m,\u001b[49m\n\u001b[32m    888\u001b[39m \u001b[43m                    \u001b[49m\u001b[43mnvvm_options\u001b[49m\u001b[43m=\u001b[49m\u001b[43mnvvm_options\u001b[49m\u001b[43m,\u001b[49m\n\u001b[32m    889\u001b[39m \u001b[43m                    \u001b[49m\u001b[43mcc\u001b[49m\u001b[43m=\u001b[49m\u001b[43mcc\u001b[49m\u001b[43m)\u001b[49m\n\u001b[32m    890\u001b[39m \u001b[38;5;28mself\u001b[39m.overloads[args] = cres\n\u001b[32m    892\u001b[39m cres.target_context.insert_user_function(cres.entry_point,\n\u001b[32m    893\u001b[39m                                          cres.fndesc,\n\u001b[32m    894\u001b[39m                                          [cres.library])\n",
      "\u001b[36mFile \u001b[39m\u001b[32m/scratch/e1498138/anaconda3/envs/fewnew/lib/python3.12/site-packages/numba/core/compiler_lock.py:35\u001b[39m, in \u001b[36m_CompilerLock.__call__.<locals>._acquire_compile_lock\u001b[39m\u001b[34m(*args, **kwargs)\u001b[39m\n\u001b[32m     32\u001b[39m \u001b[38;5;129m@functools\u001b[39m.wraps(func)\n\u001b[32m     33\u001b[39m \u001b[38;5;28;01mdef\u001b[39;00m\u001b[38;5;250m \u001b[39m\u001b[34m_acquire_compile_lock\u001b[39m(*args, **kwargs):\n\u001b[32m     34\u001b[39m     \u001b[38;5;28;01mwith\u001b[39;00m \u001b[38;5;28mself\u001b[39m:\n\u001b[32m---> \u001b[39m\u001b[32m35\u001b[39m         \u001b[38;5;28;01mreturn\u001b[39;00m \u001b[43mfunc\u001b[49m\u001b[43m(\u001b[49m\u001b[43m*\u001b[49m\u001b[43margs\u001b[49m\u001b[43m,\u001b[49m\u001b[43m \u001b[49m\u001b[43m*\u001b[49m\u001b[43m*\u001b[49m\u001b[43mkwargs\u001b[49m\u001b[43m)\u001b[49m\n",
      "\u001b[36mFile \u001b[39m\u001b[32m/scratch/e1498138/anaconda3/envs/fewnew/lib/python3.12/site-packages/numba/cuda/compiler.py:196\u001b[39m, in \u001b[36mcompile_cuda\u001b[39m\u001b[34m(pyfunc, return_type, args, debug, lineinfo, inline, fastmath, nvvm_options, cc)\u001b[39m\n\u001b[32m    194\u001b[39m \u001b[38;5;28;01mfrom\u001b[39;00m\u001b[38;5;250m \u001b[39m\u001b[34;01mnumba\u001b[39;00m\u001b[34;01m.\u001b[39;00m\u001b[34;01mcore\u001b[39;00m\u001b[34;01m.\u001b[39;00m\u001b[34;01mtarget_extension\u001b[39;00m\u001b[38;5;250m \u001b[39m\u001b[38;5;28;01mimport\u001b[39;00m target_override\n\u001b[32m    195\u001b[39m \u001b[38;5;28;01mwith\u001b[39;00m target_override(\u001b[33m'\u001b[39m\u001b[33mcuda\u001b[39m\u001b[33m'\u001b[39m):\n\u001b[32m--> \u001b[39m\u001b[32m196\u001b[39m     cres = \u001b[43mcompiler\u001b[49m\u001b[43m.\u001b[49m\u001b[43mcompile_extra\u001b[49m\u001b[43m(\u001b[49m\u001b[43mtypingctx\u001b[49m\u001b[43m=\u001b[49m\u001b[43mtypingctx\u001b[49m\u001b[43m,\u001b[49m\n\u001b[32m    197\u001b[39m \u001b[43m                                  \u001b[49m\u001b[43mtargetctx\u001b[49m\u001b[43m=\u001b[49m\u001b[43mtargetctx\u001b[49m\u001b[43m,\u001b[49m\n\u001b[32m    198\u001b[39m \u001b[43m                                  \u001b[49m\u001b[43mfunc\u001b[49m\u001b[43m=\u001b[49m\u001b[43mpyfunc\u001b[49m\u001b[43m,\u001b[49m\n\u001b[32m    199\u001b[39m \u001b[43m                                  \u001b[49m\u001b[43margs\u001b[49m\u001b[43m=\u001b[49m\u001b[43margs\u001b[49m\u001b[43m,\u001b[49m\n\u001b[32m    200\u001b[39m \u001b[43m                                  \u001b[49m\u001b[43mreturn_type\u001b[49m\u001b[43m=\u001b[49m\u001b[43mreturn_type\u001b[49m\u001b[43m,\u001b[49m\n\u001b[32m    201\u001b[39m \u001b[43m                                  \u001b[49m\u001b[43mflags\u001b[49m\u001b[43m=\u001b[49m\u001b[43mflags\u001b[49m\u001b[43m,\u001b[49m\n\u001b[32m    202\u001b[39m \u001b[43m                                  \u001b[49m\u001b[38;5;28;43mlocals\u001b[39;49m\u001b[43m=\u001b[49m\u001b[43m{\u001b[49m\u001b[43m}\u001b[49m\u001b[43m,\u001b[49m\n\u001b[32m    203\u001b[39m \u001b[43m                                  \u001b[49m\u001b[43mpipeline_class\u001b[49m\u001b[43m=\u001b[49m\u001b[43mCUDACompiler\u001b[49m\u001b[43m)\u001b[49m\n\u001b[32m    205\u001b[39m library = cres.library\n\u001b[32m    206\u001b[39m library.finalize()\n",
      "\u001b[36mFile \u001b[39m\u001b[32m/scratch/e1498138/anaconda3/envs/fewnew/lib/python3.12/site-packages/numba/core/compiler.py:739\u001b[39m, in \u001b[36mcompile_extra\u001b[39m\u001b[34m(typingctx, targetctx, func, args, return_type, flags, locals, library, pipeline_class)\u001b[39m\n\u001b[32m    715\u001b[39m \u001b[38;5;250m\u001b[39m\u001b[33;03m\"\"\"Compiler entry point\u001b[39;00m\n\u001b[32m    716\u001b[39m \n\u001b[32m    717\u001b[39m \u001b[33;03mParameter\u001b[39;00m\n\u001b[32m   (...)\u001b[39m\u001b[32m    735\u001b[39m \u001b[33;03m    compiler pipeline\u001b[39;00m\n\u001b[32m    736\u001b[39m \u001b[33;03m\"\"\"\u001b[39;00m\n\u001b[32m    737\u001b[39m pipeline = pipeline_class(typingctx, targetctx, library,\n\u001b[32m    738\u001b[39m                           args, return_type, flags, \u001b[38;5;28mlocals\u001b[39m)\n\u001b[32m--> \u001b[39m\u001b[32m739\u001b[39m \u001b[38;5;28;01mreturn\u001b[39;00m \u001b[43mpipeline\u001b[49m\u001b[43m.\u001b[49m\u001b[43mcompile_extra\u001b[49m\u001b[43m(\u001b[49m\u001b[43mfunc\u001b[49m\u001b[43m)\u001b[49m\n",
      "\u001b[36mFile \u001b[39m\u001b[32m/scratch/e1498138/anaconda3/envs/fewnew/lib/python3.12/site-packages/numba/core/compiler.py:439\u001b[39m, in \u001b[36mCompilerBase.compile_extra\u001b[39m\u001b[34m(self, func)\u001b[39m\n\u001b[32m    437\u001b[39m \u001b[38;5;28mself\u001b[39m.state.lifted = ()\n\u001b[32m    438\u001b[39m \u001b[38;5;28mself\u001b[39m.state.lifted_from = \u001b[38;5;28;01mNone\u001b[39;00m\n\u001b[32m--> \u001b[39m\u001b[32m439\u001b[39m \u001b[38;5;28;01mreturn\u001b[39;00m \u001b[38;5;28;43mself\u001b[39;49m\u001b[43m.\u001b[49m\u001b[43m_compile_bytecode\u001b[49m\u001b[43m(\u001b[49m\u001b[43m)\u001b[49m\n",
      "\u001b[36mFile \u001b[39m\u001b[32m/scratch/e1498138/anaconda3/envs/fewnew/lib/python3.12/site-packages/numba/core/compiler.py:505\u001b[39m, in \u001b[36mCompilerBase._compile_bytecode\u001b[39m\u001b[34m(self)\u001b[39m\n\u001b[32m    501\u001b[39m \u001b[38;5;250m\u001b[39m\u001b[33;03m\"\"\"\u001b[39;00m\n\u001b[32m    502\u001b[39m \u001b[33;03mPopulate and run pipeline for bytecode input\u001b[39;00m\n\u001b[32m    503\u001b[39m \u001b[33;03m\"\"\"\u001b[39;00m\n\u001b[32m    504\u001b[39m \u001b[38;5;28;01massert\u001b[39;00m \u001b[38;5;28mself\u001b[39m.state.func_ir \u001b[38;5;129;01mis\u001b[39;00m \u001b[38;5;28;01mNone\u001b[39;00m\n\u001b[32m--> \u001b[39m\u001b[32m505\u001b[39m \u001b[38;5;28;01mreturn\u001b[39;00m \u001b[38;5;28;43mself\u001b[39;49m\u001b[43m.\u001b[49m\u001b[43m_compile_core\u001b[49m\u001b[43m(\u001b[49m\u001b[43m)\u001b[49m\n",
      "\u001b[36mFile \u001b[39m\u001b[32m/scratch/e1498138/anaconda3/envs/fewnew/lib/python3.12/site-packages/numba/core/compiler.py:481\u001b[39m, in \u001b[36mCompilerBase._compile_core\u001b[39m\u001b[34m(self)\u001b[39m\n\u001b[32m    479\u001b[39m \u001b[38;5;28;01mexcept\u001b[39;00m \u001b[38;5;167;01mException\u001b[39;00m \u001b[38;5;28;01mas\u001b[39;00m e:\n\u001b[32m    480\u001b[39m     \u001b[38;5;28;01mif\u001b[39;00m \u001b[38;5;129;01mnot\u001b[39;00m \u001b[38;5;28misinstance\u001b[39m(e, errors.NumbaError):\n\u001b[32m--> \u001b[39m\u001b[32m481\u001b[39m         \u001b[38;5;28;01mraise\u001b[39;00m e\n\u001b[32m    482\u001b[39m     \u001b[38;5;28mself\u001b[39m.state.status.fail_reason = e\n\u001b[32m    483\u001b[39m     \u001b[38;5;28;01mif\u001b[39;00m is_final_pipeline:\n",
      "\u001b[36mFile \u001b[39m\u001b[32m/scratch/e1498138/anaconda3/envs/fewnew/lib/python3.12/site-packages/numba/core/compiler.py:473\u001b[39m, in \u001b[36mCompilerBase._compile_core\u001b[39m\u001b[34m(self)\u001b[39m\n\u001b[32m    471\u001b[39m res = \u001b[38;5;28;01mNone\u001b[39;00m\n\u001b[32m    472\u001b[39m \u001b[38;5;28;01mtry\u001b[39;00m:\n\u001b[32m--> \u001b[39m\u001b[32m473\u001b[39m     \u001b[43mpm\u001b[49m\u001b[43m.\u001b[49m\u001b[43mrun\u001b[49m\u001b[43m(\u001b[49m\u001b[38;5;28;43mself\u001b[39;49m\u001b[43m.\u001b[49m\u001b[43mstate\u001b[49m\u001b[43m)\u001b[49m\n\u001b[32m    474\u001b[39m     \u001b[38;5;28;01mif\u001b[39;00m \u001b[38;5;28mself\u001b[39m.state.cr \u001b[38;5;129;01mis\u001b[39;00m \u001b[38;5;129;01mnot\u001b[39;00m \u001b[38;5;28;01mNone\u001b[39;00m:\n\u001b[32m    475\u001b[39m         \u001b[38;5;28;01mbreak\u001b[39;00m\n",
      "\u001b[36mFile \u001b[39m\u001b[32m/scratch/e1498138/anaconda3/envs/fewnew/lib/python3.12/site-packages/numba/core/compiler_machinery.py:363\u001b[39m, in \u001b[36mPassManager.run\u001b[39m\u001b[34m(self, state)\u001b[39m\n\u001b[32m    361\u001b[39m \u001b[38;5;28;01mexcept\u001b[39;00m \u001b[38;5;167;01mException\u001b[39;00m \u001b[38;5;28;01mas\u001b[39;00m e:\n\u001b[32m    362\u001b[39m     \u001b[38;5;28;01mif\u001b[39;00m \u001b[38;5;129;01mnot\u001b[39;00m \u001b[38;5;28misinstance\u001b[39m(e, errors.NumbaError):\n\u001b[32m--> \u001b[39m\u001b[32m363\u001b[39m         \u001b[38;5;28;01mraise\u001b[39;00m e\n\u001b[32m    364\u001b[39m     msg = \u001b[33m\"\u001b[39m\u001b[33mFailed in \u001b[39m\u001b[38;5;132;01m%s\u001b[39;00m\u001b[33m mode pipeline (step: \u001b[39m\u001b[38;5;132;01m%s\u001b[39;00m\u001b[33m)\u001b[39m\u001b[33m\"\u001b[39m % \\\n\u001b[32m    365\u001b[39m         (\u001b[38;5;28mself\u001b[39m.pipeline_name, pass_desc)\n\u001b[32m    366\u001b[39m     patched_exception = \u001b[38;5;28mself\u001b[39m._patch_error(msg, e)\n",
      "\u001b[36mFile \u001b[39m\u001b[32m/scratch/e1498138/anaconda3/envs/fewnew/lib/python3.12/site-packages/numba/core/compiler_machinery.py:356\u001b[39m, in \u001b[36mPassManager.run\u001b[39m\u001b[34m(self, state)\u001b[39m\n\u001b[32m    354\u001b[39m pass_inst = _pass_registry.get(pss).pass_inst\n\u001b[32m    355\u001b[39m \u001b[38;5;28;01mif\u001b[39;00m \u001b[38;5;28misinstance\u001b[39m(pass_inst, CompilerPass):\n\u001b[32m--> \u001b[39m\u001b[32m356\u001b[39m     \u001b[38;5;28;43mself\u001b[39;49m\u001b[43m.\u001b[49m\u001b[43m_runPass\u001b[49m\u001b[43m(\u001b[49m\u001b[43midx\u001b[49m\u001b[43m,\u001b[49m\u001b[43m \u001b[49m\u001b[43mpass_inst\u001b[49m\u001b[43m,\u001b[49m\u001b[43m \u001b[49m\u001b[43mstate\u001b[49m\u001b[43m)\u001b[49m\n\u001b[32m    357\u001b[39m \u001b[38;5;28;01melse\u001b[39;00m:\n\u001b[32m    358\u001b[39m     \u001b[38;5;28;01mraise\u001b[39;00m \u001b[38;5;167;01mBaseException\u001b[39;00m(\u001b[33m\"\u001b[39m\u001b[33mLegacy pass in use\u001b[39m\u001b[33m\"\u001b[39m)\n",
      "\u001b[36mFile \u001b[39m\u001b[32m/scratch/e1498138/anaconda3/envs/fewnew/lib/python3.12/site-packages/numba/core/compiler_lock.py:35\u001b[39m, in \u001b[36m_CompilerLock.__call__.<locals>._acquire_compile_lock\u001b[39m\u001b[34m(*args, **kwargs)\u001b[39m\n\u001b[32m     32\u001b[39m \u001b[38;5;129m@functools\u001b[39m.wraps(func)\n\u001b[32m     33\u001b[39m \u001b[38;5;28;01mdef\u001b[39;00m\u001b[38;5;250m \u001b[39m\u001b[34m_acquire_compile_lock\u001b[39m(*args, **kwargs):\n\u001b[32m     34\u001b[39m     \u001b[38;5;28;01mwith\u001b[39;00m \u001b[38;5;28mself\u001b[39m:\n\u001b[32m---> \u001b[39m\u001b[32m35\u001b[39m         \u001b[38;5;28;01mreturn\u001b[39;00m \u001b[43mfunc\u001b[49m\u001b[43m(\u001b[49m\u001b[43m*\u001b[49m\u001b[43margs\u001b[49m\u001b[43m,\u001b[49m\u001b[43m \u001b[49m\u001b[43m*\u001b[49m\u001b[43m*\u001b[49m\u001b[43mkwargs\u001b[49m\u001b[43m)\u001b[49m\n",
      "\u001b[36mFile \u001b[39m\u001b[32m/scratch/e1498138/anaconda3/envs/fewnew/lib/python3.12/site-packages/numba/core/compiler_machinery.py:311\u001b[39m, in \u001b[36mPassManager._runPass\u001b[39m\u001b[34m(self, index, pss, internal_state)\u001b[39m\n\u001b[32m    309\u001b[39m     mutated |= check(pss.run_initialization, internal_state)\n\u001b[32m    310\u001b[39m \u001b[38;5;28;01mwith\u001b[39;00m SimpleTimer() \u001b[38;5;28;01mas\u001b[39;00m pass_time:\n\u001b[32m--> \u001b[39m\u001b[32m311\u001b[39m     mutated |= \u001b[43mcheck\u001b[49m\u001b[43m(\u001b[49m\u001b[43mpss\u001b[49m\u001b[43m.\u001b[49m\u001b[43mrun_pass\u001b[49m\u001b[43m,\u001b[49m\u001b[43m \u001b[49m\u001b[43minternal_state\u001b[49m\u001b[43m)\u001b[49m\n\u001b[32m    312\u001b[39m \u001b[38;5;28;01mwith\u001b[39;00m SimpleTimer() \u001b[38;5;28;01mas\u001b[39;00m finalize_time:\n\u001b[32m    313\u001b[39m     mutated |= check(pss.run_finalizer, internal_state)\n",
      "\u001b[36mFile \u001b[39m\u001b[32m/scratch/e1498138/anaconda3/envs/fewnew/lib/python3.12/site-packages/numba/core/compiler_machinery.py:272\u001b[39m, in \u001b[36mPassManager._runPass.<locals>.check\u001b[39m\u001b[34m(func, compiler_state)\u001b[39m\n\u001b[32m    271\u001b[39m \u001b[38;5;28;01mdef\u001b[39;00m\u001b[38;5;250m \u001b[39m\u001b[34mcheck\u001b[39m(func, compiler_state):\n\u001b[32m--> \u001b[39m\u001b[32m272\u001b[39m     mangled = \u001b[43mfunc\u001b[49m\u001b[43m(\u001b[49m\u001b[43mcompiler_state\u001b[49m\u001b[43m)\u001b[49m\n\u001b[32m    273\u001b[39m     \u001b[38;5;28;01mif\u001b[39;00m mangled \u001b[38;5;129;01mnot\u001b[39;00m \u001b[38;5;129;01min\u001b[39;00m (\u001b[38;5;28;01mTrue\u001b[39;00m, \u001b[38;5;28;01mFalse\u001b[39;00m):\n\u001b[32m    274\u001b[39m         msg = (\u001b[33m\"\u001b[39m\u001b[33mCompilerPass implementations should return True/False. \u001b[39m\u001b[33m\"\u001b[39m\n\u001b[32m    275\u001b[39m                \u001b[33m\"\u001b[39m\u001b[33mCompilerPass with name \u001b[39m\u001b[33m'\u001b[39m\u001b[38;5;132;01m%s\u001b[39;00m\u001b[33m'\u001b[39m\u001b[33m did not.\u001b[39m\u001b[33m\"\u001b[39m)\n",
      "\u001b[36mFile \u001b[39m\u001b[32m/scratch/e1498138/anaconda3/envs/fewnew/lib/python3.12/site-packages/numba/core/untyped_passes.py:105\u001b[39m, in \u001b[36mFixupArgs.run_pass\u001b[39m\u001b[34m(self, state)\u001b[39m\n\u001b[32m    103\u001b[39m     state[\u001b[33m'\u001b[39m\u001b[33margs\u001b[39m\u001b[33m'\u001b[39m] = (types.pyobject,) * state[\u001b[33m'\u001b[39m\u001b[33mnargs\u001b[39m\u001b[33m'\u001b[39m]\n\u001b[32m    104\u001b[39m \u001b[38;5;28;01melif\u001b[39;00m \u001b[38;5;28mlen\u001b[39m(state[\u001b[33m'\u001b[39m\u001b[33margs\u001b[39m\u001b[33m'\u001b[39m]) != state[\u001b[33m'\u001b[39m\u001b[33mnargs\u001b[39m\u001b[33m'\u001b[39m]:\n\u001b[32m--> \u001b[39m\u001b[32m105\u001b[39m     \u001b[38;5;28;01mraise\u001b[39;00m \u001b[38;5;167;01mTypeError\u001b[39;00m(\u001b[33m\"\u001b[39m\u001b[33mSignature mismatch: \u001b[39m\u001b[38;5;132;01m%d\u001b[39;00m\u001b[33m argument types given, \u001b[39m\u001b[33m\"\u001b[39m\n\u001b[32m    106\u001b[39m                     \u001b[33m\"\u001b[39m\u001b[33mbut function takes \u001b[39m\u001b[38;5;132;01m%d\u001b[39;00m\u001b[33m arguments\u001b[39m\u001b[33m\"\u001b[39m\n\u001b[32m    107\u001b[39m                     % (\u001b[38;5;28mlen\u001b[39m(state[\u001b[33m'\u001b[39m\u001b[33margs\u001b[39m\u001b[33m'\u001b[39m]), state[\u001b[33m'\u001b[39m\u001b[33mnargs\u001b[39m\u001b[33m'\u001b[39m]))\n\u001b[32m    108\u001b[39m \u001b[38;5;28;01mreturn\u001b[39;00m \u001b[38;5;28;01mTrue\u001b[39;00m\n",
      "\u001b[31mTypeError\u001b[39m: Signature mismatch: 1 argument types given, but function takes 2 arguments"
     ]
    }
   ],
   "source": [
    "OmegaPhi, OmegaTheta, OmegaR = get_fundamental_frequencies(a, p, e, x, use_gpu=use_gpu)"
   ]
  },
  {
   "cell_type": "code",
   "execution_count": 12,
   "id": "be3e3159-1732-4d75-a195-1b976ac46d4c",
   "metadata": {},
   "outputs": [],
   "source": [
    "l_cpu = amp.l_arr.get()\n",
    "m_cpu = amp.m_arr.get()\n",
    "n_cpu = amp.n_arr.get()"
   ]
  },
  {
   "cell_type": "code",
   "execution_count": 13,
   "id": "3c446468",
   "metadata": {},
   "outputs": [],
   "source": [
    "# Get mode labels\n",
    "mode_labels = [f\"({l},{m},{n})\" for l,m,n in zip(amp.l_arr, amp.m_arr, amp.n_arr)]"
   ]
  },
  {
   "cell_type": "code",
   "execution_count": 14,
   "id": "de7239b4-fb65-46f9-b506-0feb819d6ac3",
   "metadata": {},
   "outputs": [],
   "source": [
    "gw_frequencies_per_mode = []\n",
    "\n",
    "\n",
    "for idx in range(len(mode_labels)):\n",
    "    # l = amp.l_arr[idx]\n",
    "    # m = amp.m_arr[idx] \n",
    "    # n = amp.n_arr[idx]\n",
    "    \n",
    "    l = l_cpu[idx]\n",
    "    m = m_cpu[idx] \n",
    "    n = n_cpu[idx]\n",
    "    \n",
    "    # Calculate GW frequencies\n",
    "    # k = 0 for equatorial case\n",
    "    f_gw = m * OmegaPhi + n * OmegaR\n",
    "    \n",
    "    gw_frequencies_per_mode.append(f_gw)"
   ]
  },
  {
   "cell_type": "code",
   "execution_count": 15,
   "id": "ecd84da9-e354-4c2f-8b54-8e0998aea388",
   "metadata": {},
   "outputs": [],
   "source": [
    "gw_phase_per_mode = []\n",
    "for idx in range(len(mode_labels)):\n",
    "    # l = amp.l_arr[idx]\n",
    "    # m = amp.m_arr[idx] \n",
    "    # n = amp.n_arr[idx]\n",
    "    \n",
    "    l = l_cpu[idx]\n",
    "    m = m_cpu[idx] \n",
    "    n = n_cpu[idx]\n",
    "    \n",
    "    # Calculate GW phases per mode\n",
    "    phi_mode = m * Phi_phi + n * Phi_r\n",
    "    \n",
    "    gw_phase_per_mode.append(phi_mode)"
   ]
  },
  {
   "cell_type": "markdown",
   "id": "36acf6c5-dbaa-46f9-9cf4-4159f0767fef",
   "metadata": {},
   "source": [
    "# Selecting modes (purely by NON-noise weighted power)"
   ]
  },
  {
   "cell_type": "code",
   "execution_count": 16,
   "id": "f201df58-1054-4f85-8410-b60d67090d0d",
   "metadata": {},
   "outputs": [],
   "source": [
    "m0mask = amp.m_arr_no_mask != 0\n",
    "# Calculate power for all modes\n",
    "total_power = gwf.calc_power(teuk_modes, ylms, m0mask)"
   ]
  },
  {
   "cell_type": "code",
   "execution_count": 17,
   "id": "5413aff9-819c-451a-a6f8-d3858b301be5",
   "metadata": {},
   "outputs": [],
   "source": [
    "M_mode = 10\n",
    "\n",
    "# Get top M indices\n",
    "top_indices_gpu = cp.argsort(total_power)[-M_mode:][::-1]  # Top M indices in descending order\n",
    "top_indices = top_indices_gpu.get().tolist()  # Convert to CPU list only once\n",
    "\n",
    "# Get corresponding mode labels and power values\n",
    "mp_modes = [mode_labels[idx] for idx in top_indices]\n",
    "mp_power = total_power[top_indices_gpu].get().tolist()  # Get power values for plotting"
   ]
  },
  {
   "cell_type": "code",
   "execution_count": 18,
   "id": "5d838b24-d9c1-49c5-b7b0-da32ab3215ff",
   "metadata": {},
   "outputs": [
    {
     "data": {
      "image/png": "[encoded data removed]",
      "text/plain": [
       "<Figure size 640x480 with 1 Axes>"
      ]
     },
     "metadata": {},
     "output_type": "display_data"
    }
   ],
   "source": [
    "plt.bar(range(len(mp_power)), mp_power, color='orange')\n",
    "plt.xticks(range(len(mp_modes)), mp_modes, rotation=90, fontsize=8)\n",
    "plt.xlabel('(l,m,n) Modes', fontsize=12)\n",
    "plt.ylabel(r'$\\sum_{t} |AxS|^2$', fontsize=12)\n",
    "plt.title('Mode vs Power Contribution for top M={} modes (a={})'.format(M_mode,a), fontsize=12)\n",
    "plt.yscale('linear')\n",
    "plt.tight_layout()\n",
    "plt.show()"
   ]
  },
  {
   "cell_type": "code",
   "execution_count": 19,
   "id": "9718409c-bb2f-417e-b72d-565933b69d6f",
   "metadata": {},
   "outputs": [
    {
     "name": "stdout",
     "output_type": "stream",
     "text": [
      "Top mode indices: [1165, 1166, 1164, 1498, 1499, 1167, 1497, 1054, 1500, 7159]\n"
     ]
    }
   ],
   "source": [
    "# Pick modes based on top M power contributions\n",
    "top_indices = [mode_labels.index(mode) for mode in mp_modes]\n",
    "print(\"Top mode indices:\", top_indices)"
   ]
  },
  {
   "cell_type": "code",
   "execution_count": 20,
   "id": "deb1ccf2-87b5-4f4d-afea-3c376eac9fa0",
   "metadata": {},
   "outputs": [],
   "source": [
    "t_gpu = cp.asarray(t)"
   ]
  },
  {
   "cell_type": "code",
   "execution_count": 21,
   "id": "08109649",
   "metadata": {},
   "outputs": [
    {
     "name": "stdout",
     "output_type": "stream",
     "text": [
      "0 1165\n",
      "1 1166\n",
      "2 1164\n",
      "3 1498\n",
      "4 1499\n",
      "5 1167\n",
      "6 1497\n",
      "7 1054\n",
      "8 1500\n",
      "9 7159\n"
     ]
    }
   ],
   "source": [
    "for arr_idx, mode_idx in enumerate(top_indices):\n",
    "    print(arr_idx, mode_idx)"
   ]
  },
  {
   "cell_type": "code",
   "execution_count": 22,
   "id": "776d1823",
   "metadata": {},
   "outputs": [
    {
     "name": "stdout",
     "output_type": "stream",
     "text": [
      "(1.20041301922602e-309+1.22214225613056e-309j)\n",
      "(1.243871493035105e-309+1.26560072993965e-309j)\n",
      "(1.271924277400727e-309+1.287860465792057e-309j)\n",
      "(1.3095897026966e-309+1.331318939601144e-309j)\n",
      "(1.35304817650569e-309+1.37477741341023e-309j)\n",
      "(1.396506650314775e-309+0.07886171341033885j)\n",
      "(-0.351140183788066+0j)\n",
      "(-0.09809629333925872-0.09809629333925872j)\n",
      "(1.7379364131453588e-17+0.28382655543710694j)\n",
      "(-0.18065037635431755+0.18065037635431758j)\n"
     ]
    }
   ],
   "source": [
    "waveform_per_mode = cp.empty(M_mode, dtype=cp.complex128)\n",
    "for arr_idx, mode_idx in enumerate(top_indices):\n",
    "    print(waveform_per_mode[arr_idx])"
   ]
  },
  {
   "cell_type": "code",
   "execution_count": 23,
   "id": "2b4e1157",
   "metadata": {},
   "outputs": [
    {
     "data": {
      "text/plain": [
       "10"
      ]
     },
     "execution_count": 23,
     "metadata": {},
     "output_type": "execute_result"
    }
   ],
   "source": [
    "len(top_indices)"
   ]
  },
  {
   "cell_type": "code",
   "execution_count": 24,
   "id": "4c3ec6af-b43b-45df-a759-ed4cd68be5d3",
   "metadata": {},
   "outputs": [
    {
     "name": "stdout",
     "output_type": "stream",
     "text": [
      "CPU times: user 38.9 ms, sys: 10.9 ms, total: 49.8 ms\n",
      "Wall time: 79.3 ms\n"
     ]
    }
   ],
   "source": [
    "%%time\n",
    "\n",
    "waveform_per_mode = cp.empty((M_mode, N), dtype=cp.complex128)\n",
    "for arr_idx, mode_idx in enumerate(top_indices):\n",
    "    l = amp.l_arr[mode_idx]\n",
    "    m = amp.m_arr[mode_idx]\n",
    "    n = amp.n_arr[mode_idx]\n",
    "\n",
    "    if m >= 0:\n",
    "        teuk_modes_single = teuk_modes[:, [mode_idx]]\n",
    "        ylms_single = ylms[[mode_idx]]\n",
    "        m_arr = amp.m_arr[[mode_idx]]\n",
    "    else:\n",
    "        pos_m_mask = (amp.l_arr == l) & (amp.m_arr == -m) & (amp.n_arr == n)\n",
    "        pos_m_idx = cp.where(pos_m_mask)[0][0]\n",
    "        teuk_modes_single = (-1)**l * cp.conj(teuk_modes[:, [pos_m_idx]])\n",
    "        ylms_single = ylms[[mode_idx]]\n",
    "        m_arr = cp.abs(amp.m_arr[[mode_idx]])  # Use cp.abs instead of np.abs\n",
    "\n",
    "    waveform = interpolate_mode_sum(\n",
    "        t_gpu, teuk_modes_single, ylms_single,\n",
    "        traj.integrator_spline_t, traj.integrator_spline_phase_coeff[:, [0, 2]],\n",
    "        amp.l_arr[[mode_idx]], m_arr, amp.n_arr[[mode_idx]], \n",
    "        dt=dt, T=T\n",
    "    )\n",
    "    waveform_per_mode[arr_idx] = waveform / factor\n",
    "\n",
    "cp.cuda.Stream.null.synchronize()"
   ]
  },
  {
   "cell_type": "code",
   "execution_count": 25,
   "id": "a3cb7f89",
   "metadata": {},
   "outputs": [
    {
     "name": "stdout",
     "output_type": "stream",
     "text": [
      "CPU times: user 32.6 ms, sys: 9.99 ms, total: 42.6 ms\n",
      "Wall time: 42.3 ms\n"
     ]
    }
   ],
   "source": [
    "%%time\n",
    "waveform_per_mode = []\n",
    "for idx in top_indices:\n",
    "    l = amp.l_arr[idx]\n",
    "    m = amp.m_arr[idx]\n",
    "    n = amp.n_arr[idx]\n",
    "\n",
    "    if m >= 0:\n",
    "        teuk_modes_single = teuk_modes[:, [idx]]\n",
    "        ylms_single = ylms[[idx]]\n",
    "        m_arr = amp.m_arr[[idx]]\n",
    "    else:\n",
    "        pos_m_mask = (amp.l_arr == l) & (amp.m_arr == -m) & (amp.n_arr == n)\n",
    "        pos_m_idx = cp.where(pos_m_mask)[0][0]\n",
    "        teuk_modes_single = (-1)**l * cp.conj(teuk_modes[:, [pos_m_idx]])\n",
    "        ylms_single = ylms[[idx]]\n",
    "        m_arr = cp.abs(amp.m_arr[[idx]])  # Use cp.abs instead of np.abs\n",
    "\n",
    "    waveform = interpolate_mode_sum(\n",
    "        t_gpu, teuk_modes_single, ylms_single,\n",
    "        traj.integrator_spline_t, traj.integrator_spline_phase_coeff[:, [0, 2]],\n",
    "        amp.l_arr[[idx]], m_arr, amp.n_arr[[idx]], \n",
    "        dt=dt, T=T\n",
    "    )\n",
    "    waveform_per_mode.append(waveform / factor)\n",
    "\n",
    "cp.cuda.Stream.null.synchronize()"
   ]
  },
  {
   "cell_type": "code",
   "execution_count": 26,
   "id": "7f4c7d37",
   "metadata": {},
   "outputs": [
    {
     "data": {
      "text/plain": [
       "3155815"
      ]
     },
     "execution_count": 26,
     "metadata": {},
     "output_type": "execute_result"
    }
   ],
   "source": [
    "len(waveform_per_mode[0])"
   ]
  },
  {
   "cell_type": "markdown",
   "id": "9665a5bd-0042-4054-8a21-ce5473a1b8a5",
   "metadata": {},
   "source": [
    "# $\\rho$"
   ]
  },
  {
   "cell_type": "code",
   "execution_count": 27,
   "id": "0e7828c5-695c-4692-bb3e-ff22318e9f49",
   "metadata": {},
   "outputs": [],
   "source": [
    "def rhostat(h):\n",
    "    # optimal SNR \n",
    "    # assuming the h is still in time-domain\n",
    "    \n",
    "    hf = gwf.freq_wave(h) \n",
    "    calc_inner = gwf.inner(hf, hf)\n",
    "    return gwf.xp.sqrt(calc_inner)  # TODO: Change to self.xp when putting in GWfuncs"
   ]
  },
  {
   "cell_type": "code",
   "execution_count": 28,
   "id": "0f398444-4433-4e0a-b08a-da14d379a788",
   "metadata": {},
   "outputs": [
    {
     "data": {
      "text/plain": [
       "array(28.6784206)"
      ]
     },
     "execution_count": 28,
     "metadata": {},
     "output_type": "execute_result"
    }
   ],
   "source": [
    "rhostat(h_temp)"
   ]
  },
  {
   "cell_type": "code",
   "execution_count": 29,
   "id": "b9bab009",
   "metadata": {},
   "outputs": [],
   "source": [
    "rho_tot = rhostat(h_temp)"
   ]
  },
  {
   "cell_type": "code",
   "execution_count": 30,
   "id": "b9694293",
   "metadata": {},
   "outputs": [
    {
     "data": {
      "text/plain": [
       "True"
      ]
     },
     "execution_count": 30,
     "metadata": {},
     "output_type": "execute_result"
    }
   ],
   "source": [
    "isinstance(rhostat(h_temp), cp.ndarray)"
   ]
  },
  {
   "cell_type": "markdown",
   "id": "7ba4a906-84cf-4176-add2-25f8ec30db96",
   "metadata": {},
   "source": [
    "# $\\rho_m$"
   ]
  },
  {
   "cell_type": "code",
   "execution_count": 31,
   "id": "84c8027c-82f5-498e-8af2-1998cb229f27",
   "metadata": {},
   "outputs": [],
   "source": [
    "def rhostat_modes(hm_arr): \n",
    "    rho_modes = gwf.xp.empty(len(hm_arr), dtype=gwf.xp.float64)\n",
    "\n",
    "    for idx, hm in enumerate(hm_arr):\n",
    "        rho_modes[idx] = rhostat(hm)\n",
    "    \n",
    "    # for hm in hm_arr:\n",
    "    #     rho_m = rhostat(hm)\n",
    "    #     rho_modes.append(rho_m)\n",
    "    \n",
    "    return gwf.xp.array(rho_modes)"
   ]
  },
  {
   "cell_type": "code",
   "execution_count": 32,
   "id": "e07c9e86-3656-4972-ad9a-5bb9e5e69650",
   "metadata": {},
   "outputs": [
    {
     "name": "stdout",
     "output_type": "stream",
     "text": [
      "CPU times: user 156 ms, sys: 965 μs, total: 157 ms\n",
      "Wall time: 157 ms\n"
     ]
    }
   ],
   "source": [
    "%%time\n",
    "rho_modes = rhostat_modes(waveform_per_mode)\n",
    "cp.cuda.Stream.null.synchronize()"
   ]
  },
  {
   "cell_type": "code",
   "execution_count": 33,
   "id": "dece1649-babc-4a78-aef9-25668947c20c",
   "metadata": {},
   "outputs": [
    {
     "data": {
      "text/plain": [
       "array([19.3845998 , 15.44948069,  2.82934452,  7.48310092,  7.88902653,\n",
       "        6.62770726,  3.25574535,  0.65460134,  4.26052188,  2.15384353])"
      ]
     },
     "execution_count": 33,
     "metadata": {},
     "output_type": "execute_result"
    }
   ],
   "source": [
    "rho_modes"
   ]
  },
  {
   "cell_type": "markdown",
   "id": "096d512c-4d0c-4e71-80d9-bdffadabaa3b",
   "metadata": {},
   "source": [
    "# $X$"
   ]
  },
  {
   "cell_type": "code",
   "execution_count": 34,
   "id": "5d9fa1a2-3f2b-42f5-9e86-bec5774577e8",
   "metadata": {},
   "outputs": [],
   "source": [
    "def Xstat(x, h):\n",
    "    # x = data, in this case: h_true\n",
    "    # GPU-compatible version\n",
    "    \n",
    "    xf = gwf.freq_wave(x) \n",
    "    hf = gwf.freq_wave(h)\n",
    "    \n",
    "    calc_inner = gwf.inner(xf, hf)\n",
    "    calc_SNR = gwf.xp.sqrt(gwf.inner(hf, hf))  \n",
    "    return calc_inner / calc_SNR"
   ]
  },
  {
   "cell_type": "code",
   "execution_count": 35,
   "id": "81fd2668-a779-44bb-b531-a11becb3da5f",
   "metadata": {},
   "outputs": [
    {
     "data": {
      "text/plain": [
       "array(-0.00515384)"
      ]
     },
     "execution_count": 35,
     "metadata": {},
     "output_type": "execute_result"
    }
   ],
   "source": [
    "Xstat(h_true, h_temp)"
   ]
  },
  {
   "cell_type": "code",
   "execution_count": 36,
   "id": "cd01959d",
   "metadata": {},
   "outputs": [
    {
     "data": {
      "text/plain": [
       "True"
      ]
     },
     "execution_count": 36,
     "metadata": {},
     "output_type": "execute_result"
    }
   ],
   "source": [
    "isinstance(Xstat(h_true, h_temp), cp.ndarray)"
   ]
  },
  {
   "cell_type": "markdown",
   "id": "a8e8fb09-322f-4a46-8afb-ae88bdea2bf7",
   "metadata": {},
   "source": [
    "Also do try the other way (from rho, x..)"
   ]
  },
  {
   "cell_type": "markdown",
   "id": "4357610c-96d6-4da1-bf68-335bc94f6db3",
   "metadata": {},
   "source": [
    "# $X_m$"
   ]
  },
  {
   "cell_type": "code",
   "execution_count": 37,
   "id": "0b4235a8-d2e0-4ecf-90e5-6e4a8a63858e",
   "metadata": {},
   "outputs": [],
   "source": [
    "def Xmstat(x, hm_arr, rho_modes):\n",
    "    \"\"\"\n",
    "    Calculate X_m for each mode\n",
    "    x: data (h_true in your case)\n",
    "    hm_arr: list of mode waveforms \n",
    "    rho_modes: already computed rho values for each mode\n",
    "    \"\"\"\n",
    "    X_modes = gwf.xp.empty(len(hm_arr), dtype=gwf.xp.complex128)\n",
    "    \n",
    "    # Get frequency domain of data once\n",
    "    xf = gwf.freq_wave(x)\n",
    "    \n",
    "    for idx, hm in enumerate(hm_arr):\n",
    "        # Get frequency domain of mode template\n",
    "        hmf = gwf.freq_wave(hm)\n",
    "        \n",
    "        # Calculate inner product <x|hm>\n",
    "        inner_product = gwf.inner(xf, hmf)\n",
    "        \n",
    "        # X_m = <x|hm> / rho_m\n",
    "        X_modes[idx] = inner_product / rho_modes[idx]\n",
    "    \n",
    "    return X_modes"
   ]
  },
  {
   "cell_type": "code",
   "execution_count": 38,
   "id": "028aff1f",
   "metadata": {},
   "outputs": [
    {
     "data": {
      "text/plain": [
       "array([-9.57988516e-04+0.j, -2.25731924e-05+0.j, -1.11018128e-03+0.j,\n",
       "       -1.62080162e-02+0.j,  2.33888879e-04+0.j,  2.09501447e-02+0.j,\n",
       "       -3.76350649e-02+0.j, -2.65447499e-04+0.j, -1.15358770e-03+0.j,\n",
       "        9.55815118e-04+0.j])"
      ]
     },
     "execution_count": 38,
     "metadata": {},
     "output_type": "execute_result"
    }
   ],
   "source": [
    "Xmstat(h_true, waveform_per_mode, rho_modes)"
   ]
  },
  {
   "cell_type": "code",
   "execution_count": 39,
   "id": "f07f4c69",
   "metadata": {},
   "outputs": [],
   "source": [
    "def Xscalar_from_modes(X_modes, rho_modes):\n",
    "    \"\"\"\n",
    "    Calculate scalar X(θ) from mode components\n",
    "    \"\"\"\n",
    "    # Calculate X dot rho\n",
    "    X_dot_rho = gwf.xp.sum(X_modes * rho_modes)\n",
    "    \n",
    "    # Calculate sqrt(sum_m rho_m^2)\n",
    "    rho_norm = gwf.xp.sqrt(gwf.xp.sum(rho_modes**2))\n",
    "\n",
    "    X_scalar = X_dot_rho / rho_norm\n",
    "    \n",
    "    return X_scalar"
   ]
  },
  {
   "cell_type": "code",
   "execution_count": 40,
   "id": "79f39e6f",
   "metadata": {},
   "outputs": [
    {
     "name": "stdout",
     "output_type": "stream",
     "text": [
      "X from modes: (-0.004481564011587729+0j)\n",
      "X direct: -0.005153842286300996\n",
      "Difference: 0.000672278274713267\n"
     ]
    }
   ],
   "source": [
    "# Calculate Xm \n",
    "X_modes = Xmstat(h_true, waveform_per_mode, rho_modes)\n",
    "\n",
    "# Get Xscalar from Xm and rho_m\n",
    "X_scalar_from_modes = Xscalar_from_modes(X_modes, rho_modes)\n",
    "\n",
    "# Compare with direct calculation\n",
    "X_scalar_direct = Xstat(h_true, h_temp)\n",
    "\n",
    "print(\"X from modes:\", X_scalar_from_modes)\n",
    "print(\"X direct:\", X_scalar_direct)\n",
    "print(\"Difference:\", abs(X_scalar_from_modes - X_scalar_direct))"
   ]
  },
  {
   "cell_type": "markdown",
   "id": "613a7234",
   "metadata": {},
   "source": [
    "# $\\alpha = \\rho_m / \\rho$"
   ]
  },
  {
   "cell_type": "code",
   "execution_count": 41,
   "id": "e2c328e5",
   "metadata": {},
   "outputs": [
    {
     "data": {
      "text/plain": [
       "array([0.67592982, 0.53871449, 0.09865761, 0.26093142, 0.27508581,\n",
       "       0.23110433, 0.11352596, 0.02282557, 0.14856194, 0.07510328])"
      ]
     },
     "execution_count": 41,
     "metadata": {},
     "output_type": "execute_result"
    }
   ],
   "source": [
    "rho_modes / rhostat(h_temp) # TODO: make func"
   ]
  },
  {
   "cell_type": "code",
   "execution_count": 42,
   "id": "1abd0fa0",
   "metadata": {},
   "outputs": [],
   "source": [
    "def alphastat(hm_arr, h):\n",
    "    \"\"\"\n",
    "    Calculate alpha_m = rho_m / rho\n",
    "    hm_arr: list of mode waveforms\n",
    "    h_temp: template waveform\n",
    "    \"\"\"\n",
    "    rho_modes = rhostat_modes(hm_arr)\n",
    "    rho_tot = rhostat(h)  \n",
    "    \n",
    "    return rho_modes / rho_tot"
   ]
  },
  {
   "cell_type": "code",
   "execution_count": 43,
   "id": "ae3f48fc",
   "metadata": {},
   "outputs": [
    {
     "data": {
      "text/plain": [
       "array([0.67592982, 0.53871449, 0.09865761, 0.26093142, 0.27508581,\n",
       "       0.23110433, 0.11352596, 0.02282557, 0.14856194, 0.07510328])"
      ]
     },
     "execution_count": 43,
     "metadata": {},
     "output_type": "execute_result"
    }
   ],
   "source": [
    "alpha = alphastat(waveform_per_mode, h_temp)\n",
    "alpha"
   ]
  },
  {
   "cell_type": "markdown",
   "id": "35c32b1f",
   "metadata": {},
   "source": [
    "# $\\beta$"
   ]
  },
  {
   "cell_type": "code",
   "execution_count": 44,
   "id": "b5db8ff6",
   "metadata": {},
   "outputs": [],
   "source": [
    "def betastat(alpha, h):\n",
    "    rho_tot = rhostat(h)\n",
    "    \n",
    "    num = 2 * gwf.xp.log(alpha*rho_tot) \n",
    "    denom = (1-alpha**2) * rho_tot**2 \n",
    "    return num / denom"
   ]
  },
  {
   "cell_type": "code",
   "execution_count": 45,
   "id": "d0ce1ecf",
   "metadata": {},
   "outputs": [
    {
     "data": {
      "text/plain": [
       "array([ 0.01327312,  0.00937903,  0.00255399,  0.00525183,  0.00543392,\n",
       "        0.00485857,  0.00290797, -0.00103094,  0.00360411,  0.00187636])"
      ]
     },
     "execution_count": 45,
     "metadata": {},
     "output_type": "execute_result"
    }
   ],
   "source": [
    "betastat(alpha, h_temp)"
   ]
  },
  {
   "cell_type": "code",
   "execution_count": 46,
   "id": "e2315cbd",
   "metadata": {},
   "outputs": [
    {
     "data": {
      "text/plain": [
       "array([ 0.01327312,  0.00937903,  0.00255399,  0.00525183,  0.00543392,\n",
       "        0.00485857,  0.00290797, -0.00103094,  0.00360411,  0.00187636])"
      ]
     },
     "execution_count": 46,
     "metadata": {},
     "output_type": "execute_result"
    }
   ],
   "source": [
    "2*gwf.xp.log(alpha*rho_tot) / ((1-alpha**2) * rho_tot**2)"
   ]
  },
  {
   "cell_type": "markdown",
   "id": "9a0182ae",
   "metadata": {},
   "source": [
    "# $\\chi^2$"
   ]
  },
  {
   "cell_type": "code",
   "execution_count": 47,
   "id": "1e6054ff",
   "metadata": {},
   "outputs": [],
   "source": [
    "def chi_sq(X_theta, rho_theta):\n",
    "    \"\"\"\n",
    "    Calculate χ²(θ) = |X(θ) - ρ(θ)|²\n",
    "    \n",
    "    X_theta: X statistic (can be complex)\n",
    "    rho_theta: ρ statistic (typically real)\n",
    "    \"\"\"\n",
    "    diff = X_theta - rho_theta\n",
    "    return gwf.xp.abs(diff)**2"
   ]
  },
  {
   "cell_type": "code",
   "execution_count": 48,
   "id": "b5a3243e",
   "metadata": {},
   "outputs": [
    {
     "data": {
      "text/plain": [
       "array(822.74744269)"
      ]
     },
     "execution_count": 48,
     "metadata": {},
     "output_type": "execute_result"
    }
   ],
   "source": [
    "chi_sq(X_scalar_direct, rho_tot)"
   ]
  },
  {
   "cell_type": "code",
   "execution_count": 51,
   "id": "e46102d0",
   "metadata": {},
   "outputs": [
    {
     "data": {
      "text/plain": [
       "array([375.79985091, 238.6871511 ,   8.01147383,  56.23963455,\n",
       "        62.23304926,  43.64923952,  10.84635453,   0.42885051,\n",
       "        18.1618778 ,   4.63492551])"
      ]
     },
     "execution_count": 51,
     "metadata": {},
     "output_type": "execute_result"
    }
   ],
   "source": [
    "chi_sq(X_modes, rho_modes)"
   ]
  },
  {
   "cell_type": "markdown",
   "id": "f31af2bf",
   "metadata": {},
   "source": [
    "# $f$"
   ]
  },
  {
   "cell_type": "code",
   "execution_count": 49,
   "id": "9c7e7a26",
   "metadata": {},
   "outputs": [],
   "source": [
    "def fstat(X_theta, beta_theta, chi2_theta):\n",
    "    exp = -0.5 * beta_theta * chi2_theta\n",
    "    return X_theta * gwf.xp.exp(exp)"
   ]
  },
  {
   "cell_type": "code",
   "execution_count": 52,
   "id": "bb9218e7",
   "metadata": {},
   "outputs": [
    {
     "data": {
      "text/plain": [
       "array([-0.00042559, -0.00168273, -0.00510138, -0.00444625, -0.0043521 ,\n",
       "       -0.00463532, -0.0050732 , -0.00515498, -0.00498789, -0.00513148])"
      ]
     },
     "execution_count": 52,
     "metadata": {},
     "output_type": "execute_result"
    }
   ],
   "source": [
    "fstat(X_scalar_direct, betastat(alpha, h_temp), chi_sq(X_modes, rho_modes))"
   ]
  },
  {
   "cell_type": "code",
   "execution_count": null,
   "id": "a847d31e",
   "metadata": {},
   "outputs": [],
   "source": []
  }
 ],
 "metadata": {
  "kernelspec": {
   "display_name": "Python (fewnew)",
   "language": "python",
   "name": "fewnew"
  },
  "language_info": {
   "codemirror_mode": {
    "name": "ipython",
    "version": 3
   },
   "file_extension": ".py",
   "mimetype": "text/x-python",
   "name": "python",
   "nbconvert_exporter": "python",
   "pygments_lexer": "ipython3",
   "version": "3.12.9"
  }
 },
 "nbformat": 4,
 "nbformat_minor": 5
}
