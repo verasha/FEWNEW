{
 "cells": [
  {
   "cell_type": "markdown",
   "id": "68d16aba-af07-40c0-81c5-a3a385ac710d",
   "metadata": {},
   "source": [
    "# Import and setup"
   ]
  },
  {
   "cell_type": "code",
   "execution_count": 1,
   "id": "66ba4169-a716-40c3-b04d-eab2902f9dde",
   "metadata": {},
   "outputs": [],
   "source": [
    "import numpy as np\n",
    "import matplotlib.pyplot as plt\n",
    "\n",
    "import few\n",
    "\n",
    "from few.trajectory.inspiral import EMRIInspiral\n",
    "from few.trajectory.ode import SchwarzEccFlux, KerrEccEqFlux\n",
    "# from few.amplitude.romannet import RomanAmplitude\n",
    "from few.amplitude.ampinterp2d import AmpInterpKerrEccEq\n",
    "from few.summation.interpolatedmodesum import InterpolatedModeSum, CubicSplineInterpolant\n",
    "\n",
    "\n",
    "from few.utils.ylm import GetYlms\n",
    "from few.utils.modeselector import ModeSelector\n",
    "from few.summation.interpolatedmodesum import CubicSplineInterpolant\n",
    "from few import get_file_manager\n",
    "\n",
    "from few.waveform import (\n",
    "    FastKerrEccentricEquatorialFlux,\n",
    "    FastSchwarzschildEccentricFlux, \n",
    "    SlowSchwarzschildEccentricFlux, \n",
    "    Pn5AAKWaveform,\n",
    "    GenerateEMRIWaveform\n",
    ")\n",
    "\n",
    "from few.utils.geodesic import get_fundamental_frequencies\n",
    "\n",
    "import GWfuncs\n",
    "import gc\n",
    "import pickle\n",
    "import os\n",
    "import cupy as cp\n",
    "import multiprocessing as mp\n",
    "from multiprocessing import Queue, Process\n",
    "from functools import partial\n",
    "from SNR_tutorial_utils import LISA_Noise\n",
    "from lisatools.sensitivity import *\n",
    "\n",
    "from few.utils.constants import YRSID_SI, Gpc, MRSUN_SI\n",
    "\n",
    "\n",
    "\n",
    "# import pandas as pd\n",
    "# tune few configuration\n",
    "cfg_set = few.get_config_setter(reset=True)\n",
    "cfg_set.set_log_level(\"info\");"
   ]
  },
  {
   "cell_type": "markdown",
   "id": "3f8441f5-d9c8-451d-bbdb-84f5b821c9f5",
   "metadata": {},
   "source": [
    "# Generating waveform via FEW func"
   ]
  },
  {
   "cell_type": "code",
   "execution_count": 5,
   "id": "816135cf-8b32-43ba-86c4-515d87bdbfcc",
   "metadata": {},
   "outputs": [],
   "source": [
    "# Parameters\n",
    "m1 = 1e6 #M\n",
    "m2 = 1e1 #mu\n",
    "a = 0.5\n",
    "p0 = 9.5\n",
    "e0 = 0.2\n",
    "theta = np.pi / 3.0 \n",
    "phi = np.pi / 4.0  \n",
    "dt = 10.0\n",
    "T = 1\n",
    "xI0 = 1.0 \n",
    "dist = 1 #Gpc\n",
    "#in the paper xI0 = 0.866, but that would be non-equatorial case\n",
    "\n",
    "use_gpu = True \n",
    "func = \"KerrEccentricEquatorial\"\n"
   ]
  },
  {
   "cell_type": "code",
   "execution_count": 21,
   "id": "037a511e-2e46-4531-9f31-857b149e780b",
   "metadata": {},
   "outputs": [],
   "source": [
    "# keyword arguments for inspiral generator \n",
    "inspiral_kwargs={\n",
    "        \"func\": 'KerrEccEqFlux',\n",
    "        \"DENSE_STEPPING\": 0, #change to 1/True for uniform sampling\n",
    "        \"include_minus_m\": False, \n",
    "        \"use_gpu\" : use_gpu,\n",
    "        \"force_backend\": \"cuda12x\"  # Force GPU\n",
    "}\n",
    "\n",
    "# keyword arguments for inspiral generator \n",
    "amplitude_kwargs = {\n",
    "    \"force_backend\": \"cuda12x\",  # Force GPU\n",
    "    # \"use_gpu\" : use_gpu\n",
    "}\n",
    "\n",
    "# keyword arguments for Ylm generator (GetYlms)\n",
    "Ylm_kwargs = {\n",
    "    \"force_backend\": \"cuda12x\",  # Force GPU\n",
    "    # \"assume_positive_m\": True  # if we assume positive m, it will generate negative m for all m>0\n",
    "}\n",
    "\n",
    "# keyword arguments for summation generator (InterpolatedModeSum)\n",
    "sum_kwargs = {\n",
    "    \"force_backend\": \"cuda12x\",  # Force GPU\n",
    "    \"pad_output\": False,\n",
    "    # \"use_gpu\" : use_gpu\n",
    "}\n",
    "\n",
    "# Kerr eccentric flux\n",
    "waveform_gen = FastKerrEccentricEquatorialFlux(\n",
    "    inspiral_kwargs=inspiral_kwargs,\n",
    "    amplitude_kwargs=amplitude_kwargs,\n",
    "    Ylm_kwargs=Ylm_kwargs,\n",
    "    sum_kwargs=sum_kwargs,\n",
    "    use_gpu=use_gpu,\n",
    ")\n"
   ]
  },
  {
   "cell_type": "code",
   "execution_count": 26,
   "id": "22fd517c-c881-4e3a-b17e-a6333688e4f4",
   "metadata": {},
   "outputs": [
    {
     "name": "stdout",
     "output_type": "stream",
     "text": [
      "CPU times: user 145 ms, sys: 6.78 ms, total: 152 ms\n",
      "Wall time: 149 ms\n"
     ]
    }
   ],
   "source": [
    "%%time\n",
    "h_true = waveform_gen(m1, m2, a, p0, e0, xI0, theta, phi, dist=dist, dt=dt, T=1)\n",
    "cp.cuda.Stream.null.synchronize()"
   ]
  },
  {
   "cell_type": "code",
   "execution_count": 40,
   "id": "d9b58957-f28c-4320-a2fa-b39fdabb4263",
   "metadata": {},
   "outputs": [
    {
     "name": "stdout",
     "output_type": "stream",
     "text": [
      "3155815\n"
     ]
    }
   ],
   "source": [
    "N = int(len(h_true)) \n",
    "print(N)\n",
    "gwf = GWfuncs.GravWaveAnalysis(N=N,dt=dt)"
   ]
  },
  {
   "cell_type": "code",
   "execution_count": 67,
   "id": "d26fb599-af22-436f-b8c2-660613444764",
   "metadata": {},
   "outputs": [],
   "source": [
    "factor = gwf.dist_factor(dist, m2)\n"
   ]
  },
  {
   "cell_type": "markdown",
   "id": "62ac85e7-4214-4fd5-a202-a19742cc753e",
   "metadata": {},
   "source": [
    "# Generating amps, traj., etc."
   ]
  },
  {
   "cell_type": "markdown",
   "id": "40095c94-e124-44bf-900d-b9489294b6f3",
   "metadata": {},
   "source": [
    "Since there were problems with the upsampling process, keeping it False first"
   ]
  },
  {
   "cell_type": "code",
   "execution_count": 42,
   "id": "3ca603e4-0cf1-445f-bf07-9aab5fc13fae",
   "metadata": {},
   "outputs": [],
   "source": [
    "traj = EMRIInspiral(func=KerrEccEqFlux, force_backend=\"cuda12x\", use_gpu=use_gpu) #theres npoints flag here\n",
    "amp = AmpInterpKerrEccEq(force_backend=\"cuda12x\") # default lmax=10, nmax=55\n",
    "interpolate_mode_sum = InterpolatedModeSum(force_backend=\"cuda12x\")\n",
    "ylm_gen = GetYlms(include_minus_m=False, force_backend=\"cuda12x\")"
   ]
  },
  {
   "cell_type": "code",
   "execution_count": 43,
   "id": "114a9c95-8ef4-4f97-99ba-0ff9096fc9ca",
   "metadata": {},
   "outputs": [
    {
     "name": "stdout",
     "output_type": "stream",
     "text": [
      "CPU times: user 22.1 ms, sys: 5.76 ms, total: 27.9 ms\n",
      "Wall time: 24.9 ms\n"
     ]
    }
   ],
   "source": [
    "%%time \n",
    "# Calc trajectory\n",
    "(t, p, e, x, Phi_phi, Phi_theta, Phi_r) = traj(m1, m2, a, p0, e0, xI0, T=T, dt=dt) #False\n",
    "\n",
    "# Get amplitudes along trajectory\n",
    "teuk_modes = amp(a, p, e, x)\n",
    "\n",
    "# Get Ylms\n",
    "ylms = ylm_gen(amp.unique_l, amp.unique_m, theta, phi).copy()[amp.inverse_lm]\n",
    "\n",
    "cp.cuda.Stream.null.synchronize()"
   ]
  },
  {
   "cell_type": "markdown",
   "id": "99dc3e06-71ad-4aca-b9db-849bce9ccbf4",
   "metadata": {},
   "source": [
    "# Generating frequencies"
   ]
  },
  {
   "cell_type": "code",
   "execution_count": 57,
   "id": "938f8f43-e408-4f9a-b461-c5cfa8f903c8",
   "metadata": {},
   "outputs": [],
   "source": [
    "OmegaPhi, OmegaTheta, OmegaR = get_fundamental_frequencies(a, p, e, x) #TODO: do change the cpu-gpu intermix here"
   ]
  },
  {
   "cell_type": "code",
   "execution_count": 58,
   "id": "be3e3159-1732-4d75-a195-1b976ac46d4c",
   "metadata": {},
   "outputs": [],
   "source": [
    "l_cpu = amp.l_arr.get()\n",
    "m_cpu = amp.m_arr.get()\n",
    "n_cpu = amp.n_arr.get()"
   ]
  },
  {
   "cell_type": "code",
   "execution_count": 59,
   "id": "de7239b4-fb65-46f9-b506-0feb819d6ac3",
   "metadata": {},
   "outputs": [],
   "source": [
    "gw_frequencies_per_mode = []\n",
    "\n",
    "\n",
    "for idx in range(len(mode_labels)):\n",
    "    # l = amp.l_arr[idx]\n",
    "    # m = amp.m_arr[idx] \n",
    "    # n = amp.n_arr[idx]\n",
    "    \n",
    "    l = l_cpu[idx]\n",
    "    m = m_cpu[idx] \n",
    "    n = n_cpu[idx]\n",
    "    \n",
    "    # Calculate GW frequencies\n",
    "    # k = 0 for equatorial case\n",
    "    f_gw = m * OmegaPhi + n * OmegaR\n",
    "    \n",
    "    gw_frequencies_per_mode.append(f_gw)"
   ]
  },
  {
   "cell_type": "code",
   "execution_count": 60,
   "id": "ecd84da9-e354-4c2f-8b54-8e0998aea388",
   "metadata": {},
   "outputs": [],
   "source": [
    "gw_phase_per_mode = []\n",
    "for idx in range(len(mode_labels)):\n",
    "    # l = amp.l_arr[idx]\n",
    "    # m = amp.m_arr[idx] \n",
    "    # n = amp.n_arr[idx]\n",
    "    \n",
    "    l = l_cpu[idx]\n",
    "    m = m_cpu[idx] \n",
    "    n = n_cpu[idx]\n",
    "    \n",
    "    # Calculate GW phases per mode\n",
    "    phi_mode = m * Phi_phi + n * Phi_r\n",
    "    \n",
    "    gw_phase_per_mode.append(phi_mode)"
   ]
  },
  {
   "cell_type": "markdown",
   "id": "36acf6c5-dbaa-46f9-9cf4-4159f0767fef",
   "metadata": {},
   "source": [
    "# Selecting modes (purely by power)"
   ]
  },
  {
   "cell_type": "code",
   "execution_count": 47,
   "id": "c252c4a4-ddb7-41f0-ad1d-1bbb429055bb",
   "metadata": {},
   "outputs": [],
   "source": [
    "# Get mode labels\n",
    "mode_labels = [f\"({l},{m},{n})\" for l,m,n in zip(amp.l_arr, amp.m_arr, amp.n_arr)]"
   ]
  },
  {
   "cell_type": "code",
   "execution_count": 44,
   "id": "f201df58-1054-4f85-8410-b60d67090d0d",
   "metadata": {},
   "outputs": [],
   "source": [
    "m0mask = amp.m_arr_no_mask != 0\n",
    "# Calculate power for all modes\n",
    "total_power = gwf.calc_power(teuk_modes, ylms, m0mask)"
   ]
  },
  {
   "cell_type": "code",
   "execution_count": 45,
   "id": "1921c324-8e2e-4783-8091-67370ff8b20a",
   "metadata": {},
   "outputs": [],
   "source": [
    "total_power_cpu = total_power.get()"
   ]
  },
  {
   "cell_type": "code",
   "execution_count": 50,
   "id": "5413aff9-819c-451a-a6f8-d3858b301be5",
   "metadata": {},
   "outputs": [],
   "source": [
    "# Bar plot of modes vs approx inner product for top M modes \n",
    "M_mode = 10\n",
    "mp = list(zip(mode_labels, total_power_cpu)) \n",
    "# Sort by power and pick top M modes\n",
    "mp_sorted = sorted(mp, key=lambda x: x[1], reverse=True)[:M_mode]\n",
    "mp_modes = [x[0] for x in mp_sorted]\n",
    "mp_power = [x[1] for x in mp_sorted]"
   ]
  },
  {
   "cell_type": "code",
   "execution_count": 51,
   "id": "5d838b24-d9c1-49c5-b7b0-da32ab3215ff",
   "metadata": {},
   "outputs": [
    {
     "data": {
      "image/png": "[encoded data removed]",
      "text/plain": [
       "<Figure size 640x480 with 1 Axes>"
      ]
     },
     "metadata": {},
     "output_type": "display_data"
    }
   ],
   "source": [
    "plt.bar(range(len(mp_power)), mp_power, color='orange')\n",
    "plt.xticks(range(len(mp_modes)), mp_modes, rotation=90, fontsize=8)\n",
    "plt.xlabel('(l,m,n) Modes', fontsize=12)\n",
    "plt.ylabel(r'$\\sum_{t} |AxS|^2$', fontsize=12)\n",
    "plt.title('Mode vs Power Contribution for top M={} modes (a={})'.format(M_mode,a), fontsize=12)\n",
    "plt.yscale('linear')\n",
    "plt.tight_layout()\n",
    "plt.show()"
   ]
  },
  {
   "cell_type": "code",
   "execution_count": 55,
   "id": "9718409c-bb2f-417e-b72d-565933b69d6f",
   "metadata": {},
   "outputs": [
    {
     "name": "stdout",
     "output_type": "stream",
     "text": [
      "Top mode indices: [1165, 1166, 1164, 1498, 1499, 1167, 1497, 1054, 1500, 7159]\n"
     ]
    }
   ],
   "source": [
    "# Pick modes based on top M power contributions\n",
    "top_indices = [mode_labels.index(mode) for mode in mp_modes]\n",
    "print(\"Top mode indices:\", top_indices)\n"
   ]
  },
  {
   "cell_type": "markdown",
   "id": "9665a5bd-0042-4054-8a21-ce5473a1b8a5",
   "metadata": {},
   "source": [
    "# $\\rho$"
   ]
  },
  {
   "cell_type": "code",
   "execution_count": 37,
   "id": "0e7828c5-695c-4692-bb3e-ff22318e9f49",
   "metadata": {},
   "outputs": [],
   "source": [
    "def rhostat(h):\n",
    "    # optimal SNR \n",
    "    # assuming the h is still in time-domain\n",
    "\n",
    "    # TODO: do convert to be compatible with gpu arrays\n",
    "    hf = gwf.freq_wave(h).get()\n",
    "    calc_inner = gwf.inner(hf,hf)\n",
    "    return np.sqrt(calc_inner)"
   ]
  },
  {
   "cell_type": "code",
   "execution_count": 39,
   "id": "0f398444-4433-4e0a-b08a-da14d379a788",
   "metadata": {},
   "outputs": [
    {
     "data": {
      "text/plain": [
       "np.float64(9.766156325848817)"
      ]
     },
     "execution_count": 39,
     "metadata": {},
     "output_type": "execute_result"
    }
   ],
   "source": [
    "rhostat(h_temp)"
   ]
  },
  {
   "cell_type": "code",
   "execution_count": 64,
   "id": "84c8027c-82f5-498e-8af2-1998cb229f27",
   "metadata": {},
   "outputs": [],
   "source": [
    "def calc_inner(idx_i, idx_j, teuk_modes, amp, freqs, phases, delta_T, factor):\n",
    "    # Obtain the lmn-s\n",
    "    l_i = amp.l_arr[idx_i]\n",
    "    m_i = amp.m_arr[idx_i]\n",
    "    n_i = amp.n_arr[idx_i]\n",
    "\n",
    "    l_j = amp.l_arr[idx_j]\n",
    "    m_j = amp.m_arr[idx_j]\n",
    "    n_j = amp.n_arr[idx_j]\n",
    "\n",
    "    # Get Teukolsky modes\n",
    "    # Check if negative m \n",
    "    if m_i >= 0:\n",
    "        A_i = teuk_modes[:, idx_i]\n",
    "\n",
    "    elif m_i < 0:\n",
    "        pos_m_mask_i = (amp.l_arr == l_i) & (amp.m_arr == -m_i) & (amp.n_arr == n_i)\n",
    "        pos_m_idx_i = np.where(pos_m_mask_i)[0]\n",
    "        A_i_pos = teuk_modes[:, pos_m_idx_i]\n",
    "        A_i = (-1)**l_i * np.conj(A_i_pos)\n",
    "\n",
    "    if m_j >= 0:\n",
    "        A_j = teuk_modes[:, idx_j]\n",
    "        \n",
    "    elif m_j < 0:\n",
    "        pos_m_mask_j = (amp.l_arr == l_j) & (amp.m_arr == -m_j) & (amp.n_arr == n_j)\n",
    "        pos_m_idx_j = np.where(pos_m_mask_j)[0]\n",
    "        A_j_pos = teuk_modes[:, pos_m_idx_j]\n",
    "        A_j = (-1)**l_j * np.conj(A_j_pos)\n",
    "\n",
    "    # Get sensitivity for each mode \n",
    "    Sn_i = get_sensitivity(freqs[idx_i], sens_fn=LISASens, return_type=\"PSD\")\n",
    "    Sn_j = get_sensitivity(freqs[idx_j], sens_fn=LISASens, return_type=\"PSD\")\n",
    "\n",
    "    # Get noise-weighted amplitudes\n",
    "    bar_A_i = A_i.get() / np.sqrt(Sn_i)\n",
    "    bar_A_j = A_j.get() / np.sqrt(Sn_j)\n",
    "\n",
    "    # Get phase mask\n",
    "    phase_mask = np.abs(phases[idx_i] - phases[idx_j]) < 1.0 \n",
    "\n",
    "    # Calculate product\n",
    "    prod = np.conj(bar_A_i[phase_mask]) * bar_A_j[phase_mask]\n",
    "\n",
    "    # Calculate full inner product\n",
    "    innerprod = np.sum(np.real(prod)) * delta_T * 1/(factor**2)\n",
    "\n",
    "    return innerprod"
   ]
  },
  {
   "cell_type": "code",
   "execution_count": 65,
   "id": "e07c9e86-3656-4972-ad9a-5bb9e5e69650",
   "metadata": {},
   "outputs": [],
   "source": [
    "def rhostat_modes(mode_indices, teuk_modes, amp, freqs, phases, delta_T, factor):\n",
    "    rho_modes = []\n",
    "    \n",
    "    for mode_idx in mode_indices:\n",
    "        inner_product = calc_inner(mode_idx, mode_idx, teuk_modes, amp, freqs, phases, delta_T, factor)\n",
    "        \n",
    "        rho_m = np.sqrt(inner_product)\n",
    "        rho_modes.append(rho_m)\n",
    "    \n",
    "    return np.array(rho_modes)"
   ]
  },
  {
   "cell_type": "code",
   "execution_count": 68,
   "id": "35e7ecec-ff82-4890-8848-8c7f7cca2a11",
   "metadata": {},
   "outputs": [
    {
     "data": {
      "text/plain": [
       "array([0.05338807, 0.02267027, 0.02449166, 0.00656154, 0.00517828,\n",
       "       0.00669592, 0.00512365, 0.00993769, 0.002314  , 0.17899835])"
      ]
     },
     "execution_count": 68,
     "metadata": {},
     "output_type": "execute_result"
    }
   ],
   "source": [
    "rhostat_modes(top_indices, teuk_modes, amp, gw_frequencies_per_mode, gw_phase_per_mode, dt, factor)"
   ]
  },
  {
   "cell_type": "markdown",
   "id": "096d512c-4d0c-4e71-80d9-bdffadabaa3b",
   "metadata": {},
   "source": [
    "# XStat"
   ]
  },
  {
   "cell_type": "code",
   "execution_count": 35,
   "id": "5d9fa1a2-3f2b-42f5-9e86-bec5774577e8",
   "metadata": {},
   "outputs": [],
   "source": [
    "def Xstat(x, htemp):\n",
    "    # x = data, in this case: h_true\n",
    "    # this is assuming we are generating the waveforms with FEW\n",
    "    # for non-FEW generated (aka via Amps, trajectories) -> review the power_innercalc_manual notebook for the inner funcs\n",
    "\n",
    "    # assuming they are not yet converted to frequency-based waveforms\n",
    "    # TODO: also do convert the functions to be GPU-compatible...\n",
    "    \n",
    "    xf = gwf.freq_wave(x).get()\n",
    "    htempf = gwf.freq_wave(htemp).get()\n",
    "    \n",
    "    calc_inner = gwf.inner(xf, htempf)\n",
    "    calc_SNR = np.sqrt(gwf.inner(htempf, htempf))\n",
    "    return calc_inner / calc_SNR"
   ]
  },
  {
   "cell_type": "code",
   "execution_count": 28,
   "id": "b2ea8fc6-1eb1-4f4f-a59d-a04ee7cc9038",
   "metadata": {},
   "outputs": [
    {
     "name": "stdout",
     "output_type": "stream",
     "text": [
      "CPU times: user 60 ms, sys: 6.73 ms, total: 66.8 ms\n",
      "Wall time: 64.1 ms\n"
     ]
    }
   ],
   "source": [
    "%%time\n",
    "#Generating sample htemplate\n",
    "# varying the params a bit\n",
    "\n",
    "m1_o = 1e5\n",
    "m2_o = 1e1\n",
    "a_o = 0.3\n",
    "p0_o = 40\n",
    "e0_o = 0.1\n",
    "xI_o = 1.0\n",
    "theta_o = np.pi/3  # polar viewing angle\n",
    "phi_o = np.pi/2  # azimuthal viewing angle\n",
    "\n",
    "h_temp = waveform_gen(m1_o, m2_o, a_o, p0_o, e0_o, xI_o, theta_o, phi_o, dist=dist, dt=dt, T=1)\n",
    "cp.cuda.Stream.null.synchronize()"
   ]
  },
  {
   "cell_type": "code",
   "execution_count": 36,
   "id": "81fd2668-a779-44bb-b531-a11becb3da5f",
   "metadata": {},
   "outputs": [
    {
     "data": {
      "text/plain": [
       "np.float64(-0.025897167531648203)"
      ]
     },
     "execution_count": 36,
     "metadata": {},
     "output_type": "execute_result"
    }
   ],
   "source": [
    "Xstat(h_true, h_temp)"
   ]
  },
  {
   "cell_type": "code",
   "execution_count": 69,
   "id": "85197b60-843b-4d5c-bc48-e8fd62b68994",
   "metadata": {},
   "outputs": [
    {
     "name": "stdout",
     "output_type": "stream",
     "text": [
      "CPU times: user 23.3 ms, sys: 1.1 ms, total: 24.4 ms\n",
      "Wall time: 21.7 ms\n"
     ]
    }
   ],
   "source": [
    "%%time \n",
    "# Calc trajectory for x\n",
    "(t_o, p_o, e_o, x_o, Phi_phi_o, Phi_theta_o, Phi_r_o) = traj(m1_o, m2_o, a_o, p0_o, e0_o, xI_o, T=T, dt=dt) \n",
    "\n",
    "# Get amplitudes along trajectory\n",
    "teuk_modes_o = amp(a_o, p_o, e_o, x_o)\n",
    "\n",
    "# Get Ylms\n",
    "ylms_o = ylm_gen(amp.unique_l, amp.unique_m, theta_o, phi_o).copy()[amp.inverse_lm]\n",
    "\n",
    "cp.cuda.Stream.null.synchronize()"
   ]
  },
  {
   "cell_type": "code",
   "execution_count": 72,
   "id": "646df56a-c328-468f-a17f-edbce8217901",
   "metadata": {},
   "outputs": [],
   "source": [
    "l_cpu_o = amp.l_arr.get()\n",
    "m_cpu_o = amp.m_arr.get()\n",
    "n_cpu_o = amp.n_arr.get()"
   ]
  },
  {
   "cell_type": "code",
   "execution_count": 73,
   "id": "585c6fb1-ccd4-431a-ac8c-511036ce7fc3",
   "metadata": {},
   "outputs": [],
   "source": [
    "OmegaPhi_o, OmegaTheta_o, OmegaR_o = get_fundamental_frequencies(a_o, p_o, e_o, x_o) #TODO: do change the cpu-gpu intermix here"
   ]
  },
  {
   "cell_type": "code",
   "execution_count": 74,
   "id": "e4665ba5-1243-44e7-b57d-9d52116b94f3",
   "metadata": {},
   "outputs": [],
   "source": [
    "gw_frequencies_per_mode_o = []\n",
    "\n",
    "\n",
    "for idx in range(len(mode_labels)):\n",
    "\n",
    "    l = l_cpu_o[idx]\n",
    "    m = m_cpu_o[idx] \n",
    "    n = n_cpu_o[idx]\n",
    "    \n",
    "    # Calculate GW frequencies\n",
    "    # k = 0 for equatorial case\n",
    "    f_gw = m * OmegaPhi_o + n * OmegaR_o\n",
    "    \n",
    "    gw_frequencies_per_mode_o.append(f_gw)"
   ]
  },
  {
   "cell_type": "code",
   "execution_count": 75,
   "id": "ef754e0d-2f67-4e83-8374-361b7c060bff",
   "metadata": {},
   "outputs": [],
   "source": [
    "gw_phase_per_mode_o = []\n",
    "for idx in range(len(mode_labels)):\n",
    "    l = l_cpu_o[idx]\n",
    "    m = m_cpu_o[idx] \n",
    "    n = n_cpu_o[idx]\n",
    "    \n",
    "    # Calculate GW phases per mode\n",
    "    phi_mode = m * Phi_phi_o + n * Phi_r_o\n",
    "    \n",
    "    gw_phase_per_mode_o.append(phi_mode)"
   ]
  },
  {
   "cell_type": "code",
   "execution_count": null,
   "id": "333e2df9-090b-400c-a5d2-00d1b8ba78f3",
   "metadata": {},
   "outputs": [],
   "source": [
    "def cross_inner(idx_i, idx_j, teuk_modes, amp, freqs, phases, delta_T, factor):\n",
    "    # TODO: HAVE TO MAKE FUNCTION SO THAT I CAN CALCULATE BETWEEN TWO DIFFERENT WAVEFORMS\n",
    "    # Obtain the lmn-s\n",
    "    l_i = amp.l_arr[idx_i]\n",
    "    m_i = amp.m_arr[idx_i]\n",
    "    n_i = amp.n_arr[idx_i]\n",
    "\n",
    "    l_j = amp.l_arr[idx_j]\n",
    "    m_j = amp.m_arr[idx_j]\n",
    "    n_j = amp.n_arr[idx_j]\n",
    "\n",
    "    # Get Teukolsky modes\n",
    "    # Check if negative m \n",
    "    if m_i >= 0:\n",
    "        A_i = teuk_modes[:, idx_i]\n",
    "\n",
    "    elif m_i < 0:\n",
    "        pos_m_mask_i = (amp.l_arr == l_i) & (amp.m_arr == -m_i) & (amp.n_arr == n_i)\n",
    "        pos_m_idx_i = np.where(pos_m_mask_i)[0]\n",
    "        A_i_pos = teuk_modes[:, pos_m_idx_i]\n",
    "        A_i = (-1)**l_i * np.conj(A_i_pos)\n",
    "\n",
    "    if m_j >= 0:\n",
    "        A_j = teuk_modes[:, idx_j]\n",
    "        \n",
    "    elif m_j < 0:\n",
    "        pos_m_mask_j = (amp.l_arr == l_j) & (amp.m_arr == -m_j) & (amp.n_arr == n_j)\n",
    "        pos_m_idx_j = np.where(pos_m_mask_j)[0]\n",
    "        A_j_pos = teuk_modes[:, pos_m_idx_j]\n",
    "        A_j = (-1)**l_j * np.conj(A_j_pos)\n",
    "\n",
    "    # Get sensitivity for each mode \n",
    "    Sn_i = get_sensitivity(freqs[idx_i], sens_fn=LISASens, return_type=\"PSD\")\n",
    "    Sn_j = get_sensitivity(freqs[idx_j], sens_fn=LISASens, return_type=\"PSD\")\n",
    "\n",
    "    # Get noise-weighted amplitudes\n",
    "    bar_A_i = A_i.get() / np.sqrt(Sn_i)\n",
    "    bar_A_j = A_j.get() / np.sqrt(Sn_j)\n",
    "\n",
    "    # Get phase mask\n",
    "    phase_mask = np.abs(phases[idx_i] - phases[idx_j]) < 1.0 \n",
    "\n",
    "    # Calculate product\n",
    "    prod = np.conj(bar_A_i[phase_mask]) * bar_A_j[phase_mask]\n",
    "\n",
    "    # Calculate full inner product\n",
    "    innerprod = np.sum(np.real(prod)) * delta_T * 1/(factor**2)\n",
    "\n",
    "    return innerprod"
   ]
  },
  {
   "cell_type": "code",
   "execution_count": 89,
   "id": "1f7462c4-21d3-4a1f-b92f-3e6239090030",
   "metadata": {},
   "outputs": [],
   "source": [
    "def Xstat_modes(mode_indices, x, h):\n",
    "    # expected the teuk modes amp etc for each x and h \n",
    "    teuk_modes_i, freqs_i, phases_i = x\n",
    "    teuk_modes_j, freqs_j, phases_j = h\n",
    "    calc_rho = rhostat_modes(mode_indices, teuk_modes_j, amp, freqs_j, phases_j, dt, factor)\n",
    "\n",
    "    X_modes = []\n",
    "    \n",
    "    for rho_idx, mode_idx in enumerate(mode_indices): \n",
    "        cross_inner = calc_inner(mode_idx, mode_idx, teuk_modes, amp, freqs, phases, delta_T, factor)\n",
    "        \n",
    "        rho_m = np.sqrt(inner_product)\n",
    "        rho_modes.append(rho_m)\n",
    "    return calc_rho"
   ]
  },
  {
   "cell_type": "code",
   "execution_count": 91,
   "id": "bcc3ac24-9d35-4f00-80d7-19f3f1e955f5",
   "metadata": {},
   "outputs": [
    {
     "data": {
      "text/plain": [
       "array([0.05338807, 0.02267027, 0.02449166, 0.00656154, 0.00517828,\n",
       "       0.00669592, 0.00512365, 0.00993769, 0.002314  , 0.17899835])"
      ]
     },
     "execution_count": 91,
     "metadata": {},
     "output_type": "execute_result"
    }
   ],
   "source": [
    "Xstat_modes(top_indices, [teuk_modes_o, gw_frequencies_per_mode_o, gw_phase_per_mode_o], [teuk_modes, gw_frequencies_per_mode, gw_phase_per_mode])"
   ]
  },
  {
   "cell_type": "code",
   "execution_count": 93,
   "id": "a5e4d00e-b8b3-4caf-9f60-5e0df0a435b5",
   "metadata": {},
   "outputs": [
    {
     "name": "stdout",
     "output_type": "stream",
     "text": [
      "0 1165\n",
      "1 1166\n",
      "2 1164\n",
      "3 1498\n",
      "4 1499\n",
      "5 1167\n",
      "6 1497\n",
      "7 1054\n",
      "8 1500\n",
      "9 7159\n"
     ]
    }
   ],
   "source": [
    "for rho_idx, mode_idx in enumerate(top_indices): \n",
    "    print(rho_idx, mode_idx)"
   ]
  },
  {
   "cell_type": "code",
   "execution_count": null,
   "id": "0b4235a8-d2e0-4ecf-90e5-6e4a8a63858e",
   "metadata": {},
   "outputs": [],
   "source": []
  }
 ],
 "metadata": {
  "kernelspec": {
   "display_name": "Python (fewnew)",
   "language": "python",
   "name": "fewnew"
  },
  "language_info": {
   "codemirror_mode": {
    "name": "ipython",
    "version": 3
   },
   "file_extension": ".py",
   "mimetype": "text/x-python",
   "name": "python",
   "nbconvert_exporter": "python",
   "pygments_lexer": "ipython3",
   "version": "3.12.9"
  }
 },
 "nbformat": 4,
 "nbformat_minor": 5
}
