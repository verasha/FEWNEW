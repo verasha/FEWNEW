{
 "cells": [
  {
   "cell_type": "code",
   "execution_count": 1,
   "id": "77eca315",
   "metadata": {},
   "outputs": [
    {
     "data": {
      "text/plain": [
       "<few.utils.globals.ConfigurationSetter at 0x1554cdbe50a0>"
      ]
     },
     "execution_count": 1,
     "metadata": {},
     "output_type": "execute_result"
    }
   ],
   "source": [
    "import numpy as np\n",
    "import matplotlib.pyplot as plt\n",
    "from numba import cuda, float64, complex128\n",
    "from numba.cuda import jit as cuda_jit\n",
    "import math\n",
    "\n",
    "import few\n",
    "\n",
    "from few.trajectory.inspiral import EMRIInspiral\n",
    "from few.trajectory.ode import KerrEccEqFlux\n",
    "from few.amplitude.ampinterp2d import AmpInterpKerrEccEq\n",
    "from few.summation.interpolatedmodesum import InterpolatedModeSum \n",
    "\n",
    "\n",
    "from few.utils.ylm import GetYlms\n",
    "\n",
    "from few import get_file_manager\n",
    "\n",
    "from few.waveform import FastKerrEccentricEquatorialFlux, GenerateEMRIWaveform\n",
    "\n",
    "from few.utils.geodesic import get_fundamental_frequencies\n",
    "\n",
    "from few.utils.constants import YRSID_SI\n",
    "\n",
    "import os\n",
    "import sys\n",
    "\n",
    "# Change to the desired directory\n",
    "os.chdir('/nfs/home/svu/e1498138/localgit/FEWNEW/work/')\n",
    "\n",
    "# Add it to Python path\n",
    "sys.path.insert(0, '/nfs/home/svu/e1498138/localgit/FEWNEW/work/')\n",
    "\n",
    "import GWfuncs\n",
    "import loglike\n",
    "import modeselector\n",
    "import dynesty\n",
    "# import gc\n",
    "# import pickle\n",
    "import cupy as cp\n",
    "\n",
    "# tune few configuration\n",
    "cfg_set = few.get_config_setter(reset=True)\n",
    "cfg_set.set_log_level(\"info\")\n",
    "\n"
   ]
  },
  {
   "cell_type": "code",
   "execution_count": 4,
   "id": "6040d234",
   "metadata": {},
   "outputs": [],
   "source": [
    "# GPU configuration \n",
    "use_gpu = True\n",
    "force_backend = \"cuda12x\"  \n",
    "dt = 10     # Time step\n",
    "T = 0.25     # Total time\n"
   ]
  },
  {
   "cell_type": "code",
   "execution_count": 9,
   "id": "35171cb1",
   "metadata": {},
   "outputs": [],
   "source": [
    "\n",
    "traj = EMRIInspiral(func=KerrEccEqFlux) #theres npoints flag here\n",
    "amp = AmpInterpKerrEccEq(force_backend=\"cuda12x\") # default lmax=10, nmax=55\n",
    "interpolate_mode_sum = InterpolatedModeSum(force_backend=\"cuda12x\")\n",
    "ylm_gen = GetYlms(include_minus_m=False, force_backend=\"cuda12x\")\n",
    "gwf = GWfuncs.GravWaveAnalysis(T=T, dt=dt)\n"
   ]
  },
  {
   "cell_type": "code",
   "execution_count": 6,
   "id": "f8886bf1",
   "metadata": {},
   "outputs": [],
   "source": [
    "gwf = GWfuncs.GravWaveAnalysis(T, dt)"
   ]
  },
  {
   "cell_type": "code",
   "execution_count": 7,
   "id": "8ebc84e1",
   "metadata": {},
   "outputs": [],
   "source": [
    "#Generating data (true)\n",
    "\n",
    "m1 = 1e6\n",
    "m2 = 3e1\n",
    "a = 0.7\n",
    "p0 = 7.5\n",
    "e0 = 0.4\n",
    "xI0 = 1.0 #NOTE: fixed, equatorial\n",
    "dist = 3 \n",
    "qS = 0.5 \n",
    "phiS = 1\n",
    "qK = 1 #NOTE: fixed, degenerate\n",
    "phiK = 1.5 #NOTE: fixed, degenerate\n",
    "# Phases\n",
    "Phi_phi0 = 0.4\n",
    "Phi_theta0 = 0.0 # NOTE: fixed, equatorial\n",
    "Phi_r0 = 0.5\n",
    "\n",
    "params_star = (m1, m2, a, p0, e0, xI0, dist, qS, phiS, qK, phiK, Phi_phi0, Phi_theta0, Phi_r0)"
   ]
  },
  {
   "cell_type": "code",
   "execution_count": 13,
   "id": "d569ffa2",
   "metadata": {},
   "outputs": [],
   "source": [
    "def get_viewing_angles(qS, phiS, qK, phiK):\n",
    "    \"\"\"Transform from the detector frame to the source  frame\"\"\"\n",
    "    cqS = np.cos(qS)\n",
    "    sqS = np.sin(qS)\n",
    "    cphiS = np.cos(phiS)\n",
    "    sphiS = np.sin(phiS)\n",
    "    cqK = np.cos(qK)\n",
    "    sqK = np.sin(qK)\n",
    "    cphiK = np.cos(phiK)\n",
    "    sphiK = np.sin(phiK)\n",
    "    # sky location vector\n",
    "    R = np.array([sqS * cphiS, sqS * sphiS, cqS])\n",
    "    # spin vector\n",
    "    S = np.array([sqK * cphiK, sqK * sphiK, cqK])\n",
    "    # get viewing angles\n",
    "    phi = -np.pi / 2.0  # by definition of source frame\n",
    "    theta = np.arccos(-np.dot(R, S))  # normalized vector\n",
    "\n",
    "    return (theta, phi)"
   ]
  },
  {
   "cell_type": "code",
   "execution_count": 14,
   "id": "e99d0d23",
   "metadata": {},
   "outputs": [],
   "source": [
    "theta, phi = get_viewing_angles(qS, phiS, qK, phiK)"
   ]
  },
  {
   "cell_type": "code",
   "execution_count": 15,
   "id": "9059299a",
   "metadata": {},
   "outputs": [],
   "source": [
    "(t, p, e, x, Phi_phi, Phi_theta, Phi_r) = traj(m1, m2, a, p0, e0, xI0, T=T, dt=dt)\n",
    "teuk_modes = amp(a, p, e, x)\n",
    "ylms = ylm_gen(amp.unique_l, amp.unique_m, theta, phi).copy()[amp.inverse_lm]\n",
    "\n"
   ]
  },
  {
   "cell_type": "code",
   "execution_count": 16,
   "id": "abdd81a1",
   "metadata": {},
   "outputs": [],
   "source": [
    "m0mask = amp.m_arr_no_mask != 0\n",
    "total_power = gwf.calc_power(teuk_modes, ylms, m0mask)\n"
   ]
  },
  {
   "cell_type": "code",
   "execution_count": 17,
   "id": "10a98376",
   "metadata": {},
   "outputs": [],
   "source": [
    "# Get mode labels\n",
    "mode_labels = [f\"({l},{m},{n})\" for l,m,n in zip(amp.l_arr, amp.m_arr, amp.n_arr)]"
   ]
  },
  {
   "cell_type": "code",
   "execution_count": 32,
   "id": "ad510b9b",
   "metadata": {},
   "outputs": [],
   "source": [
    "# Bar plot of modes vs approx inner product for top M modes \n",
    "M_mode = 50\n",
    "ma = list(zip(mode_labels, total_power.get())) \n",
    "# Sort by power and pick top 100 modes\n",
    "ma_sorted = sorted(ma, key=lambda x: x[1], reverse=True)[:M_mode]\n",
    "ma_modes = [x[0] for x in ma_sorted]\n",
    "ma_power = [x[1] for x in ma_sorted]\n",
    "\n"
   ]
  },
  {
   "cell_type": "code",
   "execution_count": 33,
   "id": "ef8053c5",
   "metadata": {},
   "outputs": [
    {
     "data": {
      "text/plain": [
       "[0.9584113700180031,\n",
       " 0.6163154697020061,\n",
       " 0.5825299276205372,\n",
       " 0.4549219053979132,\n",
       " 0.14818917901109666,\n",
       " 0.041164516559591136,\n",
       " 0.03866722206870012,\n",
       " 0.032337061952287346,\n",
       " 0.029338129361395217,\n",
       " 0.02332298032916468,\n",
       " 0.0174560130256627,\n",
       " 0.01053102662680558,\n",
       " 0.01046349348913941,\n",
       " 0.006261256775257656,\n",
       " 0.006016993793334335,\n",
       " 0.004078860981511495,\n",
       " 0.0027613784215119418,\n",
       " 0.0026403185281889895,\n",
       " 0.002487426391321524,\n",
       " 0.002052936009144388,\n",
       " 0.0019201646862231636,\n",
       " 0.0014206647383967032,\n",
       " 0.0013974296107474536,\n",
       " 0.0008904871698454682,\n",
       " 0.000767094807354178,\n",
       " 0.0007467045308778694,\n",
       " 0.0006645133792920336,\n",
       " 0.0005723046572407422,\n",
       " 0.0005673070341476001,\n",
       " 0.0005579022457344528,\n",
       " 0.0005265755438461789,\n",
       " 0.0005192641098260707,\n",
       " 0.0004528320806161751,\n",
       " 0.0004349439162600881,\n",
       " 0.0003695660572601491,\n",
       " 0.0002526676455880846,\n",
       " 0.00019691413299912361,\n",
       " 0.00019047889568016751,\n",
       " 0.00017648522856196063,\n",
       " 0.0001657349086752663,\n",
       " 0.00016038076534173119,\n",
       " 0.00013607906155913753,\n",
       " 0.00013344113701011648,\n",
       " 0.00012785832381975167,\n",
       " 0.00012679431454232026,\n",
       " 0.00012517738536058293,\n",
       " 0.00011882479920223507,\n",
       " 0.0001116965564688052,\n",
       " 0.0001116965564688052,\n",
       " 9.764642302625048e-05]"
      ]
     },
     "execution_count": 33,
     "metadata": {},
     "output_type": "execute_result"
    }
   ],
   "source": [
    "ma_power"
   ]
  },
  {
   "cell_type": "code",
   "execution_count": 34,
   "id": "529b8673",
   "metadata": {},
   "outputs": [
    {
     "data": {
      "image/png": "[encoded data removed]",
      "text/plain": [
       "<Figure size 640x480 with 1 Axes>"
      ]
     },
     "metadata": {},
     "output_type": "display_data"
    }
   ],
   "source": [
    "\n",
    "plt.bar(range(len(ma_power)), ma_power, color='red')\n",
    "plt.xticks(range(len(ma_modes)), ma_modes, rotation=90, fontsize=8)\n",
    "plt.yscale('log')\n",
    "plt.tight_layout()\n",
    "plt.show()"
   ]
  },
  {
   "cell_type": "code",
   "execution_count": null,
   "id": "8915e55d",
   "metadata": {},
   "outputs": [],
   "source": []
  },
  {
   "cell_type": "code",
   "execution_count": null,
   "id": "306e6d49",
   "metadata": {},
   "outputs": [],
   "source": []
  }
 ],
 "metadata": {
  "kernelspec": {
   "display_name": "FEW Separate Modes (CUDA 12.x)",
   "language": "python",
   "name": "fewsm"
  }
 },
 "nbformat": 4,
 "nbformat_minor": 5
}
